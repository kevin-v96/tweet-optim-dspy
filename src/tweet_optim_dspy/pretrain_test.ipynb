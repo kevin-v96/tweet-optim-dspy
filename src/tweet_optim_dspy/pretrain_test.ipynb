{
 "cells": [
  {
   "cell_type": "markdown",
   "metadata": {},
   "source": [
    "# Data"
   ]
  },
  {
   "cell_type": "code",
   "execution_count": 3,
   "metadata": {},
   "outputs": [],
   "source": [
    "import json\n",
    "with open('./data/hormozi_tweets.jsonl', 'r') as f:\n",
    "    data = [json.loads(line) for line in f]\n",
    "\n",
    "# make a list of 300 tweets\n",
    "tweets = [item['tweet'] for item in data][:300]"
   ]
  },
  {
   "cell_type": "markdown",
   "metadata": {},
   "source": [
    "# Baseline Tweet Generator"
   ]
  },
  {
   "cell_type": "code",
   "execution_count": 3,
   "metadata": {},
   "outputs": [],
   "source": [
    "import random\n",
    "import openai\n",
    "import os\n",
    "from dotenv import load_dotenv\n",
    "\n",
    "load_dotenv()\n",
    "\n",
    "random_tweets = random.sample(tweets, 10)\n",
    "\n",
    "prompt = f\"\"\"\n",
    "Past Tweets:\n",
    "{random_tweets}\n",
    "\n",
    "Create a new tweet based on the past tweets.\n",
    "\"\"\"\n",
    "\n",
    "openai.api_key = os.environ.get('OPENAI_API_KEY')\n",
    "\n",
    "def generate_tweet(prompt):\n",
    "    response = openai.chat.completions.create(\n",
    "        model=\"gpt-4o-mini\",\n",
    "        messages=[\n",
    "            {\"role\": \"system\", \"content\": \"You are a helpful assistant that creates tweets similar to past tweets from the user.\"},\n",
    "            {\"role\": \"user\", \"content\": prompt}\n",
    "        ],\n",
    "        max_tokens=280,\n",
    "    )\n",
    "    return response.choices[0].message.content.strip().lower()\n",
    "\n",
    "# Create a new tweet\n",
    "new_tweet = generate_tweet(prompt)"
   ]
  },
  {
   "cell_type": "code",
   "execution_count": 4,
   "metadata": {},
   "outputs": [
    {
     "data": {
      "text/plain": [
       "'\"success isn\\'t about never hitting a low point; it\\'s about recognizing that those moments are opportunities to push through while others quit. remember, every setback is just a setup for your comeback. 💪\"'"
      ]
     },
     "execution_count": 4,
     "metadata": {},
     "output_type": "execute_result"
    }
   ],
   "source": [
    "new_tweet"
   ]
  },
  {
   "cell_type": "markdown",
   "metadata": {},
   "source": [
    "# First experiment\n",
    "\n",
    "DSPy recommends that you start with the simplest solution and add complexity, so that is what we'll do. For our first experiement, we'll just use a ChainOfThought module to generate tweets based on all the tweets we've previously seen."
   ]
  },
  {
   "cell_type": "code",
   "execution_count": 14,
   "metadata": {},
   "outputs": [],
   "source": [
    "import json\n",
    "with open('./data/hormozi_tweets.jsonl', 'r') as f:\n",
    "    data = [json.loads(line) for line in f]\n",
    "\n",
    "# make a list of 300 tweets\n",
    "tweets = [{'tweet': item['tweet'], 'engagement': item['replies'] + item['retweets'] +item['likes']} for item in data][:300]"
   ]
  },
  {
   "cell_type": "code",
   "execution_count": 16,
   "metadata": {},
   "outputs": [
    {
     "data": {
      "text/plain": [
       "{'tweet': 'Rush is an illusion.', 'engagement': 908}"
      ]
     },
     "execution_count": 16,
     "metadata": {},
     "output_type": "execute_result"
    }
   ],
   "source": [
    "tweets[2]"
   ]
  },
  {
   "cell_type": "code",
   "execution_count": 13,
   "metadata": {},
   "outputs": [],
   "source": [
    "import dspy\n",
    "from dspy.primitives import Example\n",
    "from dspy.evaluate import Evaluate\n",
    "from dspy.teleprompt import BootstrapFewShot\n"
   ]
  },
  {
   "cell_type": "code",
   "execution_count": 20,
   "metadata": {},
   "outputs": [
    {
     "data": {
      "text/plain": [
       "[{'tweet': 'Stop “friend financing”', 'engagement': 137},\n",
       " {'tweet': 'A message for friends of entrepreneurs:\\n\\nDon’t buy them a present. \\n\\nBuy their product and leave a nice review or tell them why it wasn’t good enough to deserve it (an even better gift).\\n\\nNo one needs more stuff. \\nEveryone could use more support.',\n",
       "  'engagement': 979},\n",
       " {'tweet': 'Rush is an illusion.', 'engagement': 908},\n",
       " {'tweet': 'Advice to strong men:\\n\\nFind a strong woman.',\n",
       "  'engagement': 3574},\n",
       " {'tweet': 'Reminder:\\n\\nDeath tax is 100% for everyone.\\n\\n(Because whatever you have isn’t yours anymore after you die).',\n",
       "  'engagement': 1136},\n",
       " {'tweet': 'When it comes to talent, “good enough” often isn’t.',\n",
       "  'engagement': 941},\n",
       " {'tweet': 'Squeeze all the potential you’ve got into reality.\\n\\nEvery. Last. Drop.',\n",
       "  'engagement': 3391},\n",
       " {'tweet': 'It’s not about doing your best, it’s about doing what’s required.\\n\\nAnd sometimes that means your best just needs to get better.',\n",
       "  'engagement': 2555},\n",
       " {'tweet': 'She’s been my #1 cheerleader since day 1. Least I could do to repay the favor. \\n\\nThese bad boys are now next to my desk ready to be taken out for 🤌🏽shit days.',\n",
       "  'engagement': 1084},\n",
       " {'tweet': 'Oddly effective:\\n\\nHad a coaching call with myself. \\nI typed up a chat conversation with some problems I was having and pretended to be my 85 year old self. Got some really insightful replies.\\n\\nWorth a try.\\n\\nAfter all, no one cares about younger you as much as older you.',\n",
       "  'engagement': 1841},\n",
       " {'tweet': 'Feelings are rarely right but they’re especially convincing when you feel them. That’s what makes good decision-making hard.',\n",
       "  'engagement': 1062},\n",
       " {'tweet': 'Bad news doesn’t “come in threes”. \\n\\nYou just get one, and the rest of the world looks like shit (for a second).\\n\\nThen you remember that in 500 million years, the sun will explode in a spectacular heat death.\\n\\nAnd suddenly, having no WiFi signal seem as bad. 😂',\n",
       "  'engagement': 840},\n",
       " {'tweet': 'I’ve said this before and I’ll say it again:\\n\\nAnger is more useful than sadness.',\n",
       "  'engagement': 2883},\n",
       " {'tweet': 'A trick I use when I’m feeling shitty: \\nmessage a friend something positive.\\n\\nGets my head out of my ass thinking about only myself and reminds me other people on this planet exist.\\n\\nBonus: it usually turns into a nice friendly convo that makes my day.',\n",
       "  'engagement': 1909},\n",
       " {'tweet': 'You can always justify doing a new thing by quantifying what you have to gain. \\n\\nThe tough part is quantifying what you’ll lose from the distraction. \\n\\nAnd that downside is the part most entrepreneurs miscalculate.',\n",
       "  'engagement': 943},\n",
       " {'tweet': 'I recently got hosed on a recent real estate deal.\\n\\nMy trust was taken advantage of. \\n\\nIn moments like this - a saying that I try to remember is:\\n\\n“You have to be willing to lose a hundred million to make a billion” - because you’re gonna.\\n\\nIG isn’t real. No one is undefeated.',\n",
       "  'engagement': 2830},\n",
       " {'tweet': 'People who move faster in life don’t actually move faster, they just get more for every step. \\n\\nLeverage = Speed, not activity.',\n",
       "  'engagement': 1917},\n",
       " {'tweet': 'My highest return investments in order:\\n1) My education \\n2) My business\\n3) Other people’s businesses/assets\\n\\nMax out first two before moving to 3.',\n",
       "  'engagement': 1561},\n",
       " {'tweet': 'The better you get, you only become more aware of the work that still needs to be done.',\n",
       "  'engagement': 2457},\n",
       " {'tweet': 'We stockpile physical books we bought for $29 for years and lose the passwords for $1000 online courses.\\n\\nInteresting.',\n",
       "  'engagement': 912},\n",
       " {'tweet': 'Everyone trades their time for money. You just don’t want to sell your time for money.',\n",
       "  'engagement': 1318},\n",
       " {'tweet': 'There are no winners and losers in the big games of life: \\n\\n…only players and quitters.',\n",
       "  'engagement': 2553},\n",
       " {'tweet': 'Four elements of an effective apology:\\n1) Say sorry\\n2) Say what you did\\n3) Say how it affected them\\n4) Ask for forgiveness\\n\\nWe all mess up. Good reminder. Saving for later.',\n",
       "  'engagement': 2703},\n",
       " {'tweet': 'I still believe nicotine patch + caffeine is one of the all time greatest stimulant combos.\\n\\nCheers to all the other gladiators on their grind today.',\n",
       "  'engagement': 1587},\n",
       " {'tweet': 'Friends are like tenants that occupy space in your mental building.\\n\\nIf one isn’t paying rent, give them a notice period, then you gotta evict them to make room for a better one that will.',\n",
       "  'engagement': 1889},\n",
       " {'tweet': 'When you go through hard times, it doesn’t change who you are. It gives you evidence of who you were all along.',\n",
       "  'engagement': 1962},\n",
       " {'tweet': 'Weird thought:\\n\\nWhat if Chat GPT is just the “MySpace” of AI, and the Facebooks of AI haven’t even gotten in the game yet?',\n",
       "  'engagement': 2632},\n",
       " {'tweet': 'Just because it doesn’t cost money doesn’t mean it’s free.',\n",
       "  'engagement': 2360},\n",
       " {'tweet': 'Most people lose because they play infinite games with a finite perspective.\\n\\nIn a finite game, there is a clearly defined end point. There are winners and losers. \\n\\nIn an infinite game, all parties work to keep playing. There are no winners or losers, only those that quit due to…',\n",
       "  'engagement': 2951},\n",
       " {'tweet': 'My complex content model:\\n\\n1) Do shit\\n2) Talk about what you did\\n3) Repeat',\n",
       "  'engagement': 2112},\n",
       " {'tweet': 'I think it just comes down to whether you dislike being poor more than working long hours.\\n\\nIf you dislike it more, then you won’t experience it for long.',\n",
       "  'engagement': 1712},\n",
       " {'tweet': 'Being poor sucks more than working hard.', 'engagement': 4986},\n",
       " {'tweet': 'Also - judge based on their free content.\\n\\nPretty easy to judge value per second. \\n\\nIt typically translates to their value per second behind paywall.',\n",
       "  'engagement': 251},\n",
       " {'tweet': 'If you do go with an online educator - go with the poles:\\n\\nThe biggest and most established whos successfully scaled delivery.\\n\\nOr\\n\\nThe small person who has zero scale but will make up for it with service.\\n\\nThe middle tends to be trouble.',\n",
       "  'engagement': 220},\n",
       " {'tweet': 'Time will ultimately create brands that eat up marketshare because of good reputation.\\n\\nThere will always be room for minnows to sell on “1-1 attention”. But they then have the same burdens of scaling delivery while maintaining quality.',\n",
       "  'engagement': 92},\n",
       " {'tweet': 'But of course, there’s always the occasional dirt bag - just like in ANY industry.',\n",
       "  'engagement': 98},\n",
       " {'tweet': 'Most online educators are not evil scammers. They have good intentions but bad execution.\\n\\nThey want to help but aren’t good at it.\\n\\nIt’s incompetence not bad intention.',\n",
       "  'engagement': 879},\n",
       " {'tweet': 'The most expensive thing all of us are paying for is the information we should know but don’t.',\n",
       "  'engagement': 2091},\n",
       " {'tweet': 'A saying that helps me kill shiny object syndrome:\\n\\n“When it gets easy is when you go hard.”',\n",
       "  'engagement': 1862},\n",
       " {'tweet': 'The biggest long term error I’ve made was being short term focused.',\n",
       "  'engagement': 2630},\n",
       " {'tweet': 'Friendly reminder for that thing that’s stressing you out: \\n\\nIf you zoom out far enough you can’t see the earth.\\n\\n—&gt;If it won’t matter in ten million years, don’t let it matter today.',\n",
       "  'engagement': 1351},\n",
       " {'tweet': 'Most entrepreneurs would benefit more from a to-don’t list that buys them time than a to-do list they’ll never finish.',\n",
       "  'engagement': 1328},\n",
       " {'tweet': 'The epic shit is never easy. That’s what makes it epic.',\n",
       "  'engagement': 2116},\n",
       " {'tweet': 'Easy productivity hack:\\n\\nInstead of spending time “getting in the mood to work”…just start working. \\n\\nConfront the work.',\n",
       "  'engagement': 2685},\n",
       " {'tweet': 'Getting two internet providers for your home or office is like paying $1000/yr for insurance to never lose a day of productivity because of connectivity issues.',\n",
       "  'engagement': 1179},\n",
       " {'tweet': 'Friendly reminder:\\n\\nThe person with the longest time horizon always wins.',\n",
       "  'engagement': 2260},\n",
       " {'tweet': 'It’s amazing how many problems get solved with a good nights sleep.',\n",
       "  'engagement': 2633},\n",
       " {'tweet': 'Two powerful dating quotes that helped me:\\n\\n1) Getting over someone takes as long as you decide. (None of this “half the time you dated nonsense”)\\n\\n2) The best way to get over someone is find someone better (for you).',\n",
       "  'engagement': 1243},\n",
       " {'tweet': 'You wanna need as few cheerleaders as possible to root you on. \\n\\nBecause when it gets as hard as its gonna get, it might just be you rooting for you.',\n",
       "  'engagement': 1605},\n",
       " {'tweet': 'You don’t have to feel good about it. \\nYou just have to keep going. \\n\\nThe feeling will pass but you will remain. \\n\\nYou &gt; your feelings.',\n",
       "  'engagement': 3559},\n",
       " {'tweet': 'People have two resources they allocate: Time &amp; Money. \\n\\nIf you look at someone’s bank statement and calendar, you know where their life is going.',\n",
       "  'engagement': 1652},\n",
       " {'tweet': 'Competitors can now copy your tone and language with AI, but they can never copy your story.\\n\\nYour story = Your competitor advantage',\n",
       "  'engagement': 1564},\n",
       " {'tweet': 'You cannot wish for both strong character and an easy life.\\n\\nThe price of each is the other.',\n",
       "  'engagement': 5327},\n",
       " {'tweet': '99% of the time - it’s a WHO problem that stops businesses from growing.\\n\\nThe WHAT isn’t happening because the WHO isn’t good enough.',\n",
       "  'engagement': 1137},\n",
       " {'tweet': 'I’d rather be known for work ethic than talent.',\n",
       "  'engagement': 3517},\n",
       " {'tweet': 'You can tell how much money an entrepreneur makes by looking at how they spend their time.\\n\\nYour calendar is your budget for your most limited resource.',\n",
       "  'engagement': 1720},\n",
       " {'tweet': 'When you cut bad friends, it’s not that you’re being anti-social - it’s that you’re raising your standards.',\n",
       "  'engagement': 2188},\n",
       " {'tweet': 'One of life’s hardest decisions is giving up the sure thing for the best thing.',\n",
       "  'engagement': 3168},\n",
       " {'tweet': 'Uncomfortable truth:\\n\\nYou have to leave small money on the table to carry the big money out the door.\\n\\nThe cost of your dream is small profitable distractions.',\n",
       "  'engagement': 2921},\n",
       " {'tweet': 'If ya wanna see me get choked up for the first time in a long time…this was a great podcast. @StevenBartlett is a world class interviewer. Incredibly skilled. Even more impressed now that I’ve met him in person. Hope y’all enjoy this as much as we enjoyed making it for you.',\n",
       "  'engagement': 1032},\n",
       " {'tweet': 'It’s interesting that society today is all about self love. And most ancient religions are about minimizing self.',\n",
       "  'engagement': 4471},\n",
       " {'tweet': 'The difference between scams and legitimate education businesses is 4 things:\\n\\n1) Who they accept\\n2) Expectations they sell\\n3) Who they pass\\n4) How they rank them\\n\\nIf ya wanna be legit, do what legit establishments do.',\n",
       "  'engagement': 863},\n",
       " {'tweet': 'My solution for people who don’t help you accomplish your dreams:\\n\\nCut them immediately - without hesitation and without remorse.',\n",
       "  'engagement': 2995},\n",
       " {'tweet': 'Imagine the person you’d never want to go up against.\\n\\nThen do what that person would do.',\n",
       "  'engagement': 3267},\n",
       " {'tweet': 'You can get whatever you want in life. Just not whenever you want it.\\n\\nDelay gratification.',\n",
       "  'engagement': 4669},\n",
       " {'tweet': 'Investing is just buying money for less money than it costs you to buy it.',\n",
       "  'engagement': 1831},\n",
       " {'tweet': 'If you’re not sure what to get an entrepreneur for their birthday:\\n\\nBuy their product at full price and leave them a review.',\n",
       "  'engagement': 2920},\n",
       " {'tweet': 'Whenever something stresses me, I remind myself that if you zoom out far enough you can’t even see the earth.',\n",
       "  'engagement': 2024},\n",
       " {'tweet': '“Stop telling people to be patient. Tell them what to do IN THE MEANTIME.”\\n@DrKashey \\n\\nPatience is hard because it’s “non directive”. People don’t know how to do it. \\n\\nBut fundamentally when you’re doing anything you’re being patient with everything else you’re NOT doing.',\n",
       "  'engagement': 936},\n",
       " {'tweet': 'If you have to ask your entrepreneur friend for discount, you’re not good enough friends to get a discount.',\n",
       "  'engagement': 1536},\n",
       " {'tweet': 'Self-respect is the hardest to earn and easiest to lose.',\n",
       "  'engagement': 1917},\n",
       " {'tweet': 'Surprisingly to me - given all the doodles - Audio accounts for 50% of book sales.',\n",
       "  'engagement': 237},\n",
       " {'tweet': 'I finished the audio recording of $100M Leads yesterday.\\n\\nNow - sending the manuscript to the formatter. Then 10-12 weeks to get it printed.\\n\\nMy big guess here is how many copies to print. I honestly have no idea. \\n\\n$100M Offers has sold 300,000 copies. But only 80,000 in print.',\n",
       "  'engagement': 1088},\n",
       " {'tweet': 'Hot take: \\n\\nFriends should be willing to pay more to support a homie’s business rather than asking for a discount.',\n",
       "  'engagement': 5641},\n",
       " {'tweet': 'It’s hard to beat a person who keeps showing up everyday. \\n\\nThe game shifts from winning to outlasting.\\nA different way to play for a different type of player.',\n",
       "  'engagement': 3825},\n",
       " {'tweet': 'Imagine someone you know achieves every dream and hits every goal they have.\\n\\nYears later, they get old and die.\\n\\nTwo years later…how much do you care?\\n\\nAbout as much as everyone else will if you accomplish your goals and dreams.\\n\\nDo it for you.',\n",
       "  'engagement': 2424},\n",
       " {'tweet': 'Character is the result of the journey, not the achievements.\\n\\nWe are the result.',\n",
       "  'engagement': 2085},\n",
       " {'tweet': 'One of my favorite things  @LeilaHormozi has taught me through years of marriage:\\n\\n“Never stifle a generous impulse.”\\n\\nIf someone we like comes up in conversation. In that moment, she takes out her phone to send a message or send a gift to them.\\n\\nJust because. Well worth it.',\n",
       "  'engagement': 1477},\n",
       " {'tweet': 'I think “just because” ranks among the best reasons to do something nice for someone else.',\n",
       "  'engagement': 1295},\n",
       " {'tweet': 'PSA to all women talking to men:\\n\\nIf I’m not looking at you, I can’t hear you.',\n",
       "  'engagement': 1226},\n",
       " {'tweet': 'In 2011, I was worried about the macro-environment and my chances of getting a job.\\n\\nA mentor pulled me aside and told me something that stuck.\\n\\nAnd whenever I get worried about stuff outside of my control, I repeat it to myself:\\n\\n“Be too good to fail.”',\n",
       "  'engagement': 3042},\n",
       " {'tweet': 'Rule of thumb I follow when lifting:\\n\\nIf you’re not sure you finished your sets, you’ve got another one.',\n",
       "  'engagement': 1665},\n",
       " {'tweet': 'At your funeral, friends and family will argue over who gets what.\\n\\nPeople will want food to eat.\\n\\nThe topic will shift from your life to their lives.\\n\\nThey\\'ll drive away thinking about their looming todo list.\\n\\nSome people won\\'t be able to make it because \"something came up.\"…',\n",
       "  'engagement': 8387},\n",
       " {'tweet': 'Recurring theme with our portfolio companies:\\n\\nLevel 1 Smart + Level 10 Execution beats Level 10 Smart + Level 1 Execution.',\n",
       "  'engagement': 1255},\n",
       " {'tweet': 'The player with the longer time horizon always wins.',\n",
       "  'engagement': 1973},\n",
       " {'tweet': '2Wk Experiment: \\nZero Meetings Company-Wide \\n\\nCEO @CaleOwen ran this as a test to see which meetings mattered.\\n\\nThen ONLY add those back.\\n\\nIt’s purging your credit card of subscriptions annually.\\n\\nBut of the most costly resource - time.\\n\\nA worthwhile practice to consider annually',\n",
       "  'engagement': 368},\n",
       " {'tweet': 'Entrepreneurship isn’t about being great at a few things but being good enough at everything.',\n",
       "  'engagement': 2401},\n",
       " {'tweet': 'Learning to say no &gt; productivity hacks', 'engagement': 1641},\n",
       " {'tweet': '$10 in 1915 is $298 today - 30x.\\n\\n“If I had a million in cash 100 years ago I’d have 30M today!”\\n\\nSo as much as people love to see themselves get rich in excel…It’s a worthwhile exercise to adjust the the big number in the end by inflation compounding at 3-4%.',\n",
       "  'engagement': 667},\n",
       " {'tweet': 'Many small business owners stay small because they don’t have the patience to let something small become big.',\n",
       "  'engagement': 1825},\n",
       " {'tweet': 'If you solve with WHO not HOW, you only have to fix it once.',\n",
       "  'engagement': 1248},\n",
       " {'tweet': 'But only one gets to be first :P', 'engagement': 240},\n",
       " {'tweet': 'We talk about Socrates, Plato, Aristotle as the great philosophers.\\n\\nI used to think there’d never be others like them.\\n\\nBut that’s untrue. \\n\\nThere were only 10M citizens in Ancient Greece.\\n\\nNowadays we probably have 1000x the Socrates. \\n\\nThey’re just so many, few stand out.',\n",
       "  'engagement': 1312},\n",
       " {'tweet': 'Your market isn’t capped, your mindset is.', 'engagement': 2807},\n",
       " {'tweet': 'Whenever something stresses me out I remind myself that if you zoom out far enough you can’t even see the Earth.\\n\\nIf you can’t see it from space, it’s probably not that big of a deal.',\n",
       "  'engagement': 1695},\n",
       " {'tweet': 'Building an audience is an exercise in delaying gratification.\\n\\nThe longer you wait, the bigger it gets.',\n",
       "  'engagement': 1736},\n",
       " {'tweet': 'When I look back at myself five years ago I think “man, what an idiot”\\n\\nBut I get even more frightened by the idea that I’m gonna think the same thing in five years about myself today.\\n\\nSo for everyone who thinks I’m an idiot. Just know - future me agrees with you.',\n",
       "  'engagement': 2655},\n",
       " {'tweet': 'Something that took me too long to learn:\\n\\nSaying no doesn’t mean ‘no’\\n\\nIt means saying ‘yes’ to that which matters most.',\n",
       "  'engagement': 1966},\n",
       " {'tweet': 'It’s not burning a bridge if the road doesn’t go anywhere.\\n\\nIt’s pruning a tree to give more resources to the branches that are.',\n",
       "  'engagement': 1668},\n",
       " {'tweet': 'I’m gonna say this without trying to insult anyone…\\n\\nI get asked how I come up with all the content across: YT, TT, Twitter,  LI, IG, FB, Pod, Books, etc.\\n\\nIf you spend your time doing the stuff, you don’t need to come up with anything. Just talk about what you did.',\n",
       "  'engagement': 2850},\n",
       " {'tweet': 'If everyone saw learning skills as a real investment, more would do it.\\n\\n1) They go up in value\\n2) No one can take them from you \\n3) They cant be taxed\\n4) They compound all other investments\\n5) Great price vs. lifelong returns\\n\\nDouble down on the one asset you hold forever - you.',\n",
       "  'engagement': 3546},\n",
       " {'tweet': 'Reminder to everyone freaked out about currencies:\\n\\nBusiness can be done with any currency.\\nAssets can change what they’re denominated in.\\n\\nOwning valuable things protects you against this stuff. \\n\\nAnd worst case - everyone loses - and you’ll have the same relative standing.',\n",
       "  'engagement': 922},\n",
       " {'tweet': 'The reason most businesses don’t grow is something big and obvious - it just hurts the founders ego - so they try and solve every problem but the one that matters.',\n",
       "  'engagement': 1407},\n",
       " {'tweet': 'If you’re not sure what to sell, look at what’s working and try to deliver the same thing: easier, with less risk, in half the time.',\n",
       "  'engagement': 1685},\n",
       " {'tweet': 'The key to giving away great free shit and still being able to charge people after they consume it is - have more great shit. \\n\\nIf you only have one valuable thing, don’t charge for it. Give it away. And learn another valuable thing. Then you’ll have TWO valuable things.',\n",
       "  'engagement': 1173},\n",
       " {'tweet': 'I’ve found it easier to ignore what day of the week it is and fill my calendar with only two types of days:  \\n\\nWork days\\nRest days\\n\\nI keep doing the first until the second gives a higher return on time.',\n",
       "  'engagement': 1506},\n",
       " {'tweet': 'There are always reasons to leave. You just need to find more reasons to stay.',\n",
       "  'engagement': 1753},\n",
       " {'tweet': 'If you can do it when it’s hard, you can keep doing it under any conditions.\\n\\nIf you only wait to start when it’s easy, you’ll either never start, or, you’ll quit the moment it gets hard again (which it always does). \\n\\nSo you might as well start when it’s hard.',\n",
       "  'engagement': 1580},\n",
       " {'tweet': 'It takes longer if you’re in a rush. \\n\\n(You have to keep starting over)',\n",
       "  'engagement': 2486},\n",
       " {'tweet': 'I’m pretty patient and believe humans mess up. But I have only one “1-strike”offense for friends: \\n\\nIf you ever resent me winning, you’re out.\\n\\nAs you can imagine, this strikes out most people.\\n\\nIf your friends don’t root for you to win, then why they there? For them, not you.',\n",
       "  'engagement': 2891},\n",
       " {'tweet': 'Rule of thumb I follow:\\n\\nIf you hear about a new opportunity that everyone else is making money in, it’s usually too late.',\n",
       "  'engagement': 4459},\n",
       " {'tweet': 'Everyone just wants you to be the version of you who best serves them, Give less weight to their opinions.',\n",
       "  'engagement': 2361},\n",
       " {'tweet': 'If you play the ‘good guy’ card as the reason you don’t want to break up with someone. It’s false. It’s actually your ego.\\n\\nYour ego: You believe they won’t be able to find someone better than you. \\n\\nReality: Anyone who actually wants and values them is better for them than you.',\n",
       "  'engagement': 992},\n",
       " {'tweet': 'My favorite way to check something off my to do list is to decide it’s not worth doing.',\n",
       "  'engagement': 743},\n",
       " {'tweet': 'Patience, honesty, leadership, consistency, focus.\\n\\nThey aren’t traits, they’re skills.\\n\\nWe stop teaching them to children then we’re surprised adults don’t have them.\\n\\nIf it can be learned, it is a skill.',\n",
       "  'engagement': 2169},\n",
       " {'tweet': 'Advice for people who sell “appointment setting”:\\n\\nYou see appts as your product when you could make more money seeing your business as the marketing dept for a business 10x your size.\\n\\nPartner with the most valuable business you set appointments for.\\n\\nThen 100x your value.',\n",
       "  'engagement': 558},\n",
       " {'tweet': 'Advice I ignored for too long:\\n\\nDo more of what’s working. \\nIgnore the rest.',\n",
       "  'engagement': 4310},\n",
       " {'tweet': 'If you’re not man enough to break up with someone, don’t start dating them.\\n\\nIf you aren’t strong enough to fire, don’t hire.\\n\\nIf you don’t know how to end something, you don’t deserve to start it.',\n",
       "  'engagement': 2832},\n",
       " {'tweet': 'I keep re-learning this same lesson in new ways:\\n\\nRushing to get somewhere in business is the surest way to guarantee you’ll never get there.',\n",
       "  'engagement': 2158},\n",
       " {'tweet': 'Helpful perspective shift about trying hard:\\n\\nInstead of thinking “I’m using up my limited energy to bring it on this_____(call/event/meeting/content/etc.)”\\n\\nI try to think: “I’m practicing being great every time. This will make next time even easier.” Helped me',\n",
       "  'engagement': 884},\n",
       " {'tweet': 'Easiest way to lose influence with a group: be late.\\n\\nIf you’re “above them” the group resents you.\\n\\nIf you’re “below them” they’ll feel disrespected.\\n\\nBoth decrease your influence.\\n\\nAnd you can avoid the mistake with…drum roll please…an alarm.',\n",
       "  'engagement': 1814},\n",
       " {'tweet': 'Don’t worry if someone steals your idea.\\nIdeas are easy to copy.\\nBeing creative, less so.\\nYou are source.',\n",
       "  'engagement': 2643},\n",
       " {'tweet': 'Going into a negotiation with no other option besides taking the deal is like going all-in in a poker hand with 2-7 off suit. Tough.\\n\\nMuch easier to stack the deck and play with the nuts.\\n\\nIn real life, you CAN stack the deck.\\n\\nGet better options before cards are dealt.',\n",
       "  'engagement': 575},\n",
       " {'tweet': 'I didn’t know when I would become successful. But I knew I wouldn’t stop. That, I could commit to. That, I could control.',\n",
       "  'engagement': 2367},\n",
       " {'tweet': 'The best entrepreneurs don’t do business to make money. They make money to do business.',\n",
       "  'engagement': 2641},\n",
       " {'tweet': 'Contrary to money influencers - everyone trades time for money.\\n\\nWhenever anyone says they don’t, just ask them to divide what they made last year by the time they spent making it.\\n\\nTa-da: $/hr\\n\\nThere’s a difference between not getting paid hourly, and knowing what u make/hr.',\n",
       "  'engagement': 811},\n",
       " {'tweet': 'Imagine you see 3 arcade games. Each says they require 5 coins to play.\\n\\nGame 1: you can win up to 50 coins\\n\\nGame 2: you can win up to 500 coins\\n\\nGame 3: you can win up to 5000 coins\\n\\nWhich do you play? Obv game 3.\\n\\nBut people don’t pick careers this way.\\n\\nPlay big win big.',\n",
       "  'engagement': 2654},\n",
       " {'tweet': 'As silly as this sounds - almost no one does it:\\n\\nIf you’re trying to achieve something, the first step is having a way to measure progress.\\n\\nAnd the more ways you measure, the more ways you can win.\\n\\nSo start there, then don’t stop winning.',\n",
       "  'engagement': 2932},\n",
       " {'tweet': 'I oscillate between:\\n“It’s about the journey, not the destination. Why not?”\\nto\\n“Not today motherfucker”',\n",
       "  'engagement': 478},\n",
       " {'tweet': 'I feel like how likely I am to let someone in front of me in traffic is an accurate proxy for how good of a day I’m having.',\n",
       "  'engagement': 818},\n",
       " {'tweet': 'Only listen to people’s opinions if they have bigger dreams for you than you do.',\n",
       "  'engagement': 5182},\n",
       " {'tweet': 'The irony is, if you set out to beat corporate America with your business.\\n\\nAnd you do really well.\\n\\nYou become corporate America.',\n",
       "  'engagement': 1064},\n",
       " {'tweet': 'In the money game, everyone is an investor (rich and poor alike).\\n\\nWe ALL trade our resources for a return.\\n\\nThe sooner people realize they’re investors, the faster they can start measuring returns.\\n\\nAnd that’s the first step to improving them.',\n",
       "  'engagement': 1617},\n",
       " {'tweet': 'What do you think is easier? Adding $1M in profit to a business that trades at a 10X valuation or making $16.7M in income.\\n\\nRight. Probably the first. \\n\\nBut here’s the crazy thing - they both increase your net worth the same.\\n\\nPlay better games. Win better prizes.',\n",
       "  'engagement': 744},\n",
       " {'tweet': 'For everyone in that grind today:\\n\\n“The world belongs to those who can keep doing without seeing the result of their doing.”',\n",
       "  'engagement': 4839},\n",
       " {'tweet': 'Great visual of the game. \\n\\n“High leverage opportunities” = you get more out for what you put in (including risk)',\n",
       "  'engagement': 537},\n",
       " {'tweet': 'Everyone enjoys the beginning and the end. It’s where everyone cheers you on. But the middle is where the winning happens. It’s where you have to cheer you on.\\n\\nMaster the middle and the start and finish take care of themselves.',\n",
       "  'engagement': 2457},\n",
       " {'tweet': 'Short and long content are like running and passing in football. \\n\\nConsistent yardage from shorts with occasional big yardage from longs.\\n\\nNot a bad analogy to see their complementary roles in “playing the game” of content.',\n",
       "  'engagement': 665},\n",
       " {'tweet': 'Infinite vs Finite games', 'engagement': 387},\n",
       " {'tweet': 'The best games in life can’t be won, only played.\\n\\nYou don’t “win” at marriage. The point of marriage is to keep the marriage going.\\n\\nYou don’t “win” at health. The point is to stay healthy. \\n\\nYou don’t “win” at business. The point is to stay in business and keep the game going.',\n",
       "  'engagement': 4850},\n",
       " {'tweet': 'It’s hard to beat a person who keeps showing up everyday. \\n\\nIt shifts from winning to outlasting. A very different game.',\n",
       "  'engagement': 6188},\n",
       " {'tweet': 'My favorite definition of happiness comes from @DrKashey:\\n\\nDoing things you like with people you like.\\n\\nSimplifies a very complex topic into a few words.\\n\\nPro tip: “people you like” includes you.',\n",
       "  'engagement': 1059},\n",
       " {'tweet': 'You don’t have information overload.\\nYou have implementation underload.',\n",
       "  'engagement': 2900},\n",
       " {'tweet': 'You can instantly see how skilled someone is by the quality and quantity of data they track.',\n",
       "  'engagement': 1698},\n",
       " {'tweet': 'You can beat 99% of people by thinking two steps ahead instead of one.',\n",
       "  'engagement': 1943},\n",
       " {'tweet': 'I’ve avoided a lot of pain in my life by taking negative comments and intended insults and thinking “What if they’re right?”\\n\\nAnd?\\n\\nA lot of my pain came from trying to resist an idea rather than accept they might be right AND that’s okay.\\n\\nI’m still alive.',\n",
       "  'engagement': 893},\n",
       " {'tweet': 'Family wants the same thing for you as everyone else—what’s best for them.\\n\\nOn the surface they appear more loyal. But they’re closer to you, and they benefit more directly from things you benefit from.\\n\\nSo what appears to be loyalty is actually aligned incentives.',\n",
       "  'engagement': 1054},\n",
       " {'tweet': 'A lot of new entrepreneurs waste a lot of time trying to figure out how to ‘optimize’ everything about their days.\\n\\nI tend to see it as procrastination masquerading as productivity.\\n\\nThe faster you confront the work the faster it gets done.',\n",
       "  'engagement': 2060},\n",
       " {'tweet': 'It took 4.5 months for GPT 3 to progress into GPT 4. \\n\\nAssuming the same rate of progress, in 24 months, we’ll have something six orders of magnitude more powerful.',\n",
       "  'engagement': 1365},\n",
       " {'tweet': 'Everyone’s dad or father figure had a few wise words they really wanted you to remember.\\n\\nMy dad’s top 3 were:\\n\\nWhatever you do, be the best. \\nThey can never take your education.\\nGod gave you the power to ignore, use it.\\n\\nWhat were your dads?',\n",
       "  'engagement': 3966},\n",
       " {'tweet': 'One of the first questions I ask when we invest in a company is: \\n\\n“What’s stopping us from doing 10x more of what’s currently working?”\\n\\nOftentimes: nothing.',\n",
       "  'engagement': 760},\n",
       " {'tweet': 'My dad used to repeat this line to me when I was an upset little kid looking for sympathy. He never gave it to me and instead said:\\n\\n“It’s better to be envied than pitied.”\\n\\nIn one line he captured personal responsibility. \\n\\nI always remember that line to this day.',\n",
       "  'engagement': 1717},\n",
       " {'tweet': 'If the prospect knew everything you know about the product, they should buy. Which means, ethical selling is an education process.\\n\\nIf they knew everything and WOULDNT buy, then it makes it a deception process.\\n\\nSo either sell stuff that helps the prospect, or don’t sell at all.',\n",
       "  'engagement': 1168},\n",
       " {'tweet': 'Aging, pain, &amp; memory\\n&lt;20: I’m indestructible\\n20s: I’m not indestructible \\n30s: Something always hurts\\n45s: Multiple things hurt\\n60s: Multiple things don’t hurt\\n75s: Something doesn’t hurt\\n90s: I remember when things didn’t hurt \\n100:s I don’t remember anything',\n",
       "  'engagement': 797},\n",
       " {'tweet': 'If people who struggle, put the same energy into justifying their success as justifying their failures, they wouldn’t be struggling.',\n",
       "  'engagement': 873},\n",
       " {'tweet': 'You don’t win by doing your best, it’s about doing what’s required.\\n\\nAnd sometimes that means your best just needs to get better.',\n",
       "  'engagement': 2291},\n",
       " {'tweet': 'There’s somebody who’s had it worse and done better.',\n",
       "  'engagement': 3737},\n",
       " {'tweet': 'Entrepreneurship is less about being really good at anything and more about being good enough at everything.',\n",
       "  'engagement': 2461},\n",
       " {'tweet': '“If you’d give all your money up to be 20 again, then why did you sacrifice your 20s for money?”\\n\\nBecause it wasn’t a sacrifice. \\nWe learned to play the game. \\nAnd once you beat a level of the game, you’d happily give back your coins to play it again.',\n",
       "  'engagement': 1464},\n",
       " {'tweet': 'I’m going to start talking about retention goals rather than churn goals. \\n\\nAs in setting “97%+ retention” goals rather than “&lt; 3% churn” goals.\\n\\nRetain is a positive action.\\nChurn is a negative outcome.\\n\\nSmall language shift, but one I plan on implementing.',\n",
       "  'engagement': 767},\n",
       " {'tweet': 'You don’t need to be the best dressed, just the best prepared.',\n",
       "  'engagement': 1650},\n",
       " {'tweet': 'Grow so big your haters shrink into irrelevance.\\n\\nInstead of putting them down, make yourself bigger.\\n\\nA pebble can kill an ant but not an elephant.',\n",
       "  'engagement': 1925},\n",
       " {'tweet': 'You can build bigger stuff faster if you take your time.',\n",
       "  'engagement': 1462},\n",
       " {'tweet': 'It’s interesting that the same people who  distrust big corporations trust the government - the biggest corporation of all.',\n",
       "  'engagement': 1550},\n",
       " {'tweet': 'You can’t think you deserve what you have and be grateful for it at the same time.',\n",
       "  'engagement': 1165},\n",
       " {'tweet': 'Prompt engineering has become the modern day form of “wording your 3 wishes” to the genie.\\n\\nExcept instead of a genie in a lamp it’s a robot that lives inside of a computer.',\n",
       "  'engagement': 410},\n",
       " {'tweet': 'The things you’re afraid of losing today are the same things you were just as happy living without a few years ago.',\n",
       "  'engagement': 1499},\n",
       " {'tweet': 'You’re not passionate about anything enough to get you ‘motivated’. So? \\n\\nYou have other things that motivate you: pain, fear, shame, anger, etc.\\n\\nFirst rule of entrepreneurship:\\nUse what you’ve got.',\n",
       "  'engagement': 2680},\n",
       " {'tweet': 'It’s unlikely you’re gonna have this big passion that fuels you at the jump.\\n\\nBut you probably have plenty of pain right now.\\n\\nUse it to get you out, and once you get your head above water, the passion will follow.',\n",
       "  'engagement': 1345},\n",
       " {'tweet': 'Content hack that helped me stay motivated in the early days with tiny numbers:\\n\\nI imagined a room with the amount of people I got in views or impressions.\\n\\nSo if a video for 93 views. I’d think “man, 93 people in a room would be a great audience!”\\n\\nIt kept it feeling impactful.',\n",
       "  'engagement': 2377},\n",
       " {'tweet': 'If climate change permanently alters California’s weather…it’ll be like that hot girl at your high school reunion who put on 50lbs but still wants everyone to pretend she’s hot…\\n\\n…but instead she’s an out of shape divorcee with ‘issues’ looking to lure the next guy to drain.',\n",
       "  'engagement': 706},\n",
       " {'tweet': 'So many lives would transform overnight if they realized “My life sucks, I have nothing going for me...” really means “I have nothing to lose.”\\n\\nAnd that makes you a very dangerous person.',\n",
       "  'engagement': 1845},\n",
       " {'tweet': 'Most distractions come dressed as “easy opportunities.”',\n",
       "  'engagement': 1641},\n",
       " {'tweet': 'Hard is the price tag of great.', 'engagement': 2321},\n",
       " {'tweet': '“The man who walks because he loves walking will walk further than the man who loves the destination.”\\n\\nBut the man who walks to save his loved ones won’t stop no matter how much he hates walking.\\n\\nUse whatever it takes to to get to wherever you wanna go.',\n",
       "  'engagement': 3057},\n",
       " {'tweet': 'If you think your life sucks, you have even more reason to make the change you’re afraid to make. \\n\\nYou have nothing to lose.',\n",
       "  'engagement': 1614},\n",
       " {'tweet': 'Just because you can make money doing it, doesn’t mean you should.',\n",
       "  'engagement': 1909},\n",
       " {'tweet': 'I talk to 20+ founders per week. And the difference between the small and the big is:\\n\\nThe small ones obsess about relative return the big ones focus on absolute return.\\n\\nAka - instead of trying to go from 10:1 to 12:1 with $10k figuring out how to scale from $1M to $2M at 2:1.',\n",
       "  'engagement': 703},\n",
       " {'tweet': 'It’s up there with “that’s how we’ve always done it.”',\n",
       "  'engagement': 249},\n",
       " {'tweet': 'As a rule of thumb: \\n\\n“Because that’s how everyone else does it.” \\n\\nIs a terrible reason to justify doing something.',\n",
       "  'engagement': 1199},\n",
       " {'tweet': 'The best salesmen study everything they can about the prospect not the product.',\n",
       "  'engagement': 1700},\n",
       " {'tweet': 'If you want to influence the masses, focus on the movement.\\n\\nIf you want to influence the mercenaries, focus on the money.',\n",
       "  'engagement': 665},\n",
       " {'tweet': 'It’s a rare and valuable thing to find another person who truly roots for you.',\n",
       "  'engagement': 2706},\n",
       " {'tweet': 'And…btw - if you find a 1, you are 2.', 'engagement': 195},\n",
       " {'tweet': 'There are two ways to guarantee people stay faithful to you:\\n1) Find people with no other option\\n2) Stay their best option',\n",
       "  'engagement': 1114},\n",
       " {'tweet': 'The first step to achieving a massive dream is conquering tiny impulses.',\n",
       "  'engagement': 3535},\n",
       " {'tweet': 'It’s odd when I hear entrepreneurs say “word of mouth is dead” in an age where transparency and broadcasting a message in media has never been cheaper or easier.',\n",
       "  'engagement': 879},\n",
       " {'tweet': 'My favorite response to someone trying to insult me: “You’re probably right”\\n\\nTheir response is like watching someone trying to talk with a ping pong ball lodged in their windpipe.\\n\\nIt’s hard to fight someone who accepts you.',\n",
       "  'engagement': 1685},\n",
       " {'tweet': 'I’m gonna say this again:\\n\\nYou can either spend time building something great, then let customers market it for you for the rest of your life.\\n\\nOr\\n\\nYou can spend no time building it, and spend the rest of your life trying to get customers to buy it.\\n\\nQuality = Leverage',\n",
       "  'engagement': 4383},\n",
       " {'tweet': 'The world belongs to the rare few who can control their impulses.',\n",
       "  'engagement': 3218},\n",
       " {'tweet': 'Random Saturday thought from a mutual exchange with a friend.',\n",
       "  'engagement': 204},\n",
       " {'tweet': 'The rarer you are, the rarer the people are who share your perspective. In this way, the greater your success the fewer people you can share it with.',\n",
       "  'engagement': 2442},\n",
       " {'tweet': 'You gain nothing from underestimating your opponent.',\n",
       "  'engagement': 1391},\n",
       " {'tweet': 'Something I continually have to remind myself when I feel like I miss out on something “once in a lifetime”: \\n\\nThere’s always another…\\n\\n…deal\\n…customer\\n…vendor\\n…girl/guy\\n\\nEven if one gets away there’s always another around the corner.',\n",
       "  'engagement': 1286},\n",
       " {'tweet': 'Something I always have to remind myself:\\n\\n“Once in a lifetime deals” \\n\\n…come about once a quarter.',\n",
       "  'engagement': 1056},\n",
       " {'tweet': 'Do as much as you can,\\nfor as many people as you can,\\nas often as you can,\\nwithout expecting anything in return.\\n\\n…and watch what happens.\\n\\nA quote I love from @randygarn',\n",
       "  'engagement': 2378},\n",
       " {'tweet': 'Friendly reminder that you don’t need to respond to everyone who texts you.',\n",
       "  'engagement': 2346},\n",
       " {'tweet': 'The fastest way to avoid an argument is simply agree with the other person. \\n\\nThen keep living your life. \\n\\nMore people want to “win” than actually change your mind.',\n",
       "  'engagement': 4954},\n",
       " {'tweet': 'The hardest respect to earn is your own.', 'engagement': 3670},\n",
       " {'tweet': 'Marketing is about remixes not carbon copies.',\n",
       "  'engagement': 1227},\n",
       " {'tweet': 'Raising salaries can attract better people. But no matter how much you raise them, it won’t turn bad people into the right people.',\n",
       "  'engagement': 1470},\n",
       " {'tweet': 'If it’s unclear from the post - I have a lot of respect for Kim. I think she’s been wildly underestimated her entire life. She’s a multi billionaire in her early 40s. She’s dealt with a global spotlight. Sex scandal (purposeful or not). Divorces. And - she just keeps going.',\n",
       "  'engagement': 509},\n",
       " {'tweet': 'Whenever someone publicly criticizes you and you’re worried it’ll end your career…just remember:\\n\\nKim Kardashian had a sex tape the entire world saw…and now she has her own line at Dolce &amp; Gabana.\\n\\nPeople have short memories.',\n",
       "  'engagement': 4113},\n",
       " {'tweet': 'Some of the biggest strides I my career came from simply learning something was possible.',\n",
       "  'engagement': 1372},\n",
       " {'tweet': 'It’s weird how quickly an entrepreneur will drop $60,000 on a mediocre employee that may leave in a year and hesitates to invest it in their education that’ll be with them for a lifetime.',\n",
       "  'engagement': 1690},\n",
       " {'tweet': 'You suck less by doing more.', 'engagement': 2630},\n",
       " {'tweet': 'People don’t do hard things because it makes them feel soft.',\n",
       "  'engagement': 2239},\n",
       " {'tweet': 'If you’re gonna get into a super competitive marketplace - you have to be either WAY better at marketing or WAY better at delivering.\\n\\nNot like 10% better but 10x better.\\n\\nOtherwise - it’ll be a long brutal slog and you probably won’t get anywhere.',\n",
       "  'engagement': 1821},\n",
       " {'tweet': 'You can mix friends &amp; family in business IF everyone would do the exact same exchange if they weren’t friends &amp; family.',\n",
       "  'engagement': 625},\n",
       " {'tweet': 'Most people get rich first, then get weird.\\n\\nAnd people try and copy their weird shit rather than the grind it took them to get there.\\n\\nModel the rise not the plateau.',\n",
       "  'engagement': 4461},\n",
       " {'tweet': 'Don’t be the dentist with bad teeth. If you’re gonna sell it, you better (at least) be a shining example of it.',\n",
       "  'engagement': 2339},\n",
       " {'tweet': 'Wildly underrated way to learn a tactical business skill: 1 on 1 tutoring.',\n",
       "  'engagement': 1070},\n",
       " {'tweet': 'It’s not that people never change, it’s that people rarely change their first impressions.',\n",
       "  'engagement': 1227},\n",
       " {'tweet': 'One of the most common mistakes I made on my early entrepreneur days. Doing the right thing, but:\\n\\n1) at the wrong time\\n2) not enough times\\n3) for not enough time\\n\\nThat’s why contextual advice is king.',\n",
       "  'engagement': 2180},\n",
       " {'tweet': 'The three most common things I say when making a strategic decision with a portfolio CEO are:\\n\\n1) What problem are we solving?\\n2) Let’s play it out.\\n3) Which old problem do we want to trade for this new one?\\n\\nTry em out on your next big call.',\n",
       "  'engagement': 602},\n",
       " {'tweet': 'As a marketing rule of thumb:\\n\\nIf everyone else is doing it, don’t do it.',\n",
       "  'engagement': 3939},\n",
       " {'tweet': 'The biggest cost in business is what you don’t know but should.',\n",
       "  'engagement': 1582},\n",
       " {'tweet': 'No such thing as too long, only too boring.', 'engagement': 1004},\n",
       " {'tweet': 'You make more buying an asset that’s dropped 80% than buying one that grew 100%.\\n\\nIt just doesn’t feel that way. \\n\\nAnd the markets transfer wealth from people who don’t feel that way to people who do.',\n",
       "  'engagement': 1446},\n",
       " {'tweet': 'The most costly mistake poor people make is setting small goals.',\n",
       "  'engagement': 2902},\n",
       " {'tweet': 'Big market. Zero churn. Long timeline.\\n\\nThis is the way.',\n",
       "  'engagement': 843},\n",
       " {'tweet': 'The easiest way to differentiate is to be yourself.',\n",
       "  'engagement': 2166},\n",
       " {'tweet': 'If you feel like the hate in your life is loud, make your actions even louder.',\n",
       "  'engagement': 828},\n",
       " {'tweet': 'It’s as hard to start a local cleaning business as it is to scale a massive company. \\n\\nYou work the same 80 hours a week.\\n\\nYou just get compensated more for the ladder than the former.\\n\\nThe biggest entrepreneurial mistake many make is thinking too small.',\n",
       "  'engagement': 2019},\n",
       " {'tweet': 'Super real talk:\\n\\nIf you’re working all the time, and you’re not making progress, you’re doing the wrong stuff.',\n",
       "  'engagement': 5060},\n",
       " {'tweet': 'The worst things that have ever happened in my life weren’t the things I worried about, but the things I never saw coming.\\n\\nMade me wonder why I bothered worrying to begin with.',\n",
       "  'engagement': 2731},\n",
       " {'tweet': 'One of the best pieces of advice I’ve gotten for having hard conversations:\\n\\nPrioritize the relationship over the result.',\n",
       "  'engagement': 2552},\n",
       " {'tweet': 'Reminder to make “doing the thing” the goal, not “what you get” from doing the thing.',\n",
       "  'engagement': 2461},\n",
       " {'tweet': 'It’s harder to regain respect than love.', 'engagement': 1247},\n",
       " {'tweet': 'Beware of people who tell you what you “should” do.\\n\\nAll “shoulds” have an implied “if” statement that many leave out.\\n\\nAnd often it’s “if you want to live your life the way I do, you should do what I say”\\n\\nAnd most times, you probably don’t, so you shouldn’t.',\n",
       "  'engagement': 1653},\n",
       " {'tweet': 'Statement that will age poorly:\\n“AI is never gonna be able to ______”',\n",
       "  'engagement': 1483},\n",
       " {'tweet': 'Winning builds your confidence.\\nLosing builds your character.',\n",
       "  'engagement': 4056},\n",
       " {'tweet': 'You learn more from other people if you pretend you know less than them.',\n",
       "  'engagement': 5680},\n",
       " {'tweet': 'No one wants to be told why their idea can’t work.\\n\\nIf you can tell someone how something could work you’re 100x more valuable than the entire line of people who come up with creative reasons why it can’t.',\n",
       "  'engagement': 1848},\n",
       " {'tweet': 'If I’m stuck, asking myself: “What would someone 10x smarter than me do?” Has worked more times than I can count.\\n\\nJust like giving chat gpt the right prompts increases it’s utility, so does asking ourselves better questions.',\n",
       "  'engagement': 4389},\n",
       " {'tweet': '“FOMO” means “SLOW DOWN”', 'engagement': 849},\n",
       " {'tweet': 'If it doesn’t BUILD your reputation, then don’t do it. No neutral moves.',\n",
       "  'engagement': 2766},\n",
       " {'tweet': 'You can spend all your time hopping on calls and “networking” OR you can spend all your time working on one thing, that once you accomplish it, open whatever doors you want forever.',\n",
       "  'engagement': 2384},\n",
       " {'tweet': 'Heard this piece of advice and loved it:\\n\\n“Don’t play in the hundreds”\\n\\nIn other words, if you’re gonna do a deal, make sure that you can make millions rather than hundreds of thousands.\\n\\nGreat advice for refusing to take lower leverage opportunities. \\n\\nSame work. More zeroes.',\n",
       "  'engagement': 1477},\n",
       " {'tweet': 'People under appreciate how much smarter you can seem with 20min of preparation.',\n",
       "  'engagement': 4029},\n",
       " {'tweet': 'If the cost is peace of mind, don’t buy it.', 'engagement': 3816},\n",
       " {'tweet': 'A lesson that still stings me:\\n\\nNo matter how bad it is, you have to thank people immediately after they give you feedback. Otherwise, you’ll stop getting it.',\n",
       "  'engagement': 4393},\n",
       " {'tweet': 'If the goal is behavior change - people are more suggestible when listening to a story. They also remember them a zillion times better. So if we define the outcome of teaching as changing behavior - stories, not facts, are the most effective route.\\n\\nAnd it’s been a long…',\n",
       "  'engagement': 1769},\n",
       " {'tweet': 'There’s only one way I know to beat people who copy you: get bigger.\\n\\nIt’s not by direct conflict but by making them shrink into irrelevance by comparison.',\n",
       "  'engagement': 1231},\n",
       " {'tweet': 'The day your finger of blame points towards your own chest rather than someone else’s, is the day you go from them having the power to you having it.\\n\\nVictim—&gt;Victor',\n",
       "  'engagement': 2091},\n",
       " {'tweet': 'How to never compromise in a relationship:\\n\\nFind someone who wants the same thing as you. You both get what you want, and it just so happens - to be the same thing.',\n",
       "  'engagement': 1242},\n",
       " {'tweet': 'People don’t find mates because either their standards are too high, they don’t meet anyone else’s, or they don’t meet enough people.',\n",
       "  'engagement': 1930},\n",
       " {'tweet': 'How I do business with friends:\\n\\nOperate as though we arent friends. And if the deal’s still good, then I get both a good deal, and to do it with a friend.\\n\\nThe alternative is - you do a bad deal with a good friend. And that turns rapidly into a bad deal with a “former” friend.',\n",
       "  'engagement': 1263},\n",
       " {'tweet': 'You always feel like you’re at the bottom, you just change who you compare yourself to at the top.',\n",
       "  'engagement': 1148},\n",
       " {'tweet': 'When giving gifts, it’s not “the thought that counts” it’s the act of giving a gift that counts.\\n\\nWhat the gift is, matters less than THAT you gave one.\\n\\nOtherwise we could walk around telling people we thought about getting them a gift.\\n\\nWhich I tried for V-day. Hence the tweet.',\n",
       "  'engagement': 923},\n",
       " {'tweet': 'Doing a thing increases your ability to learn about it.\\n\\nIn order words, do the thing, then read about it. The experience will give you a framework to lay the new ideas on. \\n\\nOtherwise you’re mentally masturbating to the idea of doing it rather than learning to do it better.',\n",
       "  'engagement': 3388},\n",
       " {'tweet': 'Anyone else ever accidentally get in the shower with a hat still on? https://t.co/t9IOAGcC1h',\n",
       "  'engagement': 1647},\n",
       " {'tweet': 'If you have all the information to make a perfect decision, you missed the opportunity.',\n",
       "  'engagement': 4534},\n",
       " {'tweet': 'I’m bad at starting new habits. I’m also pretty bad at keeping habits. In the last ten years, the only small habits I’ve been able to stick with came from modifying my environment. Here’s what I did: I identified my ‘watering holes’\\n\\nThe places in my house I sit for extended…',\n",
       "  'engagement': 3551},\n",
       " {'tweet': 'The reason you are stressed is you have decisions to make and you’re not making them.',\n",
       "  'engagement': 9078},\n",
       " {'tweet': 'Winning builds your circumstances. \\nLosing builds your character.',\n",
       "  'engagement': 2231},\n",
       " {'tweet': 'Best reason to do bigger deals:\\n\\nSame work. More zeroes.',\n",
       "  'engagement': 1628},\n",
       " {'tweet': 'You know how to get a prospect to believe you’ll provide them value after they buy…provide them value before they buy.',\n",
       "  'engagement': 1281},\n",
       " {'tweet': 'We will quickly have no need for mouses or fingers to interact with computers. \\n\\nWe’ll just say what we want and the AI will interpret it for the software or site.\\n\\nAfter all, the only reason we had to point or click was to get it to understand what we wanted it to do. No more.',\n",
       "  'engagement': 947},\n",
       " {'tweet': 'When I was 19 years old I pledged a fraternity, and I learned one of the most important lessons of my life on how to deal with women (and others)…\\n*context*\\nSo when you’re a pledge you have to drive drunk brothers around. You’re the designated driver.\\nOne night, I was driving an…',\n",
       "  'engagement': 8221},\n",
       " {'tweet': 'It’s like a permanent face mask.', 'engagement': 462},\n",
       " {'tweet': 'If you’re an ugly dude, consider a beard. Leaves half your face to their imagination.',\n",
       "  'engagement': 5558},\n",
       " {'tweet': 'The moment I realized I had given the person I resented the most power over my life, I realized that whoever carries the blame carries the power. \\n\\nSo until your finger of blame points at your chest rather than someone else’s, you stay a victim of your own making.',\n",
       "  'engagement': 2426},\n",
       " {'tweet': 'Sometimes you have to let your parents’ dream die for yours to live.',\n",
       "  'engagement': 3020},\n",
       " {'tweet': '30 isn’t the new 20.\\n\\nIt’s an excuse to take ten years longer to accomplish the same thing.',\n",
       "  'engagement': 6629},\n",
       " {'tweet': 'You like them more than being alone.\\nBut not enough to say ‘only you.’\\n\\nThat’s not a commitment issue. \\nIt’s fear.\\n\\nFear of being alone.\\nFear of not finding someone better.\\n\\nThe same reason people stay in jobs they hate. They don’t have a commitment issue. Theyre afraid to leave.',\n",
       "  'engagement': 582},\n",
       " {'tweet': 'You don’t have commitment issues. \\nYou just don’t like them that much.',\n",
       "  'engagement': 1757},\n",
       " {'tweet': 'Also works with “…the best tip you can give me is to bring a friend next time.”',\n",
       "  'engagement': 332},\n",
       " {'tweet': 'I heard a great line today:\\n\\n“On the receipt when it says to leave a tip, please don’t. The best tip you can give me is to come back and see me again.”\\n\\nLove it.',\n",
       "  'engagement': 1160},\n",
       " {'tweet': 'If you think of “yeses” as withdrawals and “nos” as deposits, you’ll do fewer things and make more money from them.',\n",
       "  'engagement': 1673},\n",
       " {'tweet': 'Hiring talented people is one of the easiest 10x-100x ROI opportunities.\\n\\nAnd there’s always underpriced talent.',\n",
       "  'engagement': 1002},\n",
       " {'tweet': 'Enemies are better than fake friends. \\n\\nAt least you know who has your back rather than who plans on putting a knife in it.',\n",
       "  'engagement': 2072},\n",
       " {'tweet': 'Four skill deficiencies of an entrepreneur—they don’t know:\\n1) How to do something\\n2) How to get other people to do something\\n3) How to get them selves to do something\\n4) Something is possible',\n",
       "  'engagement': 1029},\n",
       " {'tweet': 'Let me save you a bunch of headache: \\nIf someone steals from you and promises they won’t. They’re lying, they’ll steal again…just more effectively.\\n\\nAnd even if they never do, there are buckets of other great people you can choose from without that track record.\\n\\nCut and move on',\n",
       "  'engagement': 1040},\n",
       " {'tweet': 'When you have bad customers, more help doesn’t help more.',\n",
       "  'engagement': 847},\n",
       " {'tweet': 'For those who ask how I eat desert every night and don’t get fat…\\n\\nAnswer: I eat less during the day.',\n",
       "  'engagement': 1644},\n",
       " {'tweet': 'You can give up tomorrow. \\nToday you fight.', 'engagement': 3783},\n",
       " {'tweet': 'There are no recessions. \\n\\nOnly buying seasons and selling seasons.\\n\\nYour skills determine which season it is for you.',\n",
       "  'engagement': 2709},\n",
       " {'tweet': 'A life tip that’s served me well:\\n\\nSave your big decisions for a morning after a good nights sleep.',\n",
       "  'engagement': 4535},\n",
       " {'tweet': 'Whenever I get to a low point where I think “why do I even bother?” \\n\\nI just try to remind myself “this is where most people stop, and this is why they don’t win.”',\n",
       "  'engagement': 6067},\n",
       " {'tweet': 'Reminder to self.', 'engagement': 236},\n",
       " {'tweet': 'You don’t “need” it, you want it.\\n\\nYou need: food, air, and water.\\n\\nEverything else is “extra.”',\n",
       "  'engagement': 2301},\n",
       " {'tweet': 'Everyone is going to forget about you six months after you die.\\n\\nAnd in 3 generations everyone who ever knew you will be dead. \\n\\nProbably worth doing what you want between now and then (because everyone’s gonna forget about you eventually anyways).',\n",
       "  'engagement': 11559},\n",
       " {'tweet': 'Both increase demand.', 'engagement': 208},\n",
       " {'tweet': 'If JK Rowling told everyone she’s removing Harry Potter from digital bookstores, audiobooks and kindle sales would skyrocket.\\n\\nBut there’s no scarcity, since digital has no inventory.\\n\\nWhat remains is urgency.\\n\\nUrgency is a function of time.\\nScarcity is a function of units.',\n",
       "  'engagement': 926},\n",
       " {'tweet': '1) Value: is what they get \\n2) Price: is what they pay\\n3) Cost: is what it costs you\\n\\nGreat business: 1 &gt; 2 &gt; 3\\n\\nMost businesses: 2 &gt; 1 &gt; 3\\n\\nBad software startups: 3 &gt; 2 &gt; 1 😂',\n",
       "  'engagement': 1764},\n",
       " {'tweet': 'Believe in your product more than the prospect believes in their excuses.',\n",
       "  'engagement': 2093},\n",
       " {'tweet': 'The Queen of England died 5 months ago….\\n\\nShe ruled an entire nation and accumulated more wealth than 99.99% of humans…\\n\\nAnd…yet…you haven’t thought about her except for this tweet.\\n\\nYou’re gonna die.\\nEveryone will move on.\\nDo what you want.',\n",
       "  'engagement': 10882},\n",
       " {'tweet': 'More often than not, people suck at sales because they actually don’t believe in their product.\\n\\nWhich makes them ethical, rather than bad salespeople.',\n",
       "  'engagement': 2255},\n",
       " {'tweet': 'Inspired by @SahilBloom', 'engagement': 184},\n",
       " {'tweet': 'Highest ROI “mini” life hack I’ve used recently:\\n\\nSwitch your phone to grayscale.\\n\\nSo. Much. Less. Addicting.',\n",
       "  'engagement': 5804},\n",
       " {'tweet': 'Everything big I’ve ever built happened during a season of 18-36 months of saying no to everything.\\n\\nIf you succeed, the door will be open for you again in the future.\\n\\nIf you fail because you’re distracted, it may be the last time the door’s ever open.',\n",
       "  'engagement': 1995},\n",
       " {'tweet': 'There is no one perfect routine, only one that matches the season you’re in.',\n",
       "  'engagement': 1657},\n",
       " {'tweet': 'It’s better to find what people say yes to then work backwards to profit than get no one to say yes with a hypothetical margin.\\n\\nCreate flow—&gt;Monetize flow—&gt;Add friction',\n",
       "  'engagement': 630},\n",
       " {'tweet': 'If you move somewhere only for the tax benefits, at the expense of everything else, you have proof of your priorities.',\n",
       "  'engagement': 974},\n",
       " {'tweet': '“Why have all the money in the world if you can’t live wherever you want in the world?”\\n\\nIf you live somewhere only because of the tax savings, you have become a prisoner of your wealth.',\n",
       "  'engagement': 1334},\n",
       " {'tweet': 'The education system today:\\nThe top 20% get special attention\\nThe bottom 20% get special attention\\nAnd everyone else gets screwed.',\n",
       "  'engagement': 1374},\n",
       " {'tweet': 'The e-learning world has a LOT to learn from the movie industry.\\n\\nMany amazing lessons:\\n-Price elasticity with time\\n-Mass market packaging\\n-IP licensing\\n-Promotional cadence\\n-Power of reviews &amp; WOM\\n-Different media delivery (DVDs vs Big Screen)\\n\\nSo many!',\n",
       "  'engagement': 520},\n",
       " {'tweet': 'If you want to give a business gift, don’t give something with your logo, give it with theirs.',\n",
       "  'engagement': 3097},\n",
       " {'tweet': 'Offer creation in two bullets:\\n\\nMake something everyone says yes to.\\n\\nThen work backwards from there and drive efficiency for deliverables.',\n",
       "  'engagement': 920}]"
      ]
     },
     "execution_count": 20,
     "metadata": {},
     "output_type": "execute_result"
    }
   ],
   "source": [
    "tweets"
   ]
  },
  {
   "cell_type": "markdown",
   "metadata": {},
   "source": [
    "## Annotating tweets\n",
    "Our tweets don't have any topic or label associated with them that might help us optimize and generate more tweets. We can annotate them by getting an LLM to find out the topic they fall under."
   ]
  },
  {
   "cell_type": "code",
   "execution_count": 21,
   "metadata": {},
   "outputs": [],
   "source": [
    "import dspy\n",
    "\n",
    "# Convert tweets to Example objects\n",
    "dataset = [dspy.Example(tweet=tweet).with_inputs(\"tweet\", \"engagement\") for tweet in tweets]"
   ]
  },
  {
   "cell_type": "code",
   "execution_count": 22,
   "metadata": {},
   "outputs": [],
   "source": [
    "class TopicPredictor(dspy.Module):\n",
    "    def __init__(self):\n",
    "        super().__init__()\n",
    "        self.prog = dspy.ChainOfThought(\"tweet -> topic\")\n",
    "\n",
    "    def forward(self, tweet):\n",
    "        return self.prog(tweet=tweet)"
   ]
  },
  {
   "cell_type": "code",
   "execution_count": 26,
   "metadata": {},
   "outputs": [],
   "source": [
    "mini = dspy.LM(model='gpt-4o')\n",
    "dspy.configure(lm = mini)"
   ]
  },
  {
   "cell_type": "code",
   "execution_count": 27,
   "metadata": {},
   "outputs": [
    {
     "name": "stdout",
     "output_type": "stream",
     "text": [
      "Tweet: {'tweet': 'Stop “friend financing”', 'engagement': 137}, Topic: Personal Finance\n",
      "Tweet: {'tweet': 'A message for friends of entrepreneurs:\\n\\nDon’t buy them a present. \\n\\nBuy their product and leave a nice review or tell them why it wasn’t good enough to deserve it (an even better gift).\\n\\nNo one needs more stuff. \\nEveryone could use more support.', 'engagement': 979}, Topic: Support for Entrepreneurs\n",
      "Tweet: {'tweet': 'Rush is an illusion.', 'engagement': 908}, Topic: Philosophy\n",
      "Tweet: {'tweet': 'Advice to strong men:\\n\\nFind a strong woman.', 'engagement': 3574}, Topic: Relationships\n",
      "Tweet: {'tweet': 'Reminder:\\n\\nDeath tax is 100% for everyone.\\n\\n(Because whatever you have isn’t yours anymore after you die).', 'engagement': 1136}, Topic: Philosophy, Mortality\n",
      "Tweet: {'tweet': 'When it comes to talent, “good enough” often isn’t.', 'engagement': 941}, Topic: Talent and Excellence\n",
      "Tweet: {'tweet': 'Squeeze all the potential you’ve got into reality.\\n\\nEvery. Last. Drop.', 'engagement': 3391}, Topic: Motivation\n",
      "Tweet: {'tweet': 'It’s not about doing your best, it’s about doing what’s required.\\n\\nAnd sometimes that means your best just needs to get better.', 'engagement': 2555}, Topic: Self-improvement and meeting expectations\n",
      "Tweet: {'tweet': 'She’s been my #1 cheerleader since day 1. Least I could do to repay the favor. \\n\\nThese bad boys are now next to my desk ready to be taken out for 🤌🏽shit days.', 'engagement': 1084}, Topic: Gratitude and Support\n",
      "Tweet: {'tweet': 'Oddly effective:\\n\\nHad a coaching call with myself. \\nI typed up a chat conversation with some problems I was having and pretended to be my 85 year old self. Got some really insightful replies.\\n\\nWorth a try.\\n\\nAfter all, no one cares about younger you as much as older you.', 'engagement': 1841}, Topic: Self-Coaching and Personal Development\n",
      "Tweet: {'tweet': 'Feelings are rarely right but they’re especially convincing when you feel them. That’s what makes good decision-making hard.', 'engagement': 1062}, Topic: Emotional Decision-Making\n",
      "Tweet: {'tweet': 'Bad news doesn’t “come in threes”. \\n\\nYou just get one, and the rest of the world looks like shit (for a second).\\n\\nThen you remember that in 500 million years, the sun will explode in a spectacular heat death.\\n\\nAnd suddenly, having no WiFi signal seem as bad. 😂', 'engagement': 840}, Topic: Perspective on Bad News\n",
      "Tweet: {'tweet': 'I’ve said this before and I’ll say it again:\\n\\nAnger is more useful than sadness.', 'engagement': 2883}, Topic: Emotional Well-being\n",
      "Tweet: {'tweet': 'A trick I use when I’m feeling shitty: \\nmessage a friend something positive.\\n\\nGets my head out of my ass thinking about only myself and reminds me other people on this planet exist.\\n\\nBonus: it usually turns into a nice friendly convo that makes my day.', 'engagement': 1909}, Topic: Mental Health and Well-being\n",
      "Tweet: {'tweet': 'You can always justify doing a new thing by quantifying what you have to gain. \\n\\nThe tough part is quantifying what you’ll lose from the distraction. \\n\\nAnd that downside is the part most entrepreneurs miscalculate.', 'engagement': 943}, Topic: Entrepreneurship and Decision-Making\n",
      "Tweet: {'tweet': 'I recently got hosed on a recent real estate deal.\\n\\nMy trust was taken advantage of. \\n\\nIn moments like this - a saying that I try to remember is:\\n\\n“You have to be willing to lose a hundred million to make a billion” - because you’re gonna.\\n\\nIG isn’t real. No one is undefeated.', 'engagement': 2830}, Topic: Personal Experience, Real Estate, Resilience, Social Media\n",
      "Tweet: {'tweet': 'People who move faster in life don’t actually move faster, they just get more for every step. \\n\\nLeverage = Speed, not activity.', 'engagement': 1917}, Topic: Productivity and Efficiency\n",
      "Tweet: {'tweet': 'My highest return investments in order:\\n1) My education \\n2) My business\\n3) Other people’s businesses/assets\\n\\nMax out first two before moving to 3.', 'engagement': 1561}, Topic: Investment Strategy\n",
      "Tweet: {'tweet': 'The better you get, you only become more aware of the work that still needs to be done.', 'engagement': 2457}, Topic: Self-improvement\n",
      "Tweet: {'tweet': 'We stockpile physical books we bought for $29 for years and lose the passwords for $1000 online courses.\\n\\nInteresting.', 'engagement': 912}, Topic: Human behavior and digital vs. physical value\n",
      "Tweet: {'tweet': 'Everyone trades their time for money. You just don’t want to sell your time for money.', 'engagement': 1318}, Topic: Personal Finance / Economic Philosophy\n",
      "Tweet: {'tweet': 'There are no winners and losers in the big games of life: \\n\\n…only players and quitters.', 'engagement': 2553}, Topic: Philosophy/Motivation\n",
      "Tweet: {'tweet': 'Four elements of an effective apology:\\n1) Say sorry\\n2) Say what you did\\n3) Say how it affected them\\n4) Ask for forgiveness\\n\\nWe all mess up. Good reminder. Saving for later.', 'engagement': 2703}, Topic: Self-improvement and Relationships\n",
      "Tweet: {'tweet': 'I still believe nicotine patch + caffeine is one of the all time greatest stimulant combos.\\n\\nCheers to all the other gladiators on their grind today.', 'engagement': 1587}, Topic: Stimulants and Productivity\n",
      "Tweet: {'tweet': 'Friends are like tenants that occupy space in your mental building.\\n\\nIf one isn’t paying rent, give them a notice period, then you gotta evict them to make room for a better one that will.', 'engagement': 1889}, Topic: Friendship and Relationships\n",
      "Tweet: {'tweet': 'When you go through hard times, it doesn’t change who you are. It gives you evidence of who you were all along.', 'engagement': 1962}, Topic: Personal Growth and Resilience\n",
      "Tweet: {'tweet': 'Weird thought:\\n\\nWhat if Chat GPT is just the “MySpace” of AI, and the Facebooks of AI haven’t even gotten in the game yet?', 'engagement': 2632}, Topic: Future of AI technology\n",
      "Tweet: {'tweet': 'Just because it doesn’t cost money doesn’t mean it’s free.', 'engagement': 2360}, Topic: Value and Cost Perception\n",
      "Tweet: {'tweet': 'Most people lose because they play infinite games with a finite perspective.\\n\\nIn a finite game, there is a clearly defined end point. There are winners and losers. \\n\\nIn an infinite game, all parties work to keep playing. There are no winners or losers, only those that quit due to…', 'engagement': 2951}, Topic: Mindset and Perspective in Games\n",
      "Tweet: {'tweet': 'My complex content model:\\n\\n1) Do shit\\n2) Talk about what you did\\n3) Repeat', 'engagement': 2112}, Topic: Content Creation Strategy\n",
      "Tweet: {'tweet': 'I think it just comes down to whether you dislike being poor more than working long hours.\\n\\nIf you dislike it more, then you won’t experience it for long.', 'engagement': 1712}, Topic: Work-life balance and financial motivation\n",
      "Tweet: {'tweet': 'Being poor sucks more than working hard.', 'engagement': 4986}, Topic: Socioeconomic Issues\n",
      "Tweet: {'tweet': 'Also - judge based on their free content.\\n\\nPretty easy to judge value per second. \\n\\nIt typically translates to their value per second behind paywall.', 'engagement': 251}, Topic: Content Evaluation\n",
      "Tweet: {'tweet': 'If you do go with an online educator - go with the poles:\\n\\nThe biggest and most established whos successfully scaled delivery.\\n\\nOr\\n\\nThe small person who has zero scale but will make up for it with service.\\n\\nThe middle tends to be trouble.', 'engagement': 220}, Topic: Online Education Choices\n",
      "Tweet: {'tweet': 'Time will ultimately create brands that eat up marketshare because of good reputation.\\n\\nThere will always be room for minnows to sell on “1-1 attention”. But they then have the same burdens of scaling delivery while maintaining quality.', 'engagement': 92}, Topic: Market Competition and Brand Development\n",
      "Tweet: {'tweet': 'But of course, there’s always the occasional dirt bag - just like in ANY industry.', 'engagement': 98}, Topic: Workplace Ethics\n",
      "Tweet: {'tweet': 'Most online educators are not evil scammers. They have good intentions but bad execution.\\n\\nThey want to help but aren’t good at it.\\n\\nIt’s incompetence not bad intention.', 'engagement': 879}, Topic: Online Education\n",
      "Tweet: {'tweet': 'The most expensive thing all of us are paying for is the information we should know but don’t.', 'engagement': 2091}, Topic: Value of Information\n",
      "Tweet: {'tweet': 'A saying that helps me kill shiny object syndrome:\\n\\n“When it gets easy is when you go hard.”', 'engagement': 1862}, Topic: Motivation and Focus\n",
      "Tweet: {'tweet': 'The biggest long term error I’ve made was being short term focused.', 'engagement': 2630}, Topic: Personal Growth and Reflection\n",
      "Tweet: {'tweet': 'Friendly reminder for that thing that’s stressing you out: \\n\\nIf you zoom out far enough you can’t see the earth.\\n\\n—&gt;If it won’t matter in ten million years, don’t let it matter today.', 'engagement': 1351}, Topic: Mental Health and Stress Management\n",
      "Tweet: {'tweet': 'Most entrepreneurs would benefit more from a to-don’t list that buys them time than a to-do list they’ll never finish.', 'engagement': 1328}, Topic: Productivity and Time Management\n",
      "Tweet: {'tweet': 'The epic shit is never easy. That’s what makes it epic.', 'engagement': 2116}, Topic: Motivation\n",
      "Tweet: {'tweet': 'Easy productivity hack:\\n\\nInstead of spending time “getting in the mood to work”…just start working. \\n\\nConfront the work.', 'engagement': 2685}, Topic: Productivity\n",
      "Tweet: {'tweet': 'Getting two internet providers for your home or office is like paying $1000/yr for insurance to never lose a day of productivity because of connectivity issues.', 'engagement': 1179}, Topic: Internet Connectivity and Productivity\n",
      "Tweet: {'tweet': 'Friendly reminder:\\n\\nThe person with the longest time horizon always wins.', 'engagement': 2260}, Topic: Long-term planning and success\n",
      "Tweet: {'tweet': 'It’s amazing how many problems get solved with a good nights sleep.', 'engagement': 2633}, Topic: Health and Wellness\n",
      "Tweet: {'tweet': 'Two powerful dating quotes that helped me:\\n\\n1) Getting over someone takes as long as you decide. (None of this “half the time you dated nonsense”)\\n\\n2) The best way to get over someone is find someone better (for you).', 'engagement': 1243}, Topic: Dating and Relationships\n",
      "Tweet: {'tweet': 'You wanna need as few cheerleaders as possible to root you on. \\n\\nBecause when it gets as hard as its gonna get, it might just be you rooting for you.', 'engagement': 1605}, Topic: Self-Motivation and Resilience\n",
      "Tweet: {'tweet': 'You don’t have to feel good about it. \\nYou just have to keep going. \\n\\nThe feeling will pass but you will remain. \\n\\nYou &gt; your feelings.', 'engagement': 3559}, Topic: Motivation and Mental Health\n",
      "Tweet: {'tweet': 'People have two resources they allocate: Time &amp; Money. \\n\\nIf you look at someone’s bank statement and calendar, you know where their life is going.', 'engagement': 1652}, Topic: Personal Finance and Time Management\n",
      "Tweet: {'tweet': 'Competitors can now copy your tone and language with AI, but they can never copy your story.\\n\\nYour story = Your competitor advantage', 'engagement': 1564}, Topic: Authenticity and Competitive Advantage\n",
      "Tweet: {'tweet': 'You cannot wish for both strong character and an easy life.\\n\\nThe price of each is the other.', 'engagement': 5327}, Topic: Personal Development\n",
      "Tweet: {'tweet': '99% of the time - it’s a WHO problem that stops businesses from growing.\\n\\nThe WHAT isn’t happening because the WHO isn’t good enough.', 'engagement': 1137}, Topic: Business Growth and Human Resources\n",
      "Tweet: {'tweet': 'I’d rather be known for work ethic than talent.', 'engagement': 3517}, Topic: Work Ethic vs. Talent\n",
      "Tweet: {'tweet': 'You can tell how much money an entrepreneur makes by looking at how they spend their time.\\n\\nYour calendar is your budget for your most limited resource.', 'engagement': 1720}, Topic: Entrepreneurship and Time Management\n",
      "Tweet: {'tweet': 'When you cut bad friends, it’s not that you’re being anti-social - it’s that you’re raising your standards.', 'engagement': 2188}, Topic: Self-improvement and Relationships\n",
      "Tweet: {'tweet': 'One of life’s hardest decisions is giving up the sure thing for the best thing.', 'engagement': 3168}, Topic: Personal Development\n",
      "Tweet: {'tweet': 'Uncomfortable truth:\\n\\nYou have to leave small money on the table to carry the big money out the door.\\n\\nThe cost of your dream is small profitable distractions.', 'engagement': 2921}, Topic: Personal Development / Financial Advice\n",
      "Tweet: {'tweet': 'If ya wanna see me get choked up for the first time in a long time…this was a great podcast. @StevenBartlett is a world class interviewer. Incredibly skilled. Even more impressed now that I’ve met him in person. Hope y’all enjoy this as much as we enjoyed making it for you.', 'engagement': 1032}, Topic: Podcast Recommendation\n",
      "Tweet: {'tweet': 'It’s interesting that society today is all about self love. And most ancient religions are about minimizing self.', 'engagement': 4471}, Topic: Cultural Values and Religion\n",
      "Tweet: {'tweet': 'The difference between scams and legitimate education businesses is 4 things:\\n\\n1) Who they accept\\n2) Expectations they sell\\n3) Who they pass\\n4) How they rank them\\n\\nIf ya wanna be legit, do what legit establishments do.', 'engagement': 863}, Topic: Education and Scams\n",
      "Tweet: {'tweet': 'My solution for people who don’t help you accomplish your dreams:\\n\\nCut them immediately - without hesitation and without remorse.', 'engagement': 2995}, Topic: Personal Development\n",
      "Tweet: {'tweet': 'Imagine the person you’d never want to go up against.\\n\\nThen do what that person would do.', 'engagement': 3267}, Topic: Self-improvement, Strategy\n",
      "Tweet: {'tweet': 'You can get whatever you want in life. Just not whenever you want it.\\n\\nDelay gratification.', 'engagement': 4669}, Topic: Personal Development\n",
      "Tweet: {'tweet': 'Investing is just buying money for less money than it costs you to buy it.', 'engagement': 1831}, Topic: Investing/Finance\n",
      "Tweet: {'tweet': 'If you’re not sure what to get an entrepreneur for their birthday:\\n\\nBuy their product at full price and leave them a review.', 'engagement': 2920}, Topic: Supporting Small Businesses\n",
      "Tweet: {'tweet': 'Whenever something stresses me, I remind myself that if you zoom out far enough you can’t even see the earth.', 'engagement': 2024}, Topic: Philosophy, Stress Management\n",
      "Tweet: {'tweet': '“Stop telling people to be patient. Tell them what to do IN THE MEANTIME.”\\n@DrKashey \\n\\nPatience is hard because it’s “non directive”. People don’t know how to do it. \\n\\nBut fundamentally when you’re doing anything you’re being patient with everything else you’re NOT doing.', 'engagement': 936}, Topic: Self-improvement and Productivity\n",
      "Tweet: {'tweet': 'If you have to ask your entrepreneur friend for discount, you’re not good enough friends to get a discount.', 'engagement': 1536}, Topic: Entrepreneurship and Friendship\n",
      "Tweet: {'tweet': 'Self-respect is the hardest to earn and easiest to lose.', 'engagement': 1917}, Topic: Self-Improvement\n",
      "Tweet: {'tweet': 'Surprisingly to me - given all the doodles - Audio accounts for 50% of book sales.', 'engagement': 237}, Topic: Publishing Industry Trends\n",
      "Tweet: {'tweet': 'I finished the audio recording of $100M Leads yesterday.\\n\\nNow - sending the manuscript to the formatter. Then 10-12 weeks to get it printed.\\n\\nMy big guess here is how many copies to print. I honestly have no idea. \\n\\n$100M Offers has sold 300,000 copies. But only 80,000 in print.', 'engagement': 1088}, Topic: Book Publishing\n",
      "Tweet: {'tweet': 'Hot take: \\n\\nFriends should be willing to pay more to support a homie’s business rather than asking for a discount.', 'engagement': 5641}, Topic: Supporting Friends' Businesses\n",
      "Tweet: {'tweet': 'It’s hard to beat a person who keeps showing up everyday. \\n\\nThe game shifts from winning to outlasting.\\nA different way to play for a different type of player.', 'engagement': 3825}, Topic: Motivation and Persistence\n",
      "Tweet: {'tweet': 'Imagine someone you know achieves every dream and hits every goal they have.\\n\\nYears later, they get old and die.\\n\\nTwo years later…how much do you care?\\n\\nAbout as much as everyone else will if you accomplish your goals and dreams.\\n\\nDo it for you.', 'engagement': 2424}, Topic: Personal Motivation and Legacy\n",
      "Tweet: {'tweet': 'Character is the result of the journey, not the achievements.\\n\\nWe are the result.', 'engagement': 2085}, Topic: Personal Development\n",
      "Tweet: {'tweet': 'One of my favorite things  @LeilaHormozi has taught me through years of marriage:\\n\\n“Never stifle a generous impulse.”\\n\\nIf someone we like comes up in conversation. In that moment, she takes out her phone to send a message or send a gift to them.\\n\\nJust because. Well worth it.', 'engagement': 1477}, Topic: Relationships and Generosity\n",
      "Tweet: {'tweet': 'I think “just because” ranks among the best reasons to do something nice for someone else.', 'engagement': 1295}, Topic: Kindness and Generosity\n",
      "Tweet: {'tweet': 'PSA to all women talking to men:\\n\\nIf I’m not looking at you, I can’t hear you.', 'engagement': 1226}, Topic: Gender Stereotypes in Communication\n",
      "Tweet: {'tweet': 'In 2011, I was worried about the macro-environment and my chances of getting a job.\\n\\nA mentor pulled me aside and told me something that stuck.\\n\\nAnd whenever I get worried about stuff outside of my control, I repeat it to myself:\\n\\n“Be too good to fail.”', 'engagement': 3042}, Topic: Personal Development and Career Advice\n",
      "Tweet: {'tweet': 'Rule of thumb I follow when lifting:\\n\\nIf you’re not sure you finished your sets, you’ve got another one.', 'engagement': 1665}, Topic: Fitness/Weightlifting\n",
      "Tweet: {'tweet': 'At your funeral, friends and family will argue over who gets what.\\n\\nPeople will want food to eat.\\n\\nThe topic will shift from your life to their lives.\\n\\nThey\\'ll drive away thinking about their looming todo list.\\n\\nSome people won\\'t be able to make it because \"something came up.\"…', 'engagement': 8387}, Topic: Human Behavior at Funerals\n",
      "Tweet: {'tweet': 'Recurring theme with our portfolio companies:\\n\\nLevel 1 Smart + Level 10 Execution beats Level 10 Smart + Level 1 Execution.', 'engagement': 1255}, Topic: Business Strategy\n",
      "Tweet: {'tweet': 'The player with the longer time horizon always wins.', 'engagement': 1973}, Topic: Strategy and Long-term Planning\n",
      "Tweet: {'tweet': '2Wk Experiment: \\nZero Meetings Company-Wide \\n\\nCEO @CaleOwen ran this as a test to see which meetings mattered.\\n\\nThen ONLY add those back.\\n\\nIt’s purging your credit card of subscriptions annually.\\n\\nBut of the most costly resource - time.\\n\\nA worthwhile practice to consider annually', 'engagement': 368}, Topic: Workplace Efficiency\n",
      "Tweet: {'tweet': 'Entrepreneurship isn’t about being great at a few things but being good enough at everything.', 'engagement': 2401}, Topic: Entrepreneurship\n",
      "Tweet: {'tweet': 'Learning to say no &gt; productivity hacks', 'engagement': 1641}, Topic: Productivity and Time Management\n",
      "Tweet: {'tweet': '$10 in 1915 is $298 today - 30x.\\n\\n“If I had a million in cash 100 years ago I’d have 30M today!”\\n\\nSo as much as people love to see themselves get rich in excel…It’s a worthwhile exercise to adjust the the big number in the end by inflation compounding at 3-4%.', 'engagement': 667}, Topic: Inflation and Financial Planning\n",
      "Tweet: {'tweet': 'Many small business owners stay small because they don’t have the patience to let something small become big.', 'engagement': 1825}, Topic: Small Business Growth\n",
      "Tweet: {'tweet': 'If you solve with WHO not HOW, you only have to fix it once.', 'engagement': 1248}, Topic: Leadership and Problem Solving\n",
      "Tweet: {'tweet': 'But only one gets to be first :P', 'engagement': 240}, Topic: Competition\n",
      "Tweet: {'tweet': 'We talk about Socrates, Plato, Aristotle as the great philosophers.\\n\\nI used to think there’d never be others like them.\\n\\nBut that’s untrue. \\n\\nThere were only 10M citizens in Ancient Greece.\\n\\nNowadays we probably have 1000x the Socrates. \\n\\nThey’re just so many, few stand out.', 'engagement': 1312}, Topic: Modern Philosophy and Historical Comparison\n",
      "Tweet: {'tweet': 'Your market isn’t capped, your mindset is.', 'engagement': 2807}, Topic: Mindset and Personal Development\n",
      "Tweet: {'tweet': 'Whenever something stresses me out I remind myself that if you zoom out far enough you can’t even see the Earth.\\n\\nIf you can’t see it from space, it’s probably not that big of a deal.', 'engagement': 1695}, Topic: Mental Health and Stress Management\n",
      "Tweet: {'tweet': 'Building an audience is an exercise in delaying gratification.\\n\\nThe longer you wait, the bigger it gets.', 'engagement': 1736}, Topic: Audience Building\n",
      "Tweet: {'tweet': 'When I look back at myself five years ago I think “man, what an idiot”\\n\\nBut I get even more frightened by the idea that I’m gonna think the same thing in five years about myself today.\\n\\nSo for everyone who thinks I’m an idiot. Just know - future me agrees with you.', 'engagement': 2655}, Topic: Self-reflection and personal growth\n",
      "Tweet: {'tweet': 'Something that took me too long to learn:\\n\\nSaying no doesn’t mean ‘no’\\n\\nIt means saying ‘yes’ to that which matters most.', 'engagement': 1966}, Topic: Personal Development\n",
      "Tweet: {'tweet': 'It’s not burning a bridge if the road doesn’t go anywhere.\\n\\nIt’s pruning a tree to give more resources to the branches that are.', 'engagement': 1668}, Topic: Personal Growth and Relationships\n",
      "Tweet: {'tweet': 'I’m gonna say this without trying to insult anyone…\\n\\nI get asked how I come up with all the content across: YT, TT, Twitter,  LI, IG, FB, Pod, Books, etc.\\n\\nIf you spend your time doing the stuff, you don’t need to come up with anything. Just talk about what you did.', 'engagement': 2850}, Topic: Content Creation\n",
      "Tweet: {'tweet': 'If everyone saw learning skills as a real investment, more would do it.\\n\\n1) They go up in value\\n2) No one can take them from you \\n3) They cant be taxed\\n4) They compound all other investments\\n5) Great price vs. lifelong returns\\n\\nDouble down on the one asset you hold forever - you.', 'engagement': 3546}, Topic: Personal Development and Investment in Skills\n",
      "Tweet: {'tweet': 'Reminder to everyone freaked out about currencies:\\n\\nBusiness can be done with any currency.\\nAssets can change what they’re denominated in.\\n\\nOwning valuable things protects you against this stuff. \\n\\nAnd worst case - everyone loses - and you’ll have the same relative standing.', 'engagement': 922}, Topic: Currency Stability and Asset Protection\n",
      "Tweet: {'tweet': 'The reason most businesses don’t grow is something big and obvious - it just hurts the founders ego - so they try and solve every problem but the one that matters.', 'engagement': 1407}, Topic: Business Growth and Leadership\n",
      "Tweet: {'tweet': 'If you’re not sure what to sell, look at what’s working and try to deliver the same thing: easier, with less risk, in half the time.', 'engagement': 1685}, Topic: Business Strategy\n",
      "Tweet: {'tweet': 'The key to giving away great free shit and still being able to charge people after they consume it is - have more great shit. \\n\\nIf you only have one valuable thing, don’t charge for it. Give it away. And learn another valuable thing. Then you’ll have TWO valuable things.', 'engagement': 1173}, Topic: Marketing Strategy\n",
      "Tweet: {'tweet': 'I’ve found it easier to ignore what day of the week it is and fill my calendar with only two types of days:  \\n\\nWork days\\nRest days\\n\\nI keep doing the first until the second gives a higher return on time.', 'engagement': 1506}, Topic: Productivity\n",
      "Tweet: {'tweet': 'There are always reasons to leave. You just need to find more reasons to stay.', 'engagement': 1753}, Topic: Motivation and Commitment\n",
      "Tweet: {'tweet': 'If you can do it when it’s hard, you can keep doing it under any conditions.\\n\\nIf you only wait to start when it’s easy, you’ll either never start, or, you’ll quit the moment it gets hard again (which it always does). \\n\\nSo you might as well start when it’s hard.', 'engagement': 1580}, Topic: Motivation and Resilience\n",
      "Tweet: {'tweet': 'It takes longer if you’re in a rush. \\n\\n(You have to keep starting over)', 'engagement': 2486}, Topic: Productivity\n",
      "Tweet: {'tweet': 'I’m pretty patient and believe humans mess up. But I have only one “1-strike”offense for friends: \\n\\nIf you ever resent me winning, you’re out.\\n\\nAs you can imagine, this strikes out most people.\\n\\nIf your friends don’t root for you to win, then why they there? For them, not you.', 'engagement': 2891}, Topic: Friendship and Support\n",
      "Tweet: {'tweet': 'Rule of thumb I follow:\\n\\nIf you hear about a new opportunity that everyone else is making money in, it’s usually too late.', 'engagement': 4459}, Topic: Investment Strategy\n",
      "Tweet: {'tweet': 'Everyone just wants you to be the version of you who best serves them, Give less weight to their opinions.', 'engagement': 2361}, Topic: Self-empowerment\n",
      "Tweet: {'tweet': 'If you play the ‘good guy’ card as the reason you don’t want to break up with someone. It’s false. It’s actually your ego.\\n\\nYour ego: You believe they won’t be able to find someone better than you. \\n\\nReality: Anyone who actually wants and values them is better for them than you.', 'engagement': 992}, Topic: Relationships and Ego\n",
      "Tweet: {'tweet': 'My favorite way to check something off my to do list is to decide it’s not worth doing.', 'engagement': 743}, Topic: Productivity, Humor\n",
      "Tweet: {'tweet': 'Patience, honesty, leadership, consistency, focus.\\n\\nThey aren’t traits, they’re skills.\\n\\nWe stop teaching them to children then we’re surprised adults don’t have them.\\n\\nIf it can be learned, it is a skill.', 'engagement': 2169}, Topic: Education and Personal Development\n",
      "Tweet: {'tweet': 'Advice for people who sell “appointment setting”:\\n\\nYou see appts as your product when you could make more money seeing your business as the marketing dept for a business 10x your size.\\n\\nPartner with the most valuable business you set appointments for.\\n\\nThen 100x your value.', 'engagement': 558}, Topic: Business Strategy\n",
      "Tweet: {'tweet': 'Advice I ignored for too long:\\n\\nDo more of what’s working. \\nIgnore the rest.', 'engagement': 4310}, Topic: Personal Development\n",
      "Tweet: {'tweet': 'If you’re not man enough to break up with someone, don’t start dating them.\\n\\nIf you aren’t strong enough to fire, don’t hire.\\n\\nIf you don’t know how to end something, you don’t deserve to start it.', 'engagement': 2832}, Topic: Responsibility and Accountability\n",
      "Tweet: {'tweet': 'I keep re-learning this same lesson in new ways:\\n\\nRushing to get somewhere in business is the surest way to guarantee you’ll never get there.', 'engagement': 2158}, Topic: Business Advice\n",
      "Tweet: {'tweet': 'Helpful perspective shift about trying hard:\\n\\nInstead of thinking “I’m using up my limited energy to bring it on this_____(call/event/meeting/content/etc.)”\\n\\nI try to think: “I’m practicing being great every time. This will make next time even easier.” Helped me', 'engagement': 884}, Topic: Personal Development\n",
      "Tweet: {'tweet': 'Easiest way to lose influence with a group: be late.\\n\\nIf you’re “above them” the group resents you.\\n\\nIf you’re “below them” they’ll feel disrespected.\\n\\nBoth decrease your influence.\\n\\nAnd you can avoid the mistake with…drum roll please…an alarm.', 'engagement': 1814}, Topic: Punctuality and Influence\n",
      "Tweet: {'tweet': 'Don’t worry if someone steals your idea.\\nIdeas are easy to copy.\\nBeing creative, less so.\\nYou are source.', 'engagement': 2643}, Topic: Creativity and Originality\n",
      "Tweet: {'tweet': 'Going into a negotiation with no other option besides taking the deal is like going all-in in a poker hand with 2-7 off suit. Tough.\\n\\nMuch easier to stack the deck and play with the nuts.\\n\\nIn real life, you CAN stack the deck.\\n\\nGet better options before cards are dealt.', 'engagement': 575}, Topic: Negotiation Strategies\n",
      "Tweet: {'tweet': 'I didn’t know when I would become successful. But I knew I wouldn’t stop. That, I could commit to. That, I could control.', 'engagement': 2367}, Topic: Motivation and Personal Development\n",
      "Tweet: {'tweet': 'The best entrepreneurs don’t do business to make money. They make money to do business.', 'engagement': 2641}, Topic: Entrepreneurship\n",
      "Tweet: {'tweet': 'Contrary to money influencers - everyone trades time for money.\\n\\nWhenever anyone says they don’t, just ask them to divide what they made last year by the time they spent making it.\\n\\nTa-da: $/hr\\n\\nThere’s a difference between not getting paid hourly, and knowing what u make/hr.', 'engagement': 811}, Topic: Personal Finance\n",
      "Tweet: {'tweet': 'Imagine you see 3 arcade games. Each says they require 5 coins to play.\\n\\nGame 1: you can win up to 50 coins\\n\\nGame 2: you can win up to 500 coins\\n\\nGame 3: you can win up to 5000 coins\\n\\nWhich do you play? Obv game 3.\\n\\nBut people don’t pick careers this way.\\n\\nPlay big win big.', 'engagement': 2654}, Topic: Career Choices and Risk-Taking\n",
      "Tweet: {'tweet': 'As silly as this sounds - almost no one does it:\\n\\nIf you’re trying to achieve something, the first step is having a way to measure progress.\\n\\nAnd the more ways you measure, the more ways you can win.\\n\\nSo start there, then don’t stop winning.', 'engagement': 2932}, Topic: Personal Development\n",
      "Tweet: {'tweet': 'I oscillate between:\\n“It’s about the journey, not the destination. Why not?”\\nto\\n“Not today motherfucker”', 'engagement': 478}, Topic: Personal Motivation and Mindset\n",
      "Tweet: {'tweet': 'I feel like how likely I am to let someone in front of me in traffic is an accurate proxy for how good of a day I’m having.', 'engagement': 818}, Topic: Human Behavior and Emotions\n",
      "Tweet: {'tweet': 'Only listen to people’s opinions if they have bigger dreams for you than you do.', 'engagement': 5182}, Topic: Personal Development\n",
      "Tweet: {'tweet': 'The irony is, if you set out to beat corporate America with your business.\\n\\nAnd you do really well.\\n\\nYou become corporate America.', 'engagement': 1064}, Topic: Business Growth and Corporate Dynamics\n",
      "Tweet: {'tweet': 'In the money game, everyone is an investor (rich and poor alike).\\n\\nWe ALL trade our resources for a return.\\n\\nThe sooner people realize they’re investors, the faster they can start measuring returns.\\n\\nAnd that’s the first step to improving them.', 'engagement': 1617}, Topic: Personal Finance and Investment\n",
      "Tweet: {'tweet': 'What do you think is easier? Adding $1M in profit to a business that trades at a 10X valuation or making $16.7M in income.\\n\\nRight. Probably the first. \\n\\nBut here’s the crazy thing - they both increase your net worth the same.\\n\\nPlay better games. Win better prizes.', 'engagement': 744}, Topic: Financial Strategy\n",
      "Tweet: {'tweet': 'For everyone in that grind today:\\n\\n“The world belongs to those who can keep doing without seeing the result of their doing.”', 'engagement': 4839}, Topic: Motivation\n",
      "Tweet: {'tweet': 'Great visual of the game. \\n\\n“High leverage opportunities” = you get more out for what you put in (including risk)', 'engagement': 537}, Topic: Investment Strategy / Risk Management\n",
      "Tweet: {'tweet': 'Everyone enjoys the beginning and the end. It’s where everyone cheers you on. But the middle is where the winning happens. It’s where you have to cheer you on.\\n\\nMaster the middle and the start and finish take care of themselves.', 'engagement': 2457}, Topic: Motivation and Perseverance\n",
      "Tweet: {'tweet': 'Short and long content are like running and passing in football. \\n\\nConsistent yardage from shorts with occasional big yardage from longs.\\n\\nNot a bad analogy to see their complementary roles in “playing the game” of content.', 'engagement': 665}, Topic: Content Strategy\n",
      "Tweet: {'tweet': 'Infinite vs Finite games', 'engagement': 387}, Topic: Philosophy/Strategy\n",
      "Tweet: {'tweet': 'The best games in life can’t be won, only played.\\n\\nYou don’t “win” at marriage. The point of marriage is to keep the marriage going.\\n\\nYou don’t “win” at health. The point is to stay healthy. \\n\\nYou don’t “win” at business. The point is to stay in business and keep the game going.', 'engagement': 4850}, Topic: Life Philosophy\n",
      "Tweet: {'tweet': 'It’s hard to beat a person who keeps showing up everyday. \\n\\nIt shifts from winning to outlasting. A very different game.', 'engagement': 6188}, Topic: Motivation and Persistence\n",
      "Tweet: {'tweet': 'My favorite definition of happiness comes from @DrKashey:\\n\\nDoing things you like with people you like.\\n\\nSimplifies a very complex topic into a few words.\\n\\nPro tip: “people you like” includes you.', 'engagement': 1059}, Topic: Happiness and Well-being\n",
      "Tweet: {'tweet': 'You don’t have information overload.\\nYou have implementation underload.', 'engagement': 2900}, Topic: Productivity and Self-Improvement\n",
      "Tweet: {'tweet': 'You can instantly see how skilled someone is by the quality and quantity of data they track.', 'engagement': 1698}, Topic: Skill Assessment and Data Tracking\n",
      "Tweet: {'tweet': 'You can beat 99% of people by thinking two steps ahead instead of one.', 'engagement': 1943}, Topic: Strategic Thinking\n",
      "Tweet: {'tweet': 'I’ve avoided a lot of pain in my life by taking negative comments and intended insults and thinking “What if they’re right?”\\n\\nAnd?\\n\\nA lot of my pain came from trying to resist an idea rather than accept they might be right AND that’s okay.\\n\\nI’m still alive.', 'engagement': 893}, Topic: Personal Growth and Resilience\n",
      "Tweet: {'tweet': 'Family wants the same thing for you as everyone else—what’s best for them.\\n\\nOn the surface they appear more loyal. But they’re closer to you, and they benefit more directly from things you benefit from.\\n\\nSo what appears to be loyalty is actually aligned incentives.', 'engagement': 1054}, Topic: Family dynamics and loyalty\n",
      "Tweet: {'tweet': 'A lot of new entrepreneurs waste a lot of time trying to figure out how to ‘optimize’ everything about their days.\\n\\nI tend to see it as procrastination masquerading as productivity.\\n\\nThe faster you confront the work the faster it gets done.', 'engagement': 2060}, Topic: Entrepreneurship and Productivity\n",
      "Tweet: {'tweet': 'It took 4.5 months for GPT 3 to progress into GPT 4. \\n\\nAssuming the same rate of progress, in 24 months, we’ll have something six orders of magnitude more powerful.', 'engagement': 1365}, Topic: AI Progress and Future Predictions\n",
      "Tweet: {'tweet': 'Everyone’s dad or father figure had a few wise words they really wanted you to remember.\\n\\nMy dad’s top 3 were:\\n\\nWhatever you do, be the best. \\nThey can never take your education.\\nGod gave you the power to ignore, use it.\\n\\nWhat were your dads?', 'engagement': 3966}, Topic: Parental Advice\n",
      "Tweet: {'tweet': 'One of the first questions I ask when we invest in a company is: \\n\\n“What’s stopping us from doing 10x more of what’s currently working?”\\n\\nOftentimes: nothing.', 'engagement': 760}, Topic: Investment Strategy\n",
      "Tweet: {'tweet': 'My dad used to repeat this line to me when I was an upset little kid looking for sympathy. He never gave it to me and instead said:\\n\\n“It’s better to be envied than pitied.”\\n\\nIn one line he captured personal responsibility. \\n\\nI always remember that line to this day.', 'engagement': 1717}, Topic: Life Advice\n",
      "Tweet: {'tweet': 'If the prospect knew everything you know about the product, they should buy. Which means, ethical selling is an education process.\\n\\nIf they knew everything and WOULDNT buy, then it makes it a deception process.\\n\\nSo either sell stuff that helps the prospect, or don’t sell at all.', 'engagement': 1168}, Topic: Ethical Sales Practices\n",
      "Tweet: {'tweet': 'Aging, pain, &amp; memory\\n&lt;20: I’m indestructible\\n20s: I’m not indestructible \\n30s: Something always hurts\\n45s: Multiple things hurt\\n60s: Multiple things don’t hurt\\n75s: Something doesn’t hurt\\n90s: I remember when things didn’t hurt \\n100:s I don’t remember anything', 'engagement': 797}, Topic: Aging and Health\n",
      "Tweet: {'tweet': 'If people who struggle, put the same energy into justifying their success as justifying their failures, they wouldn’t be struggling.', 'engagement': 873}, Topic: Self-improvement and mindset\n",
      "Tweet: {'tweet': 'You don’t win by doing your best, it’s about doing what’s required.\\n\\nAnd sometimes that means your best just needs to get better.', 'engagement': 2291}, Topic: Self-improvement and Success\n",
      "Tweet: {'tweet': 'There’s somebody who’s had it worse and done better.', 'engagement': 3737}, Topic: Motivation\n",
      "Tweet: {'tweet': 'Entrepreneurship is less about being really good at anything and more about being good enough at everything.', 'engagement': 2461}, Topic: Entrepreneurship\n",
      "Tweet: {'tweet': '“If you’d give all your money up to be 20 again, then why did you sacrifice your 20s for money?”\\n\\nBecause it wasn’t a sacrifice. \\nWe learned to play the game. \\nAnd once you beat a level of the game, you’d happily give back your coins to play it again.', 'engagement': 1464}, Topic: Life Philosophy\n",
      "Tweet: {'tweet': 'I’m going to start talking about retention goals rather than churn goals. \\n\\nAs in setting “97%+ retention” goals rather than “&lt; 3% churn” goals.\\n\\nRetain is a positive action.\\nChurn is a negative outcome.\\n\\nSmall language shift, but one I plan on implementing.', 'engagement': 767}, Topic: Business Strategy\n",
      "Tweet: {'tweet': 'You don’t need to be the best dressed, just the best prepared.', 'engagement': 1650}, Topic: Personal Development\n",
      "Tweet: {'tweet': 'Grow so big your haters shrink into irrelevance.\\n\\nInstead of putting them down, make yourself bigger.\\n\\nA pebble can kill an ant but not an elephant.', 'engagement': 1925}, Topic: Personal Growth and Self-Improvement\n",
      "Tweet: {'tweet': 'You can build bigger stuff faster if you take your time.', 'engagement': 1462}, Topic: Productivity and Time Management\n",
      "Tweet: {'tweet': 'It’s interesting that the same people who  distrust big corporations trust the government - the biggest corporation of all.', 'engagement': 1550}, Topic: Trust in Institutions\n",
      "Tweet: {'tweet': 'You can’t think you deserve what you have and be grateful for it at the same time.', 'engagement': 1165}, Topic: Gratitude and Entitlement\n",
      "Tweet: {'tweet': 'Prompt engineering has become the modern day form of “wording your 3 wishes” to the genie.\\n\\nExcept instead of a genie in a lamp it’s a robot that lives inside of a computer.', 'engagement': 410}, Topic: Artificial Intelligence, Prompt Engineering\n",
      "Tweet: {'tweet': 'The things you’re afraid of losing today are the same things you were just as happy living without a few years ago.', 'engagement': 1499}, Topic: Personal Growth and Reflection\n",
      "Tweet: {'tweet': 'You’re not passionate about anything enough to get you ‘motivated’. So? \\n\\nYou have other things that motivate you: pain, fear, shame, anger, etc.\\n\\nFirst rule of entrepreneurship:\\nUse what you’ve got.', 'engagement': 2680}, Topic: Entrepreneurship and Motivation\n",
      "Tweet: {'tweet': 'It’s unlikely you’re gonna have this big passion that fuels you at the jump.\\n\\nBut you probably have plenty of pain right now.\\n\\nUse it to get you out, and once you get your head above water, the passion will follow.', 'engagement': 1345}, Topic: Motivation and Personal Growth\n",
      "Tweet: {'tweet': 'Content hack that helped me stay motivated in the early days with tiny numbers:\\n\\nI imagined a room with the amount of people I got in views or impressions.\\n\\nSo if a video for 93 views. I’d think “man, 93 people in a room would be a great audience!”\\n\\nIt kept it feeling impactful.', 'engagement': 2377}, Topic: Content Creation Motivation\n",
      "Tweet: {'tweet': 'If climate change permanently alters California’s weather…it’ll be like that hot girl at your high school reunion who put on 50lbs but still wants everyone to pretend she’s hot…\\n\\n…but instead she’s an out of shape divorcee with ‘issues’ looking to lure the next guy to drain.', 'engagement': 706}, Topic: Climate Change\n",
      "Tweet: {'tweet': 'So many lives would transform overnight if they realized “My life sucks, I have nothing going for me...” really means “I have nothing to lose.”\\n\\nAnd that makes you a very dangerous person.', 'engagement': 1845}, Topic: Personal Empowerment and Perspective Shift\n",
      "Tweet: {'tweet': 'Most distractions come dressed as “easy opportunities.”', 'engagement': 1641}, Topic: Productivity and Focus\n",
      "Tweet: {'tweet': 'Hard is the price tag of great.', 'engagement': 2321}, Topic: Motivation\n",
      "Tweet: {'tweet': '“The man who walks because he loves walking will walk further than the man who loves the destination.”\\n\\nBut the man who walks to save his loved ones won’t stop no matter how much he hates walking.\\n\\nUse whatever it takes to to get to wherever you wanna go.', 'engagement': 3057}, Topic: Motivation and Goals\n",
      "Tweet: {'tweet': 'If you think your life sucks, you have even more reason to make the change you’re afraid to make. \\n\\nYou have nothing to lose.', 'engagement': 1614}, Topic: Motivational Advice\n",
      "Tweet: {'tweet': 'Just because you can make money doing it, doesn’t mean you should.', 'engagement': 1909}, Topic: Ethics in Business\n",
      "Tweet: {'tweet': 'I talk to 20+ founders per week. And the difference between the small and the big is:\\n\\nThe small ones obsess about relative return the big ones focus on absolute return.\\n\\nAka - instead of trying to go from 10:1 to 12:1 with $10k figuring out how to scale from $1M to $2M at 2:1.', 'engagement': 703}, Topic: Business Strategy\n",
      "Tweet: {'tweet': 'It’s up there with “that’s how we’ve always done it.”', 'engagement': 249}, Topic: Resistance to Change\n",
      "Tweet: {'tweet': 'As a rule of thumb: \\n\\n“Because that’s how everyone else does it.” \\n\\nIs a terrible reason to justify doing something.', 'engagement': 1199}, Topic: Critical Thinking\n",
      "Tweet: {'tweet': 'The best salesmen study everything they can about the prospect not the product.', 'engagement': 1700}, Topic: Sales Strategy\n",
      "Tweet: {'tweet': 'If you want to influence the masses, focus on the movement.\\n\\nIf you want to influence the mercenaries, focus on the money.', 'engagement': 665}, Topic: Influence Strategies\n",
      "Tweet: {'tweet': 'It’s a rare and valuable thing to find another person who truly roots for you.', 'engagement': 2706}, Topic: Relationships\n",
      "Tweet: {'tweet': 'And…btw - if you find a 1, you are 2.', 'engagement': 195}, Topic: Motivational/Inspirational\n",
      "Tweet: {'tweet': 'There are two ways to guarantee people stay faithful to you:\\n1) Find people with no other option\\n2) Stay their best option', 'engagement': 1114}, Topic: Relationships and Loyalty\n",
      "Tweet: {'tweet': 'The first step to achieving a massive dream is conquering tiny impulses.', 'engagement': 3535}, Topic: Personal Development\n",
      "Tweet: {'tweet': 'It’s odd when I hear entrepreneurs say “word of mouth is dead” in an age where transparency and broadcasting a message in media has never been cheaper or easier.', 'engagement': 879}, Topic: Marketing and Media\n",
      "Tweet: {'tweet': 'My favorite response to someone trying to insult me: “You’re probably right”\\n\\nTheir response is like watching someone trying to talk with a ping pong ball lodged in their windpipe.\\n\\nIt’s hard to fight someone who accepts you.', 'engagement': 1685}, Topic: Humor, Social Interaction\n",
      "Tweet: {'tweet': 'I’m gonna say this again:\\n\\nYou can either spend time building something great, then let customers market it for you for the rest of your life.\\n\\nOr\\n\\nYou can spend no time building it, and spend the rest of your life trying to get customers to buy it.\\n\\nQuality = Leverage', 'engagement': 4383}, Topic: Business Strategy\n",
      "Tweet: {'tweet': 'The world belongs to the rare few who can control their impulses.', 'engagement': 3218}, Topic: Self-Control and Success\n",
      "Tweet: {'tweet': 'Random Saturday thought from a mutual exchange with a friend.', 'engagement': 204}, Topic: Casual Conversation\n",
      "Tweet: {'tweet': 'The rarer you are, the rarer the people are who share your perspective. In this way, the greater your success the fewer people you can share it with.', 'engagement': 2442}, Topic: Success and Isolation\n",
      "Tweet: {'tweet': 'You gain nothing from underestimating your opponent.', 'engagement': 1391}, Topic: Strategy and Competition\n",
      "Tweet: {'tweet': 'Something I continually have to remind myself when I feel like I miss out on something “once in a lifetime”: \\n\\nThere’s always another…\\n\\n…deal\\n…customer\\n…vendor\\n…girl/guy\\n\\nEven if one gets away there’s always another around the corner.', 'engagement': 1286}, Topic: Resilience and Optimism\n",
      "Tweet: {'tweet': 'Something I always have to remind myself:\\n\\n“Once in a lifetime deals” \\n\\n…come about once a quarter.', 'engagement': 1056}, Topic: Consumer Behavior\n",
      "Tweet: {'tweet': 'Do as much as you can,\\nfor as many people as you can,\\nas often as you can,\\nwithout expecting anything in return.\\n\\n…and watch what happens.\\n\\nA quote I love from @randygarn', 'engagement': 2378}, Topic: Selflessness and Altruism\n",
      "Tweet: {'tweet': 'Friendly reminder that you don’t need to respond to everyone who texts you.', 'engagement': 2346}, Topic: Mental Health and Digital Communication\n",
      "Tweet: {'tweet': 'The fastest way to avoid an argument is simply agree with the other person. \\n\\nThen keep living your life. \\n\\nMore people want to “win” than actually change your mind.', 'engagement': 4954}, Topic: Conflict Resolution\n",
      "Tweet: {'tweet': 'The hardest respect to earn is your own.', 'engagement': 3670}, Topic: Self-Respect\n",
      "Tweet: {'tweet': 'Marketing is about remixes not carbon copies.', 'engagement': 1227}, Topic: Marketing Strategies\n",
      "Tweet: {'tweet': 'Raising salaries can attract better people. But no matter how much you raise them, it won’t turn bad people into the right people.', 'engagement': 1470}, Topic: Workforce Management\n",
      "Tweet: {'tweet': 'If it’s unclear from the post - I have a lot of respect for Kim. I think she’s been wildly underestimated her entire life. She’s a multi billionaire in her early 40s. She’s dealt with a global spotlight. Sex scandal (purposeful or not). Divorces. And - she just keeps going.', 'engagement': 509}, Topic: Kim Kardashian\n",
      "Tweet: {'tweet': 'Whenever someone publicly criticizes you and you’re worried it’ll end your career…just remember:\\n\\nKim Kardashian had a sex tape the entire world saw…and now she has her own line at Dolce &amp; Gabana.\\n\\nPeople have short memories.', 'engagement': 4113}, Topic: Resilience and Public Perception\n",
      "Tweet: {'tweet': 'Some of the biggest strides I my career came from simply learning something was possible.', 'engagement': 1372}, Topic: Career Development\n",
      "Tweet: {'tweet': 'It’s weird how quickly an entrepreneur will drop $60,000 on a mediocre employee that may leave in a year and hesitates to invest it in their education that’ll be with them for a lifetime.', 'engagement': 1690}, Topic: Entrepreneurship and Personal Development\n",
      "Tweet: {'tweet': 'You suck less by doing more.', 'engagement': 2630}, Topic: Motivation\n",
      "Tweet: {'tweet': 'People don’t do hard things because it makes them feel soft.', 'engagement': 2239}, Topic: Human Behavior and Psychology\n",
      "Tweet: {'tweet': 'If you’re gonna get into a super competitive marketplace - you have to be either WAY better at marketing or WAY better at delivering.\\n\\nNot like 10% better but 10x better.\\n\\nOtherwise - it’ll be a long brutal slog and you probably won’t get anywhere.', 'engagement': 1821}, Topic: Business Strategy\n",
      "Tweet: {'tweet': 'You can mix friends &amp; family in business IF everyone would do the exact same exchange if they weren’t friends &amp; family.', 'engagement': 625}, Topic: Business Ethics\n",
      "Tweet: {'tweet': 'Most people get rich first, then get weird.\\n\\nAnd people try and copy their weird shit rather than the grind it took them to get there.\\n\\nModel the rise not the plateau.', 'engagement': 4461}, Topic: Success and Wealth\n",
      "Tweet: {'tweet': 'Don’t be the dentist with bad teeth. If you’re gonna sell it, you better (at least) be a shining example of it.', 'engagement': 2339}, Topic: Authenticity and Integrity\n",
      "Tweet: {'tweet': 'Wildly underrated way to learn a tactical business skill: 1 on 1 tutoring.', 'engagement': 1070}, Topic: Professional Development\n",
      "Tweet: {'tweet': 'It’s not that people never change, it’s that people rarely change their first impressions.', 'engagement': 1227}, Topic: Psychology\n",
      "Tweet: {'tweet': 'One of the most common mistakes I made on my early entrepreneur days. Doing the right thing, but:\\n\\n1) at the wrong time\\n2) not enough times\\n3) for not enough time\\n\\nThat’s why contextual advice is king.', 'engagement': 2180}, Topic: Entrepreneurship\n",
      "Tweet: {'tweet': 'The three most common things I say when making a strategic decision with a portfolio CEO are:\\n\\n1) What problem are we solving?\\n2) Let’s play it out.\\n3) Which old problem do we want to trade for this new one?\\n\\nTry em out on your next big call.', 'engagement': 602}, Topic: Strategic Decision-Making\n",
      "Tweet: {'tweet': 'As a marketing rule of thumb:\\n\\nIf everyone else is doing it, don’t do it.', 'engagement': 3939}, Topic: Marketing Strategy\n",
      "Tweet: {'tweet': 'The biggest cost in business is what you don’t know but should.', 'engagement': 1582}, Topic: Business Strategy\n",
      "Tweet: {'tweet': 'No such thing as too long, only too boring.', 'engagement': 1004}, Topic: Content Quality\n",
      "Tweet: {'tweet': 'You make more buying an asset that’s dropped 80% than buying one that grew 100%.\\n\\nIt just doesn’t feel that way. \\n\\nAnd the markets transfer wealth from people who don’t feel that way to people who do.', 'engagement': 1446}, Topic: Investment Strategy\n",
      "Tweet: {'tweet': 'The most costly mistake poor people make is setting small goals.', 'engagement': 2902}, Topic: Personal Finance/Motivation\n",
      "Tweet: {'tweet': 'Big market. Zero churn. Long timeline.\\n\\nThis is the way.', 'engagement': 843}, Topic: Business Strategy\n",
      "Tweet: {'tweet': 'The easiest way to differentiate is to be yourself.', 'engagement': 2166}, Topic: Self-Improvement\n",
      "Tweet: {'tweet': 'If you feel like the hate in your life is loud, make your actions even louder.', 'engagement': 828}, Topic: Motivation and Positivity\n",
      "Tweet: {'tweet': 'It’s as hard to start a local cleaning business as it is to scale a massive company. \\n\\nYou work the same 80 hours a week.\\n\\nYou just get compensated more for the ladder than the former.\\n\\nThe biggest entrepreneurial mistake many make is thinking too small.', 'engagement': 2019}, Topic: Entrepreneurship\n",
      "Tweet: {'tweet': 'Super real talk:\\n\\nIf you’re working all the time, and you’re not making progress, you’re doing the wrong stuff.', 'engagement': 5060}, Topic: Productivity and Work Efficiency\n",
      "Tweet: {'tweet': 'The worst things that have ever happened in my life weren’t the things I worried about, but the things I never saw coming.\\n\\nMade me wonder why I bothered worrying to begin with.', 'engagement': 2731}, Topic: Life Reflections\n",
      "Tweet: {'tweet': 'One of the best pieces of advice I’ve gotten for having hard conversations:\\n\\nPrioritize the relationship over the result.', 'engagement': 2552}, Topic: Interpersonal Relationships\n",
      "Tweet: {'tweet': 'Reminder to make “doing the thing” the goal, not “what you get” from doing the thing.', 'engagement': 2461}, Topic: Mindset and Motivation\n",
      "Tweet: {'tweet': 'It’s harder to regain respect than love.', 'engagement': 1247}, Topic: Relationships\n",
      "Tweet: {'tweet': 'Beware of people who tell you what you “should” do.\\n\\nAll “shoulds” have an implied “if” statement that many leave out.\\n\\nAnd often it’s “if you want to live your life the way I do, you should do what I say”\\n\\nAnd most times, you probably don’t, so you shouldn’t.', 'engagement': 1653}, Topic: Advice and Personal Autonomy\n",
      "Tweet: {'tweet': 'Statement that will age poorly:\\n“AI is never gonna be able to ______”', 'engagement': 1483}, Topic: AI advancements\n",
      "Tweet: {'tweet': 'Winning builds your confidence.\\nLosing builds your character.', 'engagement': 4056}, Topic: Personal Development\n",
      "Tweet: {'tweet': 'You learn more from other people if you pretend you know less than them.', 'engagement': 5680}, Topic: Personal Development\n",
      "Tweet: {'tweet': 'No one wants to be told why their idea can’t work.\\n\\nIf you can tell someone how something could work you’re 100x more valuable than the entire line of people who come up with creative reasons why it can’t.', 'engagement': 1848}, Topic: Constructive Feedback\n",
      "Tweet: {'tweet': 'If I’m stuck, asking myself: “What would someone 10x smarter than me do?” Has worked more times than I can count.\\n\\nJust like giving chat gpt the right prompts increases it’s utility, so does asking ourselves better questions.', 'engagement': 4389}, Topic: Self-improvement and AI\n",
      "Tweet: {'tweet': '“FOMO” means “SLOW DOWN”', 'engagement': 849}, Topic: Mental Health and Well-being\n",
      "Tweet: {'tweet': 'If it doesn’t BUILD your reputation, then don’t do it. No neutral moves.', 'engagement': 2766}, Topic: Personal Development\n",
      "Tweet: {'tweet': 'You can spend all your time hopping on calls and “networking” OR you can spend all your time working on one thing, that once you accomplish it, open whatever doors you want forever.', 'engagement': 2384}, Topic: Productivity and Career Strategy\n",
      "Tweet: {'tweet': 'Heard this piece of advice and loved it:\\n\\n“Don’t play in the hundreds”\\n\\nIn other words, if you’re gonna do a deal, make sure that you can make millions rather than hundreds of thousands.\\n\\nGreat advice for refusing to take lower leverage opportunities. \\n\\nSame work. More zeroes.', 'engagement': 1477}, Topic: Financial Advice\n",
      "Tweet: {'tweet': 'People under appreciate how much smarter you can seem with 20min of preparation.', 'engagement': 4029}, Topic: Self-Improvement\n",
      "Tweet: {'tweet': 'If the cost is peace of mind, don’t buy it.', 'engagement': 3816}, Topic: Mental Health and Well-being\n",
      "Tweet: {'tweet': 'A lesson that still stings me:\\n\\nNo matter how bad it is, you have to thank people immediately after they give you feedback. Otherwise, you’ll stop getting it.', 'engagement': 4393}, Topic: Personal Development\n",
      "Tweet: {'tweet': 'If the goal is behavior change - people are more suggestible when listening to a story. They also remember them a zillion times better. So if we define the outcome of teaching as changing behavior - stories, not facts, are the most effective route.\\n\\nAnd it’s been a long…', 'engagement': 1769}, Topic: Education and Behavior Change\n",
      "Tweet: {'tweet': 'There’s only one way I know to beat people who copy you: get bigger.\\n\\nIt’s not by direct conflict but by making them shrink into irrelevance by comparison.', 'engagement': 1231}, Topic: Business Strategy\n",
      "Tweet: {'tweet': 'The day your finger of blame points towards your own chest rather than someone else’s, is the day you go from them having the power to you having it.\\n\\nVictim—&gt;Victor', 'engagement': 2091}, Topic: Personal Accountability and Empowerment\n",
      "Tweet: {'tweet': 'How to never compromise in a relationship:\\n\\nFind someone who wants the same thing as you. You both get what you want, and it just so happens - to be the same thing.', 'engagement': 1242}, Topic: Relationships\n",
      "Tweet: {'tweet': 'People don’t find mates because either their standards are too high, they don’t meet anyone else’s, or they don’t meet enough people.', 'engagement': 1930}, Topic: Relationships and Dating\n",
      "Tweet: {'tweet': 'How I do business with friends:\\n\\nOperate as though we arent friends. And if the deal’s still good, then I get both a good deal, and to do it with a friend.\\n\\nThe alternative is - you do a bad deal with a good friend. And that turns rapidly into a bad deal with a “former” friend.', 'engagement': 1263}, Topic: Business Ethics and Relationships\n",
      "Tweet: {'tweet': 'You always feel like you’re at the bottom, you just change who you compare yourself to at the top.', 'engagement': 1148}, Topic: Self-Comparison and Perception\n",
      "Tweet: {'tweet': 'When giving gifts, it’s not “the thought that counts” it’s the act of giving a gift that counts.\\n\\nWhat the gift is, matters less than THAT you gave one.\\n\\nOtherwise we could walk around telling people we thought about getting them a gift.\\n\\nWhich I tried for V-day. Hence the tweet.', 'engagement': 923}, Topic: Gift Giving\n",
      "Tweet: {'tweet': 'Doing a thing increases your ability to learn about it.\\n\\nIn order words, do the thing, then read about it. The experience will give you a framework to lay the new ideas on. \\n\\nOtherwise you’re mentally masturbating to the idea of doing it rather than learning to do it better.', 'engagement': 3388}, Topic: Learning and Experience\n",
      "Tweet: {'tweet': 'Anyone else ever accidentally get in the shower with a hat still on? https://t.co/t9IOAGcC1h', 'engagement': 1647}, Topic: Everyday Life/Humor\n",
      "Tweet: {'tweet': 'If you have all the information to make a perfect decision, you missed the opportunity.', 'engagement': 4534}, Topic: Decision Making\n",
      "Tweet: {'tweet': 'I’m bad at starting new habits. I’m also pretty bad at keeping habits. In the last ten years, the only small habits I’ve been able to stick with came from modifying my environment. Here’s what I did: I identified my ‘watering holes’\\n\\nThe places in my house I sit for extended…', 'engagement': 3551}, Topic: Habit Formation\n",
      "Tweet: {'tweet': 'The reason you are stressed is you have decisions to make and you’re not making them.', 'engagement': 9078}, Topic: Mental Health\n",
      "Tweet: {'tweet': 'Winning builds your circumstances. \\nLosing builds your character.', 'engagement': 2231}, Topic: Personal Development\n",
      "Tweet: {'tweet': 'Best reason to do bigger deals:\\n\\nSame work. More zeroes.', 'engagement': 1628}, Topic: Business Strategy\n",
      "Tweet: {'tweet': 'You know how to get a prospect to believe you’ll provide them value after they buy…provide them value before they buy.', 'engagement': 1281}, Topic: Sales and Marketing\n",
      "Tweet: {'tweet': 'We will quickly have no need for mouses or fingers to interact with computers. \\n\\nWe’ll just say what we want and the AI will interpret it for the software or site.\\n\\nAfter all, the only reason we had to point or click was to get it to understand what we wanted it to do. No more.', 'engagement': 947}, Topic: Future of Human-Computer Interaction\n",
      "Tweet: {'tweet': 'When I was 19 years old I pledged a fraternity, and I learned one of the most important lessons of my life on how to deal with women (and others)…\\n*context*\\nSo when you’re a pledge you have to drive drunk brothers around. You’re the designated driver.\\nOne night, I was driving an…', 'engagement': 8221}, Topic: Personal Experience, Life Lessons, Fraternity Life\n",
      "Tweet: {'tweet': 'It’s like a permanent face mask.', 'engagement': 462}, Topic: COVID-19 Pandemic / Face Masks\n",
      "Tweet: {'tweet': 'If you’re an ugly dude, consider a beard. Leaves half your face to their imagination.', 'engagement': 5558}, Topic: Personal grooming and appearance\n",
      "Tweet: {'tweet': 'The moment I realized I had given the person I resented the most power over my life, I realized that whoever carries the blame carries the power. \\n\\nSo until your finger of blame points at your chest rather than someone else’s, you stay a victim of your own making.', 'engagement': 2426}, Topic: Personal Responsibility and Empowerment\n",
      "Tweet: {'tweet': 'Sometimes you have to let your parents’ dream die for yours to live.', 'engagement': 3020}, Topic: Personal Growth and Individualism\n",
      "Tweet: {'tweet': '30 isn’t the new 20.\\n\\nIt’s an excuse to take ten years longer to accomplish the same thing.', 'engagement': 6629}, Topic: Societal Expectations and Age\n",
      "Tweet: {'tweet': 'You like them more than being alone.\\nBut not enough to say ‘only you.’\\n\\nThat’s not a commitment issue. \\nIt’s fear.\\n\\nFear of being alone.\\nFear of not finding someone better.\\n\\nThe same reason people stay in jobs they hate. They don’t have a commitment issue. Theyre afraid to leave.', 'engagement': 582}, Topic: Emotional Fear and Commitment\n",
      "Tweet: {'tweet': 'You don’t have commitment issues. \\nYou just don’t like them that much.', 'engagement': 1757}, Topic: Relationships\n",
      "Tweet: {'tweet': 'Also works with “…the best tip you can give me is to bring a friend next time.”', 'engagement': 332}, Topic: Customer Service\n",
      "Tweet: {'tweet': 'I heard a great line today:\\n\\n“On the receipt when it says to leave a tip, please don’t. The best tip you can give me is to come back and see me again.”\\n\\nLove it.', 'engagement': 1160}, Topic: Customer Service\n",
      "Tweet: {'tweet': 'If you think of “yeses” as withdrawals and “nos” as deposits, you’ll do fewer things and make more money from them.', 'engagement': 1673}, Topic: Productivity and Decision-Making\n",
      "Tweet: {'tweet': 'Hiring talented people is one of the easiest 10x-100x ROI opportunities.\\n\\nAnd there’s always underpriced talent.', 'engagement': 1002}, Topic: Business Strategy\n",
      "Tweet: {'tweet': 'Enemies are better than fake friends. \\n\\nAt least you know who has your back rather than who plans on putting a knife in it.', 'engagement': 2072}, Topic: Relationships and Trust\n",
      "Tweet: {'tweet': 'Four skill deficiencies of an entrepreneur—they don’t know:\\n1) How to do something\\n2) How to get other people to do something\\n3) How to get them selves to do something\\n4) Something is possible', 'engagement': 1029}, Topic: Entrepreneurship Skills\n",
      "Tweet: {'tweet': 'Let me save you a bunch of headache: \\nIf someone steals from you and promises they won’t. They’re lying, they’ll steal again…just more effectively.\\n\\nAnd even if they never do, there are buckets of other great people you can choose from without that track record.\\n\\nCut and move on', 'engagement': 1040}, Topic: Trust and Relationships\n",
      "Tweet: {'tweet': 'When you have bad customers, more help doesn’t help more.', 'engagement': 847}, Topic: Customer Service Challenges\n",
      "Tweet: {'tweet': 'For those who ask how I eat desert every night and don’t get fat…\\n\\nAnswer: I eat less during the day.', 'engagement': 1644}, Topic: Diet and Weight Management\n",
      "Tweet: {'tweet': 'You can give up tomorrow. \\nToday you fight.', 'engagement': 3783}, Topic: Motivation\n",
      "Tweet: {'tweet': 'There are no recessions. \\n\\nOnly buying seasons and selling seasons.\\n\\nYour skills determine which season it is for you.', 'engagement': 2709}, Topic: Economic Perspective\n",
      "Tweet: {'tweet': 'A life tip that’s served me well:\\n\\nSave your big decisions for a morning after a good nights sleep.', 'engagement': 4535}, Topic: Life Advice\n",
      "Tweet: {'tweet': 'Whenever I get to a low point where I think “why do I even bother?” \\n\\nI just try to remind myself “this is where most people stop, and this is why they don’t win.”', 'engagement': 6067}, Topic: Motivation and Perseverance\n",
      "Tweet: {'tweet': 'Reminder to self.', 'engagement': 236}, Topic: General\n",
      "Tweet: {'tweet': 'You don’t “need” it, you want it.\\n\\nYou need: food, air, and water.\\n\\nEverything else is “extra.”', 'engagement': 2301}, Topic: Minimalism and Essentialism\n",
      "Tweet: {'tweet': 'Everyone is going to forget about you six months after you die.\\n\\nAnd in 3 generations everyone who ever knew you will be dead. \\n\\nProbably worth doing what you want between now and then (because everyone’s gonna forget about you eventually anyways).', 'engagement': 11559}, Topic: Existentialism and Personal Fulfillment\n",
      "Tweet: {'tweet': 'Both increase demand.', 'engagement': 208}, Topic: Economics/Business\n",
      "Tweet: {'tweet': 'If JK Rowling told everyone she’s removing Harry Potter from digital bookstores, audiobooks and kindle sales would skyrocket.\\n\\nBut there’s no scarcity, since digital has no inventory.\\n\\nWhat remains is urgency.\\n\\nUrgency is a function of time.\\nScarcity is a function of units.', 'engagement': 926}, Topic: Marketing and Consumer Behavior\n",
      "Tweet: {'tweet': '1) Value: is what they get \\n2) Price: is what they pay\\n3) Cost: is what it costs you\\n\\nGreat business: 1 &gt; 2 &gt; 3\\n\\nMost businesses: 2 &gt; 1 &gt; 3\\n\\nBad software startups: 3 &gt; 2 &gt; 1 😂', 'engagement': 1764}, Topic: Business Strategy\n",
      "Tweet: {'tweet': 'Believe in your product more than the prospect believes in their excuses.', 'engagement': 2093}, Topic: Sales and Marketing\n",
      "Tweet: {'tweet': 'The Queen of England died 5 months ago….\\n\\nShe ruled an entire nation and accumulated more wealth than 99.99% of humans…\\n\\nAnd…yet…you haven’t thought about her except for this tweet.\\n\\nYou’re gonna die.\\nEveryone will move on.\\nDo what you want.', 'engagement': 10882}, Topic: Mortality and Life Philosophy\n",
      "Tweet: {'tweet': 'More often than not, people suck at sales because they actually don’t believe in their product.\\n\\nWhich makes them ethical, rather than bad salespeople.', 'engagement': 2255}, Topic: Sales and Ethics\n",
      "Tweet: {'tweet': 'Inspired by @SahilBloom', 'engagement': 184}, Topic: Personal Development\n",
      "Tweet: {'tweet': 'Highest ROI “mini” life hack I’ve used recently:\\n\\nSwitch your phone to grayscale.\\n\\nSo. Much. Less. Addicting.', 'engagement': 5804}, Topic: Productivity and Digital Well-being\n",
      "Tweet: {'tweet': 'Everything big I’ve ever built happened during a season of 18-36 months of saying no to everything.\\n\\nIf you succeed, the door will be open for you again in the future.\\n\\nIf you fail because you’re distracted, it may be the last time the door’s ever open.', 'engagement': 1995}, Topic: Personal Development and Success\n",
      "Tweet: {'tweet': 'There is no one perfect routine, only one that matches the season you’re in.', 'engagement': 1657}, Topic: Personal Development\n",
      "Tweet: {'tweet': 'It’s better to find what people say yes to then work backwards to profit than get no one to say yes with a hypothetical margin.\\n\\nCreate flow—&gt;Monetize flow—&gt;Add friction', 'engagement': 630}, Topic: Business Strategy\n",
      "Tweet: {'tweet': 'If you move somewhere only for the tax benefits, at the expense of everything else, you have proof of your priorities.', 'engagement': 974}, Topic: Personal Priorities and Decision Making\n",
      "Tweet: {'tweet': '“Why have all the money in the world if you can’t live wherever you want in the world?”\\n\\nIf you live somewhere only because of the tax savings, you have become a prisoner of your wealth.', 'engagement': 1334}, Topic: Wealth and Freedom\n",
      "Tweet: {'tweet': 'The education system today:\\nThe top 20% get special attention\\nThe bottom 20% get special attention\\nAnd everyone else gets screwed.', 'engagement': 1374}, Topic: Education System Inequality\n",
      "Tweet: {'tweet': 'The e-learning world has a LOT to learn from the movie industry.\\n\\nMany amazing lessons:\\n-Price elasticity with time\\n-Mass market packaging\\n-IP licensing\\n-Promotional cadence\\n-Power of reviews &amp; WOM\\n-Different media delivery (DVDs vs Big Screen)\\n\\nSo many!', 'engagement': 520}, Topic: E-learning and Movie Industry Comparisons\n",
      "Tweet: {'tweet': 'If you want to give a business gift, don’t give something with your logo, give it with theirs.', 'engagement': 3097}, Topic: Business Etiquette\n",
      "Tweet: {'tweet': 'Offer creation in two bullets:\\n\\nMake something everyone says yes to.\\n\\nThen work backwards from there and drive efficiency for deliverables.', 'engagement': 920}, Topic: Business Strategy\n"
     ]
    }
   ],
   "source": [
    "# Initialize the topic predictor\n",
    "topic_predictor = TopicPredictor()\n",
    "\n",
    "# Annotate each tweet with a predicted topic\n",
    "annotated_dataset = []\n",
    "for example in dataset:\n",
    "    response = topic_predictor(example.tweet)\n",
    "    annotated_example = example.copy()\n",
    "    annotated_example.topic = response.topic\n",
    "    annotated_dataset.append(annotated_example)\n",
    "\n",
    "# Print annotated dataset\n",
    "for example in annotated_dataset:\n",
    "    print(f\"Tweet: {example.tweet}, Topic: {example.topic}\")"
   ]
  },
  {
   "cell_type": "code",
   "execution_count": 28,
   "metadata": {},
   "outputs": [
    {
     "data": {
      "text/plain": [
       "Example({'tweet': {'tweet': 'Stop “friend financing”', 'engagement': 137}, 'topic': 'Personal Finance'}) (input_keys=None)"
      ]
     },
     "execution_count": 28,
     "metadata": {},
     "output_type": "execute_result"
    }
   ],
   "source": [
    "annotated_dataset[0]"
   ]
  },
  {
   "cell_type": "markdown",
   "metadata": {},
   "source": [
    "We now have our annotated data. We can save it to use later and train a tweet writer."
   ]
  },
  {
   "cell_type": "code",
   "execution_count": 30,
   "metadata": {},
   "outputs": [],
   "source": [
    "class TweetWriter(dspy.Module):\n",
    "    def __init__(self):\n",
    "        super().__init__()\n",
    "        self.prog = dspy.ChainOfThought(\"topic -> tweet\")\n",
    "\n",
    "    def forward(self, topic):\n",
    "        return self.prog(topic=topic)"
   ]
  },
  {
   "cell_type": "code",
   "execution_count": 68,
   "metadata": {},
   "outputs": [],
   "source": [
    "class Assess(dspy.Signature):\n",
    "    \"\"\"Assess the creativity of a tweet.\"\"\"\n",
    "    assessed_text = dspy.InputField()\n",
    "    assessment_question = dspy.InputField()\n",
    "    assessment_answer = dspy.OutputField(desc=\"Score between 1 and 5\")\n",
    "\n",
    "def creativity_metric(gold, pred, trace=None):\n",
    "    tweet = pred.tweet\n",
    "    creativity_question = \"Rate the creativity of the following tweet on a scale of 1 to 5.\"\n",
    "    creativity_score = dspy.Predict(Assess)(\n",
    "            assessed_text=tweet,\n",
    "            assessment_question=creativity_question\n",
    "        )\n",
    "    print(creativity_score)\n",
    "    score = int(creativity_score.assessment_answer.strip())\n",
    "    return score"
   ]
  },
  {
   "cell_type": "code",
   "execution_count": 32,
   "metadata": {},
   "outputs": [],
   "source": [
    "uncompiled_tweet_writer = TweetWriter()"
   ]
  },
  {
   "cell_type": "code",
   "execution_count": 33,
   "metadata": {},
   "outputs": [
    {
     "data": {
      "text/plain": [
       "Prediction(\n",
       "    reasoning='Discussing business topics on social media can provide valuable insights, foster networking opportunities, and keep followers informed about industry trends and best practices. A well-crafted tweet can engage your audience and position you as a thought leader in your field.',\n",
       "    tweet='In the ever-evolving world of business, staying ahead means embracing innovation and continuous learning. 📈💡 What new strategies are you implementing to drive growth in 2023? #BusinessGrowth #Innovation #Leadership'\n",
       ")"
      ]
     },
     "execution_count": 33,
     "metadata": {},
     "output_type": "execute_result"
    }
   ],
   "source": [
    "uncompiled_tweet_writer(\"Business\")"
   ]
  },
  {
   "cell_type": "markdown",
   "metadata": {},
   "source": [
    "Let's evaluate our uncompiled tweet writer"
   ]
  },
  {
   "cell_type": "code",
   "execution_count": 72,
   "metadata": {},
   "outputs": [],
   "source": [
    "flattened_annotated_dataset = [\n",
    "    dspy.Example(tweet=item.tweet[\"tweet\"], engagement = item.tweet[\"engagement\"], topic=item[\"topic\"]).with_inputs(\"topic\")\n",
    "    for item in annotated_dataset\n",
    "]"
   ]
  },
  {
   "cell_type": "code",
   "execution_count": 45,
   "metadata": {},
   "outputs": [],
   "source": [
    "import pickle\n",
    "\n",
    "with open('data/annotated_dataset.pkl', 'wb') as f:\n",
    "    pickle.dump(flattened_annotated_dataset, f) "
   ]
  },
  {
   "cell_type": "code",
   "execution_count": 52,
   "metadata": {},
   "outputs": [],
   "source": [
    "dev_set_n = 250\n",
    "trainset = flattened_annotated_dataset[:dev_set_n]\n",
    "devset = flattened_annotated_dataset[dev_set_n:]"
   ]
  },
  {
   "cell_type": "code",
   "execution_count": 91,
   "metadata": {},
   "outputs": [
    {
     "name": "stdout",
     "output_type": "stream",
     "text": [
      "Prediction(\n",
      "    assessment_answer='4'\n",
      ")\n",
      "Prediction(\n",
      "    assessment_answer='4'\n",
      ")\n",
      "Prediction(\n",
      "    assessment_answer='3'\n",
      ")\n",
      "Prediction(\n",
      "    assessment_answer='3'\n",
      ")\n",
      "Prediction(\n",
      "    assessment_answer='3'\n",
      ")\n",
      "Prediction(\n",
      "    assessment_answer='3'\n",
      ")\n",
      "Prediction(\n",
      "    assessment_answer='2'\n",
      ")\n",
      "Prediction(\n",
      "    assessment_answer='3'\n",
      ")\n",
      "Prediction(\n",
      "    assessment_answer='4'\n",
      ")\n",
      "Prediction(\n",
      "    assessment_answer='3'\n",
      ")\n"
     ]
    },
    {
     "name": "stderr",
     "output_type": "stream",
     "text": [
      "Average Metric: 32 / 10  (320.0): 100%|██████████| 10/10 [00:00<00:00, 192.90it/s]\n"
     ]
    },
    {
     "data": {
      "text/html": [
       "<style type=\"text/css\">\n",
       "#T_efca7 th {\n",
       "  text-align: left;\n",
       "}\n",
       "#T_efca7 td {\n",
       "  text-align: left;\n",
       "}\n",
       "#T_efca7_row0_col0, #T_efca7_row0_col1, #T_efca7_row0_col2, #T_efca7_row0_col3, #T_efca7_row0_col4, #T_efca7_row0_col5, #T_efca7_row1_col0, #T_efca7_row1_col1, #T_efca7_row1_col2, #T_efca7_row1_col3, #T_efca7_row1_col4, #T_efca7_row1_col5, #T_efca7_row2_col0, #T_efca7_row2_col1, #T_efca7_row2_col2, #T_efca7_row2_col3, #T_efca7_row2_col4, #T_efca7_row2_col5, #T_efca7_row3_col0, #T_efca7_row3_col1, #T_efca7_row3_col2, #T_efca7_row3_col3, #T_efca7_row3_col4, #T_efca7_row3_col5, #T_efca7_row4_col0, #T_efca7_row4_col1, #T_efca7_row4_col2, #T_efca7_row4_col3, #T_efca7_row4_col4, #T_efca7_row4_col5 {\n",
       "  text-align: left;\n",
       "  white-space: pre-wrap;\n",
       "  word-wrap: break-word;\n",
       "  max-width: 400px;\n",
       "}\n",
       "</style>\n",
       "<table id=\"T_efca7\">\n",
       "  <thead>\n",
       "    <tr>\n",
       "      <th class=\"blank level0\" >&nbsp;</th>\n",
       "      <th id=\"T_efca7_level0_col0\" class=\"col_heading level0 col0\" >example_tweet</th>\n",
       "      <th id=\"T_efca7_level0_col1\" class=\"col_heading level0 col1\" >engagement</th>\n",
       "      <th id=\"T_efca7_level0_col2\" class=\"col_heading level0 col2\" >topic</th>\n",
       "      <th id=\"T_efca7_level0_col3\" class=\"col_heading level0 col3\" >reasoning</th>\n",
       "      <th id=\"T_efca7_level0_col4\" class=\"col_heading level0 col4\" >pred_tweet</th>\n",
       "      <th id=\"T_efca7_level0_col5\" class=\"col_heading level0 col5\" >creativity_metric</th>\n",
       "    </tr>\n",
       "  </thead>\n",
       "  <tbody>\n",
       "    <tr>\n",
       "      <th id=\"T_efca7_level0_row0\" class=\"row_heading level0 row0\" >0</th>\n",
       "      <td id=\"T_efca7_row0_col0\" class=\"data row0 col0\" >Doing a thing increases your ability to learn about it. In order words, do the thing, then read about it. The experience will give you...</td>\n",
       "      <td id=\"T_efca7_row0_col1\" class=\"data row0 col1\" >3388</td>\n",
       "      <td id=\"T_efca7_row0_col2\" class=\"data row0 col2\" >Learning and Experience</td>\n",
       "      <td id=\"T_efca7_row0_col3\" class=\"data row0 col3\" >Learning and experience are deeply interconnected. Learning provides the theoretical foundation and knowledge base, while experience offers practical application and real-world insights. Together, they create...</td>\n",
       "      <td id=\"T_efca7_row0_col4\" class=\"data row0 col4\" >Learning gives you the knowledge, but experience turns that knowledge into wisdom. Embrace both for a well-rounded journey of growth! 🌱✨ #Learning #Experience #Growth</td>\n",
       "      <td id=\"T_efca7_row0_col5\" class=\"data row0 col5\" >✔️ [4]</td>\n",
       "    </tr>\n",
       "    <tr>\n",
       "      <th id=\"T_efca7_level0_row1\" class=\"row_heading level0 row1\" >1</th>\n",
       "      <td id=\"T_efca7_row1_col0\" class=\"data row1 col0\" >Anyone else ever accidentally get in the shower with a hat still on? https://t.co/t9IOAGcC1h</td>\n",
       "      <td id=\"T_efca7_row1_col1\" class=\"data row1 col1\" >1647</td>\n",
       "      <td id=\"T_efca7_row1_col2\" class=\"data row1 col2\" >Everyday Life/Humor</td>\n",
       "      <td id=\"T_efca7_row1_col3\" class=\"data row1 col3\" >Humor is a great way to connect with people on social media, especially when it relates to everyday life. It makes the content relatable and...</td>\n",
       "      <td id=\"T_efca7_row1_col4\" class=\"data row1 col4\" >Why is it that the moment you decide to eat healthy, your fridge suddenly looks like a junk food paradise? 🍕🍫 #EverydayStruggles #HealthyEating</td>\n",
       "      <td id=\"T_efca7_row1_col5\" class=\"data row1 col5\" >✔️ [4]</td>\n",
       "    </tr>\n",
       "    <tr>\n",
       "      <th id=\"T_efca7_level0_row2\" class=\"row_heading level0 row2\" >2</th>\n",
       "      <td id=\"T_efca7_row2_col0\" class=\"data row2 col0\" >If you have all the information to make a perfect decision, you missed the opportunity.</td>\n",
       "      <td id=\"T_efca7_row2_col1\" class=\"data row2 col1\" >4534</td>\n",
       "      <td id=\"T_efca7_row2_col2\" class=\"data row2 col2\" >Decision Making</td>\n",
       "      <td id=\"T_efca7_row2_col3\" class=\"data row2 col3\" >Decision making is a critical skill that impacts every aspect of our lives, from personal choices to professional strategies. Effective decision making involves evaluating options,...</td>\n",
       "      <td id=\"T_efca7_row2_col4\" class=\"data row2 col4\" >Good decisions come from experience, and experience comes from bad decisions. 🧠✨ Master the art of decision making by evaluating your options, considering potential outcomes,...</td>\n",
       "      <td id=\"T_efca7_row2_col5\" class=\"data row2 col5\" >✔️ [3]</td>\n",
       "    </tr>\n",
       "    <tr>\n",
       "      <th id=\"T_efca7_level0_row3\" class=\"row_heading level0 row3\" >3</th>\n",
       "      <td id=\"T_efca7_row3_col0\" class=\"data row3 col0\" >I’m bad at starting new habits. I’m also pretty bad at keeping habits. In the last ten years, the only small habits I’ve been able...</td>\n",
       "      <td id=\"T_efca7_row3_col1\" class=\"data row3 col1\" >3551</td>\n",
       "      <td id=\"T_efca7_row3_col2\" class=\"data row3 col2\" >Habit Formation</td>\n",
       "      <td id=\"T_efca7_row3_col3\" class=\"data row3 col3\" >Habit formation is a crucial aspect of personal development and productivity. Understanding how habits are formed and maintained can help individuals make positive changes in...</td>\n",
       "      <td id=\"T_efca7_row3_col4\" class=\"data row3 col4\" >Building good habits is the key to unlocking your potential! Start small, stay consistent, and watch how tiny changes lead to big results. 💪 #HabitFormation...</td>\n",
       "      <td id=\"T_efca7_row3_col5\" class=\"data row3 col5\" >✔️ [3]</td>\n",
       "    </tr>\n",
       "    <tr>\n",
       "      <th id=\"T_efca7_level0_row4\" class=\"row_heading level0 row4\" >4</th>\n",
       "      <td id=\"T_efca7_row4_col0\" class=\"data row4 col0\" >The reason you are stressed is you have decisions to make and you’re not making them.</td>\n",
       "      <td id=\"T_efca7_row4_col1\" class=\"data row4 col1\" >9078</td>\n",
       "      <td id=\"T_efca7_row4_col2\" class=\"data row4 col2\" >Mental Health</td>\n",
       "      <td id=\"T_efca7_row4_col3\" class=\"data row4 col3\" >Mental health is a crucial aspect of overall well-being that often gets overlooked. Raising awareness and encouraging open conversations can help reduce stigma and provide...</td>\n",
       "      <td id=\"T_efca7_row4_col4\" class=\"data row4 col4\" >Your mental health matters just as much as your physical health. Don't hesitate to reach out for support if you need it. Let's break the...</td>\n",
       "      <td id=\"T_efca7_row4_col5\" class=\"data row4 col5\" >✔️ [3]</td>\n",
       "    </tr>\n",
       "  </tbody>\n",
       "</table>\n"
      ],
      "text/plain": [
       "<pandas.io.formats.style.Styler at 0x168930800>"
      ]
     },
     "metadata": {},
     "output_type": "display_data"
    },
    {
     "data": {
      "text/html": [
       "\n",
       "                <div style='\n",
       "                    text-align: center;\n",
       "                    font-size: 16px;\n",
       "                    font-weight: bold;\n",
       "                    color: #555;\n",
       "                    margin: 10px 0;'>\n",
       "                    ... 5 more rows not displayed ...\n",
       "                </div>\n",
       "                "
      ],
      "text/plain": [
       "<IPython.core.display.HTML object>"
      ]
     },
     "metadata": {},
     "output_type": "display_data"
    },
    {
     "data": {
      "text/plain": [
       "320.0"
      ]
     },
     "execution_count": 91,
     "metadata": {},
     "output_type": "execute_result"
    }
   ],
   "source": [
    "evaluator = Evaluate(devset=devset[:10], metric=creativity_metric, num_threads=4, display_progress=True, display_table=5, provide_traceback=True)\n",
    "evaluator(uncompiled_tweet_writer) "
   ]
  },
  {
   "cell_type": "markdown",
   "metadata": {},
   "source": [
    "### For unoptimized tweet writer, our score on the devset is: 320"
   ]
  },
  {
   "cell_type": "markdown",
   "metadata": {},
   "source": [
    "# BootstrapFewShot"
   ]
  },
  {
   "cell_type": "code",
   "execution_count": 89,
   "metadata": {},
   "outputs": [
    {
     "name": "stderr",
     "output_type": "stream",
     "text": []
    },
    {
     "name": "stdout",
     "output_type": "stream",
     "text": [
      "Prediction(\n",
      "    assessment_answer='3'\n",
      ")\n"
     ]
    },
    {
     "name": "stderr",
     "output_type": "stream",
     "text": []
    },
    {
     "name": "stdout",
     "output_type": "stream",
     "text": [
      "Prediction(\n",
      "    assessment_answer='3'\n",
      ")\n"
     ]
    },
    {
     "name": "stderr",
     "output_type": "stream",
     "text": []
    },
    {
     "name": "stdout",
     "output_type": "stream",
     "text": [
      "Prediction(\n",
      "    assessment_answer='4'\n",
      ")\n"
     ]
    },
    {
     "name": "stderr",
     "output_type": "stream",
     "text": []
    },
    {
     "name": "stdout",
     "output_type": "stream",
     "text": [
      "Prediction(\n",
      "    assessment_answer='3'\n",
      ")\n"
     ]
    },
    {
     "name": "stderr",
     "output_type": "stream",
     "text": []
    },
    {
     "name": "stdout",
     "output_type": "stream",
     "text": [
      "Prediction(\n",
      "    assessment_answer='3'\n",
      ")\n"
     ]
    },
    {
     "name": "stderr",
     "output_type": "stream",
     "text": []
    },
    {
     "name": "stdout",
     "output_type": "stream",
     "text": [
      "Prediction(\n",
      "    assessment_answer='3'\n",
      ")\n"
     ]
    },
    {
     "name": "stderr",
     "output_type": "stream",
     "text": []
    },
    {
     "name": "stdout",
     "output_type": "stream",
     "text": [
      "Prediction(\n",
      "    assessment_answer='3'\n",
      ")\n"
     ]
    },
    {
     "name": "stderr",
     "output_type": "stream",
     "text": []
    },
    {
     "name": "stdout",
     "output_type": "stream",
     "text": [
      "Prediction(\n",
      "    assessment_answer='3'\n",
      ")\n"
     ]
    },
    {
     "name": "stderr",
     "output_type": "stream",
     "text": []
    },
    {
     "name": "stdout",
     "output_type": "stream",
     "text": [
      "Prediction(\n",
      "    assessment_answer='3'\n",
      ")\n"
     ]
    },
    {
     "name": "stderr",
     "output_type": "stream",
     "text": [
      "100%|██████████| 10/10 [00:20<00:00,  2.09s/it]"
     ]
    },
    {
     "name": "stdout",
     "output_type": "stream",
     "text": [
      "Prediction(\n",
      "    assessment_answer='3'\n",
      ")\n",
      "Bootstrapped 10 full traces after 10 examples in round 0.\n"
     ]
    },
    {
     "name": "stderr",
     "output_type": "stream",
     "text": [
      "\n"
     ]
    }
   ],
   "source": [
    "config = dict(max_bootstrapped_demos=25, max_labeled_demos=4)\n",
    "teleprompter = BootstrapFewShot(metric=creativity_metric, **config)\n",
    "optimized_tweet_writer = teleprompter.compile(TweetWriter(), trainset=trainset[:10])"
   ]
  },
  {
   "cell_type": "code",
   "execution_count": 90,
   "metadata": {},
   "outputs": [
    {
     "name": "stderr",
     "output_type": "stream",
     "text": [
      "Average Metric: 4 / 1  (400.0):  10%|█         | 1/10 [00:01<00:16,  1.85s/it]"
     ]
    },
    {
     "name": "stdout",
     "output_type": "stream",
     "text": [
      "Prediction(\n",
      "    assessment_answer='4'\n",
      ")\n"
     ]
    },
    {
     "name": "stderr",
     "output_type": "stream",
     "text": [
      "Average Metric: 7 / 2  (350.0):  20%|██        | 2/10 [00:02<00:09,  1.16s/it]"
     ]
    },
    {
     "name": "stdout",
     "output_type": "stream",
     "text": [
      "Prediction(\n",
      "    assessment_answer='3'\n",
      ")\n"
     ]
    },
    {
     "name": "stderr",
     "output_type": "stream",
     "text": [
      "Average Metric: 10 / 3  (333.3):  30%|███       | 3/10 [00:03<00:07,  1.13s/it]"
     ]
    },
    {
     "name": "stdout",
     "output_type": "stream",
     "text": [
      "Prediction(\n",
      "    assessment_answer='3'\n",
      ")\n"
     ]
    },
    {
     "name": "stderr",
     "output_type": "stream",
     "text": [
      "Average Metric: 13 / 4  (325.0):  40%|████      | 4/10 [00:04<00:05,  1.04it/s]"
     ]
    },
    {
     "name": "stdout",
     "output_type": "stream",
     "text": [
      "Prediction(\n",
      "    assessment_answer='3'\n",
      ")\n"
     ]
    },
    {
     "name": "stderr",
     "output_type": "stream",
     "text": [
      "Average Metric: 19 / 6  (316.7):  50%|█████     | 5/10 [00:06<00:06,  1.20s/it]"
     ]
    },
    {
     "name": "stdout",
     "output_type": "stream",
     "text": [
      "Prediction(\n",
      "    assessment_answer='3'\n",
      ")\n",
      "Prediction(\n",
      "    assessment_answer='3'\n",
      ")\n"
     ]
    },
    {
     "name": "stderr",
     "output_type": "stream",
     "text": [
      "Average Metric: 22 / 7  (314.3):  70%|███████   | 7/10 [00:07<00:03,  1.01s/it]"
     ]
    },
    {
     "name": "stdout",
     "output_type": "stream",
     "text": [
      "Prediction(\n",
      "    assessment_answer='3'\n",
      ")\n"
     ]
    },
    {
     "name": "stderr",
     "output_type": "stream",
     "text": [
      "Average Metric: 25 / 8  (312.5):  80%|████████  | 8/10 [00:07<00:01,  1.24it/s]"
     ]
    },
    {
     "name": "stdout",
     "output_type": "stream",
     "text": [
      "Prediction(\n",
      "    assessment_answer='3'\n",
      ")\n"
     ]
    },
    {
     "name": "stderr",
     "output_type": "stream",
     "text": [
      "Average Metric: 29 / 9  (322.2):  90%|█████████ | 9/10 [00:09<00:01,  1.05s/it]"
     ]
    },
    {
     "name": "stdout",
     "output_type": "stream",
     "text": [
      "Prediction(\n",
      "    assessment_answer='4'\n",
      ")\n"
     ]
    },
    {
     "name": "stderr",
     "output_type": "stream",
     "text": [
      "Average Metric: 32 / 10  (320.0): 100%|██████████| 10/10 [00:10<00:00,  1.05s/it]"
     ]
    },
    {
     "name": "stdout",
     "output_type": "stream",
     "text": [
      "Prediction(\n",
      "    assessment_answer='3'\n",
      ")\n"
     ]
    },
    {
     "name": "stderr",
     "output_type": "stream",
     "text": [
      "\n"
     ]
    },
    {
     "data": {
      "text/html": [
       "<style type=\"text/css\">\n",
       "#T_c1546 th {\n",
       "  text-align: left;\n",
       "}\n",
       "#T_c1546 td {\n",
       "  text-align: left;\n",
       "}\n",
       "#T_c1546_row0_col0, #T_c1546_row0_col1, #T_c1546_row0_col2, #T_c1546_row0_col3, #T_c1546_row0_col4, #T_c1546_row0_col5, #T_c1546_row1_col0, #T_c1546_row1_col1, #T_c1546_row1_col2, #T_c1546_row1_col3, #T_c1546_row1_col4, #T_c1546_row1_col5, #T_c1546_row2_col0, #T_c1546_row2_col1, #T_c1546_row2_col2, #T_c1546_row2_col3, #T_c1546_row2_col4, #T_c1546_row2_col5, #T_c1546_row3_col0, #T_c1546_row3_col1, #T_c1546_row3_col2, #T_c1546_row3_col3, #T_c1546_row3_col4, #T_c1546_row3_col5, #T_c1546_row4_col0, #T_c1546_row4_col1, #T_c1546_row4_col2, #T_c1546_row4_col3, #T_c1546_row4_col4, #T_c1546_row4_col5 {\n",
       "  text-align: left;\n",
       "  white-space: pre-wrap;\n",
       "  word-wrap: break-word;\n",
       "  max-width: 400px;\n",
       "}\n",
       "</style>\n",
       "<table id=\"T_c1546\">\n",
       "  <thead>\n",
       "    <tr>\n",
       "      <th class=\"blank level0\" >&nbsp;</th>\n",
       "      <th id=\"T_c1546_level0_col0\" class=\"col_heading level0 col0\" >example_tweet</th>\n",
       "      <th id=\"T_c1546_level0_col1\" class=\"col_heading level0 col1\" >engagement</th>\n",
       "      <th id=\"T_c1546_level0_col2\" class=\"col_heading level0 col2\" >topic</th>\n",
       "      <th id=\"T_c1546_level0_col3\" class=\"col_heading level0 col3\" >reasoning</th>\n",
       "      <th id=\"T_c1546_level0_col4\" class=\"col_heading level0 col4\" >pred_tweet</th>\n",
       "      <th id=\"T_c1546_level0_col5\" class=\"col_heading level0 col5\" >creativity_metric</th>\n",
       "    </tr>\n",
       "  </thead>\n",
       "  <tbody>\n",
       "    <tr>\n",
       "      <th id=\"T_c1546_level0_row0\" class=\"row_heading level0 row0\" >0</th>\n",
       "      <td id=\"T_c1546_row0_col0\" class=\"data row0 col0\" >Doing a thing increases your ability to learn about it. In order words, do the thing, then read about it. The experience will give you...</td>\n",
       "      <td id=\"T_c1546_row0_col1\" class=\"data row0 col1\" >3388</td>\n",
       "      <td id=\"T_c1546_row0_col2\" class=\"data row0 col2\" >Learning and Experience</td>\n",
       "      <td id=\"T_c1546_row0_col3\" class=\"data row0 col3\" >Not supplied for this particular example.</td>\n",
       "      <td id=\"T_c1546_row0_col4\" class=\"data row0 col4\" >Learning gives you knowledge, but experience gives you wisdom. Embrace both, and you'll navigate life with confidence and insight. 📚🌍 #Learning #Experience</td>\n",
       "      <td id=\"T_c1546_row0_col5\" class=\"data row0 col5\" >✔️ [3]</td>\n",
       "    </tr>\n",
       "    <tr>\n",
       "      <th id=\"T_c1546_level0_row1\" class=\"row_heading level0 row1\" >1</th>\n",
       "      <td id=\"T_c1546_row1_col0\" class=\"data row1 col0\" >Anyone else ever accidentally get in the shower with a hat still on? https://t.co/t9IOAGcC1h</td>\n",
       "      <td id=\"T_c1546_row1_col1\" class=\"data row1 col1\" >1647</td>\n",
       "      <td id=\"T_c1546_row1_col2\" class=\"data row1 col2\" >Everyday Life/Humor</td>\n",
       "      <td id=\"T_c1546_row1_col3\" class=\"data row1 col3\" >Not supplied for this particular example.</td>\n",
       "      <td id=\"T_c1546_row1_col4\" class=\"data row1 col4\" >Adulting is like folding a fitted sheet. No one really knows how to do it, but we all pretend we do. 😂 #EverydayLife #Humor</td>\n",
       "      <td id=\"T_c1546_row1_col5\" class=\"data row1 col5\" >✔️ [4]</td>\n",
       "    </tr>\n",
       "    <tr>\n",
       "      <th id=\"T_c1546_level0_row2\" class=\"row_heading level0 row2\" >2</th>\n",
       "      <td id=\"T_c1546_row2_col0\" class=\"data row2 col0\" >If you have all the information to make a perfect decision, you missed the opportunity.</td>\n",
       "      <td id=\"T_c1546_row2_col1\" class=\"data row2 col1\" >4534</td>\n",
       "      <td id=\"T_c1546_row2_col2\" class=\"data row2 col2\" >Decision Making</td>\n",
       "      <td id=\"T_c1546_row2_col3\" class=\"data row2 col3\" >Not supplied for this particular example.</td>\n",
       "      <td id=\"T_c1546_row2_col4\" class=\"data row2 col4\" >Every decision shapes your future. Trust your instincts, gather the facts, and don't be afraid to take calculated risks. Growth often lies just outside your...</td>\n",
       "      <td id=\"T_c1546_row2_col5\" class=\"data row2 col5\" >✔️ [3]</td>\n",
       "    </tr>\n",
       "    <tr>\n",
       "      <th id=\"T_c1546_level0_row3\" class=\"row_heading level0 row3\" >3</th>\n",
       "      <td id=\"T_c1546_row3_col0\" class=\"data row3 col0\" >I’m bad at starting new habits. I’m also pretty bad at keeping habits. In the last ten years, the only small habits I’ve been able...</td>\n",
       "      <td id=\"T_c1546_row3_col1\" class=\"data row3 col1\" >3551</td>\n",
       "      <td id=\"T_c1546_row3_col2\" class=\"data row3 col2\" >Habit Formation</td>\n",
       "      <td id=\"T_c1546_row3_col3\" class=\"data row3 col3\" >Not supplied for this particular example.</td>\n",
       "      <td id=\"T_c1546_row3_col4\" class=\"data row3 col4\" >Small, consistent actions lead to big changes. Focus on building one positive habit at a time, and watch how they transform your life. 🌟 #HabitFormation...</td>\n",
       "      <td id=\"T_c1546_row3_col5\" class=\"data row3 col5\" >✔️ [3]</td>\n",
       "    </tr>\n",
       "    <tr>\n",
       "      <th id=\"T_c1546_level0_row4\" class=\"row_heading level0 row4\" >4</th>\n",
       "      <td id=\"T_c1546_row4_col0\" class=\"data row4 col0\" >The reason you are stressed is you have decisions to make and you’re not making them.</td>\n",
       "      <td id=\"T_c1546_row4_col1\" class=\"data row4 col1\" >9078</td>\n",
       "      <td id=\"T_c1546_row4_col2\" class=\"data row4 col2\" >Mental Health</td>\n",
       "      <td id=\"T_c1546_row4_col3\" class=\"data row4 col3\" >Not supplied for this particular example.</td>\n",
       "      <td id=\"T_c1546_row4_col4\" class=\"data row4 col4\" >Taking care of your mental health is just as important as taking care of your physical health. Reach out, talk about it, and seek help...</td>\n",
       "      <td id=\"T_c1546_row4_col5\" class=\"data row4 col5\" >✔️ [3]</td>\n",
       "    </tr>\n",
       "  </tbody>\n",
       "</table>\n"
      ],
      "text/plain": [
       "<pandas.io.formats.style.Styler at 0x167b08830>"
      ]
     },
     "metadata": {},
     "output_type": "display_data"
    },
    {
     "data": {
      "text/html": [
       "\n",
       "                <div style='\n",
       "                    text-align: center;\n",
       "                    font-size: 16px;\n",
       "                    font-weight: bold;\n",
       "                    color: #555;\n",
       "                    margin: 10px 0;'>\n",
       "                    ... 5 more rows not displayed ...\n",
       "                </div>\n",
       "                "
      ],
      "text/plain": [
       "<IPython.core.display.HTML object>"
      ]
     },
     "metadata": {},
     "output_type": "display_data"
    },
    {
     "data": {
      "text/plain": [
       "320.0"
      ]
     },
     "execution_count": 90,
     "metadata": {},
     "output_type": "execute_result"
    }
   ],
   "source": [
    "dspy.settings.configure(backoff_time=5)\n",
    "evaluator = Evaluate(devset=devset[:10], metric=creativity_metric, num_threads=2, display_progress=True, display_table=5, provide_traceback=True)\n",
    "evaluator(optimized_tweet_writer)"
   ]
  },
  {
   "cell_type": "markdown",
   "metadata": {},
   "source": [
    "It seems like BootstrapFewShots isn't giving us the results we want since it didn't improve on an uncompiled program. Let's try a few more examples and BootstrapFewShotWithRandomSearch\n",
    "\n",
    "# BootstrapFewShotWithRandomSearch"
   ]
  },
  {
   "cell_type": "markdown",
   "metadata": {},
   "source": [
    "DSPy suggests that you use BootstrapFewShotWithRandomSearch for upto 50 examples."
   ]
  },
  {
   "cell_type": "code",
   "execution_count": 101,
   "metadata": {},
   "outputs": [
    {
     "data": {
      "text/plain": [
       "True"
      ]
     },
     "execution_count": 101,
     "metadata": {},
     "output_type": "execute_result"
    }
   ],
   "source": [
    "from dotenv import load_dotenv\n",
    "\n",
    "load_dotenv()"
   ]
  },
  {
   "cell_type": "code",
   "execution_count": 108,
   "metadata": {},
   "outputs": [
    {
     "name": "stdout",
     "output_type": "stream",
     "text": [
      "Going to sample between 1 and 1 traces per predictor.\n",
      "Will attempt to bootstrap 2 candidate sets.\n",
      "Prediction(\n",
      "    assessment_answer='3'\n",
      ")\n",
      "Prediction(\n",
      "    assessment_answer='3'\n",
      ")\n",
      "Prediction(\n",
      "    assessment_answer='4'\n",
      ")\n",
      "Prediction(\n",
      "    assessment_answer='3'\n",
      ")\n",
      "Prediction(\n",
      "    assessment_answer='4'\n",
      ")\n",
      "Prediction(\n",
      "    assessment_answer='4'\n",
      ")\n",
      "Prediction(\n",
      "    assessment_answer='2'\n",
      ")\n",
      "Prediction(\n",
      "    assessment_answer='3'\n",
      ")\n",
      "Prediction(\n",
      "    assessment_answer='3'\n",
      ")\n",
      "Prediction(\n",
      "    assessment_answer='3'\n",
      ")\n",
      "Prediction(\n",
      "    assessment_answer='3'\n",
      ")\n",
      "Prediction(\n",
      "    assessment_answer='3'\n",
      ")\n",
      "Prediction(\n",
      "    assessment_answer='3'\n",
      ")\n",
      "Prediction(\n",
      "    assessment_answer='3'\n",
      ")\n",
      "Prediction(\n",
      "    assessment_answer='3'\n",
      ")\n",
      "Prediction(\n",
      "    assessment_answer='3'\n",
      ")\n",
      "Prediction(\n",
      "    assessment_answer='2'\n",
      ")\n",
      "Prediction(\n",
      "    assessment_answer='3'\n",
      ")\n",
      "Prediction(\n",
      "    assessment_answer='3'\n",
      ")\n",
      "Prediction(\n",
      "    assessment_answer='3'\n",
      ")\n"
     ]
    },
    {
     "name": "stderr",
     "output_type": "stream",
     "text": [
      "Average Metric: 61 / 20  (305.0): 100%|██████████| 20/20 [00:00<00:00, 415.02it/s] \n"
     ]
    },
    {
     "name": "stdout",
     "output_type": "stream",
     "text": [
      "New best score: 305.0 for seed -3\n",
      "Scores so far: [305.0]\n",
      "Best score so far: 305.0\n"
     ]
    },
    {
     "name": "stderr",
     "output_type": "stream",
     "text": [
      "Average Metric: 9 / 3  (300.0):  10%|█         | 2/20 [00:02<00:18,  1.01s/it]"
     ]
    },
    {
     "name": "stdout",
     "output_type": "stream",
     "text": [
      "Prediction(\n",
      "    assessment_answer='4'\n",
      ")\n",
      "Prediction(\n",
      "    assessment_answer='3'\n",
      ")\n",
      "Prediction(\n",
      "    assessment_answer='2'\n",
      ")\n"
     ]
    },
    {
     "name": "stderr",
     "output_type": "stream",
     "text": [
      "Average Metric: 12 / 4  (300.0):  15%|█▌        | 3/20 [00:02<00:17,  1.01s/it]"
     ]
    },
    {
     "name": "stdout",
     "output_type": "stream",
     "text": [
      "Prediction(\n",
      "    assessment_answer='3'\n",
      ")\n"
     ]
    },
    {
     "name": "stderr",
     "output_type": "stream",
     "text": [
      "Average Metric: 15 / 5  (300.0):  25%|██▌       | 5/20 [00:02<00:06,  2.40it/s]"
     ]
    },
    {
     "name": "stdout",
     "output_type": "stream",
     "text": [
      "Prediction(\n",
      "    assessment_answer='3'\n",
      ")\n"
     ]
    },
    {
     "name": "stderr",
     "output_type": "stream",
     "text": [
      "Average Metric: 21 / 7  (300.0):  30%|███       | 6/20 [00:04<00:09,  1.40it/s]"
     ]
    },
    {
     "name": "stdout",
     "output_type": "stream",
     "text": [
      "Prediction(\n",
      "    assessment_answer='3'\n",
      ")\n",
      "Prediction(\n",
      "    assessment_answer='3'\n",
      ")\n"
     ]
    },
    {
     "name": "stderr",
     "output_type": "stream",
     "text": [
      "Average Metric: 24 / 8  (300.0):  40%|████      | 8/20 [00:04<00:06,  1.98it/s]"
     ]
    },
    {
     "name": "stdout",
     "output_type": "stream",
     "text": [
      "Prediction(\n",
      "    assessment_answer='3'\n",
      ")\n"
     ]
    },
    {
     "name": "stderr",
     "output_type": "stream",
     "text": [
      "Average Metric: 27 / 9  (300.0):  45%|████▌     | 9/20 [00:05<00:05,  1.96it/s]"
     ]
    },
    {
     "name": "stdout",
     "output_type": "stream",
     "text": [
      "Prediction(\n",
      "    assessment_answer='3'\n",
      ")\n"
     ]
    },
    {
     "name": "stderr",
     "output_type": "stream",
     "text": [
      "Average Metric: 30 / 10  (300.0):  50%|█████     | 10/20 [00:05<00:04,  2.19it/s]"
     ]
    },
    {
     "name": "stdout",
     "output_type": "stream",
     "text": [
      "Prediction(\n",
      "    assessment_answer='3'\n",
      ")\n"
     ]
    },
    {
     "name": "stderr",
     "output_type": "stream",
     "text": [
      "Average Metric: 33 / 11  (300.0):  55%|█████▌    | 11/20 [00:06<00:04,  1.89it/s]"
     ]
    },
    {
     "name": "stdout",
     "output_type": "stream",
     "text": [
      "Prediction(\n",
      "    assessment_answer='3'\n",
      ")\n"
     ]
    },
    {
     "name": "stderr",
     "output_type": "stream",
     "text": [
      "Average Metric: 39 / 13  (300.0):  60%|██████    | 12/20 [00:07<00:04,  1.73it/s]"
     ]
    },
    {
     "name": "stdout",
     "output_type": "stream",
     "text": [
      "Prediction(\n",
      "    assessment_answer='3'\n",
      ")\n",
      "Prediction(\n",
      "    assessment_answer='3'\n",
      ")\n"
     ]
    },
    {
     "name": "stderr",
     "output_type": "stream",
     "text": [
      "Average Metric: 42 / 14  (300.0):  70%|███████   | 14/20 [00:07<00:02,  2.04it/s]"
     ]
    },
    {
     "name": "stdout",
     "output_type": "stream",
     "text": [
      "Prediction(\n",
      "    assessment_answer='3'\n",
      ")\n"
     ]
    },
    {
     "name": "stderr",
     "output_type": "stream",
     "text": [
      "Average Metric: 45 / 15  (300.0):  75%|███████▌  | 15/20 [00:08<00:02,  2.33it/s]"
     ]
    },
    {
     "name": "stdout",
     "output_type": "stream",
     "text": [
      "Prediction(\n",
      "    assessment_answer='3'\n",
      ")\n"
     ]
    },
    {
     "name": "stderr",
     "output_type": "stream",
     "text": [
      "Average Metric: 52 / 17  (305.9):  85%|████████▌ | 17/20 [00:08<00:01,  2.89it/s]"
     ]
    },
    {
     "name": "stdout",
     "output_type": "stream",
     "text": [
      "Prediction(\n",
      "    assessment_answer='4'\n",
      ")\n",
      "Prediction(\n",
      "    assessment_answer='3'\n",
      ")\n"
     ]
    },
    {
     "name": "stderr",
     "output_type": "stream",
     "text": [
      "Average Metric: 55 / 18  (305.6):  90%|█████████ | 18/20 [00:09<00:00,  2.03it/s]"
     ]
    },
    {
     "name": "stdout",
     "output_type": "stream",
     "text": [
      "Prediction(\n",
      "    assessment_answer='3'\n",
      ")\n"
     ]
    },
    {
     "name": "stderr",
     "output_type": "stream",
     "text": [
      "Average Metric: 58 / 19  (305.3):  95%|█████████▌| 19/20 [00:10<00:00,  1.74it/s]"
     ]
    },
    {
     "name": "stdout",
     "output_type": "stream",
     "text": [
      "Prediction(\n",
      "    assessment_answer='3'\n",
      ")\n"
     ]
    },
    {
     "name": "stderr",
     "output_type": "stream",
     "text": [
      "Average Metric: 60 / 20  (300.0): 100%|██████████| 20/20 [00:11<00:00,  1.79it/s]\n"
     ]
    },
    {
     "name": "stdout",
     "output_type": "stream",
     "text": [
      "Prediction(\n",
      "    assessment_answer='2'\n",
      ")\n",
      "Scores so far: [305.0, 300.0]\n",
      "Best score so far: 305.0\n"
     ]
    },
    {
     "name": "stderr",
     "output_type": "stream",
     "text": [
      "  5%|▌         | 1/20 [00:00<00:00, 1173.56it/s]\n"
     ]
    },
    {
     "name": "stdout",
     "output_type": "stream",
     "text": [
      "Prediction(\n",
      "    assessment_answer='3'\n",
      ")\n",
      "Bootstrapped 1 full traces after 2 examples in round 0.\n"
     ]
    },
    {
     "name": "stderr",
     "output_type": "stream",
     "text": [
      "Average Metric: 10 / 3  (333.3):  10%|█         | 2/20 [00:02<00:47,  2.67s/it]"
     ]
    },
    {
     "name": "stdout",
     "output_type": "stream",
     "text": [
      "Prediction(\n",
      "    assessment_answer='4'\n",
      ")\n",
      "Prediction(\n",
      "    assessment_answer='3'\n",
      ")\n",
      "Prediction(\n",
      "    assessment_answer='3'\n",
      ")\n"
     ]
    },
    {
     "name": "stderr",
     "output_type": "stream",
     "text": [
      "Average Metric: 13 / 4  (325.0):  20%|██        | 4/20 [00:03<00:09,  1.76it/s]"
     ]
    },
    {
     "name": "stdout",
     "output_type": "stream",
     "text": [
      "Prediction(\n",
      "    assessment_answer='3'\n",
      ")\n"
     ]
    },
    {
     "name": "stderr",
     "output_type": "stream",
     "text": [
      "Average Metric: 19 / 6  (316.7):  30%|███       | 6/20 [00:03<00:05,  2.73it/s]"
     ]
    },
    {
     "name": "stdout",
     "output_type": "stream",
     "text": [
      "Prediction(\n",
      "    assessment_answer='3'\n",
      ")\n",
      "Prediction(\n",
      "    assessment_answer='3'\n",
      ")\n"
     ]
    },
    {
     "name": "stderr",
     "output_type": "stream",
     "text": [
      "Average Metric: 25 / 8  (312.5):  35%|███▌      | 7/20 [00:05<00:12,  1.02it/s]"
     ]
    },
    {
     "name": "stdout",
     "output_type": "stream",
     "text": [
      "Prediction(\n",
      "    assessment_answer='3'\n",
      ")\n",
      "Prediction(\n",
      "    assessment_answer='3'\n",
      ")\n"
     ]
    },
    {
     "name": "stderr",
     "output_type": "stream",
     "text": [
      "Average Metric: 28 / 9  (311.1):  45%|████▌     | 9/20 [00:06<00:06,  1.60it/s]"
     ]
    },
    {
     "name": "stdout",
     "output_type": "stream",
     "text": [
      "Prediction(\n",
      "    assessment_answer='3'\n",
      ")\n"
     ]
    },
    {
     "name": "stderr",
     "output_type": "stream",
     "text": [
      "Average Metric: 34 / 11  (309.1):  50%|█████     | 10/20 [00:06<00:05,  1.89it/s]"
     ]
    },
    {
     "name": "stdout",
     "output_type": "stream",
     "text": [
      "Prediction(\n",
      "    assessment_answer='3'\n",
      ")\n",
      "Prediction(\n",
      "    assessment_answer='3'\n",
      ")\n"
     ]
    },
    {
     "name": "stderr",
     "output_type": "stream",
     "text": [
      "Average Metric: 37 / 12  (308.3):  60%|██████    | 12/20 [00:07<00:03,  2.43it/s]"
     ]
    },
    {
     "name": "stdout",
     "output_type": "stream",
     "text": [
      "Prediction(\n",
      "    assessment_answer='3'\n",
      ")\n"
     ]
    },
    {
     "name": "stderr",
     "output_type": "stream",
     "text": [
      "Average Metric: 40 / 13  (307.7):  65%|██████▌   | 13/20 [00:08<00:04,  1.49it/s]"
     ]
    },
    {
     "name": "stdout",
     "output_type": "stream",
     "text": [
      "Prediction(\n",
      "    assessment_answer='3'\n",
      ")\n"
     ]
    },
    {
     "name": "stderr",
     "output_type": "stream",
     "text": [
      "Average Metric: 43 / 14  (307.1):  70%|███████   | 14/20 [00:08<00:03,  1.62it/s]"
     ]
    },
    {
     "name": "stdout",
     "output_type": "stream",
     "text": [
      "Prediction(\n",
      "    assessment_answer='3'\n",
      ")\n"
     ]
    },
    {
     "name": "stderr",
     "output_type": "stream",
     "text": [
      "Average Metric: 49 / 16  (306.2):  80%|████████  | 16/20 [00:09<00:01,  2.35it/s]"
     ]
    },
    {
     "name": "stdout",
     "output_type": "stream",
     "text": [
      "Prediction(\n",
      "    assessment_answer='3'\n",
      ")\n",
      "Prediction(\n",
      "    assessment_answer='3'\n",
      ")\n"
     ]
    },
    {
     "name": "stderr",
     "output_type": "stream",
     "text": [
      "Average Metric: 52 / 17  (305.9):  85%|████████▌ | 17/20 [00:09<00:01,  2.92it/s]"
     ]
    },
    {
     "name": "stdout",
     "output_type": "stream",
     "text": [
      "Prediction(\n",
      "    assessment_answer='3'\n",
      ")\n"
     ]
    },
    {
     "name": "stderr",
     "output_type": "stream",
     "text": [
      "Average Metric: 55 / 18  (305.6):  90%|█████████ | 18/20 [00:10<00:00,  2.18it/s]"
     ]
    },
    {
     "name": "stdout",
     "output_type": "stream",
     "text": [
      "Prediction(\n",
      "    assessment_answer='3'\n",
      ")\n"
     ]
    },
    {
     "name": "stderr",
     "output_type": "stream",
     "text": [
      "Average Metric: 58 / 19  (305.3):  95%|█████████▌| 19/20 [00:11<00:00,  1.77it/s]"
     ]
    },
    {
     "name": "stdout",
     "output_type": "stream",
     "text": [
      "Prediction(\n",
      "    assessment_answer='3'\n",
      ")\n"
     ]
    },
    {
     "name": "stderr",
     "output_type": "stream",
     "text": [
      "Average Metric: 62 / 20  (310.0): 100%|██████████| 20/20 [00:12<00:00,  1.66it/s]\n"
     ]
    },
    {
     "name": "stdout",
     "output_type": "stream",
     "text": [
      "Prediction(\n",
      "    assessment_answer='4'\n",
      ")\n",
      "New best score: 310.0 for seed -1\n",
      "Scores so far: [305.0, 300.0, 310.0]\n",
      "Best score so far: 310.0\n"
     ]
    },
    {
     "name": "stderr",
     "output_type": "stream",
     "text": [
      "  5%|▌         | 1/20 [00:02<00:46,  2.47s/it]\n"
     ]
    },
    {
     "name": "stdout",
     "output_type": "stream",
     "text": [
      "Prediction(\n",
      "    assessment_answer='3'\n",
      ")\n",
      "Bootstrapped 1 full traces after 2 examples in round 0.\n"
     ]
    },
    {
     "name": "stderr",
     "output_type": "stream",
     "text": [
      "Average Metric: 3 / 1  (300.0):   5%|▌         | 1/20 [00:04<01:19,  4.17s/it]"
     ]
    },
    {
     "name": "stdout",
     "output_type": "stream",
     "text": [
      "Prediction(\n",
      "    assessment_answer='3'\n",
      ")\n"
     ]
    },
    {
     "name": "stderr",
     "output_type": "stream",
     "text": [
      "Average Metric: 6 / 2  (300.0):  10%|█         | 2/20 [00:05<00:41,  2.33s/it]"
     ]
    },
    {
     "name": "stdout",
     "output_type": "stream",
     "text": [
      "Prediction(\n",
      "    assessment_answer='3'\n",
      ")\n"
     ]
    },
    {
     "name": "stderr",
     "output_type": "stream",
     "text": [
      "Average Metric: 9 / 3  (300.0):  15%|█▌        | 3/20 [00:08<00:46,  2.71s/it]"
     ]
    },
    {
     "name": "stdout",
     "output_type": "stream",
     "text": [
      "Prediction(\n",
      "    assessment_answer='3'\n",
      ")\n"
     ]
    },
    {
     "name": "stderr",
     "output_type": "stream",
     "text": [
      "Average Metric: 12 / 4  (300.0):  20%|██        | 4/20 [00:08<00:28,  1.77s/it]"
     ]
    },
    {
     "name": "stdout",
     "output_type": "stream",
     "text": [
      "Prediction(\n",
      "    assessment_answer='3'\n",
      ")\n"
     ]
    },
    {
     "name": "stderr",
     "output_type": "stream",
     "text": [
      "Average Metric: 18 / 6  (300.0):  25%|██▌       | 5/20 [00:09<00:21,  1.46s/it]"
     ]
    },
    {
     "name": "stdout",
     "output_type": "stream",
     "text": [
      "Prediction(\n",
      "    assessment_answer='3'\n",
      ")\n",
      "Prediction(\n",
      "    assessment_answer='3'\n",
      ")\n"
     ]
    },
    {
     "name": "stderr",
     "output_type": "stream",
     "text": [
      "Average Metric: 26 / 8  (325.0):  40%|████      | 8/20 [00:11<00:10,  1.16it/s]"
     ]
    },
    {
     "name": "stdout",
     "output_type": "stream",
     "text": [
      "Prediction(\n",
      "    assessment_answer='4'\n",
      ")\n",
      "Prediction(\n",
      "    assessment_answer='4'\n",
      ")\n"
     ]
    },
    {
     "name": "stderr",
     "output_type": "stream",
     "text": [
      "Average Metric: 29 / 9  (322.2):  45%|████▌     | 9/20 [00:12<00:11,  1.06s/it]"
     ]
    },
    {
     "name": "stdout",
     "output_type": "stream",
     "text": [
      "Prediction(\n",
      "    assessment_answer='3'\n",
      ")\n"
     ]
    },
    {
     "name": "stderr",
     "output_type": "stream",
     "text": [
      "Average Metric: 32 / 10  (320.0):  50%|█████     | 10/20 [00:13<00:10,  1.01s/it]"
     ]
    },
    {
     "name": "stdout",
     "output_type": "stream",
     "text": [
      "Prediction(\n",
      "    assessment_answer='3'\n",
      ")\n"
     ]
    },
    {
     "name": "stderr",
     "output_type": "stream",
     "text": [
      "Average Metric: 35 / 11  (318.2):  55%|█████▌    | 11/20 [00:15<00:10,  1.16s/it]"
     ]
    },
    {
     "name": "stdout",
     "output_type": "stream",
     "text": [
      "Prediction(\n",
      "    assessment_answer='3'\n",
      ")\n"
     ]
    },
    {
     "name": "stderr",
     "output_type": "stream",
     "text": [
      "Average Metric: 41 / 13  (315.4):  60%|██████    | 12/20 [00:15<00:08,  1.00s/it]"
     ]
    },
    {
     "name": "stdout",
     "output_type": "stream",
     "text": [
      "Prediction(\n",
      "    assessment_answer='3'\n",
      ")\n",
      "Prediction(\n",
      "    assessment_answer='3'\n",
      ")\n"
     ]
    },
    {
     "name": "stderr",
     "output_type": "stream",
     "text": [
      "Average Metric: 44 / 14  (314.3):  70%|███████   | 14/20 [00:17<00:04,  1.23it/s]"
     ]
    },
    {
     "name": "stdout",
     "output_type": "stream",
     "text": [
      "Prediction(\n",
      "    assessment_answer='3'\n",
      ")\n"
     ]
    },
    {
     "name": "stderr",
     "output_type": "stream",
     "text": [
      "Average Metric: 47 / 15  (313.3):  75%|███████▌  | 15/20 [00:18<00:04,  1.12it/s]"
     ]
    },
    {
     "name": "stdout",
     "output_type": "stream",
     "text": [
      "Prediction(\n",
      "    assessment_answer='3'\n",
      ")\n"
     ]
    },
    {
     "name": "stderr",
     "output_type": "stream",
     "text": [
      "Average Metric: 50 / 16  (312.5):  80%|████████  | 16/20 [00:18<00:03,  1.19it/s]"
     ]
    },
    {
     "name": "stdout",
     "output_type": "stream",
     "text": [
      "Prediction(\n",
      "    assessment_answer='3'\n",
      ")\n"
     ]
    },
    {
     "name": "stderr",
     "output_type": "stream",
     "text": [
      "Average Metric: 53 / 17  (311.8):  85%|████████▌ | 17/20 [00:20<00:02,  1.10it/s]"
     ]
    },
    {
     "name": "stdout",
     "output_type": "stream",
     "text": [
      "Prediction(\n",
      "    assessment_answer='3'\n",
      ")\n"
     ]
    },
    {
     "name": "stderr",
     "output_type": "stream",
     "text": [
      "Average Metric: 58 / 19  (305.3):  90%|█████████ | 18/20 [00:20<00:01,  1.37it/s]"
     ]
    },
    {
     "name": "stdout",
     "output_type": "stream",
     "text": [
      "Prediction(\n",
      "    assessment_answer='3'\n",
      ")\n",
      "Prediction(\n",
      "    assessment_answer='2'\n",
      ")\n"
     ]
    },
    {
     "name": "stderr",
     "output_type": "stream",
     "text": [
      "Average Metric: 61 / 20  (305.0): 100%|██████████| 20/20 [00:23<00:00,  1.19s/it]\n"
     ]
    },
    {
     "name": "stdout",
     "output_type": "stream",
     "text": [
      "Prediction(\n",
      "    assessment_answer='3'\n",
      ")\n",
      "Scores so far: [305.0, 300.0, 310.0, 305.0]\n",
      "Best score so far: 310.0\n"
     ]
    },
    {
     "name": "stderr",
     "output_type": "stream",
     "text": [
      "  5%|▌         | 1/20 [00:03<00:59,  3.11s/it]\n"
     ]
    },
    {
     "name": "stdout",
     "output_type": "stream",
     "text": [
      "Prediction(\n",
      "    assessment_answer='3'\n",
      ")\n",
      "Bootstrapped 1 full traces after 2 examples in round 0.\n"
     ]
    },
    {
     "name": "stderr",
     "output_type": "stream",
     "text": [
      "Average Metric: 3 / 1  (300.0):   5%|▌         | 1/20 [00:05<01:40,  5.26s/it]"
     ]
    },
    {
     "name": "stdout",
     "output_type": "stream",
     "text": [
      "Prediction(\n",
      "    assessment_answer='3'\n",
      ")\n"
     ]
    },
    {
     "name": "stderr",
     "output_type": "stream",
     "text": [
      "Average Metric: 10 / 3  (333.3):  15%|█▌        | 3/20 [00:05<00:23,  1.39s/it]"
     ]
    },
    {
     "name": "stdout",
     "output_type": "stream",
     "text": [
      "Prediction(\n",
      "    assessment_answer='4'\n",
      ")\n",
      "Prediction(\n",
      "    assessment_answer='3'\n",
      ")\n"
     ]
    },
    {
     "name": "stderr",
     "output_type": "stream",
     "text": [
      "Average Metric: 14 / 4  (350.0):  20%|██        | 4/20 [00:06<00:15,  1.04it/s]"
     ]
    },
    {
     "name": "stdout",
     "output_type": "stream",
     "text": [
      "Prediction(\n",
      "    assessment_answer='4'\n",
      ")\n",
      "Prediction(\n",
      "    assessment_answer='3'\n",
      ")\n"
     ]
    },
    {
     "name": "stderr",
     "output_type": "stream",
     "text": [
      "Average Metric: 20 / 6  (333.3):  30%|███       | 6/20 [00:08<00:14,  1.05s/it]"
     ]
    },
    {
     "name": "stdout",
     "output_type": "stream",
     "text": [
      "Prediction(\n",
      "    assessment_answer='3'\n",
      ")\n"
     ]
    },
    {
     "name": "stderr",
     "output_type": "stream",
     "text": [
      "Average Metric: 26 / 8  (325.0):  35%|███▌      | 7/20 [00:11<00:21,  1.68s/it]"
     ]
    },
    {
     "name": "stdout",
     "output_type": "stream",
     "text": [
      "Prediction(\n",
      "    assessment_answer='3'\n",
      ")\n",
      "Prediction(\n",
      "    assessment_answer='3'\n",
      ")\n"
     ]
    },
    {
     "name": "stderr",
     "output_type": "stream",
     "text": [
      "Average Metric: 29 / 9  (322.2):  45%|████▌     | 9/20 [00:11<00:10,  1.01it/s]"
     ]
    },
    {
     "name": "stdout",
     "output_type": "stream",
     "text": [
      "Prediction(\n",
      "    assessment_answer='3'\n",
      ")\n"
     ]
    },
    {
     "name": "stderr",
     "output_type": "stream",
     "text": [
      "Average Metric: 35 / 11  (318.2):  50%|█████     | 10/20 [00:11<00:08,  1.24it/s]"
     ]
    },
    {
     "name": "stdout",
     "output_type": "stream",
     "text": [
      "Prediction(\n",
      "    assessment_answer='3'\n",
      ")\n",
      "Prediction(\n",
      "    assessment_answer='3'\n",
      ")\n"
     ]
    },
    {
     "name": "stderr",
     "output_type": "stream",
     "text": [
      "Average Metric: 39 / 12  (325.0):  60%|██████    | 12/20 [00:14<00:08,  1.01s/it]"
     ]
    },
    {
     "name": "stdout",
     "output_type": "stream",
     "text": [
      "Prediction(\n",
      "    assessment_answer='4'\n",
      ")\n"
     ]
    },
    {
     "name": "stderr",
     "output_type": "stream",
     "text": [
      "Average Metric: 45 / 14  (321.4):  70%|███████   | 14/20 [00:17<00:06,  1.15s/it]"
     ]
    },
    {
     "name": "stdout",
     "output_type": "stream",
     "text": [
      "Prediction(\n",
      "    assessment_answer='3'\n",
      ")\n",
      "Prediction(\n",
      "    assessment_answer='3'\n",
      ")\n"
     ]
    },
    {
     "name": "stderr",
     "output_type": "stream",
     "text": [
      "Average Metric: 51 / 16  (318.8):  75%|███████▌  | 15/20 [00:17<00:04,  1.11it/s]"
     ]
    },
    {
     "name": "stdout",
     "output_type": "stream",
     "text": [
      "Prediction(\n",
      "    assessment_answer='3'\n",
      ")\n",
      "Prediction(\n",
      "    assessment_answer='3'\n",
      ")\n"
     ]
    },
    {
     "name": "stderr",
     "output_type": "stream",
     "text": [
      "Average Metric: 54 / 17  (317.6):  85%|████████▌ | 17/20 [00:18<00:01,  1.56it/s]"
     ]
    },
    {
     "name": "stdout",
     "output_type": "stream",
     "text": [
      "Prediction(\n",
      "    assessment_answer='3'\n",
      ")\n"
     ]
    },
    {
     "name": "stderr",
     "output_type": "stream",
     "text": [
      "Average Metric: 56 / 18  (311.1):  90%|█████████ | 18/20 [00:20<00:01,  1.06it/s]"
     ]
    },
    {
     "name": "stdout",
     "output_type": "stream",
     "text": [
      "Prediction(\n",
      "    assessment_answer='2'\n",
      ")\n"
     ]
    },
    {
     "name": "stderr",
     "output_type": "stream",
     "text": [
      "Average Metric: 59 / 19  (310.5):  95%|█████████▌| 19/20 [00:24<00:01,  1.75s/it]"
     ]
    },
    {
     "name": "stdout",
     "output_type": "stream",
     "text": [
      "Prediction(\n",
      "    assessment_answer='3'\n",
      ")\n"
     ]
    },
    {
     "name": "stderr",
     "output_type": "stream",
     "text": [
      "Average Metric: 62 / 20  (310.0): 100%|██████████| 20/20 [00:24<00:00,  1.24s/it]"
     ]
    },
    {
     "name": "stdout",
     "output_type": "stream",
     "text": [
      "Prediction(\n",
      "    assessment_answer='3'\n",
      ")\n",
      "Scores so far: [305.0, 300.0, 310.0, 305.0, 310.0]\n",
      "Best score so far: 310.0\n",
      "5 candidate programs found.\n"
     ]
    },
    {
     "name": "stderr",
     "output_type": "stream",
     "text": [
      "\n"
     ]
    }
   ],
   "source": [
    "from dspy.teleprompt import BootstrapFewShotWithRandomSearch\n",
    "\n",
    "dspy.settings.configure(backoff_time=10)\n",
    "config = dict(max_labeled_demos = 1, max_bootstrapped_demos=1, num_candidate_programs=2)\n",
    "teleprompter = BootstrapFewShotWithRandomSearch(metric = creativity_metric, **config)\n",
    "\n",
    "rs_optimized_tweet_writer = teleprompter.compile(TweetWriter(), trainset=trainset[:20])"
   ]
  },
  {
   "cell_type": "code",
   "execution_count": 110,
   "metadata": {},
   "outputs": [
    {
     "name": "stdout",
     "output_type": "stream",
     "text": [
      "Prediction(\n",
      "    assessment_answer='3'\n",
      ")\n",
      "Prediction(\n",
      "    assessment_answer='4'\n",
      ")\n",
      "Prediction(\n",
      "    assessment_answer='2'\n",
      ")\n",
      "Prediction(\n",
      "    assessment_answer='3'\n",
      ")\n",
      "Prediction(\n",
      "    assessment_answer='3'\n",
      ")\n",
      "Prediction(\n",
      "    assessment_answer='3'\n",
      ")\n",
      "Prediction(\n",
      "    assessment_answer='2'\n",
      ")\n",
      "Prediction(\n",
      "    assessment_answer='3'\n",
      ")\n",
      "Prediction(\n",
      "    assessment_answer='3'\n",
      ")\n",
      "Prediction(\n",
      "    assessment_answer='3'\n",
      ")\n"
     ]
    },
    {
     "name": "stderr",
     "output_type": "stream",
     "text": [
      "Average Metric: 29 / 10  (290.0): 100%|██████████| 10/10 [00:00<00:00, 1355.89it/s]\n"
     ]
    },
    {
     "data": {
      "text/html": [
       "<style type=\"text/css\">\n",
       "#T_8d9cf th {\n",
       "  text-align: left;\n",
       "}\n",
       "#T_8d9cf td {\n",
       "  text-align: left;\n",
       "}\n",
       "#T_8d9cf_row0_col0, #T_8d9cf_row0_col1, #T_8d9cf_row0_col2, #T_8d9cf_row0_col3, #T_8d9cf_row0_col4, #T_8d9cf_row0_col5, #T_8d9cf_row1_col0, #T_8d9cf_row1_col1, #T_8d9cf_row1_col2, #T_8d9cf_row1_col3, #T_8d9cf_row1_col4, #T_8d9cf_row1_col5, #T_8d9cf_row2_col0, #T_8d9cf_row2_col1, #T_8d9cf_row2_col2, #T_8d9cf_row2_col3, #T_8d9cf_row2_col4, #T_8d9cf_row2_col5, #T_8d9cf_row3_col0, #T_8d9cf_row3_col1, #T_8d9cf_row3_col2, #T_8d9cf_row3_col3, #T_8d9cf_row3_col4, #T_8d9cf_row3_col5, #T_8d9cf_row4_col0, #T_8d9cf_row4_col1, #T_8d9cf_row4_col2, #T_8d9cf_row4_col3, #T_8d9cf_row4_col4, #T_8d9cf_row4_col5 {\n",
       "  text-align: left;\n",
       "  white-space: pre-wrap;\n",
       "  word-wrap: break-word;\n",
       "  max-width: 400px;\n",
       "}\n",
       "</style>\n",
       "<table id=\"T_8d9cf\">\n",
       "  <thead>\n",
       "    <tr>\n",
       "      <th class=\"blank level0\" >&nbsp;</th>\n",
       "      <th id=\"T_8d9cf_level0_col0\" class=\"col_heading level0 col0\" >example_tweet</th>\n",
       "      <th id=\"T_8d9cf_level0_col1\" class=\"col_heading level0 col1\" >engagement</th>\n",
       "      <th id=\"T_8d9cf_level0_col2\" class=\"col_heading level0 col2\" >topic</th>\n",
       "      <th id=\"T_8d9cf_level0_col3\" class=\"col_heading level0 col3\" >reasoning</th>\n",
       "      <th id=\"T_8d9cf_level0_col4\" class=\"col_heading level0 col4\" >pred_tweet</th>\n",
       "      <th id=\"T_8d9cf_level0_col5\" class=\"col_heading level0 col5\" >creativity_metric</th>\n",
       "    </tr>\n",
       "  </thead>\n",
       "  <tbody>\n",
       "    <tr>\n",
       "      <th id=\"T_8d9cf_level0_row0\" class=\"row_heading level0 row0\" >0</th>\n",
       "      <td id=\"T_8d9cf_row0_col0\" class=\"data row0 col0\" >Doing a thing increases your ability to learn about it. In order words, do the thing, then read about it. The experience will give you...</td>\n",
       "      <td id=\"T_8d9cf_row0_col1\" class=\"data row0 col1\" >3388</td>\n",
       "      <td id=\"T_8d9cf_row0_col2\" class=\"data row0 col2\" >Learning and Experience</td>\n",
       "      <td id=\"T_8d9cf_row0_col3\" class=\"data row0 col3\" >Learning and experience are fundamental to personal and professional growth. They enable us to acquire new skills, adapt to changing environments, and make informed decisions....</td>\n",
       "      <td id=\"T_8d9cf_row0_col4\" class=\"data row0 col4\" >Never stop learning and seeking new experiences! They are the building blocks of growth and success. Embrace every opportunity to expand your horizons. 🌟📚 #LifelongLearning...</td>\n",
       "      <td id=\"T_8d9cf_row0_col5\" class=\"data row0 col5\" >✔️ [3]</td>\n",
       "    </tr>\n",
       "    <tr>\n",
       "      <th id=\"T_8d9cf_level0_row1\" class=\"row_heading level0 row1\" >1</th>\n",
       "      <td id=\"T_8d9cf_row1_col0\" class=\"data row1 col0\" >Anyone else ever accidentally get in the shower with a hat still on? https://t.co/t9IOAGcC1h</td>\n",
       "      <td id=\"T_8d9cf_row1_col1\" class=\"data row1 col1\" >1647</td>\n",
       "      <td id=\"T_8d9cf_row1_col2\" class=\"data row1 col2\" >Everyday Life/Humor</td>\n",
       "      <td id=\"T_8d9cf_row1_col3\" class=\"data row1 col3\" >Humor in everyday life helps to lighten the mood and make daily routines more enjoyable. Sharing funny observations or experiences can bring a smile to...</td>\n",
       "      <td id=\"T_8d9cf_row1_col4\" class=\"data row1 col4\" >Why do we always find the one thing we lost right after we buy a replacement? It's like the universe is playing hide and seek...</td>\n",
       "      <td id=\"T_8d9cf_row1_col5\" class=\"data row1 col5\" >✔️ [4]</td>\n",
       "    </tr>\n",
       "    <tr>\n",
       "      <th id=\"T_8d9cf_level0_row2\" class=\"row_heading level0 row2\" >2</th>\n",
       "      <td id=\"T_8d9cf_row2_col0\" class=\"data row2 col0\" >If you have all the information to make a perfect decision, you missed the opportunity.</td>\n",
       "      <td id=\"T_8d9cf_row2_col1\" class=\"data row2 col1\" >4534</td>\n",
       "      <td id=\"T_8d9cf_row2_col2\" class=\"data row2 col2\" >Decision Making</td>\n",
       "      <td id=\"T_8d9cf_row2_col3\" class=\"data row2 col3\" >Decision making is a fundamental skill that impacts every aspect of our lives, from personal choices to professional paths. Effective decision making involves evaluating options,...</td>\n",
       "      <td id=\"T_8d9cf_row2_col4\" class=\"data row2 col4\" >Good decision making is the cornerstone of success! Take the time to weigh your options, consider the outcomes, and choose wisely. Your future depends on...</td>\n",
       "      <td id=\"T_8d9cf_row2_col5\" class=\"data row2 col5\" >✔️ [2]</td>\n",
       "    </tr>\n",
       "    <tr>\n",
       "      <th id=\"T_8d9cf_level0_row3\" class=\"row_heading level0 row3\" >3</th>\n",
       "      <td id=\"T_8d9cf_row3_col0\" class=\"data row3 col0\" >I’m bad at starting new habits. I’m also pretty bad at keeping habits. In the last ten years, the only small habits I’ve been able...</td>\n",
       "      <td id=\"T_8d9cf_row3_col1\" class=\"data row3 col1\" >3551</td>\n",
       "      <td id=\"T_8d9cf_row3_col2\" class=\"data row3 col2\" >Habit Formation</td>\n",
       "      <td id=\"T_8d9cf_row3_col3\" class=\"data row3 col3\" >Habit formation is essential for personal growth and achieving long-term goals. By developing positive habits, we can improve our productivity, health, and overall well-being. Understanding...</td>\n",
       "      <td id=\"T_8d9cf_row3_col4\" class=\"data row3 col4\" >Building good habits is the foundation of success! Start small, stay consistent, and watch your life transform. 🌱🔄 #HabitFormation #PersonalGrowth</td>\n",
       "      <td id=\"T_8d9cf_row3_col5\" class=\"data row3 col5\" >✔️ [3]</td>\n",
       "    </tr>\n",
       "    <tr>\n",
       "      <th id=\"T_8d9cf_level0_row4\" class=\"row_heading level0 row4\" >4</th>\n",
       "      <td id=\"T_8d9cf_row4_col0\" class=\"data row4 col0\" >The reason you are stressed is you have decisions to make and you’re not making them.</td>\n",
       "      <td id=\"T_8d9cf_row4_col1\" class=\"data row4 col1\" >9078</td>\n",
       "      <td id=\"T_8d9cf_row4_col2\" class=\"data row4 col2\" >Mental Health</td>\n",
       "      <td id=\"T_8d9cf_row4_col3\" class=\"data row4 col3\" >Mental health is a vital component of overall well-being, impacting how we think, feel, and act. Addressing mental health issues and promoting mental wellness can...</td>\n",
       "      <td id=\"T_8d9cf_row4_col4\" class=\"data row4 col4\" >Your mental health matters just as much as your physical health. Take time to care for your mind, seek support when needed, and remember that...</td>\n",
       "      <td id=\"T_8d9cf_row4_col5\" class=\"data row4 col5\" >✔️ [3]</td>\n",
       "    </tr>\n",
       "  </tbody>\n",
       "</table>\n"
      ],
      "text/plain": [
       "<pandas.io.formats.style.Styler at 0x13f2406e0>"
      ]
     },
     "metadata": {},
     "output_type": "display_data"
    },
    {
     "data": {
      "text/html": [
       "\n",
       "                <div style='\n",
       "                    text-align: center;\n",
       "                    font-size: 16px;\n",
       "                    font-weight: bold;\n",
       "                    color: #555;\n",
       "                    margin: 10px 0;'>\n",
       "                    ... 5 more rows not displayed ...\n",
       "                </div>\n",
       "                "
      ],
      "text/plain": [
       "<IPython.core.display.HTML object>"
      ]
     },
     "metadata": {},
     "output_type": "display_data"
    },
    {
     "data": {
      "text/plain": [
       "290.0"
      ]
     },
     "execution_count": 110,
     "metadata": {},
     "output_type": "execute_result"
    }
   ],
   "source": [
    "dspy.settings.configure(backoff_time=5)\n",
    "evaluator = Evaluate(devset=devset[:10], metric=creativity_metric, num_threads=2, display_progress=True, display_table=5, provide_traceback=True)\n",
    "evaluator(rs_optimized_tweet_writer)"
   ]
  },
  {
   "cell_type": "markdown",
   "metadata": {},
   "source": [
    "Let's try MIPROv2 and see if we can improve on this, then we could try out maybe changing the metric to better optimize our writer."
   ]
  },
  {
   "cell_type": "code",
   "execution_count": 111,
   "metadata": {},
   "outputs": [
    {
     "name": "stdout",
     "output_type": "stream",
     "text": [
      "[('prog', Predict(StringSignature(topic -> reasoning, tweet\n",
      "    instructions='Given the fields `topic`, produce the fields `tweet`.'\n",
      "    topic = Field(annotation=str required=True json_schema_extra={'__dspy_field_type': 'input', 'prefix': 'Topic:', 'desc': '${topic}'})\n",
      "    reasoning = Field(annotation=str required=True json_schema_extra={'prefix': \"Reasoning: Let's think step by step in order to\", 'desc': '${reasoning}', '__dspy_field_type': 'output'})\n",
      "    tweet = Field(annotation=str required=True json_schema_extra={'__dspy_field_type': 'output', 'prefix': 'Tweet:', 'desc': '${tweet}'})\n",
      ")))]\n"
     ]
    }
   ],
   "source": [
    "optimized_tweet_writer.save(path=\"fewshot\")"
   ]
  },
  {
   "cell_type": "code",
   "execution_count": 112,
   "metadata": {},
   "outputs": [
    {
     "name": "stdout",
     "output_type": "stream",
     "text": [
      "[('prog', Predict(StringSignature(topic -> reasoning, tweet\n",
      "    instructions='Given the fields `topic`, produce the fields `tweet`.'\n",
      "    topic = Field(annotation=str required=True json_schema_extra={'__dspy_field_type': 'input', 'prefix': 'Topic:', 'desc': '${topic}'})\n",
      "    reasoning = Field(annotation=str required=True json_schema_extra={'prefix': \"Reasoning: Let's think step by step in order to\", 'desc': '${reasoning}', '__dspy_field_type': 'output'})\n",
      "    tweet = Field(annotation=str required=True json_schema_extra={'__dspy_field_type': 'output', 'prefix': 'Tweet:', 'desc': '${tweet}'})\n",
      ")))]\n"
     ]
    }
   ],
   "source": [
    "rs_optimized_tweet_writer.save(path=\"fewshotwithrs\")"
   ]
  },
  {
   "cell_type": "markdown",
   "metadata": {},
   "source": [
    "# MIPROv2"
   ]
  },
  {
   "cell_type": "code",
   "execution_count": 114,
   "metadata": {},
   "outputs": [
    {
     "name": "stdout",
     "output_type": "stream",
     "text": [
      "\u001b[93m\u001b[1mProjected Language Model (LM) Calls\u001b[0m\n",
      "\n",
      "Please be advised that based on the parameters you have set, the maximum number of LM calls is projected as follows:\n",
      "\n",
      "\n",
      "\u001b[93m- Prompt Model: \u001b[94m\u001b[1m10\u001b[0m\u001b[93m data summarizer calls + \u001b[94m\u001b[1m7\u001b[0m\u001b[93m * \u001b[94m\u001b[1m1\u001b[0m\u001b[93m lm calls in program + (\u001b[94m\u001b[1m2\u001b[0m\u001b[93m) lm calls in program aware proposer = \u001b[94m\u001b[1m19\u001b[0m\u001b[93m prompt model calls\u001b[0m\n",
      "\u001b[93m- Task Model: \u001b[94m\u001b[1m25\u001b[0m\u001b[93m examples in minibatch * \u001b[94m\u001b[1m10\u001b[0m\u001b[93m batches + \u001b[94m\u001b[1m200\u001b[0m\u001b[93m examples in val set * \u001b[94m\u001b[1m1\u001b[0m\u001b[93m full evals = \u001b[94m\u001b[1m300\u001b[0m\u001b[93m task model calls\u001b[0m\n",
      "\n",
      "\u001b[93m\u001b[1mEstimated Cost Calculation:\u001b[0m\n",
      "\n",
      "\u001b[93mTotal Cost = (Number of calls to task model * (Avg Input Token Length per Call * Task Model Price per Input Token + Avg Output Token Length per Call * Task Model Price per Output Token) \n",
      "            + (Number of calls to prompt model * (Avg Input Token Length per Call * Task Prompt Price per Input Token + Avg Output Token Length per Call * Prompt Model Price per Output Token).\u001b[0m\n",
      "\n",
      "For a preliminary estimate of potential costs, we recommend you perform your own calculations based on the task\n",
      "and prompt models you intend to use. If the projected costs exceed your budget or expectations, you may consider:\n",
      "\n",
      "\u001b[93m- Reducing the number of trials (`num_trials`), the size of the valset, or the number of LM calls in your program.\u001b[0m\n",
      "\u001b[93m- Using a cheaper task model to optimize the prompt.\u001b[0m\n",
      "\n",
      "To proceed with the execution of this program, please confirm by typing \u001b[94m'y'\u001b[0m for yes or \u001b[94m'n'\u001b[0m for no.\n",
      "\n",
      "If you would like to bypass this confirmation step in future executions, set the \u001b[93m`requires_permission_to_run`\u001b[0m flag to \u001b[93m`False`\u001b[0m when calling compile.\n",
      "\n",
      "\u001b[93mAwaiting your input...\u001b[0m\n",
      "\n",
      "Beginning MIPROv2 optimization process...\n",
      "\n",
      "==> STEP 1: BOOTSTRAP FEWSHOT EXAMPLES <==\n",
      "These will be used for as few-shot examples candidates for our program and for creating instructions.\n",
      "\n",
      "Bootstrapping N=7 sets of demonstrations...\n",
      "Bootstrapping set 1/7\n",
      "Bootstrapping set 2/7\n",
      "Bootstrapping set 3/7\n"
     ]
    },
    {
     "name": "stderr",
     "output_type": "stream",
     "text": [
      "  2%|▏         | 1/50 [00:02<01:55,  2.37s/it]"
     ]
    },
    {
     "name": "stdout",
     "output_type": "stream",
     "text": [
      "Prediction(\n",
      "    assessment_answer='2'\n",
      ")\n"
     ]
    },
    {
     "name": "stderr",
     "output_type": "stream",
     "text": [
      "  4%|▍         | 2/50 [00:04<01:53,  2.36s/it]"
     ]
    },
    {
     "name": "stdout",
     "output_type": "stream",
     "text": [
      "Prediction(\n",
      "    assessment_answer='3'\n",
      ")\n"
     ]
    },
    {
     "name": "stderr",
     "output_type": "stream",
     "text": [
      "  6%|▌         | 3/50 [00:08<02:19,  2.97s/it]\n"
     ]
    },
    {
     "name": "stdout",
     "output_type": "stream",
     "text": [
      "Prediction(\n",
      "    assessment_answer='3'\n",
      ")\n",
      "Bootstrapped 3 full traces after 4 examples in round 0.\n",
      "Bootstrapping set 4/7\n"
     ]
    },
    {
     "name": "stderr",
     "output_type": "stream",
     "text": [
      "  2%|▏         | 1/50 [00:04<03:16,  4.00s/it]"
     ]
    },
    {
     "name": "stdout",
     "output_type": "stream",
     "text": [
      "Prediction(\n",
      "    assessment_answer='3'\n",
      ")\n"
     ]
    },
    {
     "name": "stderr",
     "output_type": "stream",
     "text": [
      "  4%|▍         | 2/50 [00:07<02:53,  3.62s/it]\n"
     ]
    },
    {
     "name": "stdout",
     "output_type": "stream",
     "text": [
      "Prediction(\n",
      "    assessment_answer='3'\n",
      ")\n",
      "Bootstrapped 2 full traces after 3 examples in round 0.\n",
      "Bootstrapping set 5/7\n"
     ]
    },
    {
     "name": "stderr",
     "output_type": "stream",
     "text": [
      "  2%|▏         | 1/50 [00:02<01:53,  2.32s/it]\n"
     ]
    },
    {
     "name": "stdout",
     "output_type": "stream",
     "text": [
      "Prediction(\n",
      "    assessment_answer='4'\n",
      ")\n",
      "Bootstrapped 1 full traces after 2 examples in round 0.\n",
      "Bootstrapping set 6/7\n"
     ]
    },
    {
     "name": "stderr",
     "output_type": "stream",
     "text": [
      "  2%|▏         | 1/50 [00:06<04:55,  6.03s/it]\n"
     ]
    },
    {
     "name": "stdout",
     "output_type": "stream",
     "text": [
      "Prediction(\n",
      "    assessment_answer='3'\n",
      ")\n",
      "Bootstrapped 1 full traces after 2 examples in round 0.\n",
      "Bootstrapping set 7/7\n"
     ]
    },
    {
     "name": "stderr",
     "output_type": "stream",
     "text": [
      "  2%|▏         | 1/50 [00:02<01:46,  2.17s/it]"
     ]
    },
    {
     "name": "stdout",
     "output_type": "stream",
     "text": [
      "Prediction(\n",
      "    assessment_answer='3'\n",
      ")\n",
      "Bootstrapped 1 full traces after 2 examples in round 0.\n",
      "\n",
      "==> STEP 2: PROPOSE INSTRUCTION CANDIDATES <==\n",
      "In this step, by default we will use the few-shot examples from the previous step, a generated dataset summary, a summary of the program code, and a randomly selected prompting tip to propose instructions.\n"
     ]
    },
    {
     "name": "stderr",
     "output_type": "stream",
     "text": [
      "\n"
     ]
    },
    {
     "name": "stdout",
     "output_type": "stream",
     "text": [
      "\n",
      "Proposing instructions...\n",
      "\n",
      "Proposed Instructions for Predictor 0:\n",
      "\n",
      "0: Given the fields `topic`, produce the fields `tweet`.\n",
      "\n",
      "1: Given a topic, generate a tweet that effectively communicates the core message of the topic. First, outline your reasoning process step-by-step to ensure the tweet is coherent, engaging, and relevant. Then, craft the tweet using a conversational tone with concise, actionable insights, and consider incorporating anecdotes or inspirational quotes to enhance its relatability and impact.\n",
      "\n",
      "2: You are a social media content creator specializing in motivational and contemporary topics. Given the field `topic`, generate a tweet that is engaging, concise, and relevant to the topic. The tweet should exhibit a conversational tone, provide actionable insights, and may include anecdotes or inspirational quotes to enhance relatability and impact.\n",
      "\n",
      "3: Given a `topic`, generate a thoughtful reasoning followed by a concise, engaging tweet that encapsulates the essence of the topic along with practical advice or insights.\n",
      "\n",
      "4: Given a topic, generate a tweet that is engaging, contextually relevant, and includes hashtags and emojis where appropriate. Ensure the tweet aligns with the themes of self-improvement, motivation, or contemporary issues, and consider using anecdotes or inspirational quotes to enhance relatability and impact.\n",
      "\n",
      "5: Generate a tweet based on the given topic. Ensure that the tweet is engaging, motivational, and contextually appropriate, using a conversational tone and concise, actionable insights. Include anecdotes or inspirational quotes where relevant to enhance relatability and impact.\n",
      "\n",
      "6: Given a `topic` related to self-improvement, motivation, or contemporary issues, generate a `reasoning` field that provides a logical and step-by-step explanation related to the topic. Use this reasoning to craft a concise and engaging `tweet` that utilizes a conversational tone, actionable insights, and may include anecdotes or inspirational quotes to enhance relatability and impact.\n",
      "\n",
      "\n",
      "\n",
      "Evaluating the default program...\n",
      "\n",
      "Prediction(\n",
      "    assessment_answer='3'\n",
      ")\n",
      "Prediction(\n",
      "    assessment_answer='3'\n",
      ")\n",
      "Prediction(\n",
      "    assessment_answer='3'\n",
      ")\n",
      "Prediction(\n",
      "    assessment_answer='3'\n",
      ")\n",
      "Prediction(\n",
      "    assessment_answer='3'\n",
      ")\n",
      "Prediction(\n",
      "    assessment_answer='3'\n",
      ")\n",
      "Prediction(\n",
      "    assessment_answer='3'\n",
      ")\n",
      "Prediction(\n",
      "    assessment_answer='3'\n",
      ")\n",
      "Prediction(\n",
      "    assessment_answer='3'\n",
      ")\n",
      "Prediction(\n",
      "    assessment_answer='3'\n",
      ")\n",
      "Prediction(\n",
      "    assessment_answer='3'\n",
      ")\n",
      "Prediction(\n",
      "    assessment_answer='3'\n",
      ")\n",
      "Prediction(\n",
      "    assessment_answer='3'\n",
      ")\n",
      "Prediction(\n",
      "    assessment_answer='3'\n",
      ")\n",
      "Prediction(\n",
      "    assessment_answer='3'\n",
      ")\n",
      "Prediction(\n",
      "    assessment_answer='3'\n",
      ")\n",
      "Prediction(\n",
      "    assessment_answer='3'\n",
      ")\n",
      "Prediction(\n",
      "    assessment_answer='4'\n",
      ")\n",
      "Prediction(\n",
      "    assessment_answer='3'\n",
      ")\n",
      "Prediction(\n",
      "    assessment_answer='3'\n",
      ")\n",
      "Prediction(\n",
      "    assessment_answer='3'\n",
      ")\n",
      "Prediction(\n",
      "    assessment_answer='3'\n",
      ")\n",
      "Prediction(\n",
      "    assessment_answer='3'\n",
      ")\n",
      "Prediction(\n",
      "    assessment_answer='3'\n",
      ")\n",
      "Prediction(\n",
      "    assessment_answer='3'\n",
      ")\n",
      "Prediction(\n",
      "    assessment_answer='3'\n",
      ")\n",
      "Prediction(\n",
      "    assessment_answer='3'\n",
      ")\n",
      "Prediction(\n",
      "    assessment_answer='3'\n",
      ")\n",
      "Prediction(\n",
      "    assessment_answer='3'\n",
      ")\n",
      "Prediction(\n",
      "    assessment_answer='3'\n",
      ")\n",
      "Prediction(\n",
      "    assessment_answer='3'\n",
      ")\n",
      "Prediction(\n",
      "    assessment_answer='3'\n",
      ")\n",
      "Prediction(\n",
      "    assessment_answer='3'\n",
      ")\n",
      "Prediction(\n",
      "    assessment_answer='2'\n",
      ")\n",
      "Prediction(\n",
      "    assessment_answer='3'\n",
      ")\n",
      "Prediction(\n",
      "    assessment_answer='3'\n",
      ")\n",
      "Prediction(\n",
      "    assessment_answer='3'\n",
      ")\n",
      "Prediction(\n",
      "    assessment_answer='3'\n",
      ")\n",
      "Prediction(\n",
      "    assessment_answer='3'\n",
      ")\n",
      "Prediction(\n",
      "    assessment_answer='3'\n",
      ")\n",
      "Prediction(\n",
      "    assessment_answer='3'\n",
      ")\n",
      "Prediction(\n",
      "    assessment_answer='3'\n",
      ")\n",
      "Prediction(\n",
      "    assessment_answer='3'\n",
      ")\n",
      "Prediction(\n",
      "    assessment_answer='3'\n",
      ")\n",
      "Prediction(\n",
      "    assessment_answer='3'\n",
      ")\n",
      "Prediction(\n",
      "    assessment_answer='3'\n",
      ")\n",
      "Prediction(\n",
      "    assessment_answer='3'\n",
      ")\n",
      "Prediction(\n",
      "    assessment_answer='3'\n",
      ")\n",
      "Prediction(\n",
      "    assessment_answer='2'\n",
      ")\n",
      "Prediction(\n",
      "    assessment_answer='3'\n",
      ")\n",
      "Prediction(\n",
      "    assessment_answer='2'\n",
      ")\n",
      "Prediction(\n",
      "    assessment_answer='2'\n",
      ")\n",
      "Prediction(\n",
      "    assessment_answer='2'\n",
      ")\n",
      "Prediction(\n",
      "    assessment_answer='3'\n",
      ")\n",
      "Prediction(\n",
      "    assessment_answer='3'\n",
      ")\n",
      "Prediction(\n",
      "    assessment_answer='3'\n",
      ")\n",
      "Prediction(\n",
      "    assessment_answer='3'\n",
      ")\n",
      "Prediction(\n",
      "    assessment_answer='3'\n",
      ")\n",
      "Prediction(\n",
      "    assessment_answer='3'\n",
      ")\n",
      "Prediction(\n",
      "    assessment_answer='3'\n",
      ")\n",
      "Prediction(\n",
      "    assessment_answer='3'\n",
      ")\n",
      "Prediction(\n",
      "    assessment_answer='3'\n",
      ")\n",
      "Prediction(\n",
      "    assessment_answer='4'\n",
      ")\n",
      "Prediction(\n",
      "    assessment_answer='3'\n",
      ")\n",
      "Prediction(\n",
      "    assessment_answer='2'\n",
      ")\n",
      "Prediction(\n",
      "    assessment_answer='3'\n",
      ")\n",
      "Prediction(\n",
      "    assessment_answer='2'\n",
      ")\n",
      "Prediction(\n",
      "    assessment_answer='2'\n",
      ")\n",
      "Prediction(\n",
      "    assessment_answer='3'\n",
      ")\n",
      "Prediction(\n",
      "    assessment_answer='3'\n",
      ")\n",
      "Prediction(\n",
      "    assessment_answer='3'\n",
      ")\n",
      "Prediction(\n",
      "    assessment_answer='3'\n",
      ")\n",
      "Prediction(\n",
      "    assessment_answer='3'\n",
      ")\n",
      "Prediction(\n",
      "    assessment_answer='3'\n",
      ")\n",
      "Prediction(\n",
      "    assessment_answer='3'\n",
      ")\n",
      "Prediction(\n",
      "    assessment_answer='3'\n",
      ")\n",
      "Prediction(\n",
      "    assessment_answer='3'\n",
      ")\n",
      "Prediction(\n",
      "    assessment_answer='3'\n",
      ")\n",
      "Prediction(\n",
      "    assessment_answer='3'\n",
      ")\n",
      "Prediction(\n",
      "    assessment_answer='3'\n",
      ")\n",
      "Prediction(\n",
      "    assessment_answer='3'\n",
      ")\n",
      "Prediction(\n",
      "    assessment_answer='3'\n",
      ")\n",
      "Prediction(\n",
      "    assessment_answer='2'\n",
      ")\n",
      "Prediction(\n",
      "    assessment_answer='2'\n",
      ")\n",
      "Prediction(\n",
      "    assessment_answer='3'\n",
      ")\n",
      "Prediction(\n",
      "    assessment_answer='3'\n",
      ")\n",
      "Prediction(\n",
      "    assessment_answer='3'\n",
      ")\n",
      "Prediction(\n",
      "    assessment_answer='3'\n",
      ")\n",
      "Prediction(\n",
      "    assessment_answer='3'\n",
      ")\n",
      "Prediction(\n",
      "    assessment_answer='3'\n",
      ")\n",
      "Prediction(\n",
      "    assessment_answer='3'\n",
      ")\n",
      "Prediction(\n",
      "    assessment_answer='3'\n",
      ")\n",
      "Prediction(\n",
      "    assessment_answer='2'\n",
      ")\n",
      "Prediction(\n",
      "    assessment_answer='3'\n",
      ")\n",
      "Prediction(\n",
      "    assessment_answer='3'\n",
      ")\n",
      "Prediction(\n",
      "    assessment_answer='3'\n",
      ")\n",
      "Prediction(\n",
      "    assessment_answer='3'\n",
      ")\n",
      "Prediction(\n",
      "    assessment_answer='3'\n",
      ")\n",
      "Prediction(\n",
      "    assessment_answer='3'\n",
      ")\n",
      "Prediction(\n",
      "    assessment_answer='3'\n",
      ")\n",
      "Prediction(\n",
      "    assessment_answer='3'\n",
      ")\n",
      "Prediction(\n",
      "    assessment_answer='2'\n",
      ")\n",
      "Prediction(\n",
      "    assessment_answer='3'\n",
      ")\n",
      "Prediction(\n",
      "    assessment_answer='3'\n",
      ")\n",
      "Prediction(\n",
      "    assessment_answer='3'\n",
      ")\n",
      "Prediction(\n",
      "    assessment_answer='2'\n",
      ")\n",
      "Prediction(\n",
      "    assessment_answer='3'\n",
      ")\n",
      "Prediction(\n",
      "    assessment_answer='3'\n",
      ")\n",
      "Prediction(\n",
      "    assessment_answer='2'\n",
      ")\n",
      "Prediction(\n",
      "    assessment_answer='3'\n",
      ")\n",
      "Prediction(\n",
      "    assessment_answer='3'\n",
      ")\n",
      "Prediction(\n",
      "    assessment_answer='3'\n",
      ")\n",
      "Prediction(\n",
      "    assessment_answer='2'\n",
      ")\n",
      "Prediction(\n",
      "    assessment_answer='3'\n",
      ")\n",
      "Prediction(\n",
      "    assessment_answer='3'\n",
      ")\n",
      "Prediction(\n",
      "    assessment_answer='3'\n",
      ")\n",
      "Prediction(\n",
      "    assessment_answer='2'\n",
      ")\n",
      "Prediction(\n",
      "    assessment_answer='3'\n",
      ")\n",
      "Prediction(\n",
      "    assessment_answer='3'\n",
      ")\n",
      "Prediction(\n",
      "    assessment_answer='3'\n",
      ")\n",
      "Prediction(\n",
      "    assessment_answer='3'\n",
      ")\n",
      "Prediction(\n",
      "    assessment_answer='2'\n",
      ")\n",
      "Prediction(\n",
      "    assessment_answer='2'\n",
      ")\n",
      "Prediction(\n",
      "    assessment_answer='3'\n",
      ")\n",
      "Prediction(\n",
      "    assessment_answer='3'\n",
      ")\n",
      "Prediction(\n",
      "    assessment_answer='3'\n",
      ")\n",
      "Prediction(\n",
      "    assessment_answer='2'\n",
      ")\n",
      "Prediction(\n",
      "    assessment_answer='3'\n",
      ")\n",
      "Prediction(\n",
      "    assessment_answer='3'\n",
      ")\n",
      "Prediction(\n",
      "    assessment_answer='3'\n",
      ")\n",
      "Prediction(\n",
      "    assessment_answer='3'\n",
      ")\n",
      "Prediction(\n",
      "    assessment_answer='3'\n",
      ")\n",
      "Prediction(\n",
      "    assessment_answer='3'\n",
      ")\n",
      "Prediction(\n",
      "    assessment_answer='3'\n",
      ")\n",
      "Prediction(\n",
      "    assessment_answer='3'\n",
      ")\n",
      "Prediction(\n",
      "    assessment_answer='3'\n",
      ")\n",
      "Prediction(\n",
      "    assessment_answer='4'\n",
      ")\n",
      "Prediction(\n",
      "    assessment_answer='2'\n",
      ")\n",
      "Prediction(\n",
      "    assessment_answer='3'\n",
      ")\n",
      "Prediction(\n",
      "    assessment_answer='2'\n",
      ")\n",
      "Prediction(\n",
      "    assessment_answer='3'\n",
      ")\n",
      "Prediction(\n",
      "    assessment_answer='3'\n",
      ")\n",
      "Prediction(\n",
      "    assessment_answer='3'\n",
      ")\n",
      "Prediction(\n",
      "    assessment_answer='2'\n",
      ")\n",
      "Prediction(\n",
      "    assessment_answer='3'\n",
      ")\n",
      "Prediction(\n",
      "    assessment_answer='3'\n",
      ")\n",
      "Prediction(\n",
      "    assessment_answer='4'\n",
      ")\n",
      "Prediction(\n",
      "    assessment_answer='3'\n",
      ")\n",
      "Prediction(\n",
      "    assessment_answer='3'\n",
      ")\n",
      "Prediction(\n",
      "    assessment_answer='2'\n",
      ")\n",
      "Prediction(\n",
      "    assessment_answer='3'\n",
      ")\n",
      "Prediction(\n",
      "    assessment_answer='3'\n",
      ")\n",
      "Prediction(\n",
      "    assessment_answer='3'\n",
      ")\n",
      "Prediction(\n",
      "    assessment_answer='3'\n",
      ")\n",
      "Prediction(\n",
      "    assessment_answer='2'\n",
      ")\n",
      "Prediction(\n",
      "    assessment_answer='3'\n",
      ")\n",
      "Prediction(\n",
      "    assessment_answer='2'\n",
      ")\n",
      "Prediction(\n",
      "    assessment_answer='2'\n",
      ")\n",
      "Prediction(\n",
      "    assessment_answer='3'\n",
      ")\n",
      "Prediction(\n",
      "    assessment_answer='3'\n",
      ")\n",
      "Prediction(\n",
      "    assessment_answer='3'\n",
      ")\n",
      "Prediction(\n",
      "    assessment_answer='4'\n",
      ")\n",
      "Prediction(\n",
      "    assessment_answer='3'\n",
      ")\n",
      "Prediction(\n",
      "    assessment_answer='2'\n",
      ")\n",
      "Prediction(\n",
      "    assessment_answer='3'\n",
      ")\n",
      "Prediction(\n",
      "    assessment_answer='2'\n",
      ")\n",
      "Prediction(\n",
      "    assessment_answer='3'\n",
      ")\n",
      "Prediction(\n",
      "    assessment_answer='3'\n",
      ")\n",
      "Prediction(\n",
      "    assessment_answer='3'\n",
      ")\n",
      "Prediction(\n",
      "    assessment_answer='2'\n",
      ")\n",
      "Prediction(\n",
      "    assessment_answer='3'\n",
      ")\n",
      "Prediction(\n",
      "    assessment_answer='3'\n",
      ")\n",
      "Prediction(\n",
      "    assessment_answer='3'\n",
      ")\n",
      "Prediction(\n",
      "    assessment_answer='3'\n",
      ")\n",
      "Prediction(\n",
      "    assessment_answer='3'\n",
      ")\n",
      "Prediction(\n",
      "    assessment_answer='3'\n",
      ")\n",
      "Prediction(\n",
      "    assessment_answer='3'\n",
      ")\n",
      "Prediction(\n",
      "    assessment_answer='3'\n",
      ")\n",
      "Prediction(\n",
      "    assessment_answer='3'\n",
      ")\n",
      "Prediction(\n",
      "    assessment_answer='3'\n",
      ")\n",
      "Prediction(\n",
      "    assessment_answer='3'\n",
      ")\n",
      "Prediction(\n",
      "    assessment_answer='3'\n",
      ")\n",
      "Prediction(\n",
      "    assessment_answer='3'\n",
      ")\n",
      "Prediction(\n",
      "    assessment_answer='4'\n",
      ")\n",
      "Prediction(\n",
      "    assessment_answer='3'\n",
      ")\n",
      "Prediction(\n",
      "    assessment_answer='3'\n",
      ")\n",
      "Prediction(\n",
      "    assessment_answer='3'\n",
      ")\n",
      "Prediction(\n",
      "    assessment_answer='3'\n",
      ")\n",
      "Prediction(\n",
      "    assessment_answer='3'\n",
      ")\n",
      "Prediction(\n",
      "    assessment_answer='3'\n",
      ")\n",
      "Prediction(\n",
      "    assessment_answer='3'\n",
      ")\n",
      "Prediction(\n",
      "    assessment_answer='3'\n",
      ")\n",
      "Prediction(\n",
      "    assessment_answer='2'\n",
      ")\n",
      "Prediction(\n",
      "    assessment_answer='3'\n",
      ")\n",
      "Prediction(\n",
      "    assessment_answer='3'\n",
      ")\n",
      "Prediction(\n",
      "    assessment_answer='4'\n",
      ")\n",
      "Prediction(\n",
      "    assessment_answer='2'\n",
      ")\n",
      "Prediction(\n",
      "    assessment_answer='3'\n",
      ")\n",
      "Prediction(\n",
      "    assessment_answer='3'\n",
      ")\n",
      "Prediction(\n",
      "    assessment_answer='3'\n",
      ")\n"
     ]
    },
    {
     "name": "stderr",
     "output_type": "stream",
     "text": [
      "Average Metric: 576 / 200  (288.0): 100%|██████████| 200/200 [00:00<00:00, 3450.00it/s]\n",
      "/Users/kevinvegda/Desktop/code/tweet-optim-dspy/.venv/lib/python3.12/site-packages/optuna/_experimental.py:30: ExperimentalWarning: Argument ``multivariate`` is an experimental feature. The interface can change in the future.\n",
      "  warnings.warn(\n"
     ]
    },
    {
     "name": "stdout",
     "output_type": "stream",
     "text": [
      "Default program score: 288.0\n",
      "\n",
      "==> STEP 3: FINDING OPTIMAL PROMPT PARAMETERS <==\n",
      "In this step, we will evaluate the program over a series of trials with different combinations of instructions and few-shot examples to find the optimal combination. Bayesian Optimization will be used for this search process.\n",
      "\n",
      "== Minibatch Trial 1 / 10 ==\n"
     ]
    },
    {
     "name": "stderr",
     "output_type": "stream",
     "text": [
      "Average Metric: 3 / 1  (300.0):   4%|▍         | 1/25 [00:01<00:42,  1.77s/it]"
     ]
    },
    {
     "name": "stdout",
     "output_type": "stream",
     "text": [
      "Prediction(\n",
      "    assessment_answer='3'\n",
      ")\n"
     ]
    },
    {
     "name": "stderr",
     "output_type": "stream",
     "text": [
      "Average Metric: 6 / 2  (300.0):   8%|▊         | 2/25 [00:02<00:25,  1.09s/it]"
     ]
    },
    {
     "name": "stdout",
     "output_type": "stream",
     "text": [
      "Prediction(\n",
      "    assessment_answer='3'\n",
      ")\n"
     ]
    },
    {
     "name": "stderr",
     "output_type": "stream",
     "text": [
      "Average Metric: 13 / 4  (325.0):  12%|█▏        | 3/25 [00:03<00:25,  1.15s/it]"
     ]
    },
    {
     "name": "stdout",
     "output_type": "stream",
     "text": [
      "Prediction(\n",
      "    assessment_answer='4'\n",
      ")\n",
      "Prediction(\n",
      "    assessment_answer='3'\n",
      ")\n"
     ]
    },
    {
     "name": "stderr",
     "output_type": "stream",
     "text": [
      "Average Metric: 16 / 5  (320.0):  20%|██        | 5/25 [00:04<00:13,  1.46it/s]"
     ]
    },
    {
     "name": "stdout",
     "output_type": "stream",
     "text": [
      "Prediction(\n",
      "    assessment_answer='3'\n",
      ")\n"
     ]
    },
    {
     "name": "stderr",
     "output_type": "stream",
     "text": [
      "Average Metric: 22 / 7  (314.3):  24%|██▍       | 6/25 [00:06<00:18,  1.02it/s]"
     ]
    },
    {
     "name": "stdout",
     "output_type": "stream",
     "text": [
      "Prediction(\n",
      "    assessment_answer='3'\n",
      ")\n",
      "Prediction(\n",
      "    assessment_answer='3'\n",
      ")\n"
     ]
    },
    {
     "name": "stderr",
     "output_type": "stream",
     "text": [
      "Average Metric: 25 / 8  (312.5):  32%|███▏      | 8/25 [00:08<00:17,  1.03s/it]"
     ]
    },
    {
     "name": "stdout",
     "output_type": "stream",
     "text": [
      "Prediction(\n",
      "    assessment_answer='3'\n",
      ")\n"
     ]
    },
    {
     "name": "stderr",
     "output_type": "stream",
     "text": [
      "Average Metric: 28 / 9  (311.1):  36%|███▌      | 9/25 [00:08<00:13,  1.18it/s]"
     ]
    },
    {
     "name": "stdout",
     "output_type": "stream",
     "text": [
      "Prediction(\n",
      "    assessment_answer='3'\n",
      ")\n"
     ]
    },
    {
     "name": "stderr",
     "output_type": "stream",
     "text": [
      "Average Metric: 31 / 10  (310.0):  40%|████      | 10/25 [00:09<00:14,  1.00it/s]"
     ]
    },
    {
     "name": "stdout",
     "output_type": "stream",
     "text": [
      "Prediction(\n",
      "    assessment_answer='3'\n",
      ")\n"
     ]
    },
    {
     "name": "stderr",
     "output_type": "stream",
     "text": [
      "Average Metric: 34 / 11  (309.1):  44%|████▍     | 11/25 [00:11<00:16,  1.16s/it]"
     ]
    },
    {
     "name": "stdout",
     "output_type": "stream",
     "text": [
      "Prediction(\n",
      "    assessment_answer='3'\n",
      ")\n"
     ]
    },
    {
     "name": "stderr",
     "output_type": "stream",
     "text": [
      "Average Metric: 37 / 12  (308.3):  48%|████▊     | 12/25 [00:12<00:13,  1.08s/it]"
     ]
    },
    {
     "name": "stdout",
     "output_type": "stream",
     "text": [
      "Prediction(\n",
      "    assessment_answer='3'\n",
      ")\n"
     ]
    },
    {
     "name": "stderr",
     "output_type": "stream",
     "text": [
      "Average Metric: 43 / 14  (307.1):  52%|█████▏    | 13/25 [00:13<00:12,  1.05s/it]"
     ]
    },
    {
     "name": "stdout",
     "output_type": "stream",
     "text": [
      "Prediction(\n",
      "    assessment_answer='3'\n",
      ")\n",
      "Prediction(\n",
      "    assessment_answer='3'\n",
      ")\n"
     ]
    },
    {
     "name": "stderr",
     "output_type": "stream",
     "text": [
      "Average Metric: 46 / 15  (306.7):  60%|██████    | 15/25 [00:14<00:07,  1.36it/s]"
     ]
    },
    {
     "name": "stdout",
     "output_type": "stream",
     "text": [
      "Prediction(\n",
      "    assessment_answer='3'\n",
      ")\n"
     ]
    },
    {
     "name": "stderr",
     "output_type": "stream",
     "text": [
      "Average Metric: 49 / 16  (306.2):  64%|██████▍   | 16/25 [00:15<00:07,  1.20it/s]"
     ]
    },
    {
     "name": "stdout",
     "output_type": "stream",
     "text": [
      "Prediction(\n",
      "    assessment_answer='3'\n",
      ")\n"
     ]
    },
    {
     "name": "stderr",
     "output_type": "stream",
     "text": [
      "Average Metric: 61 / 20  (305.0):  76%|███████▌  | 19/25 [00:15<00:04,  1.26it/s]"
     ]
    },
    {
     "name": "stdout",
     "output_type": "stream",
     "text": [
      "Prediction(\n",
      "    assessment_answer='3'\n",
      ")\n",
      "Prediction(\n",
      "    assessment_answer='3'\n",
      ")\n",
      "Prediction(\n",
      "    assessment_answer='3'\n",
      ")\n",
      "Prediction(\n",
      "    assessment_answer='3'\n",
      ")\n"
     ]
    },
    {
     "name": "stderr",
     "output_type": "stream",
     "text": [
      "Average Metric: 64 / 21  (304.8):  84%|████████▍ | 21/25 [00:17<00:01,  2.00it/s]"
     ]
    },
    {
     "name": "stdout",
     "output_type": "stream",
     "text": [
      "Prediction(\n",
      "    assessment_answer='3'\n",
      ")\n"
     ]
    },
    {
     "name": "stderr",
     "output_type": "stream",
     "text": [
      "Average Metric: 67 / 22  (304.5):  88%|████████▊ | 22/25 [00:17<00:01,  1.82it/s]"
     ]
    },
    {
     "name": "stdout",
     "output_type": "stream",
     "text": [
      "Prediction(\n",
      "    assessment_answer='3'\n",
      ")\n"
     ]
    },
    {
     "name": "stderr",
     "output_type": "stream",
     "text": [
      "Average Metric: 70 / 23  (304.3):  92%|█████████▏| 23/25 [00:19<00:01,  1.39it/s]"
     ]
    },
    {
     "name": "stdout",
     "output_type": "stream",
     "text": [
      "Prediction(\n",
      "    assessment_answer='3'\n",
      ")\n"
     ]
    },
    {
     "name": "stderr",
     "output_type": "stream",
     "text": [
      "Average Metric: 73 / 24  (304.2):  96%|█████████▌| 24/25 [00:20<00:00,  1.21it/s]"
     ]
    },
    {
     "name": "stdout",
     "output_type": "stream",
     "text": [
      "Prediction(\n",
      "    assessment_answer='3'\n",
      ")\n"
     ]
    },
    {
     "name": "stderr",
     "output_type": "stream",
     "text": [
      "Average Metric: 76 / 25  (304.0): 100%|██████████| 25/25 [00:21<00:00,  1.17it/s]\n"
     ]
    },
    {
     "name": "stdout",
     "output_type": "stream",
     "text": [
      "Prediction(\n",
      "    assessment_answer='3'\n",
      ")\n",
      "Score: 304.0 on minibatch of size 25 with parameters ['Predictor 1: Instruction 1', 'Predictor 1: Few-Shot Set 5'].\n",
      "\n",
      "\n",
      "== Minibatch Trial 2 / 10 ==\n"
     ]
    },
    {
     "name": "stderr",
     "output_type": "stream",
     "text": [
      "Average Metric: 6 / 2  (300.0):   4%|▍         | 1/25 [00:05<02:00,  5.03s/it]"
     ]
    },
    {
     "name": "stdout",
     "output_type": "stream",
     "text": [
      "Prediction(\n",
      "    assessment_answer='3'\n",
      ")\n",
      "Prediction(\n",
      "    assessment_answer='3'\n",
      ")\n"
     ]
    },
    {
     "name": "stderr",
     "output_type": "stream",
     "text": [
      "Average Metric: 13 / 4  (325.0):  12%|█▏        | 3/25 [00:10<01:09,  3.16s/it]"
     ]
    },
    {
     "name": "stdout",
     "output_type": "stream",
     "text": [
      "Prediction(\n",
      "    assessment_answer='4'\n",
      ")\n",
      "Prediction(\n",
      "    assessment_answer='3'\n",
      ")\n"
     ]
    },
    {
     "name": "stderr",
     "output_type": "stream",
     "text": [
      "Average Metric: 19 / 6  (316.7):  20%|██        | 5/25 [00:14<00:54,  2.74s/it]"
     ]
    },
    {
     "name": "stdout",
     "output_type": "stream",
     "text": [
      "Prediction(\n",
      "    assessment_answer='3'\n",
      ")\n",
      "Prediction(\n",
      "    assessment_answer='3'\n",
      ")\n"
     ]
    },
    {
     "name": "stderr",
     "output_type": "stream",
     "text": [
      "Average Metric: 22 / 7  (314.3):  28%|██▊       | 7/25 [00:20<00:49,  2.77s/it]"
     ]
    },
    {
     "name": "stdout",
     "output_type": "stream",
     "text": [
      "Prediction(\n",
      "    assessment_answer='3'\n",
      ")\n"
     ]
    },
    {
     "name": "stderr",
     "output_type": "stream",
     "text": [
      "Average Metric: 25 / 8  (312.5):  32%|███▏      | 8/25 [00:20<00:38,  2.27s/it]"
     ]
    },
    {
     "name": "stdout",
     "output_type": "stream",
     "text": [
      "Prediction(\n",
      "    assessment_answer='3'\n",
      ")\n"
     ]
    },
    {
     "name": "stderr",
     "output_type": "stream",
     "text": [
      "Average Metric: 28 / 9  (311.1):  36%|███▌      | 9/25 [00:25<00:44,  2.81s/it]"
     ]
    },
    {
     "name": "stdout",
     "output_type": "stream",
     "text": [
      "Prediction(\n",
      "    assessment_answer='3'\n",
      ")\n"
     ]
    },
    {
     "name": "stderr",
     "output_type": "stream",
     "text": [
      "Average Metric: 31 / 10  (310.0):  40%|████      | 10/25 [00:26<00:36,  2.41s/it]"
     ]
    },
    {
     "name": "stdout",
     "output_type": "stream",
     "text": [
      "Prediction(\n",
      "    assessment_answer='3'\n",
      ")\n"
     ]
    },
    {
     "name": "stderr",
     "output_type": "stream",
     "text": [
      "Average Metric: 37 / 12  (308.3):  44%|████▍     | 11/25 [00:31<00:43,  3.08s/it]"
     ]
    },
    {
     "name": "stdout",
     "output_type": "stream",
     "text": [
      "Prediction(\n",
      "    assessment_answer='3'\n",
      ")\n",
      "Prediction(\n",
      "    assessment_answer='3'\n",
      ")\n"
     ]
    },
    {
     "name": "stderr",
     "output_type": "stream",
     "text": [
      "Average Metric: 43 / 14  (307.1):  56%|█████▌    | 14/25 [00:36<00:23,  2.16s/it]"
     ]
    },
    {
     "name": "stdout",
     "output_type": "stream",
     "text": [
      "Prediction(\n",
      "    assessment_answer='3'\n",
      ")\n",
      "Prediction(\n",
      "    assessment_answer='3'\n",
      ")\n"
     ]
    },
    {
     "name": "stderr",
     "output_type": "stream",
     "text": [
      "Average Metric: 46 / 15  (306.7):  60%|██████    | 15/25 [00:41<00:27,  2.75s/it]"
     ]
    },
    {
     "name": "stdout",
     "output_type": "stream",
     "text": [
      "Prediction(\n",
      "    assessment_answer='3'\n",
      ")\n"
     ]
    },
    {
     "name": "stderr",
     "output_type": "stream",
     "text": [
      "Average Metric: 49 / 16  (306.2):  64%|██████▍   | 16/25 [00:41<00:20,  2.27s/it]"
     ]
    },
    {
     "name": "stdout",
     "output_type": "stream",
     "text": [
      "Prediction(\n",
      "    assessment_answer='3'\n",
      ")\n"
     ]
    },
    {
     "name": "stderr",
     "output_type": "stream",
     "text": [
      "Average Metric: 52 / 17  (305.9):  68%|██████▊   | 17/25 [00:45<00:21,  2.66s/it]"
     ]
    },
    {
     "name": "stdout",
     "output_type": "stream",
     "text": [
      "Prediction(\n",
      "    assessment_answer='3'\n",
      ")\n"
     ]
    },
    {
     "name": "stderr",
     "output_type": "stream",
     "text": [
      "Average Metric: 55 / 18  (305.6):  72%|███████▏  | 18/25 [00:47<00:16,  2.34s/it]"
     ]
    },
    {
     "name": "stdout",
     "output_type": "stream",
     "text": [
      "Prediction(\n",
      "    assessment_answer='3'\n",
      ")\n"
     ]
    },
    {
     "name": "stderr",
     "output_type": "stream",
     "text": [
      "Average Metric: 58 / 19  (305.3):  76%|███████▌  | 19/25 [00:49<00:13,  2.33s/it]"
     ]
    },
    {
     "name": "stdout",
     "output_type": "stream",
     "text": [
      "Prediction(\n",
      "    assessment_answer='3'\n",
      ")\n"
     ]
    },
    {
     "name": "stderr",
     "output_type": "stream",
     "text": [
      "Average Metric: 62 / 20  (310.0):  80%|████████  | 20/25 [00:51<00:11,  2.27s/it]"
     ]
    },
    {
     "name": "stdout",
     "output_type": "stream",
     "text": [
      "Prediction(\n",
      "    assessment_answer='4'\n",
      ")\n"
     ]
    },
    {
     "name": "stderr",
     "output_type": "stream",
     "text": [
      "Average Metric: 65 / 21  (309.5):  84%|████████▍ | 21/25 [00:53<00:09,  2.30s/it]"
     ]
    },
    {
     "name": "stdout",
     "output_type": "stream",
     "text": [
      "Prediction(\n",
      "    assessment_answer='3'\n",
      ")\n"
     ]
    },
    {
     "name": "stderr",
     "output_type": "stream",
     "text": [
      "Average Metric: 68 / 22  (309.1):  88%|████████▊ | 22/25 [00:55<00:06,  2.12s/it]"
     ]
    },
    {
     "name": "stdout",
     "output_type": "stream",
     "text": [
      "Prediction(\n",
      "    assessment_answer='3'\n",
      ")\n"
     ]
    },
    {
     "name": "stderr",
     "output_type": "stream",
     "text": [
      "Average Metric: 71 / 23  (308.7):  92%|█████████▏| 23/25 [00:57<00:04,  2.13s/it]"
     ]
    },
    {
     "name": "stdout",
     "output_type": "stream",
     "text": [
      "Prediction(\n",
      "    assessment_answer='3'\n",
      ")\n"
     ]
    },
    {
     "name": "stderr",
     "output_type": "stream",
     "text": [
      "Average Metric: 74 / 24  (308.3):  96%|█████████▌| 24/25 [00:59<00:02,  2.13s/it]"
     ]
    },
    {
     "name": "stdout",
     "output_type": "stream",
     "text": [
      "Prediction(\n",
      "    assessment_answer='3'\n",
      ")\n"
     ]
    },
    {
     "name": "stderr",
     "output_type": "stream",
     "text": [
      "Average Metric: 77 / 25  (308.0): 100%|██████████| 25/25 [01:05<00:00,  2.61s/it]\n"
     ]
    },
    {
     "name": "stdout",
     "output_type": "stream",
     "text": [
      "Prediction(\n",
      "    assessment_answer='3'\n",
      ")\n",
      "Score: 308.0 on minibatch of size 25 with parameters ['Predictor 1: Instruction 2', 'Predictor 1: Few-Shot Set 5'].\n",
      "\n",
      "\n",
      "== Minibatch Trial 3 / 10 ==\n"
     ]
    },
    {
     "name": "stderr",
     "output_type": "stream",
     "text": [
      "Average Metric: 3 / 1  (300.0):   4%|▍         | 1/25 [00:03<01:29,  3.73s/it]"
     ]
    },
    {
     "name": "stdout",
     "output_type": "stream",
     "text": [
      "Prediction(\n",
      "    assessment_answer='3'\n",
      ")\n"
     ]
    },
    {
     "name": "stderr",
     "output_type": "stream",
     "text": [
      "Average Metric: 6 / 2  (300.0):   8%|▊         | 2/25 [00:03<00:37,  1.65s/it]"
     ]
    },
    {
     "name": "stdout",
     "output_type": "stream",
     "text": [
      "Prediction(\n",
      "    assessment_answer='3'\n",
      ")\n"
     ]
    },
    {
     "name": "stderr",
     "output_type": "stream",
     "text": [
      "Average Metric: 12 / 4  (300.0):  12%|█▏        | 3/25 [00:07<00:55,  2.51s/it]"
     ]
    },
    {
     "name": "stdout",
     "output_type": "stream",
     "text": [
      "Prediction(\n",
      "    assessment_answer='3'\n",
      ")\n",
      "Prediction(\n",
      "    assessment_answer='3'\n",
      ")\n"
     ]
    },
    {
     "name": "stderr",
     "output_type": "stream",
     "text": [
      "Average Metric: 15 / 5  (300.0):  20%|██        | 5/25 [00:08<00:25,  1.27s/it]"
     ]
    },
    {
     "name": "stdout",
     "output_type": "stream",
     "text": [
      "Prediction(\n",
      "    assessment_answer='3'\n",
      ")\n"
     ]
    },
    {
     "name": "stderr",
     "output_type": "stream",
     "text": [
      "Average Metric: 21 / 7  (300.0):  24%|██▍       | 6/25 [00:11<00:36,  1.92s/it]"
     ]
    },
    {
     "name": "stdout",
     "output_type": "stream",
     "text": [
      "Prediction(\n",
      "    assessment_answer='3'\n",
      ")\n",
      "Prediction(\n",
      "    assessment_answer='3'\n",
      ")\n"
     ]
    },
    {
     "name": "stderr",
     "output_type": "stream",
     "text": [
      "Average Metric: 27 / 9  (300.0):  32%|███▏      | 8/25 [00:14<00:30,  1.80s/it]"
     ]
    },
    {
     "name": "stdout",
     "output_type": "stream",
     "text": [
      "Prediction(\n",
      "    assessment_answer='3'\n",
      ")\n",
      "Prediction(\n",
      "    assessment_answer='3'\n",
      ")\n"
     ]
    },
    {
     "name": "stderr",
     "output_type": "stream",
     "text": [
      "Average Metric: 30 / 10  (300.0):  40%|████      | 10/25 [00:15<00:17,  1.16s/it]"
     ]
    },
    {
     "name": "stdout",
     "output_type": "stream",
     "text": [
      "Prediction(\n",
      "    assessment_answer='3'\n",
      ")\n"
     ]
    },
    {
     "name": "stderr",
     "output_type": "stream",
     "text": [
      "Average Metric: 34 / 11  (309.1):  44%|████▍     | 11/25 [00:18<00:23,  1.69s/it]"
     ]
    },
    {
     "name": "stdout",
     "output_type": "stream",
     "text": [
      "Prediction(\n",
      "    assessment_answer='4'\n",
      ")\n"
     ]
    },
    {
     "name": "stderr",
     "output_type": "stream",
     "text": [
      "Average Metric: 37 / 12  (308.3):  48%|████▊     | 12/25 [00:19<00:17,  1.34s/it]"
     ]
    },
    {
     "name": "stdout",
     "output_type": "stream",
     "text": [
      "Prediction(\n",
      "    assessment_answer='3'\n",
      ")\n"
     ]
    },
    {
     "name": "stderr",
     "output_type": "stream",
     "text": [
      "Average Metric: 40 / 13  (307.7):  52%|█████▏    | 13/25 [00:22<00:23,  1.96s/it]"
     ]
    },
    {
     "name": "stdout",
     "output_type": "stream",
     "text": [
      "Prediction(\n",
      "    assessment_answer='3'\n",
      ")\n"
     ]
    },
    {
     "name": "stderr",
     "output_type": "stream",
     "text": [
      "Average Metric: 43 / 14  (307.1):  56%|█████▌    | 14/25 [00:23<00:17,  1.62s/it]"
     ]
    },
    {
     "name": "stdout",
     "output_type": "stream",
     "text": [
      "Prediction(\n",
      "    assessment_answer='3'\n",
      ")\n"
     ]
    },
    {
     "name": "stderr",
     "output_type": "stream",
     "text": [
      "Average Metric: 46 / 15  (306.7):  60%|██████    | 15/25 [00:26<00:18,  1.90s/it]"
     ]
    },
    {
     "name": "stdout",
     "output_type": "stream",
     "text": [
      "Prediction(\n",
      "    assessment_answer='3'\n",
      ")\n"
     ]
    },
    {
     "name": "stderr",
     "output_type": "stream",
     "text": [
      "Average Metric: 50 / 16  (312.5):  64%|██████▍   | 16/25 [00:27<00:14,  1.64s/it]"
     ]
    },
    {
     "name": "stdout",
     "output_type": "stream",
     "text": [
      "Prediction(\n",
      "    assessment_answer='4'\n",
      ")\n"
     ]
    },
    {
     "name": "stderr",
     "output_type": "stream",
     "text": [
      "Average Metric: 53 / 17  (311.8):  68%|██████▊   | 17/25 [00:30<00:16,  2.11s/it]"
     ]
    },
    {
     "name": "stdout",
     "output_type": "stream",
     "text": [
      "Prediction(\n",
      "    assessment_answer='3'\n",
      ")\n"
     ]
    },
    {
     "name": "stderr",
     "output_type": "stream",
     "text": [
      "Average Metric: 56 / 18  (311.1):  72%|███████▏  | 18/25 [00:31<00:11,  1.68s/it]"
     ]
    },
    {
     "name": "stdout",
     "output_type": "stream",
     "text": [
      "Prediction(\n",
      "    assessment_answer='3'\n",
      ")\n"
     ]
    },
    {
     "name": "stderr",
     "output_type": "stream",
     "text": [
      "Average Metric: 59 / 19  (310.5):  76%|███████▌  | 19/25 [00:34<00:12,  2.15s/it]"
     ]
    },
    {
     "name": "stdout",
     "output_type": "stream",
     "text": [
      "Prediction(\n",
      "    assessment_answer='3'\n",
      ")\n"
     ]
    },
    {
     "name": "stderr",
     "output_type": "stream",
     "text": [
      "Average Metric: 63 / 20  (315.0):  80%|████████  | 20/25 [00:34<00:08,  1.66s/it]"
     ]
    },
    {
     "name": "stdout",
     "output_type": "stream",
     "text": [
      "Prediction(\n",
      "    assessment_answer='4'\n",
      ")\n"
     ]
    },
    {
     "name": "stderr",
     "output_type": "stream",
     "text": [
      "Average Metric: 66 / 21  (314.3):  84%|████████▍ | 21/25 [00:38<00:08,  2.12s/it]"
     ]
    },
    {
     "name": "stdout",
     "output_type": "stream",
     "text": [
      "Prediction(\n",
      "    assessment_answer='3'\n",
      ")\n"
     ]
    },
    {
     "name": "stderr",
     "output_type": "stream",
     "text": [
      "Average Metric: 69 / 22  (313.6):  88%|████████▊ | 22/25 [00:38<00:04,  1.55s/it]"
     ]
    },
    {
     "name": "stdout",
     "output_type": "stream",
     "text": [
      "Prediction(\n",
      "    assessment_answer='3'\n",
      ")\n"
     ]
    },
    {
     "name": "stderr",
     "output_type": "stream",
     "text": [
      "Average Metric: 73 / 23  (317.4):  92%|█████████▏| 23/25 [00:42<00:04,  2.22s/it]"
     ]
    },
    {
     "name": "stdout",
     "output_type": "stream",
     "text": [
      "Prediction(\n",
      "    assessment_answer='4'\n",
      ")\n"
     ]
    },
    {
     "name": "stderr",
     "output_type": "stream",
     "text": [
      "Average Metric: 77 / 24  (320.8):  96%|█████████▌| 24/25 [00:43<00:01,  1.84s/it]"
     ]
    },
    {
     "name": "stdout",
     "output_type": "stream",
     "text": [
      "Prediction(\n",
      "    assessment_answer='4'\n",
      ")\n"
     ]
    },
    {
     "name": "stderr",
     "output_type": "stream",
     "text": [
      "Average Metric: 80 / 25  (320.0): 100%|██████████| 25/25 [00:46<00:00,  1.85s/it]\n"
     ]
    },
    {
     "name": "stdout",
     "output_type": "stream",
     "text": [
      "Prediction(\n",
      "    assessment_answer='3'\n",
      ")\n",
      "Score: 320.0 on minibatch of size 25 with parameters ['Predictor 1: Instruction 4', 'Predictor 1: Few-Shot Set 1'].\n",
      "\n",
      "\n",
      "== Minibatch Trial 4 / 10 ==\n"
     ]
    },
    {
     "name": "stderr",
     "output_type": "stream",
     "text": [
      "Average Metric: 7 / 2  (350.0):   4%|▍         | 1/25 [00:08<03:16,  8.18s/it]"
     ]
    },
    {
     "name": "stdout",
     "output_type": "stream",
     "text": [
      "Prediction(\n",
      "    assessment_answer='3'\n",
      ")\n",
      "Prediction(\n",
      "    assessment_answer='4'\n",
      ")\n"
     ]
    },
    {
     "name": "stderr",
     "output_type": "stream",
     "text": [
      "Average Metric: 13 / 4  (325.0):  16%|█▌        | 4/25 [00:13<00:55,  2.64s/it]"
     ]
    },
    {
     "name": "stdout",
     "output_type": "stream",
     "text": [
      "Prediction(\n",
      "    assessment_answer='3'\n",
      ")\n",
      "Prediction(\n",
      "    assessment_answer='3'\n",
      ")\n"
     ]
    },
    {
     "name": "stderr",
     "output_type": "stream",
     "text": [
      "Average Metric: 16 / 5  (320.0):  20%|██        | 5/25 [00:18<01:11,  3.55s/it]"
     ]
    },
    {
     "name": "stdout",
     "output_type": "stream",
     "text": [
      "Prediction(\n",
      "    assessment_answer='3'\n",
      ")\n"
     ]
    },
    {
     "name": "stderr",
     "output_type": "stream",
     "text": [
      "Average Metric: 20 / 6  (333.3):  24%|██▍       | 6/25 [00:18<00:47,  2.49s/it]"
     ]
    },
    {
     "name": "stdout",
     "output_type": "stream",
     "text": [
      "Prediction(\n",
      "    assessment_answer='4'\n",
      ")\n"
     ]
    },
    {
     "name": "stderr",
     "output_type": "stream",
     "text": [
      "Average Metric: 29 / 9  (322.2):  32%|███▏      | 8/25 [00:24<00:58,  3.46s/it]"
     ]
    },
    {
     "name": "stdout",
     "output_type": "stream",
     "text": [
      "Prediction(\n",
      "    assessment_answer='3'\n",
      ")\n",
      "Prediction(\n",
      "    assessment_answer='3'\n",
      ")\n",
      "Prediction(\n",
      "    assessment_answer='3'\n",
      ")\n"
     ]
    },
    {
     "name": "stderr",
     "output_type": "stream",
     "text": [
      "Average Metric: 32 / 10  (320.0):  40%|████      | 10/25 [00:25<00:23,  1.57s/it]"
     ]
    },
    {
     "name": "stdout",
     "output_type": "stream",
     "text": [
      "Prediction(\n",
      "    assessment_answer='3'\n",
      ")\n"
     ]
    },
    {
     "name": "stderr",
     "output_type": "stream",
     "text": [
      "Average Metric: 35 / 11  (318.2):  44%|████▍     | 11/25 [00:32<00:38,  2.76s/it]"
     ]
    },
    {
     "name": "stdout",
     "output_type": "stream",
     "text": [
      "Prediction(\n",
      "    assessment_answer='3'\n",
      ")\n"
     ]
    },
    {
     "name": "stderr",
     "output_type": "stream",
     "text": [
      "Average Metric: 38 / 12  (316.7):  48%|████▊     | 12/25 [00:32<00:29,  2.26s/it]"
     ]
    },
    {
     "name": "stdout",
     "output_type": "stream",
     "text": [
      "Prediction(\n",
      "    assessment_answer='3'\n",
      ")\n"
     ]
    },
    {
     "name": "stderr",
     "output_type": "stream",
     "text": [
      "Average Metric: 41 / 13  (315.4):  52%|█████▏    | 13/25 [00:38<00:36,  3.05s/it]"
     ]
    },
    {
     "name": "stdout",
     "output_type": "stream",
     "text": [
      "Prediction(\n",
      "    assessment_answer='3'\n",
      ")\n"
     ]
    },
    {
     "name": "stderr",
     "output_type": "stream",
     "text": [
      "Average Metric: 44 / 14  (314.3):  56%|█████▌    | 14/25 [00:43<00:40,  3.71s/it]"
     ]
    },
    {
     "name": "stdout",
     "output_type": "stream",
     "text": [
      "Prediction(\n",
      "    assessment_answer='3'\n",
      ")\n"
     ]
    },
    {
     "name": "stderr",
     "output_type": "stream",
     "text": [
      "Average Metric: 47 / 15  (313.3):  60%|██████    | 15/25 [00:43<00:27,  2.76s/it]"
     ]
    },
    {
     "name": "stdout",
     "output_type": "stream",
     "text": [
      "Prediction(\n",
      "    assessment_answer='3'\n",
      ")\n"
     ]
    },
    {
     "name": "stderr",
     "output_type": "stream",
     "text": [
      "Average Metric: 56 / 18  (311.1):  68%|██████▊   | 17/25 [00:51<00:32,  4.08s/it]"
     ]
    },
    {
     "name": "stdout",
     "output_type": "stream",
     "text": [
      "Prediction(\n",
      "    assessment_answer='3'\n",
      ")\n",
      "Prediction(\n",
      "    assessment_answer='3'\n",
      ")\n",
      "Prediction(\n",
      "    assessment_answer='3'\n",
      ")\n"
     ]
    },
    {
     "name": "stderr",
     "output_type": "stream",
     "text": [
      "Average Metric: 59 / 19  (310.5):  76%|███████▌  | 19/25 [00:53<00:12,  2.16s/it]"
     ]
    },
    {
     "name": "stdout",
     "output_type": "stream",
     "text": [
      "Prediction(\n",
      "    assessment_answer='3'\n",
      ")\n"
     ]
    },
    {
     "name": "stderr",
     "output_type": "stream",
     "text": [
      "Average Metric: 62 / 20  (310.0):  80%|████████  | 20/25 [01:00<00:16,  3.25s/it]"
     ]
    },
    {
     "name": "stdout",
     "output_type": "stream",
     "text": [
      "Prediction(\n",
      "    assessment_answer='3'\n",
      ")\n"
     ]
    },
    {
     "name": "stderr",
     "output_type": "stream",
     "text": [
      "Average Metric: 65 / 21  (309.5):  84%|████████▍ | 21/25 [01:02<00:11,  2.87s/it]"
     ]
    },
    {
     "name": "stdout",
     "output_type": "stream",
     "text": [
      "Prediction(\n",
      "    assessment_answer='3'\n",
      ")\n"
     ]
    },
    {
     "name": "stderr",
     "output_type": "stream",
     "text": [
      "Average Metric: 71 / 23  (308.7):  88%|████████▊ | 22/25 [01:09<00:12,  4.06s/it]"
     ]
    },
    {
     "name": "stdout",
     "output_type": "stream",
     "text": [
      "Prediction(\n",
      "    assessment_answer='3'\n",
      ")\n",
      "Prediction(\n",
      "    assessment_answer='3'\n",
      ")\n"
     ]
    },
    {
     "name": "stderr",
     "output_type": "stream",
     "text": [
      "Average Metric: 74 / 24  (308.3):  96%|█████████▌| 24/25 [01:19<00:04,  4.31s/it]"
     ]
    },
    {
     "name": "stdout",
     "output_type": "stream",
     "text": [
      "Prediction(\n",
      "    assessment_answer='3'\n",
      ")\n"
     ]
    },
    {
     "name": "stderr",
     "output_type": "stream",
     "text": [
      "Average Metric: 77 / 25  (308.0): 100%|██████████| 25/25 [01:20<00:00,  3.21s/it]\n"
     ]
    },
    {
     "name": "stdout",
     "output_type": "stream",
     "text": [
      "Prediction(\n",
      "    assessment_answer='3'\n",
      ")\n",
      "Score: 308.0 on minibatch of size 25 with parameters ['Predictor 1: Instruction 6', 'Predictor 1: Few-Shot Set 1'].\n",
      "\n",
      "\n",
      "== Minibatch Trial 5 / 10 ==\n",
      "Prediction(\n",
      "    assessment_answer='3'\n",
      ")\n",
      "Prediction(\n",
      "    assessment_answer='3'\n",
      ")\n",
      "Prediction(\n",
      "    assessment_answer='3'\n",
      ")\n"
     ]
    },
    {
     "name": "stderr",
     "output_type": "stream",
     "text": [
      "Average Metric: 15 / 5  (300.0):  16%|█▌        | 4/25 [00:09<00:50,  2.40s/it] "
     ]
    },
    {
     "name": "stdout",
     "output_type": "stream",
     "text": [
      "Prediction(\n",
      "    assessment_answer='3'\n",
      ")\n",
      "Prediction(\n",
      "    assessment_answer='3'\n",
      ")\n"
     ]
    },
    {
     "name": "stderr",
     "output_type": "stream",
     "text": [
      "Average Metric: 22 / 7  (314.3):  24%|██▍       | 6/25 [00:11<00:33,  1.76s/it]"
     ]
    },
    {
     "name": "stdout",
     "output_type": "stream",
     "text": [
      "Prediction(\n",
      "    assessment_answer='4'\n",
      ")\n",
      "Prediction(\n",
      "    assessment_answer='3'\n",
      ")\n"
     ]
    },
    {
     "name": "stderr",
     "output_type": "stream",
     "text": [
      "Average Metric: 25 / 8  (312.5):  32%|███▏      | 8/25 [00:17<00:38,  2.24s/it]"
     ]
    },
    {
     "name": "stdout",
     "output_type": "stream",
     "text": [
      "Prediction(\n",
      "    assessment_answer='3'\n",
      ")\n"
     ]
    },
    {
     "name": "stderr",
     "output_type": "stream",
     "text": [
      "Average Metric: 29 / 9  (322.2):  36%|███▌      | 9/25 [00:18<00:30,  1.90s/it]"
     ]
    },
    {
     "name": "stdout",
     "output_type": "stream",
     "text": [
      "Prediction(\n",
      "    assessment_answer='4'\n",
      ")\n"
     ]
    },
    {
     "name": "stderr",
     "output_type": "stream",
     "text": [
      "Average Metric: 32 / 10  (320.0):  40%|████      | 10/25 [00:24<00:44,  2.99s/it]"
     ]
    },
    {
     "name": "stdout",
     "output_type": "stream",
     "text": [
      "Prediction(\n",
      "    assessment_answer='3'\n",
      ")\n"
     ]
    },
    {
     "name": "stderr",
     "output_type": "stream",
     "text": [
      "Average Metric: 36 / 11  (327.3):  44%|████▍     | 11/25 [00:27<00:39,  2.83s/it]"
     ]
    },
    {
     "name": "stdout",
     "output_type": "stream",
     "text": [
      "Prediction(\n",
      "    assessment_answer='4'\n",
      ")\n"
     ]
    },
    {
     "name": "stderr",
     "output_type": "stream",
     "text": [
      "Average Metric: 43 / 13  (330.8):  48%|████▊     | 12/25 [00:33<00:48,  3.70s/it]"
     ]
    },
    {
     "name": "stdout",
     "output_type": "stream",
     "text": [
      "Prediction(\n",
      "    assessment_answer='4'\n",
      ")\n",
      "Prediction(\n",
      "    assessment_answer='3'\n",
      ")\n"
     ]
    },
    {
     "name": "stderr",
     "output_type": "stream",
     "text": [
      "Average Metric: 47 / 14  (335.7):  56%|█████▌    | 14/25 [00:36<00:30,  2.73s/it]"
     ]
    },
    {
     "name": "stdout",
     "output_type": "stream",
     "text": [
      "Prediction(\n",
      "    assessment_answer='4'\n",
      ")\n"
     ]
    },
    {
     "name": "stderr",
     "output_type": "stream",
     "text": [
      "Average Metric: 51 / 15  (340.0):  60%|██████    | 15/25 [00:41<00:33,  3.38s/it]"
     ]
    },
    {
     "name": "stdout",
     "output_type": "stream",
     "text": [
      "Prediction(\n",
      "    assessment_answer='4'\n",
      ")\n"
     ]
    },
    {
     "name": "stderr",
     "output_type": "stream",
     "text": [
      "Average Metric: 57 / 17  (335.3):  64%|██████▍   | 16/25 [00:43<00:26,  2.99s/it]"
     ]
    },
    {
     "name": "stdout",
     "output_type": "stream",
     "text": [
      "Prediction(\n",
      "    assessment_answer='3'\n",
      ")\n",
      "Prediction(\n",
      "    assessment_answer='3'\n",
      ")\n"
     ]
    },
    {
     "name": "stderr",
     "output_type": "stream",
     "text": [
      "Average Metric: 60 / 18  (333.3):  72%|███████▏  | 18/25 [00:49<00:21,  3.06s/it]"
     ]
    },
    {
     "name": "stdout",
     "output_type": "stream",
     "text": [
      "Prediction(\n",
      "    assessment_answer='3'\n",
      ")\n"
     ]
    },
    {
     "name": "stderr",
     "output_type": "stream",
     "text": [
      "Average Metric: 66 / 20  (330.0):  76%|███████▌  | 19/25 [00:52<00:17,  2.90s/it]"
     ]
    },
    {
     "name": "stdout",
     "output_type": "stream",
     "text": [
      "Prediction(\n",
      "    assessment_answer='3'\n",
      ")\n",
      "Prediction(\n",
      "    assessment_answer='3'\n",
      ")\n"
     ]
    },
    {
     "name": "stderr",
     "output_type": "stream",
     "text": [
      "Average Metric: 72 / 22  (327.3):  84%|████████▍ | 21/25 [01:01<00:14,  3.63s/it]"
     ]
    },
    {
     "name": "stdout",
     "output_type": "stream",
     "text": [
      "Prediction(\n",
      "    assessment_answer='3'\n",
      ")\n",
      "Prediction(\n",
      "    assessment_answer='3'\n",
      ")\n"
     ]
    },
    {
     "name": "stderr",
     "output_type": "stream",
     "text": [
      "Average Metric: 78 / 24  (325.0):  92%|█████████▏| 23/25 [01:03<00:05,  2.64s/it]"
     ]
    },
    {
     "name": "stdout",
     "output_type": "stream",
     "text": [
      "Prediction(\n",
      "    assessment_answer='3'\n",
      ")\n",
      "Prediction(\n",
      "    assessment_answer='3'\n",
      ")\n"
     ]
    },
    {
     "name": "stderr",
     "output_type": "stream",
     "text": [
      "Average Metric: 81 / 25  (324.0): 100%|██████████| 25/25 [01:11<00:00,  2.85s/it]\n"
     ]
    },
    {
     "name": "stdout",
     "output_type": "stream",
     "text": [
      "Prediction(\n",
      "    assessment_answer='3'\n",
      ")\n",
      "Score: 324.0 on minibatch of size 25 with parameters ['Predictor 1: Instruction 6', 'Predictor 1: Few-Shot Set 1'].\n",
      "\n",
      "\n",
      "== Minibatch Trial 6 / 10 ==\n"
     ]
    },
    {
     "name": "stderr",
     "output_type": "stream",
     "text": [
      "Average Metric: 4 / 1  (400.0):   4%|▍         | 1/25 [00:11<04:39, 11.67s/it]"
     ]
    },
    {
     "name": "stdout",
     "output_type": "stream",
     "text": [
      "Prediction(\n",
      "    assessment_answer='4'\n",
      ")\n"
     ]
    },
    {
     "name": "stderr",
     "output_type": "stream",
     "text": [
      "Average Metric: 7 / 2  (350.0):   8%|▊         | 2/25 [00:12<01:57,  5.09s/it]"
     ]
    },
    {
     "name": "stdout",
     "output_type": "stream",
     "text": [
      "Prediction(\n",
      "    assessment_answer='3'\n",
      ")\n"
     ]
    },
    {
     "name": "stderr",
     "output_type": "stream",
     "text": [
      "Average Metric: 10 / 3  (333.3):  12%|█▏        | 3/25 [00:22<02:45,  7.54s/it]"
     ]
    },
    {
     "name": "stdout",
     "output_type": "stream",
     "text": [
      "Prediction(\n",
      "    assessment_answer='3'\n",
      ")\n"
     ]
    },
    {
     "name": "stderr",
     "output_type": "stream",
     "text": [
      "Average Metric: 13 / 4  (325.0):  16%|█▌        | 4/25 [00:24<01:51,  5.33s/it]"
     ]
    },
    {
     "name": "stdout",
     "output_type": "stream",
     "text": [
      "Prediction(\n",
      "    assessment_answer='3'\n",
      ")\n"
     ]
    },
    {
     "name": "stderr",
     "output_type": "stream",
     "text": [
      "Average Metric: 16 / 5  (320.0):  20%|██        | 5/25 [00:35<02:28,  7.43s/it]"
     ]
    },
    {
     "name": "stdout",
     "output_type": "stream",
     "text": [
      "Prediction(\n",
      "    assessment_answer='3'\n",
      ")\n"
     ]
    },
    {
     "name": "stderr",
     "output_type": "stream",
     "text": [
      "Average Metric: 19 / 6  (316.7):  24%|██▍       | 6/25 [00:38<01:49,  5.75s/it]"
     ]
    },
    {
     "name": "stdout",
     "output_type": "stream",
     "text": [
      "Prediction(\n",
      "    assessment_answer='3'\n",
      ")\n"
     ]
    },
    {
     "name": "stderr",
     "output_type": "stream",
     "text": [
      "Average Metric: 22 / 7  (314.3):  28%|██▊       | 7/25 [00:47<02:06,  7.04s/it]"
     ]
    },
    {
     "name": "stdout",
     "output_type": "stream",
     "text": [
      "Prediction(\n",
      "    assessment_answer='3'\n",
      ")\n"
     ]
    },
    {
     "name": "stderr",
     "output_type": "stream",
     "text": [
      "Average Metric: 25 / 8  (312.5):  32%|███▏      | 8/25 [00:50<01:38,  5.78s/it]"
     ]
    },
    {
     "name": "stdout",
     "output_type": "stream",
     "text": [
      "Prediction(\n",
      "    assessment_answer='3'\n",
      ")\n"
     ]
    },
    {
     "name": "stderr",
     "output_type": "stream",
     "text": [
      "Average Metric: 28 / 9  (311.1):  36%|███▌      | 9/25 [01:00<01:48,  6.81s/it]"
     ]
    },
    {
     "name": "stdout",
     "output_type": "stream",
     "text": [
      "Prediction(\n",
      "    assessment_answer='3'\n",
      ")\n"
     ]
    },
    {
     "name": "stderr",
     "output_type": "stream",
     "text": [
      "Average Metric: 32 / 10  (320.0):  40%|████      | 10/25 [01:04<01:31,  6.08s/it]"
     ]
    },
    {
     "name": "stdout",
     "output_type": "stream",
     "text": [
      "Prediction(\n",
      "    assessment_answer='4'\n",
      ")\n"
     ]
    },
    {
     "name": "stderr",
     "output_type": "stream",
     "text": [
      "Average Metric: 38 / 12  (316.7):  44%|████▍     | 11/25 [01:14<01:43,  7.39s/it]"
     ]
    },
    {
     "name": "stdout",
     "output_type": "stream",
     "text": [
      "Prediction(\n",
      "    assessment_answer='3'\n",
      ")\n",
      "Prediction(\n",
      "    assessment_answer='3'\n",
      ")\n"
     ]
    },
    {
     "name": "stderr",
     "output_type": "stream",
     "text": [
      "Average Metric: 42 / 13  (323.1):  52%|█████▏    | 13/25 [01:18<00:57,  4.82s/it]"
     ]
    },
    {
     "name": "stdout",
     "output_type": "stream",
     "text": [
      "Prediction(\n",
      "    assessment_answer='4'\n",
      ")\n"
     ]
    },
    {
     "name": "stderr",
     "output_type": "stream",
     "text": [
      "Average Metric: 45 / 14  (321.4):  56%|█████▌    | 14/25 [01:27<01:04,  5.84s/it]"
     ]
    },
    {
     "name": "stdout",
     "output_type": "stream",
     "text": [
      "Prediction(\n",
      "    assessment_answer='3'\n",
      ")\n"
     ]
    },
    {
     "name": "stderr",
     "output_type": "stream",
     "text": [
      "Average Metric: 48 / 15  (320.0):  60%|██████    | 15/25 [01:29<00:48,  4.88s/it]"
     ]
    },
    {
     "name": "stdout",
     "output_type": "stream",
     "text": [
      "Prediction(\n",
      "    assessment_answer='3'\n",
      ")\n"
     ]
    },
    {
     "name": "stderr",
     "output_type": "stream",
     "text": [
      "Average Metric: 51 / 16  (318.8):  64%|██████▍   | 16/25 [01:39<00:55,  6.20s/it]"
     ]
    },
    {
     "name": "stdout",
     "output_type": "stream",
     "text": [
      "Prediction(\n",
      "    assessment_answer='3'\n",
      ")\n"
     ]
    },
    {
     "name": "stderr",
     "output_type": "stream",
     "text": [
      "Average Metric: 54 / 17  (317.6):  68%|██████▊   | 17/25 [01:41<00:40,  5.00s/it]"
     ]
    },
    {
     "name": "stdout",
     "output_type": "stream",
     "text": [
      "Prediction(\n",
      "    assessment_answer='3'\n",
      ")\n"
     ]
    },
    {
     "name": "stderr",
     "output_type": "stream",
     "text": [
      "Average Metric: 57 / 18  (316.7):  72%|███████▏  | 18/25 [01:48<00:40,  5.76s/it]"
     ]
    },
    {
     "name": "stdout",
     "output_type": "stream",
     "text": [
      "Prediction(\n",
      "    assessment_answer='3'\n",
      ")\n"
     ]
    },
    {
     "name": "stderr",
     "output_type": "stream",
     "text": [
      "Average Metric: 60 / 19  (315.8):  76%|███████▌  | 19/25 [01:55<00:36,  6.03s/it]"
     ]
    },
    {
     "name": "stdout",
     "output_type": "stream",
     "text": [
      "Prediction(\n",
      "    assessment_answer='3'\n",
      ")\n"
     ]
    },
    {
     "name": "stderr",
     "output_type": "stream",
     "text": [
      "Average Metric: 63 / 20  (315.0):  80%|████████  | 20/25 [02:02<00:31,  6.23s/it]"
     ]
    },
    {
     "name": "stdout",
     "output_type": "stream",
     "text": [
      "Prediction(\n",
      "    assessment_answer='3'\n",
      ")\n"
     ]
    },
    {
     "name": "stderr",
     "output_type": "stream",
     "text": [
      "Average Metric: 66 / 21  (314.3):  84%|████████▍ | 21/25 [02:08<00:25,  6.31s/it]"
     ]
    },
    {
     "name": "stdout",
     "output_type": "stream",
     "text": [
      "Prediction(\n",
      "    assessment_answer='3'\n",
      ")\n"
     ]
    },
    {
     "name": "stderr",
     "output_type": "stream",
     "text": [
      "Average Metric: 69 / 22  (313.6):  88%|████████▊ | 22/25 [02:10<00:14,  4.98s/it]"
     ]
    },
    {
     "name": "stdout",
     "output_type": "stream",
     "text": [
      "Prediction(\n",
      "    assessment_answer='3'\n",
      ")\n"
     ]
    },
    {
     "name": "stderr",
     "output_type": "stream",
     "text": [
      "Average Metric: 75 / 24  (312.5):  92%|█████████▏| 23/25 [02:17<00:10,  5.39s/it]"
     ]
    },
    {
     "name": "stdout",
     "output_type": "stream",
     "text": [
      "Prediction(\n",
      "    assessment_answer='3'\n",
      ")\n",
      "Prediction(\n",
      "    assessment_answer='3'\n",
      ")\n"
     ]
    },
    {
     "name": "stderr",
     "output_type": "stream",
     "text": [
      "Average Metric: 78 / 25  (312.0): 100%|██████████| 25/25 [02:17<00:00,  5.52s/it]\n"
     ]
    },
    {
     "name": "stdout",
     "output_type": "stream",
     "text": [
      "Prediction(\n",
      "    assessment_answer='3'\n",
      ")\n",
      "Score: 312.0 on minibatch of size 25 with parameters ['Predictor 1: Instruction 5', 'Predictor 1: Few-Shot Set 6'].\n",
      "\n",
      "\n",
      "== Minibatch Trial 7 / 10 ==\n"
     ]
    },
    {
     "name": "stderr",
     "output_type": "stream",
     "text": [
      "Average Metric: 3 / 1  (300.0):   4%|▍         | 1/25 [00:08<03:18,  8.26s/it]"
     ]
    },
    {
     "name": "stdout",
     "output_type": "stream",
     "text": [
      "Prediction(\n",
      "    assessment_answer='3'\n",
      ")\n"
     ]
    },
    {
     "name": "stderr",
     "output_type": "stream",
     "text": [
      "Average Metric: 6 / 2  (300.0):   8%|▊         | 2/25 [00:10<01:51,  4.86s/it]"
     ]
    },
    {
     "name": "stdout",
     "output_type": "stream",
     "text": [
      "Prediction(\n",
      "    assessment_answer='3'\n",
      ")\n"
     ]
    },
    {
     "name": "stderr",
     "output_type": "stream",
     "text": [
      "Average Metric: 9 / 3  (300.0):  12%|█▏        | 3/25 [00:14<01:39,  4.51s/it]"
     ]
    },
    {
     "name": "stdout",
     "output_type": "stream",
     "text": [
      "Prediction(\n",
      "    assessment_answer='3'\n",
      ")\n"
     ]
    },
    {
     "name": "stderr",
     "output_type": "stream",
     "text": [
      "Average Metric: 12 / 4  (300.0):  16%|█▌        | 4/25 [00:17<01:23,  3.97s/it]"
     ]
    },
    {
     "name": "stdout",
     "output_type": "stream",
     "text": [
      "Prediction(\n",
      "    assessment_answer='3'\n",
      ")\n"
     ]
    },
    {
     "name": "stderr",
     "output_type": "stream",
     "text": [
      "Average Metric: 21 / 7  (300.0):  24%|██▍       | 6/25 [00:24<01:33,  4.90s/it]"
     ]
    },
    {
     "name": "stdout",
     "output_type": "stream",
     "text": [
      "Prediction(\n",
      "    assessment_answer='3'\n",
      ")\n",
      "Prediction(\n",
      "    assessment_answer='3'\n",
      ")\n",
      "Prediction(\n",
      "    assessment_answer='3'\n",
      ")\n"
     ]
    },
    {
     "name": "stderr",
     "output_type": "stream",
     "text": [
      "Average Metric: 24 / 8  (300.0):  32%|███▏      | 8/25 [00:28<00:46,  2.72s/it]"
     ]
    },
    {
     "name": "stdout",
     "output_type": "stream",
     "text": [
      "Prediction(\n",
      "    assessment_answer='3'\n",
      ")\n"
     ]
    },
    {
     "name": "stderr",
     "output_type": "stream",
     "text": [
      "Average Metric: 27 / 9  (300.0):  36%|███▌      | 9/25 [00:32<00:47,  3.00s/it]"
     ]
    },
    {
     "name": "stdout",
     "output_type": "stream",
     "text": [
      "Prediction(\n",
      "    assessment_answer='3'\n",
      ")\n"
     ]
    },
    {
     "name": "stderr",
     "output_type": "stream",
     "text": [
      "Average Metric: 30 / 10  (300.0):  40%|████      | 10/25 [00:35<00:44,  2.97s/it]"
     ]
    },
    {
     "name": "stdout",
     "output_type": "stream",
     "text": [
      "Prediction(\n",
      "    assessment_answer='3'\n",
      ")\n"
     ]
    },
    {
     "name": "stderr",
     "output_type": "stream",
     "text": [
      "Average Metric: 33 / 11  (300.0):  44%|████▍     | 11/25 [00:39<00:45,  3.24s/it]"
     ]
    },
    {
     "name": "stdout",
     "output_type": "stream",
     "text": [
      "Prediction(\n",
      "    assessment_answer='3'\n",
      ")\n"
     ]
    },
    {
     "name": "stderr",
     "output_type": "stream",
     "text": [
      "Average Metric: 37 / 12  (308.3):  48%|████▊     | 12/25 [00:45<00:52,  4.07s/it]"
     ]
    },
    {
     "name": "stdout",
     "output_type": "stream",
     "text": [
      "Prediction(\n",
      "    assessment_answer='4'\n",
      ")\n"
     ]
    },
    {
     "name": "stderr",
     "output_type": "stream",
     "text": [
      "Average Metric: 40 / 13  (307.7):  52%|█████▏    | 13/25 [00:50<00:51,  4.33s/it]"
     ]
    },
    {
     "name": "stdout",
     "output_type": "stream",
     "text": [
      "Prediction(\n",
      "    assessment_answer='3'\n",
      ")\n"
     ]
    },
    {
     "name": "stderr",
     "output_type": "stream",
     "text": [
      "Average Metric: 42 / 14  (300.0):  56%|█████▌    | 14/25 [00:53<00:44,  4.03s/it]"
     ]
    },
    {
     "name": "stdout",
     "output_type": "stream",
     "text": [
      "Prediction(\n",
      "    assessment_answer='2'\n",
      ")\n"
     ]
    },
    {
     "name": "stderr",
     "output_type": "stream",
     "text": [
      "Average Metric: 48 / 16  (300.0):  60%|██████    | 15/25 [00:59<00:43,  4.36s/it]"
     ]
    },
    {
     "name": "stdout",
     "output_type": "stream",
     "text": [
      "Prediction(\n",
      "    assessment_answer='3'\n",
      ")\n",
      "Prediction(\n",
      "    assessment_answer='3'\n",
      ")\n"
     ]
    },
    {
     "name": "stderr",
     "output_type": "stream",
     "text": [
      "Average Metric: 51 / 17  (300.0):  68%|██████▊   | 17/25 [01:00<00:22,  2.77s/it]"
     ]
    },
    {
     "name": "stdout",
     "output_type": "stream",
     "text": [
      "Prediction(\n",
      "    assessment_answer='3'\n",
      ")\n"
     ]
    },
    {
     "name": "stderr",
     "output_type": "stream",
     "text": [
      "Average Metric: 54 / 18  (300.0):  72%|███████▏  | 18/25 [01:08<00:28,  4.10s/it]"
     ]
    },
    {
     "name": "stdout",
     "output_type": "stream",
     "text": [
      "Prediction(\n",
      "    assessment_answer='3'\n",
      ")\n"
     ]
    },
    {
     "name": "stderr",
     "output_type": "stream",
     "text": [
      "Average Metric: 57 / 19  (300.0):  76%|███████▌  | 19/25 [01:09<00:19,  3.27s/it]"
     ]
    },
    {
     "name": "stdout",
     "output_type": "stream",
     "text": [
      "Prediction(\n",
      "    assessment_answer='3'\n",
      ")\n"
     ]
    },
    {
     "name": "stderr",
     "output_type": "stream",
     "text": [
      "Average Metric: 62 / 21  (295.2):  80%|████████  | 20/25 [01:21<00:27,  5.57s/it]"
     ]
    },
    {
     "name": "stdout",
     "output_type": "stream",
     "text": [
      "Prediction(\n",
      "    assessment_answer='2'\n",
      ")\n",
      "Prediction(\n",
      "    assessment_answer='3'\n",
      ")\n"
     ]
    },
    {
     "name": "stderr",
     "output_type": "stream",
     "text": [
      "Average Metric: 65 / 22  (295.5):  88%|████████▊ | 22/25 [01:22<00:09,  3.26s/it]"
     ]
    },
    {
     "name": "stdout",
     "output_type": "stream",
     "text": [
      "Prediction(\n",
      "    assessment_answer='3'\n",
      ")\n"
     ]
    },
    {
     "name": "stderr",
     "output_type": "stream",
     "text": [
      "Average Metric: 71 / 24  (295.8):  92%|█████████▏| 23/25 [01:31<00:09,  4.75s/it]"
     ]
    },
    {
     "name": "stdout",
     "output_type": "stream",
     "text": [
      "Prediction(\n",
      "    assessment_answer='3'\n",
      ")\n",
      "Prediction(\n",
      "    assessment_answer='3'\n",
      ")\n"
     ]
    },
    {
     "name": "stderr",
     "output_type": "stream",
     "text": [
      "Average Metric: 74 / 25  (296.0): 100%|██████████| 25/25 [01:37<00:00,  3.89s/it]\n"
     ]
    },
    {
     "name": "stdout",
     "output_type": "stream",
     "text": [
      "Prediction(\n",
      "    assessment_answer='3'\n",
      ")\n",
      "Score: 296.0 on minibatch of size 25 with parameters ['Predictor 1: Instruction 2', 'Predictor 1: Few-Shot Set 3'].\n",
      "\n",
      "\n",
      "== Minibatch Trial 8 / 10 ==\n"
     ]
    },
    {
     "name": "stderr",
     "output_type": "stream",
     "text": [
      "Average Metric: 3 / 1  (300.0):   4%|▍         | 1/25 [00:03<01:25,  3.58s/it]"
     ]
    },
    {
     "name": "stdout",
     "output_type": "stream",
     "text": [
      "Prediction(\n",
      "    assessment_answer='3'\n",
      ")\n"
     ]
    },
    {
     "name": "stderr",
     "output_type": "stream",
     "text": [
      "Average Metric: 9 / 3  (300.0):   8%|▊         | 2/25 [00:04<00:43,  1.90s/it]"
     ]
    },
    {
     "name": "stdout",
     "output_type": "stream",
     "text": [
      "Prediction(\n",
      "    assessment_answer='3'\n",
      ")\n",
      "Prediction(\n",
      "    assessment_answer='3'\n",
      ")\n"
     ]
    },
    {
     "name": "stderr",
     "output_type": "stream",
     "text": [
      "Average Metric: 12 / 4  (300.0):  16%|█▌        | 4/25 [00:07<00:34,  1.64s/it]"
     ]
    },
    {
     "name": "stdout",
     "output_type": "stream",
     "text": [
      "Prediction(\n",
      "    assessment_answer='3'\n",
      ")\n"
     ]
    },
    {
     "name": "stderr",
     "output_type": "stream",
     "text": [
      "Average Metric: 18 / 6  (300.0):  20%|██        | 5/25 [00:07<00:25,  1.27s/it]"
     ]
    },
    {
     "name": "stdout",
     "output_type": "stream",
     "text": [
      "Prediction(\n",
      "    assessment_answer='3'\n",
      ")\n",
      "Prediction(\n",
      "    assessment_answer='3'\n",
      ")\n"
     ]
    },
    {
     "name": "stderr",
     "output_type": "stream",
     "text": [
      "Average Metric: 22 / 7  (314.3):  28%|██▊       | 7/25 [00:10<00:24,  1.38s/it]"
     ]
    },
    {
     "name": "stdout",
     "output_type": "stream",
     "text": [
      "Prediction(\n",
      "    assessment_answer='4'\n",
      ")\n"
     ]
    },
    {
     "name": "stderr",
     "output_type": "stream",
     "text": [
      "Average Metric: 25 / 8  (312.5):  32%|███▏      | 8/25 [00:11<00:19,  1.14s/it]"
     ]
    },
    {
     "name": "stdout",
     "output_type": "stream",
     "text": [
      "Prediction(\n",
      "    assessment_answer='3'\n",
      ")\n"
     ]
    },
    {
     "name": "stderr",
     "output_type": "stream",
     "text": [
      "Average Metric: 29 / 9  (322.2):  36%|███▌      | 9/25 [00:13<00:25,  1.57s/it]"
     ]
    },
    {
     "name": "stdout",
     "output_type": "stream",
     "text": [
      "Prediction(\n",
      "    assessment_answer='4'\n",
      ")\n"
     ]
    },
    {
     "name": "stderr",
     "output_type": "stream",
     "text": [
      "Average Metric: 41 / 13  (315.4):  48%|████▊     | 12/25 [00:14<00:17,  1.34s/it]"
     ]
    },
    {
     "name": "stdout",
     "output_type": "stream",
     "text": [
      "Prediction(\n",
      "    assessment_answer='3'\n",
      ")\n",
      "Prediction(\n",
      "    assessment_answer='3'\n",
      ")\n",
      "Prediction(\n",
      "    assessment_answer='3'\n",
      ")\n",
      "Prediction(\n",
      "    assessment_answer='3'\n",
      ")\n"
     ]
    },
    {
     "name": "stderr",
     "output_type": "stream",
     "text": [
      "Average Metric: 44 / 14  (314.3):  56%|█████▌    | 14/25 [00:17<00:10,  1.00it/s]"
     ]
    },
    {
     "name": "stdout",
     "output_type": "stream",
     "text": [
      "Prediction(\n",
      "    assessment_answer='3'\n",
      ")\n"
     ]
    },
    {
     "name": "stderr",
     "output_type": "stream",
     "text": [
      "Average Metric: 47 / 15  (313.3):  60%|██████    | 15/25 [00:18<00:09,  1.01it/s]"
     ]
    },
    {
     "name": "stdout",
     "output_type": "stream",
     "text": [
      "Prediction(\n",
      "    assessment_answer='3'\n",
      ")\n"
     ]
    },
    {
     "name": "stderr",
     "output_type": "stream",
     "text": [
      "Average Metric: 50 / 16  (312.5):  64%|██████▍   | 16/25 [00:21<00:12,  1.35s/it]"
     ]
    },
    {
     "name": "stdout",
     "output_type": "stream",
     "text": [
      "Prediction(\n",
      "    assessment_answer='3'\n",
      ")\n"
     ]
    },
    {
     "name": "stderr",
     "output_type": "stream",
     "text": [
      "Average Metric: 56 / 18  (311.1):  68%|██████▊   | 17/25 [00:22<00:09,  1.19s/it]"
     ]
    },
    {
     "name": "stdout",
     "output_type": "stream",
     "text": [
      "Prediction(\n",
      "    assessment_answer='3'\n",
      ")\n",
      "Prediction(\n",
      "    assessment_answer='3'\n",
      ")\n"
     ]
    },
    {
     "name": "stderr",
     "output_type": "stream",
     "text": [
      "Average Metric: 59 / 19  (310.5):  76%|███████▌  | 19/25 [00:24<00:07,  1.28s/it]"
     ]
    },
    {
     "name": "stdout",
     "output_type": "stream",
     "text": [
      "Prediction(\n",
      "    assessment_answer='3'\n",
      ")\n"
     ]
    },
    {
     "name": "stderr",
     "output_type": "stream",
     "text": [
      "Average Metric: 62 / 20  (310.0):  80%|████████  | 20/25 [00:25<00:05,  1.12s/it]"
     ]
    },
    {
     "name": "stdout",
     "output_type": "stream",
     "text": [
      "Prediction(\n",
      "    assessment_answer='3'\n",
      ")\n"
     ]
    },
    {
     "name": "stderr",
     "output_type": "stream",
     "text": [
      "Average Metric: 65 / 21  (309.5):  84%|████████▍ | 21/25 [00:28<00:06,  1.56s/it]"
     ]
    },
    {
     "name": "stdout",
     "output_type": "stream",
     "text": [
      "Prediction(\n",
      "    assessment_answer='3'\n",
      ")\n"
     ]
    },
    {
     "name": "stderr",
     "output_type": "stream",
     "text": [
      "Average Metric: 68 / 22  (309.1):  88%|████████▊ | 22/25 [00:29<00:04,  1.34s/it]"
     ]
    },
    {
     "name": "stdout",
     "output_type": "stream",
     "text": [
      "Prediction(\n",
      "    assessment_answer='3'\n",
      ")\n"
     ]
    },
    {
     "name": "stderr",
     "output_type": "stream",
     "text": [
      "Average Metric: 74 / 24  (308.3):  92%|█████████▏| 23/25 [00:32<00:03,  1.79s/it]"
     ]
    },
    {
     "name": "stdout",
     "output_type": "stream",
     "text": [
      "Prediction(\n",
      "    assessment_answer='3'\n",
      ")\n",
      "Prediction(\n",
      "    assessment_answer='3'\n",
      ")\n"
     ]
    },
    {
     "name": "stderr",
     "output_type": "stream",
     "text": [
      "Average Metric: 77 / 25  (308.0): 100%|██████████| 25/25 [00:32<00:00,  1.31s/it]\n"
     ]
    },
    {
     "name": "stdout",
     "output_type": "stream",
     "text": [
      "Prediction(\n",
      "    assessment_answer='3'\n",
      ")\n",
      "Score: 308.0 on minibatch of size 25 with parameters ['Predictor 1: Instruction 4', 'Predictor 1: Few-Shot Set 1'].\n",
      "\n",
      "\n",
      "== Minibatch Trial 9 / 10 ==\n"
     ]
    },
    {
     "name": "stderr",
     "output_type": "stream",
     "text": [
      "Average Metric: 5 / 2  (250.0):   8%|▊         | 2/25 [00:02<00:28,  1.24s/it]"
     ]
    },
    {
     "name": "stdout",
     "output_type": "stream",
     "text": [
      "Prediction(\n",
      "    assessment_answer='3'\n",
      ")\n",
      "Prediction(\n",
      "    assessment_answer='2'\n",
      ")\n"
     ]
    },
    {
     "name": "stderr",
     "output_type": "stream",
     "text": [
      "Average Metric: 8 / 3  (266.7):  12%|█▏        | 3/25 [00:05<00:43,  1.97s/it]"
     ]
    },
    {
     "name": "stdout",
     "output_type": "stream",
     "text": [
      "Prediction(\n",
      "    assessment_answer='3'\n",
      ")\n"
     ]
    },
    {
     "name": "stderr",
     "output_type": "stream",
     "text": [
      "Average Metric: 11 / 4  (275.0):  16%|█▌        | 4/25 [00:06<00:27,  1.31s/it]"
     ]
    },
    {
     "name": "stdout",
     "output_type": "stream",
     "text": [
      "Prediction(\n",
      "    assessment_answer='3'\n",
      ")\n"
     ]
    },
    {
     "name": "stderr",
     "output_type": "stream",
     "text": [
      "Average Metric: 17 / 6  (283.3):  20%|██        | 5/25 [00:08<00:37,  1.87s/it]"
     ]
    },
    {
     "name": "stdout",
     "output_type": "stream",
     "text": [
      "Prediction(\n",
      "    assessment_answer='3'\n",
      ")\n",
      "Prediction(\n",
      "    assessment_answer='3'\n",
      ")\n"
     ]
    },
    {
     "name": "stderr",
     "output_type": "stream",
     "text": [
      "Average Metric: 20 / 7  (285.7):  28%|██▊       | 7/25 [00:11<00:29,  1.66s/it]"
     ]
    },
    {
     "name": "stdout",
     "output_type": "stream",
     "text": [
      "Prediction(\n",
      "    assessment_answer='3'\n",
      ")\n"
     ]
    },
    {
     "name": "stderr",
     "output_type": "stream",
     "text": [
      "Average Metric: 23 / 8  (287.5):  32%|███▏      | 8/25 [00:12<00:21,  1.27s/it]"
     ]
    },
    {
     "name": "stdout",
     "output_type": "stream",
     "text": [
      "Prediction(\n",
      "    assessment_answer='3'\n",
      ")\n"
     ]
    },
    {
     "name": "stderr",
     "output_type": "stream",
     "text": [
      "Average Metric: 26 / 9  (288.9):  36%|███▌      | 9/25 [00:14<00:25,  1.57s/it]"
     ]
    },
    {
     "name": "stdout",
     "output_type": "stream",
     "text": [
      "Prediction(\n",
      "    assessment_answer='3'\n",
      ")\n"
     ]
    },
    {
     "name": "stderr",
     "output_type": "stream",
     "text": [
      "Average Metric: 29 / 10  (290.0):  40%|████      | 10/25 [00:14<00:19,  1.29s/it]"
     ]
    },
    {
     "name": "stdout",
     "output_type": "stream",
     "text": [
      "Prediction(\n",
      "    assessment_answer='3'\n",
      ")\n"
     ]
    },
    {
     "name": "stderr",
     "output_type": "stream",
     "text": [
      "Average Metric: 35 / 12  (291.7):  44%|████▍     | 11/25 [00:17<00:23,  1.70s/it]"
     ]
    },
    {
     "name": "stdout",
     "output_type": "stream",
     "text": [
      "Prediction(\n",
      "    assessment_answer='3'\n",
      ")\n",
      "Prediction(\n",
      "    assessment_answer='3'\n",
      ")\n"
     ]
    },
    {
     "name": "stderr",
     "output_type": "stream",
     "text": [
      "Average Metric: 38 / 13  (292.3):  52%|█████▏    | 13/25 [00:20<00:18,  1.54s/it]"
     ]
    },
    {
     "name": "stdout",
     "output_type": "stream",
     "text": [
      "Prediction(\n",
      "    assessment_answer='3'\n",
      ")\n"
     ]
    },
    {
     "name": "stderr",
     "output_type": "stream",
     "text": [
      "Average Metric: 41 / 14  (292.9):  56%|█████▌    | 14/25 [00:20<00:13,  1.27s/it]"
     ]
    },
    {
     "name": "stdout",
     "output_type": "stream",
     "text": [
      "Prediction(\n",
      "    assessment_answer='3'\n",
      ")\n"
     ]
    },
    {
     "name": "stderr",
     "output_type": "stream",
     "text": [
      "Average Metric: 47 / 16  (293.8):  60%|██████    | 15/25 [00:23<00:16,  1.60s/it]"
     ]
    },
    {
     "name": "stdout",
     "output_type": "stream",
     "text": [
      "Prediction(\n",
      "    assessment_answer='3'\n",
      ")\n",
      "Prediction(\n",
      "    assessment_answer='3'\n",
      ")\n"
     ]
    },
    {
     "name": "stderr",
     "output_type": "stream",
     "text": [
      "Average Metric: 53 / 18  (294.4):  72%|███████▏  | 18/25 [00:26<00:08,  1.18s/it]"
     ]
    },
    {
     "name": "stdout",
     "output_type": "stream",
     "text": [
      "Prediction(\n",
      "    assessment_answer='3'\n",
      ")\n",
      "Prediction(\n",
      "    assessment_answer='3'\n",
      ")\n"
     ]
    },
    {
     "name": "stderr",
     "output_type": "stream",
     "text": [
      "Average Metric: 56 / 19  (294.7):  76%|███████▌  | 19/25 [00:28<00:08,  1.45s/it]"
     ]
    },
    {
     "name": "stdout",
     "output_type": "stream",
     "text": [
      "Prediction(\n",
      "    assessment_answer='3'\n",
      ")\n"
     ]
    },
    {
     "name": "stderr",
     "output_type": "stream",
     "text": [
      "Average Metric: 59 / 20  (295.0):  80%|████████  | 20/25 [00:31<00:09,  1.87s/it]"
     ]
    },
    {
     "name": "stdout",
     "output_type": "stream",
     "text": [
      "Prediction(\n",
      "    assessment_answer='3'\n",
      ")\n"
     ]
    },
    {
     "name": "stderr",
     "output_type": "stream",
     "text": [
      "Average Metric: 65 / 22  (295.5):  84%|████████▍ | 21/25 [00:32<00:06,  1.75s/it]"
     ]
    },
    {
     "name": "stdout",
     "output_type": "stream",
     "text": [
      "Prediction(\n",
      "    assessment_answer='3'\n",
      ")\n",
      "Prediction(\n",
      "    assessment_answer='3'\n",
      ")\n"
     ]
    },
    {
     "name": "stderr",
     "output_type": "stream",
     "text": [
      "Average Metric: 68 / 23  (295.7):  92%|█████████▏| 23/25 [00:34<00:02,  1.31s/it]"
     ]
    },
    {
     "name": "stdout",
     "output_type": "stream",
     "text": [
      "Prediction(\n",
      "    assessment_answer='3'\n",
      ")\n"
     ]
    },
    {
     "name": "stderr",
     "output_type": "stream",
     "text": [
      "Average Metric: 74 / 25  (296.0): 100%|██████████| 25/25 [00:37<00:00,  1.49s/it]\n"
     ]
    },
    {
     "name": "stdout",
     "output_type": "stream",
     "text": [
      "Prediction(\n",
      "    assessment_answer='3'\n",
      ")\n",
      "Prediction(\n",
      "    assessment_answer='3'\n",
      ")\n",
      "Score: 296.0 on minibatch of size 25 with parameters ['Predictor 1: Instruction 1', 'Predictor 1: Few-Shot Set 2'].\n",
      "\n",
      "\n",
      "== Minibatch Trial 10 / 10 ==\n"
     ]
    },
    {
     "name": "stderr",
     "output_type": "stream",
     "text": [
      "Average Metric: 3 / 1  (300.0):   4%|▍         | 1/25 [00:07<03:07,  7.80s/it]"
     ]
    },
    {
     "name": "stdout",
     "output_type": "stream",
     "text": [
      "Prediction(\n",
      "    assessment_answer='3'\n",
      ")\n"
     ]
    },
    {
     "name": "stderr",
     "output_type": "stream",
     "text": [
      "Average Metric: 6 / 2  (300.0):   8%|▊         | 2/25 [00:08<01:19,  3.44s/it]"
     ]
    },
    {
     "name": "stdout",
     "output_type": "stream",
     "text": [
      "Prediction(\n",
      "    assessment_answer='3'\n",
      ")\n"
     ]
    },
    {
     "name": "stderr",
     "output_type": "stream",
     "text": [
      "Average Metric: 9 / 3  (300.0):  12%|█▏        | 3/25 [00:14<01:42,  4.65s/it]"
     ]
    },
    {
     "name": "stdout",
     "output_type": "stream",
     "text": [
      "Prediction(\n",
      "    assessment_answer='3'\n",
      ")\n"
     ]
    },
    {
     "name": "stderr",
     "output_type": "stream",
     "text": [
      "Average Metric: 12 / 4  (300.0):  16%|█▌        | 4/25 [00:14<01:04,  3.06s/it]"
     ]
    },
    {
     "name": "stdout",
     "output_type": "stream",
     "text": [
      "Prediction(\n",
      "    assessment_answer='3'\n",
      ")\n"
     ]
    },
    {
     "name": "stderr",
     "output_type": "stream",
     "text": [
      "Average Metric: 15 / 5  (300.0):  20%|██        | 5/25 [00:21<01:30,  4.50s/it]"
     ]
    },
    {
     "name": "stdout",
     "output_type": "stream",
     "text": [
      "Prediction(\n",
      "    assessment_answer='3'\n",
      ")\n"
     ]
    },
    {
     "name": "stderr",
     "output_type": "stream",
     "text": [
      "Average Metric: 18 / 6  (300.0):  24%|██▍       | 6/25 [00:22<00:59,  3.12s/it]"
     ]
    },
    {
     "name": "stdout",
     "output_type": "stream",
     "text": [
      "Prediction(\n",
      "    assessment_answer='3'\n",
      ")\n"
     ]
    },
    {
     "name": "stderr",
     "output_type": "stream",
     "text": [
      "Average Metric: 21 / 7  (300.0):  28%|██▊       | 7/25 [00:29<01:21,  4.54s/it]"
     ]
    },
    {
     "name": "stdout",
     "output_type": "stream",
     "text": [
      "Prediction(\n",
      "    assessment_answer='3'\n",
      ")\n"
     ]
    },
    {
     "name": "stderr",
     "output_type": "stream",
     "text": [
      "Average Metric: 24 / 8  (300.0):  32%|███▏      | 8/25 [00:30<00:57,  3.40s/it]"
     ]
    },
    {
     "name": "stdout",
     "output_type": "stream",
     "text": [
      "Prediction(\n",
      "    assessment_answer='3'\n",
      ")\n"
     ]
    },
    {
     "name": "stderr",
     "output_type": "stream",
     "text": [
      "Average Metric: 27 / 9  (300.0):  36%|███▌      | 9/25 [00:36<01:06,  4.14s/it]"
     ]
    },
    {
     "name": "stdout",
     "output_type": "stream",
     "text": [
      "Prediction(\n",
      "    assessment_answer='3'\n",
      ")\n"
     ]
    },
    {
     "name": "stderr",
     "output_type": "stream",
     "text": [
      "Average Metric: 30 / 10  (300.0):  40%|████      | 10/25 [00:37<00:45,  3.03s/it]"
     ]
    },
    {
     "name": "stdout",
     "output_type": "stream",
     "text": [
      "Prediction(\n",
      "    assessment_answer='3'\n",
      ")\n"
     ]
    },
    {
     "name": "stderr",
     "output_type": "stream",
     "text": [
      "Average Metric: 33 / 11  (300.0):  44%|████▍     | 11/25 [00:43<00:56,  4.02s/it]"
     ]
    },
    {
     "name": "stdout",
     "output_type": "stream",
     "text": [
      "Prediction(\n",
      "    assessment_answer='3'\n",
      ")\n"
     ]
    },
    {
     "name": "stderr",
     "output_type": "stream",
     "text": [
      "Average Metric: 36 / 12  (300.0):  48%|████▊     | 12/25 [00:43<00:37,  2.92s/it]"
     ]
    },
    {
     "name": "stdout",
     "output_type": "stream",
     "text": [
      "Prediction(\n",
      "    assessment_answer='3'\n",
      ")\n"
     ]
    },
    {
     "name": "stderr",
     "output_type": "stream",
     "text": [
      "Average Metric: 38 / 13  (292.3):  52%|█████▏    | 13/25 [00:49<00:45,  3.79s/it]"
     ]
    },
    {
     "name": "stdout",
     "output_type": "stream",
     "text": [
      "Prediction(\n",
      "    assessment_answer='2'\n",
      ")\n"
     ]
    },
    {
     "name": "stderr",
     "output_type": "stream",
     "text": [
      "Average Metric: 41 / 14  (292.9):  56%|█████▌    | 14/25 [00:50<00:32,  2.94s/it]"
     ]
    },
    {
     "name": "stdout",
     "output_type": "stream",
     "text": [
      "Prediction(\n",
      "    assessment_answer='3'\n",
      ")\n"
     ]
    },
    {
     "name": "stderr",
     "output_type": "stream",
     "text": [
      "Average Metric: 44 / 15  (293.3):  60%|██████    | 15/25 [00:56<00:38,  3.81s/it]"
     ]
    },
    {
     "name": "stdout",
     "output_type": "stream",
     "text": [
      "Prediction(\n",
      "    assessment_answer='3'\n",
      ")\n"
     ]
    },
    {
     "name": "stderr",
     "output_type": "stream",
     "text": [
      "Average Metric: 47 / 16  (293.8):  64%|██████▍   | 16/25 [00:58<00:29,  3.31s/it]"
     ]
    },
    {
     "name": "stdout",
     "output_type": "stream",
     "text": [
      "Prediction(\n",
      "    assessment_answer='3'\n",
      ")\n"
     ]
    },
    {
     "name": "stderr",
     "output_type": "stream",
     "text": [
      "Average Metric: 51 / 17  (300.0):  68%|██████▊   | 17/25 [01:02<00:28,  3.58s/it]"
     ]
    },
    {
     "name": "stdout",
     "output_type": "stream",
     "text": [
      "Prediction(\n",
      "    assessment_answer='4'\n",
      ")\n"
     ]
    },
    {
     "name": "stderr",
     "output_type": "stream",
     "text": [
      "Average Metric: 54 / 18  (300.0):  72%|███████▏  | 18/25 [01:05<00:23,  3.32s/it]"
     ]
    },
    {
     "name": "stdout",
     "output_type": "stream",
     "text": [
      "Prediction(\n",
      "    assessment_answer='3'\n",
      ")\n"
     ]
    },
    {
     "name": "stderr",
     "output_type": "stream",
     "text": [
      "Average Metric: 57 / 19  (300.0):  76%|███████▌  | 19/25 [01:10<00:23,  3.91s/it]"
     ]
    },
    {
     "name": "stdout",
     "output_type": "stream",
     "text": [
      "Prediction(\n",
      "    assessment_answer='3'\n",
      ")\n"
     ]
    },
    {
     "name": "stderr",
     "output_type": "stream",
     "text": [
      "Average Metric: 60 / 20  (300.0):  80%|████████  | 20/25 [01:13<00:17,  3.53s/it]"
     ]
    },
    {
     "name": "stdout",
     "output_type": "stream",
     "text": [
      "Prediction(\n",
      "    assessment_answer='3'\n",
      ")\n"
     ]
    },
    {
     "name": "stderr",
     "output_type": "stream",
     "text": [
      "Average Metric: 63 / 21  (300.0):  84%|████████▍ | 21/25 [01:19<00:17,  4.25s/it]"
     ]
    },
    {
     "name": "stdout",
     "output_type": "stream",
     "text": [
      "Prediction(\n",
      "    assessment_answer='3'\n",
      ")\n"
     ]
    },
    {
     "name": "stderr",
     "output_type": "stream",
     "text": [
      "Average Metric: 66 / 22  (300.0):  88%|████████▊ | 22/25 [01:22<00:11,  3.91s/it]"
     ]
    },
    {
     "name": "stdout",
     "output_type": "stream",
     "text": [
      "Prediction(\n",
      "    assessment_answer='3'\n",
      ")\n"
     ]
    },
    {
     "name": "stderr",
     "output_type": "stream",
     "text": [
      "Average Metric: 70 / 24  (291.7):  92%|█████████▏| 23/25 [01:26<00:07,  3.90s/it]"
     ]
    },
    {
     "name": "stdout",
     "output_type": "stream",
     "text": [
      "Prediction(\n",
      "    assessment_answer='2'\n",
      ")\n",
      "Prediction(\n",
      "    assessment_answer='2'\n",
      ")\n"
     ]
    },
    {
     "name": "stderr",
     "output_type": "stream",
     "text": [
      "Average Metric: 73 / 25  (292.0): 100%|██████████| 25/25 [01:31<00:00,  3.68s/it]\n"
     ]
    },
    {
     "name": "stdout",
     "output_type": "stream",
     "text": [
      "Prediction(\n",
      "    assessment_answer='3'\n",
      ")\n",
      "Score: 292.0 on minibatch of size 25 with parameters ['Predictor 1: Instruction 3', 'Predictor 1: Few-Shot Set 2'].\n",
      "\n",
      "\n",
      "===== Full Eval 1 =====\n",
      "Doing full eval on next top averaging program (Avg Score: 316.0) so far from mini-batch trials...\n"
     ]
    },
    {
     "name": "stderr",
     "output_type": "stream",
     "text": [
      "Average Metric: 12 / 4  (300.0):   2%|▏         | 3/200 [00:10<33:42, 10.27s/it]"
     ]
    },
    {
     "name": "stdout",
     "output_type": "stream",
     "text": [
      "Prediction(\n",
      "    assessment_answer='3'\n",
      ")\n",
      "Prediction(\n",
      "    assessment_answer='3'\n",
      ")\n",
      "Prediction(\n",
      "    assessment_answer='3'\n",
      ")\n",
      "Prediction(\n",
      "    assessment_answer='3'\n",
      ")\n"
     ]
    },
    {
     "name": "stderr",
     "output_type": "stream",
     "text": [
      "Average Metric: 15 / 5  (300.0):   2%|▎         | 5/200 [00:18<10:47,  3.32s/it]"
     ]
    },
    {
     "name": "stdout",
     "output_type": "stream",
     "text": [
      "Prediction(\n",
      "    assessment_answer='3'\n",
      ")\n"
     ]
    },
    {
     "name": "stderr",
     "output_type": "stream",
     "text": [
      "Average Metric: 21 / 7  (300.0):   3%|▎         | 6/200 [00:21<10:32,  3.26s/it]"
     ]
    },
    {
     "name": "stdout",
     "output_type": "stream",
     "text": [
      "Prediction(\n",
      "    assessment_answer='3'\n",
      ")\n",
      "Prediction(\n",
      "    assessment_answer='3'\n",
      ")\n"
     ]
    },
    {
     "name": "stderr",
     "output_type": "stream",
     "text": [
      "Average Metric: 25 / 8  (312.5):   4%|▍         | 8/200 [00:27<10:07,  3.17s/it]"
     ]
    },
    {
     "name": "stdout",
     "output_type": "stream",
     "text": [
      "Prediction(\n",
      "    assessment_answer='4'\n",
      ")\n"
     ]
    },
    {
     "name": "stderr",
     "output_type": "stream",
     "text": [
      "Average Metric: 28 / 9  (311.1):   4%|▍         | 9/200 [00:30<09:41,  3.05s/it]"
     ]
    },
    {
     "name": "stdout",
     "output_type": "stream",
     "text": [
      "Prediction(\n",
      "    assessment_answer='3'\n",
      ")\n"
     ]
    },
    {
     "name": "stderr",
     "output_type": "stream",
     "text": [
      "Average Metric: 31 / 10  (310.0):   5%|▌         | 10/200 [00:34<10:14,  3.23s/it]"
     ]
    },
    {
     "name": "stdout",
     "output_type": "stream",
     "text": [
      "Prediction(\n",
      "    assessment_answer='3'\n",
      ")\n"
     ]
    },
    {
     "name": "stderr",
     "output_type": "stream",
     "text": [
      "Average Metric: 37 / 12  (308.3):   6%|▌         | 11/200 [00:40<12:27,  3.96s/it]"
     ]
    },
    {
     "name": "stdout",
     "output_type": "stream",
     "text": [
      "Prediction(\n",
      "    assessment_answer='3'\n",
      ")\n",
      "Prediction(\n",
      "    assessment_answer='3'\n",
      ")\n"
     ]
    },
    {
     "name": "stderr",
     "output_type": "stream",
     "text": [
      "Average Metric: 46 / 15  (306.7):   7%|▋         | 14/200 [00:46<11:13,  3.62s/it]"
     ]
    },
    {
     "name": "stdout",
     "output_type": "stream",
     "text": [
      "Prediction(\n",
      "    assessment_answer='3'\n",
      ")\n",
      "Prediction(\n",
      "    assessment_answer='3'\n",
      ")\n",
      "Prediction(\n",
      "    assessment_answer='3'\n",
      ")\n"
     ]
    },
    {
     "name": "stderr",
     "output_type": "stream",
     "text": [
      "Average Metric: 49 / 16  (306.2):   8%|▊         | 16/200 [00:47<06:16,  2.05s/it]"
     ]
    },
    {
     "name": "stdout",
     "output_type": "stream",
     "text": [
      "Prediction(\n",
      "    assessment_answer='3'\n",
      ")\n"
     ]
    },
    {
     "name": "stderr",
     "output_type": "stream",
     "text": [
      "Average Metric: 52 / 17  (305.9):   8%|▊         | 17/200 [00:54<08:57,  2.94s/it]"
     ]
    },
    {
     "name": "stdout",
     "output_type": "stream",
     "text": [
      "Prediction(\n",
      "    assessment_answer='3'\n",
      ")\n"
     ]
    },
    {
     "name": "stderr",
     "output_type": "stream",
     "text": [
      "Average Metric: 56 / 18  (311.1):   9%|▉         | 18/200 [00:59<10:01,  3.30s/it]"
     ]
    },
    {
     "name": "stdout",
     "output_type": "stream",
     "text": [
      "Prediction(\n",
      "    assessment_answer='4'\n",
      ")\n"
     ]
    },
    {
     "name": "stderr",
     "output_type": "stream",
     "text": [
      "Average Metric: 65 / 21  (309.5):  10%|█         | 20/200 [01:02<10:17,  3.43s/it]"
     ]
    },
    {
     "name": "stdout",
     "output_type": "stream",
     "text": [
      "Prediction(\n",
      "    assessment_answer='3'\n",
      ")\n",
      "Prediction(\n",
      "    assessment_answer='3'\n",
      ")\n",
      "Prediction(\n",
      "    assessment_answer='3'\n",
      ")\n"
     ]
    },
    {
     "name": "stderr",
     "output_type": "stream",
     "text": [
      "Average Metric: 68 / 22  (309.1):  11%|█         | 22/200 [01:05<06:36,  2.23s/it]"
     ]
    },
    {
     "name": "stdout",
     "output_type": "stream",
     "text": [
      "Prediction(\n",
      "    assessment_answer='3'\n",
      ")\n"
     ]
    },
    {
     "name": "stderr",
     "output_type": "stream",
     "text": [
      "Average Metric: 74 / 24  (308.3):  12%|█▏        | 23/200 [01:11<08:12,  2.79s/it]"
     ]
    },
    {
     "name": "stdout",
     "output_type": "stream",
     "text": [
      "Prediction(\n",
      "    assessment_answer='3'\n",
      ")\n",
      "Prediction(\n",
      "    assessment_answer='3'\n",
      ")\n"
     ]
    },
    {
     "name": "stderr",
     "output_type": "stream",
     "text": [
      "Average Metric: 80 / 26  (307.7):  12%|█▎        | 25/200 [01:12<05:51,  2.01s/it]"
     ]
    },
    {
     "name": "stdout",
     "output_type": "stream",
     "text": [
      "Prediction(\n",
      "    assessment_answer='3'\n",
      ")\n",
      "Prediction(\n",
      "    assessment_answer='3'\n",
      ")\n"
     ]
    },
    {
     "name": "stderr",
     "output_type": "stream",
     "text": [
      "Average Metric: 86 / 28  (307.1):  14%|█▎        | 27/200 [01:24<09:34,  3.32s/it]"
     ]
    },
    {
     "name": "stdout",
     "output_type": "stream",
     "text": [
      "Prediction(\n",
      "    assessment_answer='3'\n",
      ")\n",
      "Prediction(\n",
      "    assessment_answer='3'\n",
      ")\n"
     ]
    },
    {
     "name": "stderr",
     "output_type": "stream",
     "text": [
      "Average Metric: 90 / 29  (310.3):  14%|█▍        | 29/200 [01:33<10:52,  3.82s/it]"
     ]
    },
    {
     "name": "stdout",
     "output_type": "stream",
     "text": [
      "Prediction(\n",
      "    assessment_answer='4'\n",
      ")\n"
     ]
    },
    {
     "name": "stderr",
     "output_type": "stream",
     "text": [
      "Average Metric: 93 / 30  (310.0):  15%|█▌        | 30/200 [01:35<09:32,  3.37s/it]"
     ]
    },
    {
     "name": "stdout",
     "output_type": "stream",
     "text": [
      "Prediction(\n",
      "    assessment_answer='3'\n",
      ")\n"
     ]
    },
    {
     "name": "stderr",
     "output_type": "stream",
     "text": [
      "Average Metric: 96 / 31  (309.7):  16%|█▌        | 31/200 [01:43<12:26,  4.42s/it]"
     ]
    },
    {
     "name": "stdout",
     "output_type": "stream",
     "text": [
      "Prediction(\n",
      "    assessment_answer='3'\n",
      ")\n"
     ]
    },
    {
     "name": "stderr",
     "output_type": "stream",
     "text": [
      "Average Metric: 102 / 33  (309.1):  16%|█▌        | 32/200 [01:46<11:28,  4.10s/it]"
     ]
    },
    {
     "name": "stdout",
     "output_type": "stream",
     "text": [
      "Prediction(\n",
      "    assessment_answer='3'\n",
      ")\n",
      "Prediction(\n",
      "    assessment_answer='3'\n",
      ")\n"
     ]
    },
    {
     "name": "stderr",
     "output_type": "stream",
     "text": [
      "Average Metric: 105 / 34  (308.8):  17%|█▋        | 34/200 [01:55<11:52,  4.29s/it]"
     ]
    },
    {
     "name": "stdout",
     "output_type": "stream",
     "text": [
      "Prediction(\n",
      "    assessment_answer='3'\n",
      ")\n"
     ]
    },
    {
     "name": "stderr",
     "output_type": "stream",
     "text": [
      "Average Metric: 108 / 35  (308.6):  18%|█▊        | 35/200 [01:59<11:12,  4.08s/it]"
     ]
    },
    {
     "name": "stdout",
     "output_type": "stream",
     "text": [
      "Prediction(\n",
      "    assessment_answer='3'\n",
      ")\n"
     ]
    },
    {
     "name": "stderr",
     "output_type": "stream",
     "text": [
      "Average Metric: 111 / 36  (308.3):  18%|█▊        | 36/200 [02:07<14:05,  5.15s/it]"
     ]
    },
    {
     "name": "stdout",
     "output_type": "stream",
     "text": [
      "Prediction(\n",
      "    assessment_answer='3'\n",
      ")\n"
     ]
    },
    {
     "name": "stderr",
     "output_type": "stream",
     "text": [
      "Average Metric: 114 / 37  (308.1):  18%|█▊        | 37/200 [02:09<11:37,  4.28s/it]"
     ]
    },
    {
     "name": "stdout",
     "output_type": "stream",
     "text": [
      "Prediction(\n",
      "    assessment_answer='3'\n",
      ")\n"
     ]
    },
    {
     "name": "stderr",
     "output_type": "stream",
     "text": [
      "Average Metric: 117 / 38  (307.9):  19%|█▉        | 38/200 [02:18<15:16,  5.66s/it]"
     ]
    },
    {
     "name": "stdout",
     "output_type": "stream",
     "text": [
      "Prediction(\n",
      "    assessment_answer='3'\n",
      ")\n"
     ]
    },
    {
     "name": "stderr",
     "output_type": "stream",
     "text": [
      "Average Metric: 120 / 39  (307.7):  20%|█▉        | 39/200 [02:19<11:14,  4.19s/it]"
     ]
    },
    {
     "name": "stdout",
     "output_type": "stream",
     "text": [
      "Prediction(\n",
      "    assessment_answer='3'\n",
      ")\n"
     ]
    },
    {
     "name": "stderr",
     "output_type": "stream",
     "text": [
      "Average Metric: 130 / 42  (309.5):  20%|██        | 41/200 [02:29<15:36,  5.89s/it]"
     ]
    },
    {
     "name": "stdout",
     "output_type": "stream",
     "text": [
      "Prediction(\n",
      "    assessment_answer='3'\n",
      ")\n",
      "Prediction(\n",
      "    assessment_answer='3'\n",
      ")\n",
      "Prediction(\n",
      "    assessment_answer='4'\n",
      ")\n"
     ]
    },
    {
     "name": "stderr",
     "output_type": "stream",
     "text": [
      "Average Metric: 136 / 44  (309.1):  22%|██▏       | 43/200 [02:39<11:37,  4.44s/it]"
     ]
    },
    {
     "name": "stdout",
     "output_type": "stream",
     "text": [
      "Prediction(\n",
      "    assessment_answer='3'\n",
      ")\n",
      "Prediction(\n",
      "    assessment_answer='3'\n",
      ")\n"
     ]
    },
    {
     "name": "stderr",
     "output_type": "stream",
     "text": [
      "Average Metric: 139 / 45  (308.9):  22%|██▎       | 45/200 [02:39<07:40,  2.97s/it]"
     ]
    },
    {
     "name": "stdout",
     "output_type": "stream",
     "text": [
      "Prediction(\n",
      "    assessment_answer='3'\n",
      ")\n"
     ]
    },
    {
     "name": "stderr",
     "output_type": "stream",
     "text": [
      "Average Metric: 145 / 47  (308.5):  23%|██▎       | 46/200 [02:50<11:31,  4.49s/it]"
     ]
    },
    {
     "name": "stdout",
     "output_type": "stream",
     "text": [
      "Prediction(\n",
      "    assessment_answer='3'\n",
      ")\n",
      "Prediction(\n",
      "    assessment_answer='3'\n",
      ")\n"
     ]
    },
    {
     "name": "stderr",
     "output_type": "stream",
     "text": [
      "Average Metric: 148 / 48  (308.3):  24%|██▍       | 48/200 [02:51<07:44,  3.06s/it]"
     ]
    },
    {
     "name": "stdout",
     "output_type": "stream",
     "text": [
      "Prediction(\n",
      "    assessment_answer='3'\n",
      ")\n"
     ]
    },
    {
     "name": "stderr",
     "output_type": "stream",
     "text": [
      "Average Metric: 167 / 54  (309.3):  26%|██▋       | 53/200 [02:59<10:19,  4.21s/it]"
     ]
    },
    {
     "name": "stdout",
     "output_type": "stream",
     "text": [
      "Prediction(\n",
      "    assessment_answer='3'\n",
      ")\n",
      "Prediction(\n",
      "    assessment_answer='4'\n",
      ")\n",
      "Prediction(\n",
      "    assessment_answer='3'\n",
      ")\n",
      "Prediction(\n",
      "    assessment_answer='3'\n",
      ")\n",
      "Prediction(\n",
      "    assessment_answer='3'\n",
      ")\n",
      "Prediction(\n",
      "    assessment_answer='3'\n",
      ")\n"
     ]
    },
    {
     "name": "stderr",
     "output_type": "stream",
     "text": [
      "Average Metric: 170 / 55  (309.1):  28%|██▊       | 55/200 [03:01<04:09,  1.72s/it]"
     ]
    },
    {
     "name": "stdout",
     "output_type": "stream",
     "text": [
      "Prediction(\n",
      "    assessment_answer='3'\n",
      ")\n"
     ]
    },
    {
     "name": "stderr",
     "output_type": "stream",
     "text": [
      "Average Metric: 179 / 58  (308.6):  28%|██▊       | 57/200 [03:08<05:39,  2.38s/it]"
     ]
    },
    {
     "name": "stdout",
     "output_type": "stream",
     "text": [
      "Prediction(\n",
      "    assessment_answer='3'\n",
      ")\n",
      "Prediction(\n",
      "    assessment_answer='3'\n",
      ")\n",
      "Prediction(\n",
      "    assessment_answer='3'\n",
      ")\n"
     ]
    },
    {
     "name": "stderr",
     "output_type": "stream",
     "text": [
      "Average Metric: 185 / 60  (308.3):  30%|██▉       | 59/200 [03:12<04:39,  1.98s/it]"
     ]
    },
    {
     "name": "stdout",
     "output_type": "stream",
     "text": [
      "Prediction(\n",
      "    assessment_answer='3'\n",
      ")\n",
      "Prediction(\n",
      "    assessment_answer='3'\n",
      ")\n"
     ]
    },
    {
     "name": "stderr",
     "output_type": "stream",
     "text": [
      "Average Metric: 188 / 61  (308.2):  30%|███       | 61/200 [03:17<04:58,  2.15s/it]"
     ]
    },
    {
     "name": "stdout",
     "output_type": "stream",
     "text": [
      "Prediction(\n",
      "    assessment_answer='3'\n",
      ")\n"
     ]
    },
    {
     "name": "stderr",
     "output_type": "stream",
     "text": [
      "Average Metric: 205 / 66  (310.6):  32%|███▎      | 65/200 [03:25<06:46,  3.01s/it]"
     ]
    },
    {
     "name": "stdout",
     "output_type": "stream",
     "text": [
      "Prediction(\n",
      "    assessment_answer='3'\n",
      ")\n",
      "Prediction(\n",
      "    assessment_answer='4'\n",
      ")\n",
      "Prediction(\n",
      "    assessment_answer='4'\n",
      ")\n",
      "Prediction(\n",
      "    assessment_answer='3'\n",
      ")\n",
      "Prediction(\n",
      "    assessment_answer='3'\n",
      ")\n"
     ]
    },
    {
     "name": "stderr",
     "output_type": "stream",
     "text": [
      "Average Metric: 209 / 67  (311.9):  34%|███▎      | 67/200 [03:28<04:02,  1.83s/it]"
     ]
    },
    {
     "name": "stdout",
     "output_type": "stream",
     "text": [
      "Prediction(\n",
      "    assessment_answer='4'\n",
      ")\n"
     ]
    },
    {
     "name": "stderr",
     "output_type": "stream",
     "text": [
      "Average Metric: 215 / 69  (311.6):  34%|███▍      | 68/200 [03:34<05:09,  2.34s/it]"
     ]
    },
    {
     "name": "stdout",
     "output_type": "stream",
     "text": [
      "Prediction(\n",
      "    assessment_answer='3'\n",
      ")\n",
      "Prediction(\n",
      "    assessment_answer='3'\n",
      ")\n"
     ]
    },
    {
     "name": "stderr",
     "output_type": "stream",
     "text": [
      "Average Metric: 218 / 70  (311.4):  35%|███▌      | 70/200 [03:37<04:36,  2.13s/it]"
     ]
    },
    {
     "name": "stdout",
     "output_type": "stream",
     "text": [
      "Prediction(\n",
      "    assessment_answer='3'\n",
      ")\n"
     ]
    },
    {
     "name": "stderr",
     "output_type": "stream",
     "text": [
      "Average Metric: 224 / 72  (311.1):  36%|███▌      | 71/200 [03:46<06:44,  3.14s/it]"
     ]
    },
    {
     "name": "stdout",
     "output_type": "stream",
     "text": [
      "Prediction(\n",
      "    assessment_answer='3'\n",
      ")\n",
      "Prediction(\n",
      "    assessment_answer='3'\n",
      ")\n"
     ]
    },
    {
     "name": "stderr",
     "output_type": "stream",
     "text": [
      "Average Metric: 231 / 74  (312.2):  36%|███▋      | 73/200 [03:50<05:56,  2.81s/it]"
     ]
    },
    {
     "name": "stdout",
     "output_type": "stream",
     "text": [
      "Prediction(\n",
      "    assessment_answer='4'\n",
      ")\n",
      "Prediction(\n",
      "    assessment_answer='3'\n",
      ")\n"
     ]
    },
    {
     "name": "stderr",
     "output_type": "stream",
     "text": [
      "Average Metric: 234 / 75  (312.0):  38%|███▊      | 75/200 [03:58<06:48,  3.26s/it]"
     ]
    },
    {
     "name": "stdout",
     "output_type": "stream",
     "text": [
      "Prediction(\n",
      "    assessment_answer='3'\n",
      ")\n"
     ]
    },
    {
     "name": "stderr",
     "output_type": "stream",
     "text": [
      "Average Metric: 240 / 77  (311.7):  38%|███▊      | 76/200 [04:00<06:00,  2.90s/it]"
     ]
    },
    {
     "name": "stdout",
     "output_type": "stream",
     "text": [
      "Prediction(\n",
      "    assessment_answer='3'\n",
      ")\n",
      "Prediction(\n",
      "    assessment_answer='3'\n",
      ")\n"
     ]
    },
    {
     "name": "stderr",
     "output_type": "stream",
     "text": [
      "Average Metric: 249 / 80  (311.2):  40%|███▉      | 79/200 [04:08<06:38,  3.29s/it]"
     ]
    },
    {
     "name": "stdout",
     "output_type": "stream",
     "text": [
      "Prediction(\n",
      "    assessment_answer='3'\n",
      ")\n",
      "Prediction(\n",
      "    assessment_answer='3'\n",
      ")\n",
      "Prediction(\n",
      "    assessment_answer='3'\n",
      ")\n"
     ]
    },
    {
     "name": "stderr",
     "output_type": "stream",
     "text": [
      "Average Metric: 252 / 81  (311.1):  40%|████      | 81/200 [04:09<04:08,  2.09s/it]"
     ]
    },
    {
     "name": "stdout",
     "output_type": "stream",
     "text": [
      "Prediction(\n",
      "    assessment_answer='3'\n",
      ")\n"
     ]
    },
    {
     "name": "stderr",
     "output_type": "stream",
     "text": [
      "Average Metric: 255 / 82  (311.0):  41%|████      | 82/200 [04:18<06:25,  3.26s/it]"
     ]
    },
    {
     "name": "stdout",
     "output_type": "stream",
     "text": [
      "Prediction(\n",
      "    assessment_answer='3'\n",
      ")\n",
      "Prediction(\n",
      "    assessment_answer='3'\n",
      ")\n"
     ]
    },
    {
     "name": "stderr",
     "output_type": "stream",
     "text": [
      "Average Metric: 267 / 86  (310.5):  42%|████▎     | 85/200 [04:27<07:28,  3.90s/it]"
     ]
    },
    {
     "name": "stdout",
     "output_type": "stream",
     "text": [
      "Prediction(\n",
      "    assessment_answer='3'\n",
      ")\n",
      "Prediction(\n",
      "    assessment_answer='3'\n",
      ")\n",
      "Prediction(\n",
      "    assessment_answer='3'\n",
      ")\n"
     ]
    },
    {
     "name": "stderr",
     "output_type": "stream",
     "text": [
      "Average Metric: 274 / 88  (311.4):  44%|████▎     | 87/200 [04:28<04:01,  2.14s/it]"
     ]
    },
    {
     "name": "stdout",
     "output_type": "stream",
     "text": [
      "Prediction(\n",
      "    assessment_answer='3'\n",
      ")\n",
      "Prediction(\n",
      "    assessment_answer='4'\n",
      ")\n"
     ]
    },
    {
     "name": "stderr",
     "output_type": "stream",
     "text": [
      "Average Metric: 280 / 90  (311.1):  44%|████▍     | 89/200 [04:35<04:58,  2.68s/it]"
     ]
    },
    {
     "name": "stdout",
     "output_type": "stream",
     "text": [
      "Prediction(\n",
      "    assessment_answer='3'\n",
      ")\n",
      "Prediction(\n",
      "    assessment_answer='3'\n",
      ")\n"
     ]
    },
    {
     "name": "stderr",
     "output_type": "stream",
     "text": [
      "Average Metric: 283 / 91  (311.0):  46%|████▌     | 91/200 [04:36<03:27,  1.90s/it]"
     ]
    },
    {
     "name": "stdout",
     "output_type": "stream",
     "text": [
      "Prediction(\n",
      "    assessment_answer='3'\n",
      ")\n"
     ]
    },
    {
     "name": "stderr",
     "output_type": "stream",
     "text": [
      "Average Metric: 286 / 92  (310.9):  46%|████▌     | 92/200 [04:44<05:39,  3.15s/it]"
     ]
    },
    {
     "name": "stdout",
     "output_type": "stream",
     "text": [
      "Prediction(\n",
      "    assessment_answer='3'\n",
      ")\n"
     ]
    },
    {
     "name": "stderr",
     "output_type": "stream",
     "text": [
      "Average Metric: 289 / 93  (310.8):  46%|████▋     | 93/200 [04:49<06:14,  3.50s/it]"
     ]
    },
    {
     "name": "stdout",
     "output_type": "stream",
     "text": [
      "Prediction(\n",
      "    assessment_answer='3'\n",
      ")\n"
     ]
    },
    {
     "name": "stderr",
     "output_type": "stream",
     "text": [
      "Average Metric: 295 / 95  (310.5):  47%|████▋     | 94/200 [04:53<06:23,  3.62s/it]"
     ]
    },
    {
     "name": "stdout",
     "output_type": "stream",
     "text": [
      "Prediction(\n",
      "    assessment_answer='3'\n",
      ")\n",
      "Prediction(\n",
      "    assessment_answer='3'\n",
      ")\n"
     ]
    },
    {
     "name": "stderr",
     "output_type": "stream",
     "text": [
      "Average Metric: 298 / 96  (310.4):  48%|████▊     | 96/200 [04:57<05:01,  2.89s/it]"
     ]
    },
    {
     "name": "stdout",
     "output_type": "stream",
     "text": [
      "Prediction(\n",
      "    assessment_answer='3'\n",
      ")\n"
     ]
    },
    {
     "name": "stderr",
     "output_type": "stream",
     "text": [
      "Average Metric: 301 / 97  (310.3):  48%|████▊     | 97/200 [05:04<06:27,  3.76s/it]"
     ]
    },
    {
     "name": "stdout",
     "output_type": "stream",
     "text": [
      "Prediction(\n",
      "    assessment_answer='3'\n",
      ")\n"
     ]
    },
    {
     "name": "stderr",
     "output_type": "stream",
     "text": [
      "Average Metric: 304 / 98  (310.2):  49%|████▉     | 98/200 [05:06<05:48,  3.42s/it]"
     ]
    },
    {
     "name": "stdout",
     "output_type": "stream",
     "text": [
      "Prediction(\n",
      "    assessment_answer='3'\n",
      ")\n"
     ]
    },
    {
     "name": "stderr",
     "output_type": "stream",
     "text": [
      "Average Metric: 310 / 100  (310.0):  50%|████▉     | 99/200 [05:12<06:55,  4.11s/it]"
     ]
    },
    {
     "name": "stdout",
     "output_type": "stream",
     "text": [
      "Prediction(\n",
      "    assessment_answer='3'\n",
      ")\n",
      "Prediction(\n",
      "    assessment_answer='3'\n",
      ")\n"
     ]
    },
    {
     "name": "stderr",
     "output_type": "stream",
     "text": [
      "Average Metric: 313 / 101  (309.9):  50%|█████     | 101/200 [05:18<05:58,  3.62s/it]"
     ]
    },
    {
     "name": "stdout",
     "output_type": "stream",
     "text": [
      "Prediction(\n",
      "    assessment_answer='3'\n",
      ")\n"
     ]
    },
    {
     "name": "stderr",
     "output_type": "stream",
     "text": [
      "Average Metric: 316 / 102  (309.8):  51%|█████     | 102/200 [05:22<06:04,  3.72s/it]"
     ]
    },
    {
     "name": "stdout",
     "output_type": "stream",
     "text": [
      "Prediction(\n",
      "    assessment_answer='3'\n",
      ")\n"
     ]
    },
    {
     "name": "stderr",
     "output_type": "stream",
     "text": [
      "Average Metric: 319 / 103  (309.7):  52%|█████▏    | 103/200 [05:29<07:07,  4.41s/it]"
     ]
    },
    {
     "name": "stdout",
     "output_type": "stream",
     "text": [
      "Prediction(\n",
      "    assessment_answer='3'\n",
      ")\n"
     ]
    },
    {
     "name": "stderr",
     "output_type": "stream",
     "text": [
      "Average Metric: 322 / 104  (309.6):  52%|█████▏    | 104/200 [05:34<07:40,  4.80s/it]"
     ]
    },
    {
     "name": "stdout",
     "output_type": "stream",
     "text": [
      "Prediction(\n",
      "    assessment_answer='3'\n",
      ")\n"
     ]
    },
    {
     "name": "stderr",
     "output_type": "stream",
     "text": [
      "Average Metric: 340 / 110  (309.1):  55%|█████▍    | 109/200 [05:38<06:52,  4.53s/it]"
     ]
    },
    {
     "name": "stdout",
     "output_type": "stream",
     "text": [
      "Prediction(\n",
      "    assessment_answer='3'\n",
      ")\n",
      "Prediction(\n",
      "    assessment_answer='3'\n",
      ")\n",
      "Prediction(\n",
      "    assessment_answer='3'\n",
      ")\n",
      "Prediction(\n",
      "    assessment_answer='3'\n",
      ")\n",
      "Prediction(\n",
      "    assessment_answer='3'\n",
      ")\n",
      "Prediction(\n",
      "    assessment_answer='3'\n",
      ")\n"
     ]
    },
    {
     "name": "stderr",
     "output_type": "stream",
     "text": [
      "Average Metric: 346 / 112  (308.9):  56%|█████▌    | 111/200 [05:45<03:08,  2.11s/it]"
     ]
    },
    {
     "name": "stdout",
     "output_type": "stream",
     "text": [
      "Prediction(\n",
      "    assessment_answer='3'\n",
      ")\n",
      "Prediction(\n",
      "    assessment_answer='3'\n",
      ")\n"
     ]
    },
    {
     "name": "stderr",
     "output_type": "stream",
     "text": [
      "Average Metric: 349 / 113  (308.8):  56%|█████▋    | 113/200 [05:49<03:01,  2.09s/it]"
     ]
    },
    {
     "name": "stdout",
     "output_type": "stream",
     "text": [
      "Prediction(\n",
      "    assessment_answer='3'\n",
      ")\n"
     ]
    },
    {
     "name": "stderr",
     "output_type": "stream",
     "text": [
      "Average Metric: 352 / 114  (308.8):  57%|█████▋    | 114/200 [05:55<03:49,  2.67s/it]"
     ]
    },
    {
     "name": "stdout",
     "output_type": "stream",
     "text": [
      "Prediction(\n",
      "    assessment_answer='3'\n",
      ")\n"
     ]
    },
    {
     "name": "stderr",
     "output_type": "stream",
     "text": [
      "Average Metric: 356 / 115  (309.6):  57%|█████▊    | 115/200 [06:04<05:25,  3.83s/it]"
     ]
    },
    {
     "name": "stdout",
     "output_type": "stream",
     "text": [
      "Prediction(\n",
      "    assessment_answer='4'\n",
      ")\n"
     ]
    },
    {
     "name": "stderr",
     "output_type": "stream",
     "text": [
      "Average Metric: 359 / 116  (309.5):  58%|█████▊    | 116/200 [06:11<06:24,  4.57s/it]"
     ]
    },
    {
     "name": "stdout",
     "output_type": "stream",
     "text": [
      "Prediction(\n",
      "    assessment_answer='3'\n",
      ")\n"
     ]
    },
    {
     "name": "stderr",
     "output_type": "stream",
     "text": [
      "Average Metric: 365 / 118  (309.3):  58%|█████▊    | 117/200 [06:13<05:19,  3.84s/it]"
     ]
    },
    {
     "name": "stdout",
     "output_type": "stream",
     "text": [
      "Prediction(\n",
      "    assessment_answer='3'\n",
      ")\n",
      "Prediction(\n",
      "    assessment_answer='3'\n",
      ")\n"
     ]
    },
    {
     "name": "stderr",
     "output_type": "stream",
     "text": [
      "Average Metric: 371 / 120  (309.2):  60%|█████▉    | 119/200 [06:23<05:59,  4.44s/it]"
     ]
    },
    {
     "name": "stdout",
     "output_type": "stream",
     "text": [
      "Prediction(\n",
      "    assessment_answer='3'\n",
      ")\n",
      "Prediction(\n",
      "    assessment_answer='3'\n",
      ")\n"
     ]
    },
    {
     "name": "stderr",
     "output_type": "stream",
     "text": [
      "Average Metric: 374 / 121  (309.1):  60%|██████    | 121/200 [06:27<04:37,  3.51s/it]"
     ]
    },
    {
     "name": "stdout",
     "output_type": "stream",
     "text": [
      "Prediction(\n",
      "    assessment_answer='3'\n",
      ")\n"
     ]
    },
    {
     "name": "stderr",
     "output_type": "stream",
     "text": [
      "Average Metric: 380 / 123  (308.9):  61%|██████    | 122/200 [06:34<05:30,  4.24s/it]"
     ]
    },
    {
     "name": "stdout",
     "output_type": "stream",
     "text": [
      "Prediction(\n",
      "    assessment_answer='3'\n",
      ")\n",
      "Prediction(\n",
      "    assessment_answer='3'\n",
      ")\n"
     ]
    },
    {
     "name": "stderr",
     "output_type": "stream",
     "text": [
      "Average Metric: 383 / 124  (308.9):  62%|██████▏   | 124/200 [06:41<05:03,  3.99s/it]"
     ]
    },
    {
     "name": "stdout",
     "output_type": "stream",
     "text": [
      "Prediction(\n",
      "    assessment_answer='3'\n",
      ")\n"
     ]
    },
    {
     "name": "stderr",
     "output_type": "stream",
     "text": [
      "Average Metric: 386 / 125  (308.8):  62%|██████▎   | 125/200 [06:46<05:06,  4.09s/it]"
     ]
    },
    {
     "name": "stdout",
     "output_type": "stream",
     "text": [
      "Prediction(\n",
      "    assessment_answer='3'\n",
      ")\n"
     ]
    },
    {
     "name": "stderr",
     "output_type": "stream",
     "text": [
      "Average Metric: 392 / 127  (308.7):  63%|██████▎   | 126/200 [06:52<05:37,  4.56s/it]"
     ]
    },
    {
     "name": "stdout",
     "output_type": "stream",
     "text": [
      "Prediction(\n",
      "    assessment_answer='3'\n",
      ")\n",
      "Prediction(\n",
      "    assessment_answer='3'\n",
      ")\n"
     ]
    },
    {
     "name": "stderr",
     "output_type": "stream",
     "text": [
      "Average Metric: 395 / 128  (308.6):  64%|██████▍   | 128/200 [06:58<04:50,  4.04s/it]"
     ]
    },
    {
     "name": "stdout",
     "output_type": "stream",
     "text": [
      "Prediction(\n",
      "    assessment_answer='3'\n",
      ")\n"
     ]
    },
    {
     "name": "stderr",
     "output_type": "stream",
     "text": [
      "Average Metric: 398 / 129  (308.5):  64%|██████▍   | 129/200 [07:05<05:30,  4.65s/it]"
     ]
    },
    {
     "name": "stdout",
     "output_type": "stream",
     "text": [
      "Prediction(\n",
      "    assessment_answer='3'\n",
      ")\n"
     ]
    },
    {
     "name": "stderr",
     "output_type": "stream",
     "text": [
      "Average Metric: 405 / 131  (309.2):  65%|██████▌   | 130/200 [07:10<05:21,  4.59s/it]"
     ]
    },
    {
     "name": "stdout",
     "output_type": "stream",
     "text": [
      "Prediction(\n",
      "    assessment_answer='4'\n",
      ")\n",
      "Prediction(\n",
      "    assessment_answer='3'\n",
      ")\n"
     ]
    },
    {
     "name": "stderr",
     "output_type": "stream",
     "text": [
      "Average Metric: 417 / 135  (308.9):  67%|██████▋   | 134/200 [07:16<04:24,  4.00s/it]"
     ]
    },
    {
     "name": "stdout",
     "output_type": "stream",
     "text": [
      "Prediction(\n",
      "    assessment_answer='3'\n",
      ")\n",
      "Prediction(\n",
      "    assessment_answer='3'\n",
      ")\n",
      "Prediction(\n",
      "    assessment_answer='3'\n",
      ")\n",
      "Prediction(\n",
      "    assessment_answer='3'\n",
      ")\n"
     ]
    },
    {
     "name": "stderr",
     "output_type": "stream",
     "text": [
      "Average Metric: 427 / 138  (309.4):  68%|██████▊   | 137/200 [07:20<02:33,  2.43s/it]"
     ]
    },
    {
     "name": "stdout",
     "output_type": "stream",
     "text": [
      "Prediction(\n",
      "    assessment_answer='3'\n",
      ")\n",
      "Prediction(\n",
      "    assessment_answer='4'\n",
      ")\n",
      "Prediction(\n",
      "    assessment_answer='3'\n",
      ")\n"
     ]
    },
    {
     "name": "stderr",
     "output_type": "stream",
     "text": [
      "Average Metric: 430 / 139  (309.4):  70%|██████▉   | 139/200 [07:25<02:12,  2.18s/it]"
     ]
    },
    {
     "name": "stdout",
     "output_type": "stream",
     "text": [
      "Prediction(\n",
      "    assessment_answer='3'\n",
      ")\n"
     ]
    },
    {
     "name": "stderr",
     "output_type": "stream",
     "text": [
      "Average Metric: 433 / 140  (309.3):  70%|███████   | 140/200 [07:30<02:31,  2.53s/it]"
     ]
    },
    {
     "name": "stdout",
     "output_type": "stream",
     "text": [
      "Prediction(\n",
      "    assessment_answer='3'\n",
      ")\n"
     ]
    },
    {
     "name": "stderr",
     "output_type": "stream",
     "text": [
      "Average Metric: 436 / 141  (309.2):  70%|███████   | 141/200 [07:36<03:07,  3.18s/it]"
     ]
    },
    {
     "name": "stdout",
     "output_type": "stream",
     "text": [
      "Prediction(\n",
      "    assessment_answer='3'\n",
      ")\n"
     ]
    },
    {
     "name": "stderr",
     "output_type": "stream",
     "text": [
      "Average Metric: 439 / 142  (309.2):  71%|███████   | 142/200 [07:39<02:53,  2.99s/it]"
     ]
    },
    {
     "name": "stdout",
     "output_type": "stream",
     "text": [
      "Prediction(\n",
      "    assessment_answer='3'\n",
      ")\n"
     ]
    },
    {
     "name": "stderr",
     "output_type": "stream",
     "text": [
      "Average Metric: 442 / 143  (309.1):  72%|███████▏  | 143/200 [07:48<04:10,  4.40s/it]"
     ]
    },
    {
     "name": "stdout",
     "output_type": "stream",
     "text": [
      "Prediction(\n",
      "    assessment_answer='3'\n",
      ")\n"
     ]
    },
    {
     "name": "stderr",
     "output_type": "stream",
     "text": [
      "Average Metric: 445 / 144  (309.0):  72%|███████▏  | 144/200 [07:50<03:42,  3.98s/it]"
     ]
    },
    {
     "name": "stdout",
     "output_type": "stream",
     "text": [
      "Prediction(\n",
      "    assessment_answer='3'\n",
      ")\n"
     ]
    },
    {
     "name": "stderr",
     "output_type": "stream",
     "text": [
      "Average Metric: 449 / 145  (309.7):  72%|███████▎  | 145/200 [08:00<04:52,  5.31s/it]"
     ]
    },
    {
     "name": "stdout",
     "output_type": "stream",
     "text": [
      "Prediction(\n",
      "    assessment_answer='4'\n",
      ")\n"
     ]
    },
    {
     "name": "stderr",
     "output_type": "stream",
     "text": [
      "Average Metric: 453 / 146  (310.3):  73%|███████▎  | 146/200 [08:01<03:51,  4.29s/it]"
     ]
    },
    {
     "name": "stdout",
     "output_type": "stream",
     "text": [
      "Prediction(\n",
      "    assessment_answer='4'\n",
      ")\n"
     ]
    },
    {
     "name": "stderr",
     "output_type": "stream",
     "text": [
      "Average Metric: 460 / 148  (310.8):  74%|███████▎  | 147/200 [08:13<05:43,  6.48s/it]"
     ]
    },
    {
     "name": "stdout",
     "output_type": "stream",
     "text": [
      "Prediction(\n",
      "    assessment_answer='4'\n",
      ")\n",
      "Prediction(\n",
      "    assessment_answer='3'\n",
      ")\n"
     ]
    },
    {
     "name": "stderr",
     "output_type": "stream",
     "text": [
      "Average Metric: 466 / 150  (310.7):  74%|███████▍  | 149/200 [08:15<03:19,  3.92s/it]"
     ]
    },
    {
     "name": "stdout",
     "output_type": "stream",
     "text": [
      "Prediction(\n",
      "    assessment_answer='3'\n",
      ")\n",
      "Prediction(\n",
      "    assessment_answer='3'\n",
      ")\n"
     ]
    },
    {
     "name": "stderr",
     "output_type": "stream",
     "text": [
      "Average Metric: 469 / 151  (310.6):  76%|███████▌  | 151/200 [08:25<03:37,  4.45s/it]"
     ]
    },
    {
     "name": "stdout",
     "output_type": "stream",
     "text": [
      "Prediction(\n",
      "    assessment_answer='3'\n",
      ")\n"
     ]
    },
    {
     "name": "stderr",
     "output_type": "stream",
     "text": [
      "Average Metric: 472 / 152  (310.5):  76%|███████▌  | 152/200 [08:27<03:05,  3.87s/it]"
     ]
    },
    {
     "name": "stdout",
     "output_type": "stream",
     "text": [
      "Prediction(\n",
      "    assessment_answer='3'\n",
      ")\n"
     ]
    },
    {
     "name": "stderr",
     "output_type": "stream",
     "text": [
      "Average Metric: 476 / 153  (311.1):  76%|███████▋  | 153/200 [08:36<03:54,  4.98s/it]"
     ]
    },
    {
     "name": "stdout",
     "output_type": "stream",
     "text": [
      "Prediction(\n",
      "    assessment_answer='4'\n",
      ")\n"
     ]
    },
    {
     "name": "stderr",
     "output_type": "stream",
     "text": [
      "Average Metric: 489 / 157  (311.5):  78%|███████▊  | 156/200 [08:39<03:21,  4.58s/it]"
     ]
    },
    {
     "name": "stdout",
     "output_type": "stream",
     "text": [
      "Prediction(\n",
      "    assessment_answer='3'\n",
      ")\n",
      "Prediction(\n",
      "    assessment_answer='3'\n",
      ")\n",
      "Prediction(\n",
      "    assessment_answer='4'\n",
      ")\n",
      "Prediction(\n",
      "    assessment_answer='3'\n",
      ")\n"
     ]
    },
    {
     "name": "stderr",
     "output_type": "stream",
     "text": [
      "Average Metric: 492 / 158  (311.4):  79%|███████▉  | 158/200 [08:48<02:16,  3.25s/it]"
     ]
    },
    {
     "name": "stdout",
     "output_type": "stream",
     "text": [
      "Prediction(\n",
      "    assessment_answer='3'\n",
      ")\n"
     ]
    },
    {
     "name": "stderr",
     "output_type": "stream",
     "text": [
      "Average Metric: 495 / 159  (311.3):  80%|███████▉  | 159/200 [08:54<02:29,  3.64s/it]"
     ]
    },
    {
     "name": "stdout",
     "output_type": "stream",
     "text": [
      "Prediction(\n",
      "    assessment_answer='3'\n",
      ")\n"
     ]
    },
    {
     "name": "stderr",
     "output_type": "stream",
     "text": [
      "Average Metric: 498 / 160  (311.2):  80%|████████  | 160/200 [08:58<02:31,  3.78s/it]"
     ]
    },
    {
     "name": "stdout",
     "output_type": "stream",
     "text": [
      "Prediction(\n",
      "    assessment_answer='3'\n",
      ")\n"
     ]
    },
    {
     "name": "stderr",
     "output_type": "stream",
     "text": [
      "Average Metric: 508 / 163  (311.7):  81%|████████  | 162/200 [09:05<02:47,  4.42s/it]"
     ]
    },
    {
     "name": "stdout",
     "output_type": "stream",
     "text": [
      "Prediction(\n",
      "    assessment_answer='3'\n",
      ")\n",
      "Prediction(\n",
      "    assessment_answer='4'\n",
      ")\n",
      "Prediction(\n",
      "    assessment_answer='3'\n",
      ")\n"
     ]
    },
    {
     "name": "stderr",
     "output_type": "stream",
     "text": [
      "Average Metric: 517 / 166  (311.4):  82%|████████▎ | 165/200 [09:07<01:29,  2.57s/it]"
     ]
    },
    {
     "name": "stdout",
     "output_type": "stream",
     "text": [
      "Prediction(\n",
      "    assessment_answer='3'\n",
      ")\n",
      "Prediction(\n",
      "    assessment_answer='3'\n",
      ")\n",
      "Prediction(\n",
      "    assessment_answer='3'\n",
      ")\n"
     ]
    },
    {
     "name": "stderr",
     "output_type": "stream",
     "text": [
      "Average Metric: 532 / 171  (311.1):  85%|████████▌ | 170/200 [09:13<01:11,  2.40s/it]"
     ]
    },
    {
     "name": "stdout",
     "output_type": "stream",
     "text": [
      "Prediction(\n",
      "    assessment_answer='3'\n",
      ")\n",
      "Prediction(\n",
      "    assessment_answer='3'\n",
      ")\n",
      "Prediction(\n",
      "    assessment_answer='3'\n",
      ")\n",
      "Prediction(\n",
      "    assessment_answer='3'\n",
      ")\n",
      "Prediction(\n",
      "    assessment_answer='3'\n",
      ")\n"
     ]
    },
    {
     "name": "stderr",
     "output_type": "stream",
     "text": [
      "Average Metric: 539 / 173  (311.6):  86%|████████▌ | 172/200 [09:15<00:39,  1.41s/it]"
     ]
    },
    {
     "name": "stdout",
     "output_type": "stream",
     "text": [
      "Prediction(\n",
      "    assessment_answer='4'\n",
      ")\n",
      "Prediction(\n",
      "    assessment_answer='3'\n",
      ")\n"
     ]
    },
    {
     "name": "stderr",
     "output_type": "stream",
     "text": [
      "Average Metric: 542 / 174  (311.5):  87%|████████▋ | 174/200 [09:21<00:46,  1.79s/it]"
     ]
    },
    {
     "name": "stdout",
     "output_type": "stream",
     "text": [
      "Prediction(\n",
      "    assessment_answer='3'\n",
      ")\n"
     ]
    },
    {
     "name": "stderr",
     "output_type": "stream",
     "text": [
      "Average Metric: 545 / 175  (311.4):  88%|████████▊ | 175/200 [09:25<00:52,  2.09s/it]"
     ]
    },
    {
     "name": "stdout",
     "output_type": "stream",
     "text": [
      "Prediction(\n",
      "    assessment_answer='3'\n",
      ")\n"
     ]
    },
    {
     "name": "stderr",
     "output_type": "stream",
     "text": [
      "Average Metric: 548 / 176  (311.4):  88%|████████▊ | 176/200 [09:34<01:15,  3.13s/it]"
     ]
    },
    {
     "name": "stdout",
     "output_type": "stream",
     "text": [
      "Prediction(\n",
      "    assessment_answer='3'\n",
      ")\n"
     ]
    },
    {
     "name": "stderr",
     "output_type": "stream",
     "text": [
      "Average Metric: 554 / 178  (311.2):  88%|████████▊ | 177/200 [09:35<01:01,  2.68s/it]"
     ]
    },
    {
     "name": "stdout",
     "output_type": "stream",
     "text": [
      "Prediction(\n",
      "    assessment_answer='3'\n",
      ")\n",
      "Prediction(\n",
      "    assessment_answer='3'\n",
      ")\n"
     ]
    },
    {
     "name": "stderr",
     "output_type": "stream",
     "text": [
      "Average Metric: 557 / 179  (311.2):  90%|████████▉ | 179/200 [09:42<01:03,  3.00s/it]"
     ]
    },
    {
     "name": "stdout",
     "output_type": "stream",
     "text": [
      "Prediction(\n",
      "    assessment_answer='3'\n",
      ")\n"
     ]
    },
    {
     "name": "stderr",
     "output_type": "stream",
     "text": [
      "Average Metric: 566 / 182  (311.0):  90%|█████████ | 181/200 [09:43<00:48,  2.57s/it]"
     ]
    },
    {
     "name": "stdout",
     "output_type": "stream",
     "text": [
      "Prediction(\n",
      "    assessment_answer='3'\n",
      ")\n",
      "Prediction(\n",
      "    assessment_answer='3'\n",
      ")\n",
      "Prediction(\n",
      "    assessment_answer='3'\n",
      ")\n"
     ]
    },
    {
     "name": "stderr",
     "output_type": "stream",
     "text": [
      "Average Metric: 569 / 183  (310.9):  92%|█████████▏| 183/200 [09:49<00:39,  2.34s/it]"
     ]
    },
    {
     "name": "stdout",
     "output_type": "stream",
     "text": [
      "Prediction(\n",
      "    assessment_answer='3'\n",
      ")\n"
     ]
    },
    {
     "name": "stderr",
     "output_type": "stream",
     "text": [
      "Average Metric: 579 / 186  (311.3):  92%|█████████▎| 185/200 [09:51<00:33,  2.25s/it]"
     ]
    },
    {
     "name": "stdout",
     "output_type": "stream",
     "text": [
      "Prediction(\n",
      "    assessment_answer='4'\n",
      ")\n",
      "Prediction(\n",
      "    assessment_answer='3'\n",
      ")\n",
      "Prediction(\n",
      "    assessment_answer='3'\n",
      ")\n"
     ]
    },
    {
     "name": "stderr",
     "output_type": "stream",
     "text": [
      "Average Metric: 583 / 187  (311.8):  94%|█████████▎| 187/200 [09:57<00:27,  2.14s/it]"
     ]
    },
    {
     "name": "stdout",
     "output_type": "stream",
     "text": [
      "Prediction(\n",
      "    assessment_answer='4'\n",
      ")\n"
     ]
    },
    {
     "name": "stderr",
     "output_type": "stream",
     "text": [
      "Average Metric: 595 / 191  (311.5):  95%|█████████▌| 190/200 [09:59<00:21,  2.20s/it]"
     ]
    },
    {
     "name": "stdout",
     "output_type": "stream",
     "text": [
      "Prediction(\n",
      "    assessment_answer='3'\n",
      ")\n",
      "Prediction(\n",
      "    assessment_answer='3'\n",
      ")\n",
      "Prediction(\n",
      "    assessment_answer='3'\n",
      ")\n",
      "Prediction(\n",
      "    assessment_answer='3'\n",
      ")\n"
     ]
    },
    {
     "name": "stderr",
     "output_type": "stream",
     "text": [
      "Average Metric: 601 / 193  (311.4):  96%|█████████▌| 192/200 [10:09<00:18,  2.30s/it]"
     ]
    },
    {
     "name": "stdout",
     "output_type": "stream",
     "text": [
      "Prediction(\n",
      "    assessment_answer='3'\n",
      ")\n",
      "Prediction(\n",
      "    assessment_answer='3'\n",
      ")\n"
     ]
    },
    {
     "name": "stderr",
     "output_type": "stream",
     "text": [
      "Average Metric: 607 / 195  (311.3):  97%|█████████▋| 194/200 [10:09<00:10,  1.77s/it]"
     ]
    },
    {
     "name": "stdout",
     "output_type": "stream",
     "text": [
      "Prediction(\n",
      "    assessment_answer='3'\n",
      ")\n",
      "Prediction(\n",
      "    assessment_answer='3'\n",
      ")\n"
     ]
    },
    {
     "name": "stderr",
     "output_type": "stream",
     "text": [
      "Average Metric: 610 / 196  (311.2):  98%|█████████▊| 196/200 [10:20<00:10,  2.67s/it]"
     ]
    },
    {
     "name": "stdout",
     "output_type": "stream",
     "text": [
      "Prediction(\n",
      "    assessment_answer='3'\n",
      ")\n"
     ]
    },
    {
     "name": "stderr",
     "output_type": "stream",
     "text": [
      "Average Metric: 616 / 198  (311.1):  98%|█████████▊| 197/200 [10:21<00:07,  2.53s/it]"
     ]
    },
    {
     "name": "stdout",
     "output_type": "stream",
     "text": [
      "Prediction(\n",
      "    assessment_answer='3'\n",
      ")\n",
      "Prediction(\n",
      "    assessment_answer='3'\n",
      ")\n"
     ]
    },
    {
     "name": "stderr",
     "output_type": "stream",
     "text": [
      "Average Metric: 619 / 199  (311.1): 100%|█████████▉| 199/200 [10:29<00:02,  2.89s/it]"
     ]
    },
    {
     "name": "stdout",
     "output_type": "stream",
     "text": [
      "Prediction(\n",
      "    assessment_answer='3'\n",
      ")\n"
     ]
    },
    {
     "name": "stderr",
     "output_type": "stream",
     "text": [
      "Average Metric: 622 / 200  (311.0): 100%|██████████| 200/200 [10:33<00:00,  3.17s/it]"
     ]
    },
    {
     "name": "stdout",
     "output_type": "stream",
     "text": [
      "Prediction(\n",
      "    assessment_answer='3'\n",
      ")\n",
      "\u001b[92mBest full eval score so far!\u001b[0m Score: 311.0\n",
      "=======================\n",
      "\n",
      "\n",
      "[('prog', Predict(StringSignature(topic -> reasoning, tweet\n",
      "    instructions='Given the fields `topic`, produce the fields `tweet`.'\n",
      "    topic = Field(annotation=str required=True json_schema_extra={'__dspy_field_type': 'input', 'prefix': 'Topic:', 'desc': '${topic}'})\n",
      "    reasoning = Field(annotation=str required=True json_schema_extra={'prefix': \"Reasoning: Let's think step by step in order to\", 'desc': '${reasoning}', '__dspy_field_type': 'output'})\n",
      "    tweet = Field(annotation=str required=True json_schema_extra={'__dspy_field_type': 'output', 'prefix': 'Tweet:', 'desc': '${tweet}'})\n",
      ")))]\n"
     ]
    },
    {
     "name": "stderr",
     "output_type": "stream",
     "text": [
      "\n"
     ]
    }
   ],
   "source": [
    "# Import the optimizer\n",
    "from dspy.teleprompt import MIPROv2\n",
    "\n",
    "# Initialize optimizer\n",
    "teleprompter = MIPROv2(\n",
    "    metric=creativity_metric,\n",
    "    num_candidates=7,\n",
    "    init_temperature=0.5,\n",
    "    verbose=False,\n",
    "    num_threads=2,\n",
    ")\n",
    "\n",
    "mipro_optimized_program = teleprompter.compile(\n",
    "    TweetWriter(),\n",
    "    trainset=trainset,\n",
    "    max_bootstrapped_demos=3,\n",
    "    max_labeled_demos=4,\n",
    "    num_trials=10,\n",
    "    minibatch_size=25,\n",
    "    minibatch_full_eval_steps=10,\n",
    "    minibatch=True, \n",
    ")\n",
    "\n",
    "# Save optimize program for future use\n",
    "mipro_optimized_program.save(\"mipro_optimized\")"
   ]
  },
  {
   "cell_type": "code",
   "execution_count": 115,
   "metadata": {},
   "outputs": [
    {
     "name": "stderr",
     "output_type": "stream",
     "text": [
      "Average Metric: 4 / 1  (400.0):  10%|█         | 1/10 [00:08<01:14,  8.31s/it]"
     ]
    },
    {
     "name": "stdout",
     "output_type": "stream",
     "text": [
      "Prediction(\n",
      "    assessment_answer='4'\n",
      ")\n"
     ]
    },
    {
     "name": "stderr",
     "output_type": "stream",
     "text": [
      "Average Metric: 8 / 2  (400.0):  20%|██        | 2/10 [00:09<00:30,  3.83s/it]"
     ]
    },
    {
     "name": "stdout",
     "output_type": "stream",
     "text": [
      "Prediction(\n",
      "    assessment_answer='4'\n",
      ")\n"
     ]
    },
    {
     "name": "stderr",
     "output_type": "stream",
     "text": [
      "Average Metric: 20 / 6  (333.3):  50%|█████     | 5/10 [00:18<00:19,  3.96s/it]"
     ]
    },
    {
     "name": "stdout",
     "output_type": "stream",
     "text": [
      "Prediction(\n",
      "    assessment_answer='3'\n",
      ")\n",
      "Prediction(\n",
      "    assessment_answer='3'\n",
      ")\n",
      "Prediction(\n",
      "    assessment_answer='3'\n",
      ")\n",
      "Prediction(\n",
      "    assessment_answer='3'\n",
      ")\n"
     ]
    },
    {
     "name": "stderr",
     "output_type": "stream",
     "text": [
      "Average Metric: 23 / 7  (328.6):  70%|███████   | 7/10 [00:27<00:09,  3.30s/it]"
     ]
    },
    {
     "name": "stdout",
     "output_type": "stream",
     "text": [
      "Prediction(\n",
      "    assessment_answer='3'\n",
      ")\n"
     ]
    },
    {
     "name": "stderr",
     "output_type": "stream",
     "text": [
      "Average Metric: 26 / 8  (325.0):  80%|████████  | 8/10 [00:32<00:07,  3.65s/it]"
     ]
    },
    {
     "name": "stdout",
     "output_type": "stream",
     "text": [
      "Prediction(\n",
      "    assessment_answer='3'\n",
      ")\n"
     ]
    },
    {
     "name": "stderr",
     "output_type": "stream",
     "text": [
      "Average Metric: 30 / 9  (333.3):  90%|█████████ | 9/10 [00:39<00:04,  4.53s/it]"
     ]
    },
    {
     "name": "stdout",
     "output_type": "stream",
     "text": [
      "Prediction(\n",
      "    assessment_answer='4'\n",
      ")\n"
     ]
    },
    {
     "name": "stderr",
     "output_type": "stream",
     "text": [
      "Average Metric: 33 / 10  (330.0): 100%|██████████| 10/10 [00:43<00:00,  4.39s/it]"
     ]
    },
    {
     "name": "stdout",
     "output_type": "stream",
     "text": [
      "Prediction(\n",
      "    assessment_answer='3'\n",
      ")\n"
     ]
    },
    {
     "name": "stderr",
     "output_type": "stream",
     "text": [
      "\n"
     ]
    },
    {
     "data": {
      "text/html": [
       "<style type=\"text/css\">\n",
       "#T_6e039 th {\n",
       "  text-align: left;\n",
       "}\n",
       "#T_6e039 td {\n",
       "  text-align: left;\n",
       "}\n",
       "#T_6e039_row0_col0, #T_6e039_row0_col1, #T_6e039_row0_col2, #T_6e039_row0_col3, #T_6e039_row0_col4, #T_6e039_row0_col5, #T_6e039_row1_col0, #T_6e039_row1_col1, #T_6e039_row1_col2, #T_6e039_row1_col3, #T_6e039_row1_col4, #T_6e039_row1_col5, #T_6e039_row2_col0, #T_6e039_row2_col1, #T_6e039_row2_col2, #T_6e039_row2_col3, #T_6e039_row2_col4, #T_6e039_row2_col5, #T_6e039_row3_col0, #T_6e039_row3_col1, #T_6e039_row3_col2, #T_6e039_row3_col3, #T_6e039_row3_col4, #T_6e039_row3_col5, #T_6e039_row4_col0, #T_6e039_row4_col1, #T_6e039_row4_col2, #T_6e039_row4_col3, #T_6e039_row4_col4, #T_6e039_row4_col5 {\n",
       "  text-align: left;\n",
       "  white-space: pre-wrap;\n",
       "  word-wrap: break-word;\n",
       "  max-width: 400px;\n",
       "}\n",
       "</style>\n",
       "<table id=\"T_6e039\">\n",
       "  <thead>\n",
       "    <tr>\n",
       "      <th class=\"blank level0\" >&nbsp;</th>\n",
       "      <th id=\"T_6e039_level0_col0\" class=\"col_heading level0 col0\" >example_tweet</th>\n",
       "      <th id=\"T_6e039_level0_col1\" class=\"col_heading level0 col1\" >engagement</th>\n",
       "      <th id=\"T_6e039_level0_col2\" class=\"col_heading level0 col2\" >topic</th>\n",
       "      <th id=\"T_6e039_level0_col3\" class=\"col_heading level0 col3\" >reasoning</th>\n",
       "      <th id=\"T_6e039_level0_col4\" class=\"col_heading level0 col4\" >pred_tweet</th>\n",
       "      <th id=\"T_6e039_level0_col5\" class=\"col_heading level0 col5\" >creativity_metric</th>\n",
       "    </tr>\n",
       "  </thead>\n",
       "  <tbody>\n",
       "    <tr>\n",
       "      <th id=\"T_6e039_level0_row0\" class=\"row_heading level0 row0\" >0</th>\n",
       "      <td id=\"T_6e039_row0_col0\" class=\"data row0 col0\" >Doing a thing increases your ability to learn about it. In order words, do the thing, then read about it. The experience will give you...</td>\n",
       "      <td id=\"T_6e039_row0_col1\" class=\"data row0 col1\" >3388</td>\n",
       "      <td id=\"T_6e039_row0_col2\" class=\"data row0 col2\" >Learning and Experience</td>\n",
       "      <td id=\"T_6e039_row0_col3\" class=\"data row0 col3\" >Learning and experience are two sides of the same coin. While learning provides the theoretical foundation and knowledge, experience offers practical application and deeper understanding....</td>\n",
       "      <td id=\"T_6e039_row0_col4\" class=\"data row0 col4\" >Learning gives you the map, but experience is the journey. 🌍📚 Embrace both to navigate life’s challenges and grow continuously. #LifelongLearning #ExperienceMatters</td>\n",
       "      <td id=\"T_6e039_row0_col5\" class=\"data row0 col5\" >✔️ [4]</td>\n",
       "    </tr>\n",
       "    <tr>\n",
       "      <th id=\"T_6e039_level0_row1\" class=\"row_heading level0 row1\" >1</th>\n",
       "      <td id=\"T_6e039_row1_col0\" class=\"data row1 col0\" >Anyone else ever accidentally get in the shower with a hat still on? https://t.co/t9IOAGcC1h</td>\n",
       "      <td id=\"T_6e039_row1_col1\" class=\"data row1 col1\" >1647</td>\n",
       "      <td id=\"T_6e039_row1_col2\" class=\"data row1 col2\" >Everyday Life/Humor</td>\n",
       "      <td id=\"T_6e039_row1_col3\" class=\"data row1 col3\" >Everyday life is filled with small, relatable moments that can be both humorous and insightful. By highlighting these moments, we can connect with others on...</td>\n",
       "      <td id=\"T_6e039_row1_col4\" class=\"data row1 col4\" >Why is it that the moment you decide to eat healthy, your fridge suddenly looks like a junk food paradise? 🍕🍫 #EverydayLife #Humor #Relatable</td>\n",
       "      <td id=\"T_6e039_row1_col5\" class=\"data row1 col5\" >✔️ [4]</td>\n",
       "    </tr>\n",
       "    <tr>\n",
       "      <th id=\"T_6e039_level0_row2\" class=\"row_heading level0 row2\" >2</th>\n",
       "      <td id=\"T_6e039_row2_col0\" class=\"data row2 col0\" >If you have all the information to make a perfect decision, you missed the opportunity.</td>\n",
       "      <td id=\"T_6e039_row2_col1\" class=\"data row2 col1\" >4534</td>\n",
       "      <td id=\"T_6e039_row2_col2\" class=\"data row2 col2\" >Decision Making</td>\n",
       "      <td id=\"T_6e039_row2_col3\" class=\"data row2 col3\" >Decision making is a critical skill that impacts every aspect of our lives, from personal relationships to professional success. Effective decision making involves gathering relevant...</td>\n",
       "      <td id=\"T_6e039_row2_col4\" class=\"data row2 col4\" >Struggling with decisions? Remember: indecision is a decision too. Gather info, weigh pros & cons, and align with your goals. Make choices that move you...</td>\n",
       "      <td id=\"T_6e039_row2_col5\" class=\"data row2 col5\" >✔️ [3]</td>\n",
       "    </tr>\n",
       "    <tr>\n",
       "      <th id=\"T_6e039_level0_row3\" class=\"row_heading level0 row3\" >3</th>\n",
       "      <td id=\"T_6e039_row3_col0\" class=\"data row3 col0\" >I’m bad at starting new habits. I’m also pretty bad at keeping habits. In the last ten years, the only small habits I’ve been able...</td>\n",
       "      <td id=\"T_6e039_row3_col1\" class=\"data row3 col1\" >3551</td>\n",
       "      <td id=\"T_6e039_row3_col2\" class=\"data row3 col2\" >Habit Formation</td>\n",
       "      <td id=\"T_6e039_row3_col3\" class=\"data row3 col3\" >Habit formation is a crucial aspect of personal development because it allows individuals to automate positive behaviors, making them a natural part of daily life....</td>\n",
       "      <td id=\"T_6e039_row3_col4\" class=\"data row3 col4\" >Want to build a new habit? Start small. Identify a cue, establish a routine, and reward yourself. Consistency is key! 🌱 #HabitFormation #PersonalGrowth</td>\n",
       "      <td id=\"T_6e039_row3_col5\" class=\"data row3 col5\" >✔️ [3]</td>\n",
       "    </tr>\n",
       "    <tr>\n",
       "      <th id=\"T_6e039_level0_row4\" class=\"row_heading level0 row4\" >4</th>\n",
       "      <td id=\"T_6e039_row4_col0\" class=\"data row4 col0\" >The reason you are stressed is you have decisions to make and you’re not making them.</td>\n",
       "      <td id=\"T_6e039_row4_col1\" class=\"data row4 col1\" >9078</td>\n",
       "      <td id=\"T_6e039_row4_col2\" class=\"data row4 col2\" >Mental Health</td>\n",
       "      <td id=\"T_6e039_row4_col3\" class=\"data row4 col3\" >Mental health is a crucial aspect of overall well-being, yet it is often overlooked or stigmatized. Addressing mental health involves recognizing the signs of mental...</td>\n",
       "      <td id=\"T_6e039_row4_col4\" class=\"data row4 col4\" >Your mental health is just as important as your physical health. 🌟 Don't hesitate to seek help, talk openly, and support each other. Let's break...</td>\n",
       "      <td id=\"T_6e039_row4_col5\" class=\"data row4 col5\" >✔️ [3]</td>\n",
       "    </tr>\n",
       "  </tbody>\n",
       "</table>\n"
      ],
      "text/plain": [
       "<pandas.io.formats.style.Styler at 0x13eb8bc20>"
      ]
     },
     "metadata": {},
     "output_type": "display_data"
    },
    {
     "data": {
      "text/html": [
       "\n",
       "                <div style='\n",
       "                    text-align: center;\n",
       "                    font-size: 16px;\n",
       "                    font-weight: bold;\n",
       "                    color: #555;\n",
       "                    margin: 10px 0;'>\n",
       "                    ... 5 more rows not displayed ...\n",
       "                </div>\n",
       "                "
      ],
      "text/plain": [
       "<IPython.core.display.HTML object>"
      ]
     },
     "metadata": {},
     "output_type": "display_data"
    },
    {
     "data": {
      "text/plain": [
       "330.0"
      ]
     },
     "execution_count": 115,
     "metadata": {},
     "output_type": "execute_result"
    }
   ],
   "source": [
    "evaluator = Evaluate(devset=devset[:10], metric=creativity_metric, num_threads=2, display_progress=True, display_table=5, provide_traceback=True)\n",
    "evaluator(mipro_optimized_program)"
   ]
  },
  {
   "cell_type": "markdown",
   "metadata": {},
   "source": [
    "# MIPROv2 Results: 330\n",
    "\n",
    "MIPROv2 did increase our score from 320 -> 330.\n",
    "\n",
    "But as we can see, most of the scores for creativity turn out to be 3 - this is becoming a problem. The LLM judge is probably having a problem defining 'creativity', especially with topics as 'dull' as business. We need a multitude of 'yes/no' metrics and we need to ensemble them to get a good sense. Plus, from the examples in the table above it seems like the tweets generated are really long. We need a conciseness metric as well - or in extreme cases, an assertion that the tweet generated be within 280 characters. It's possible the LLM has issues because we're generating + judging with the same LM, whereas the way it's generally done is a more capable model judging the generation of a smaller/less capable model. Let's try a few changes:\n",
    "\n",
    "1) Changing the metric to encompass more measures of a tweet's 'quality'\n",
    "2) using 4o-mini for generation and 4o for judging\n",
    "3) Playing around with the hyperparameters of DSPy optimizers a bit more\n",
    "4) Manually checking a few examples of generation.\n",
    "5) Using a DSPy program that we compile to judge the quality of tweets as a metric. i.e., something like second-order optimization.\n",
    "6) Using the tweets dataset for RAG since we can't train on the whole thing. (due to time constraints, Rate limit, etc.)\n",
    "7) Trying a different form of annotation/labels than just topics\n",
    "8) Dividing the devset into val and test sets to keep the test set for final testing and preventing data leakage"
   ]
  },
  {
   "cell_type": "markdown",
   "metadata": {},
   "source": [
    "# Experiment 2: without RAG"
   ]
  },
  {
   "cell_type": "code",
   "execution_count": 116,
   "metadata": {},
   "outputs": [
    {
     "data": {
      "text/plain": [
       "[Example({'tweet': 'Stop “friend financing”', 'engagement': 137, 'topic': 'Personal Finance'}) (input_keys={'topic'}),\n",
       " Example({'tweet': 'A message for friends of entrepreneurs:\\n\\nDon’t buy them a present. \\n\\nBuy their product and leave a nice review or tell them why it wasn’t good enough to deserve it (an even better gift).\\n\\nNo one needs more stuff. \\nEveryone could use more support.', 'engagement': 979, 'topic': 'Support for Entrepreneurs'}) (input_keys={'topic'}),\n",
       " Example({'tweet': 'Rush is an illusion.', 'engagement': 908, 'topic': 'Philosophy'}) (input_keys={'topic'}),\n",
       " Example({'tweet': 'Advice to strong men:\\n\\nFind a strong woman.', 'engagement': 3574, 'topic': 'Relationships'}) (input_keys={'topic'}),\n",
       " Example({'tweet': 'Reminder:\\n\\nDeath tax is 100% for everyone.\\n\\n(Because whatever you have isn’t yours anymore after you die).', 'engagement': 1136, 'topic': 'Philosophy, Mortality'}) (input_keys={'topic'})]"
      ]
     },
     "execution_count": 116,
     "metadata": {},
     "output_type": "execute_result"
    }
   ],
   "source": [
    "flattened_annotated_dataset[:5]"
   ]
  },
  {
   "cell_type": "code",
   "execution_count": 119,
   "metadata": {},
   "outputs": [],
   "source": [
    "dev_set_n = 250\n",
    "# Tell DSPy that the 'topic' field is the input. Any other fields are labels and/or metadata.\n",
    "trainset = [x.without('engagement').with_inputs('topic') for x in flattened_annotated_dataset[:dev_set_n]]\n",
    "devset = [x.without('engagement').with_inputs('topic') for x in flattened_annotated_dataset[dev_set_n:]]"
   ]
  },
  {
   "cell_type": "code",
   "execution_count": 120,
   "metadata": {},
   "outputs": [
    {
     "data": {
      "text/plain": [
       "Example({'tweet': 'Stop “friend financing”', 'topic': 'Personal Finance'}) (input_keys={'topic'})"
      ]
     },
     "execution_count": 120,
     "metadata": {},
     "output_type": "execute_result"
    }
   ],
   "source": [
    "trainset[0]"
   ]
  },
  {
   "cell_type": "code",
   "execution_count": 124,
   "metadata": {},
   "outputs": [],
   "source": [
    "gpt4o = dspy.LM(model = 'gpt-4o', max_tokens=1000, model_type='chat')\n",
    "mini = dspy.LM(model = 'gpt-4o-mini', max_tokens=1000, model_type='chat')\n",
    "dspy.configure(lm = mini)"
   ]
  },
  {
   "cell_type": "code",
   "execution_count": 125,
   "metadata": {},
   "outputs": [],
   "source": [
    "# Define the signature for automatic assessments.\n",
    "class Assess(dspy.Signature):\n",
    "    \"\"\"Assess the quality of a tweet along the specified dimension.\"\"\"\n",
    "\n",
    "    context = dspy.InputField(desc='ignore if N/A')\n",
    "    assessed_text = dspy.InputField()\n",
    "    assessment_question = dspy.InputField()\n",
    "    assessment_answer = dspy.OutputField(desc=\"Yes or No\")\n",
    "\n",
    "def tweet_ensemble_metric(gold, pred, trace=None):\n",
    "    topic, tweet = gold.topic, pred.tweet\n",
    "\n",
    "    engaging = \"Does the assessed text make for a self-contained, engaging tweet?\"\n",
    "    concise = \"Does the assessed text make for a concise, cogent tweet?\"\n",
    "    creative = \"Does the assessed text make for a creative tweet?\"\n",
    "    relevant = f\"The text above should be relevant `{topic}`. The gold answer is `{tweet}`.\"\n",
    "    relevant = f\"{relevant} Does the assessed text above contain the gold answer?\"\n",
    "    \n",
    "    with dspy.context(lm=gpt4o):\n",
    "        relevant =  dspy.Predict(Assess)(context='N/A', assessed_text=tweet, assessment_question=relevant)\n",
    "        engaging = dspy.Predict(Assess)(context='N/A', assessed_text=tweet, assessment_question=engaging)\n",
    "        creative = dspy.Predict(Assess)(context='N/A', assessed_text=tweet, assessment_question=creative)\n",
    "        concise = dspy.Predict(Assess)(context='N/A', assessed_text=tweet, assessment_question=concise)\n",
    "\n",
    "    relevant, engaging, creative, concise = (m.assessment_answer.split()[0].lower() == 'yes' for m in [relevant, engaging, creative, concise])\n",
    "    #takes care of length\n",
    "    score = (relevant + engaging + creative + concise) if (len(tweet) <= 280) else 0\n",
    "\n",
    "    if trace is not None: \n",
    "        return score >= 4\n",
    "    return score / 4.0"
   ]
  },
  {
   "cell_type": "code",
   "execution_count": 127,
   "metadata": {},
   "outputs": [],
   "source": [
    "devset, testset = devset[:-10], devset[-10:]"
   ]
  },
  {
   "cell_type": "code",
   "execution_count": 129,
   "metadata": {},
   "outputs": [
    {
     "name": "stderr",
     "output_type": "stream",
     "text": [
      "Average Metric: 38.5 / 40  (96.2): 100%|██████████| 40/40 [01:51<00:00,  2.79s/it] \n"
     ]
    },
    {
     "data": {
      "text/html": [
       "<style type=\"text/css\">\n",
       "#T_8e438 th {\n",
       "  text-align: left;\n",
       "}\n",
       "#T_8e438 td {\n",
       "  text-align: left;\n",
       "}\n",
       "#T_8e438_row0_col0, #T_8e438_row0_col1, #T_8e438_row0_col2, #T_8e438_row0_col3, #T_8e438_row0_col4, #T_8e438_row1_col0, #T_8e438_row1_col1, #T_8e438_row1_col2, #T_8e438_row1_col3, #T_8e438_row1_col4, #T_8e438_row2_col0, #T_8e438_row2_col1, #T_8e438_row2_col2, #T_8e438_row2_col3, #T_8e438_row2_col4, #T_8e438_row3_col0, #T_8e438_row3_col1, #T_8e438_row3_col2, #T_8e438_row3_col3, #T_8e438_row3_col4, #T_8e438_row4_col0, #T_8e438_row4_col1, #T_8e438_row4_col2, #T_8e438_row4_col3, #T_8e438_row4_col4 {\n",
       "  text-align: left;\n",
       "  white-space: pre-wrap;\n",
       "  word-wrap: break-word;\n",
       "  max-width: 400px;\n",
       "}\n",
       "</style>\n",
       "<table id=\"T_8e438\">\n",
       "  <thead>\n",
       "    <tr>\n",
       "      <th class=\"blank level0\" >&nbsp;</th>\n",
       "      <th id=\"T_8e438_level0_col0\" class=\"col_heading level0 col0\" >example_tweet</th>\n",
       "      <th id=\"T_8e438_level0_col1\" class=\"col_heading level0 col1\" >topic</th>\n",
       "      <th id=\"T_8e438_level0_col2\" class=\"col_heading level0 col2\" >reasoning</th>\n",
       "      <th id=\"T_8e438_level0_col3\" class=\"col_heading level0 col3\" >pred_tweet</th>\n",
       "      <th id=\"T_8e438_level0_col4\" class=\"col_heading level0 col4\" >tweet_ensemble_metric</th>\n",
       "    </tr>\n",
       "  </thead>\n",
       "  <tbody>\n",
       "    <tr>\n",
       "      <th id=\"T_8e438_level0_row0\" class=\"row_heading level0 row0\" >0</th>\n",
       "      <td id=\"T_8e438_row0_col0\" class=\"data row0 col0\" >Doing a thing increases your ability to learn about it. In order words, do the thing, then read about it. The experience will give you...</td>\n",
       "      <td id=\"T_8e438_row0_col1\" class=\"data row0 col1\" >Learning and Experience</td>\n",
       "      <td id=\"T_8e438_row0_col2\" class=\"data row0 col2\" >Learning and experience are intertwined; every lesson learned shapes our understanding and influences future decisions. Embracing both successes and failures enriches our journey, fostering growth...</td>\n",
       "      <td id=\"T_8e438_row0_col3\" class=\"data row0 col3\" >\"Learning is a journey, not a destination. Every experience, whether a success or a setback, shapes who we are and how we grow. Let's embrace...</td>\n",
       "      <td id=\"T_8e438_row0_col4\" class=\"data row0 col4\" >✔️ [1.0]</td>\n",
       "    </tr>\n",
       "    <tr>\n",
       "      <th id=\"T_8e438_level0_row1\" class=\"row_heading level0 row1\" >1</th>\n",
       "      <td id=\"T_8e438_row1_col0\" class=\"data row1 col0\" >Anyone else ever accidentally get in the shower with a hat still on? https://t.co/t9IOAGcC1h</td>\n",
       "      <td id=\"T_8e438_row1_col1\" class=\"data row1 col1\" >Everyday Life/Humor</td>\n",
       "      <td id=\"T_8e438_row1_col2\" class=\"data row1 col2\" >Everyday life is filled with humorous moments that many can relate to, making it a great topic for a light-hearted tweet. By highlighting a common...</td>\n",
       "      <td id=\"T_8e438_row1_col3\" class=\"data row1 col3\" >Why do we always open the fridge, stare at the contents, and then close it like we’re expecting a miracle? 🍕🥗 #EverydayLife #Humor</td>\n",
       "      <td id=\"T_8e438_row1_col4\" class=\"data row1 col4\" >✔️ [1.0]</td>\n",
       "    </tr>\n",
       "    <tr>\n",
       "      <th id=\"T_8e438_level0_row2\" class=\"row_heading level0 row2\" >2</th>\n",
       "      <td id=\"T_8e438_row2_col0\" class=\"data row2 col0\" >If you have all the information to make a perfect decision, you missed the opportunity.</td>\n",
       "      <td id=\"T_8e438_row2_col1\" class=\"data row2 col1\" >Decision Making</td>\n",
       "      <td id=\"T_8e438_row2_col2\" class=\"data row2 col2\" >Decision making is a critical skill that impacts every aspect of our lives, from personal choices to professional strategies. It involves evaluating options, considering potential...</td>\n",
       "      <td id=\"T_8e438_row2_col3\" class=\"data row2 col3\" >🧠💡 Decision making is an essential skill that shapes our lives! Whether in personal choices or professional strategies, making informed decisions can lead to better...</td>\n",
       "      <td id=\"T_8e438_row2_col4\" class=\"data row2 col4\" >✔️ [1.0]</td>\n",
       "    </tr>\n",
       "    <tr>\n",
       "      <th id=\"T_8e438_level0_row3\" class=\"row_heading level0 row3\" >3</th>\n",
       "      <td id=\"T_8e438_row3_col0\" class=\"data row3 col0\" >I’m bad at starting new habits. I’m also pretty bad at keeping habits. In the last ten years, the only small habits I’ve been able...</td>\n",
       "      <td id=\"T_8e438_row3_col1\" class=\"data row3 col1\" >Habit Formation</td>\n",
       "      <td id=\"T_8e438_row3_col2\" class=\"data row3 col2\" >Habit formation is a crucial aspect of personal development and productivity. Understanding how habits are formed can help individuals create positive changes in their lives....</td>\n",
       "      <td id=\"T_8e438_row3_col3\" class=\"data row3 col3\" >🌱 Want to build better habits? Start small! Consistency is key. Focus on one action at a time, and watch it grow into a lasting...</td>\n",
       "      <td id=\"T_8e438_row3_col4\" class=\"data row3 col4\" >✔️ [1.0]</td>\n",
       "    </tr>\n",
       "    <tr>\n",
       "      <th id=\"T_8e438_level0_row4\" class=\"row_heading level0 row4\" >4</th>\n",
       "      <td id=\"T_8e438_row4_col0\" class=\"data row4 col0\" >The reason you are stressed is you have decisions to make and you’re not making them.</td>\n",
       "      <td id=\"T_8e438_row4_col1\" class=\"data row4 col1\" >Mental Health</td>\n",
       "      <td id=\"T_8e438_row4_col2\" class=\"data row4 col2\" >Mental health is a crucial aspect of overall well-being that affects how we think, feel, and act. It's important to raise awareness about mental health...</td>\n",
       "      <td id=\"T_8e438_row4_col3\" class=\"data row4 col3\" >🧠💚 Let's break the stigma around mental health! It's okay to not be okay. Remember, seeking help is a sign of strength. Let's support each...</td>\n",
       "      <td id=\"T_8e438_row4_col4\" class=\"data row4 col4\" >✔️ [1.0]</td>\n",
       "    </tr>\n",
       "  </tbody>\n",
       "</table>\n"
      ],
      "text/plain": [
       "<pandas.io.formats.style.Styler at 0x13fa067e0>"
      ]
     },
     "metadata": {},
     "output_type": "display_data"
    },
    {
     "data": {
      "text/html": [
       "\n",
       "                <div style='\n",
       "                    text-align: center;\n",
       "                    font-size: 16px;\n",
       "                    font-weight: bold;\n",
       "                    color: #555;\n",
       "                    margin: 10px 0;'>\n",
       "                    ... 35 more rows not displayed ...\n",
       "                </div>\n",
       "                "
      ],
      "text/plain": [
       "<IPython.core.display.HTML object>"
      ]
     },
     "metadata": {},
     "output_type": "display_data"
    },
    {
     "data": {
      "text/plain": [
       "96.25"
      ]
     },
     "execution_count": 129,
     "metadata": {},
     "output_type": "execute_result"
    }
   ],
   "source": [
    "evaluator = Evaluate(devset=devset, metric=tweet_ensemble_metric, num_threads=2, display_progress=True, display_table=5, provide_traceback=True)\n",
    "evaluator(uncompiled_tweet_writer) "
   ]
  },
  {
   "cell_type": "markdown",
   "metadata": {},
   "source": [
    "## Uncompiled: 96.25"
   ]
  },
  {
   "cell_type": "code",
   "execution_count": 133,
   "metadata": {},
   "outputs": [
    {
     "name": "stderr",
     "output_type": "stream",
     "text": [
      "100%|██████████| 10/10 [01:06<00:00,  6.63s/it]"
     ]
    },
    {
     "name": "stdout",
     "output_type": "stream",
     "text": [
      "Bootstrapped 9 full traces after 10 examples in round 0.\n",
      "[('prog', Predict(StringSignature(topic -> reasoning, tweet\n",
      "    instructions='Given the fields `topic`, produce the fields `tweet`.'\n",
      "    topic = Field(annotation=str required=True json_schema_extra={'__dspy_field_type': 'input', 'prefix': 'Topic:', 'desc': '${topic}'})\n",
      "    reasoning = Field(annotation=str required=True json_schema_extra={'prefix': \"Reasoning: Let's think step by step in order to\", 'desc': '${reasoning}', '__dspy_field_type': 'output'})\n",
      "    tweet = Field(annotation=str required=True json_schema_extra={'__dspy_field_type': 'output', 'prefix': 'Tweet:', 'desc': '${tweet}'})\n",
      ")))]\n"
     ]
    },
    {
     "name": "stderr",
     "output_type": "stream",
     "text": [
      "\n"
     ]
    }
   ],
   "source": [
    "config = dict(max_bootstrapped_demos=15, max_labeled_demos=5)\n",
    "optimizer = BootstrapFewShot(metric = tweet_ensemble_metric, **config)\n",
    "optimized_tweet_writer = optimizer.compile(TweetWriter(), trainset=trainset[:10])\n",
    "optimized_tweet_writer.save(path=\"fewshotv2\")"
   ]
  },
  {
   "cell_type": "code",
   "execution_count": 134,
   "metadata": {},
   "outputs": [
    {
     "name": "stderr",
     "output_type": "stream",
     "text": [
      "Average Metric: 40.0 / 40  (100.0): 100%|██████████| 40/40 [01:51<00:00,  2.78s/it]\n"
     ]
    },
    {
     "data": {
      "text/html": [
       "<style type=\"text/css\">\n",
       "#T_ed47a th {\n",
       "  text-align: left;\n",
       "}\n",
       "#T_ed47a td {\n",
       "  text-align: left;\n",
       "}\n",
       "#T_ed47a_row0_col0, #T_ed47a_row0_col1, #T_ed47a_row0_col2, #T_ed47a_row0_col3, #T_ed47a_row0_col4, #T_ed47a_row1_col0, #T_ed47a_row1_col1, #T_ed47a_row1_col2, #T_ed47a_row1_col3, #T_ed47a_row1_col4, #T_ed47a_row2_col0, #T_ed47a_row2_col1, #T_ed47a_row2_col2, #T_ed47a_row2_col3, #T_ed47a_row2_col4, #T_ed47a_row3_col0, #T_ed47a_row3_col1, #T_ed47a_row3_col2, #T_ed47a_row3_col3, #T_ed47a_row3_col4, #T_ed47a_row4_col0, #T_ed47a_row4_col1, #T_ed47a_row4_col2, #T_ed47a_row4_col3, #T_ed47a_row4_col4 {\n",
       "  text-align: left;\n",
       "  white-space: pre-wrap;\n",
       "  word-wrap: break-word;\n",
       "  max-width: 400px;\n",
       "}\n",
       "</style>\n",
       "<table id=\"T_ed47a\">\n",
       "  <thead>\n",
       "    <tr>\n",
       "      <th class=\"blank level0\" >&nbsp;</th>\n",
       "      <th id=\"T_ed47a_level0_col0\" class=\"col_heading level0 col0\" >example_tweet</th>\n",
       "      <th id=\"T_ed47a_level0_col1\" class=\"col_heading level0 col1\" >topic</th>\n",
       "      <th id=\"T_ed47a_level0_col2\" class=\"col_heading level0 col2\" >reasoning</th>\n",
       "      <th id=\"T_ed47a_level0_col3\" class=\"col_heading level0 col3\" >pred_tweet</th>\n",
       "      <th id=\"T_ed47a_level0_col4\" class=\"col_heading level0 col4\" >tweet_ensemble_metric</th>\n",
       "    </tr>\n",
       "  </thead>\n",
       "  <tbody>\n",
       "    <tr>\n",
       "      <th id=\"T_ed47a_level0_row0\" class=\"row_heading level0 row0\" >0</th>\n",
       "      <td id=\"T_ed47a_row0_col0\" class=\"data row0 col0\" >Doing a thing increases your ability to learn about it. In order words, do the thing, then read about it. The experience will give you...</td>\n",
       "      <td id=\"T_ed47a_row0_col1\" class=\"data row0 col1\" >Learning and Experience</td>\n",
       "      <td id=\"T_ed47a_row0_col2\" class=\"data row0 col2\" >Learning through experience is one of the most effective ways to gain knowledge and skills. Each experience, whether positive or negative, offers valuable lessons that...</td>\n",
       "      <td id=\"T_ed47a_row0_col3\" class=\"data row0 col3\" >Experience is the best teacher! 📚✨ \n",
       "\n",
       "Every challenge and triumph brings valuable lessons. Embrace your journey and let your experiences shape your growth! #Learning #LifeLessons</td>\n",
       "      <td id=\"T_ed47a_row0_col4\" class=\"data row0 col4\" >✔️ [1.0]</td>\n",
       "    </tr>\n",
       "    <tr>\n",
       "      <th id=\"T_ed47a_level0_row1\" class=\"row_heading level0 row1\" >1</th>\n",
       "      <td id=\"T_ed47a_row1_col0\" class=\"data row1 col0\" >Anyone else ever accidentally get in the shower with a hat still on? https://t.co/t9IOAGcC1h</td>\n",
       "      <td id=\"T_ed47a_row1_col1\" class=\"data row1 col1\" >Everyday Life/Humor</td>\n",
       "      <td id=\"T_ed47a_row1_col2\" class=\"data row1 col2\" >Everyday life can often be mundane, but humor is a powerful tool to lighten our daily experiences. Finding joy and laughter in the little things...</td>\n",
       "      <td id=\"T_ed47a_row1_col3\" class=\"data row1 col3\" >Why did the scarecrow win an award? Because he was outstanding in his field! 🌾😄 Remember to find humor in everyday life—it makes the mundane...</td>\n",
       "      <td id=\"T_ed47a_row1_col4\" class=\"data row1 col4\" >✔️ [1.0]</td>\n",
       "    </tr>\n",
       "    <tr>\n",
       "      <th id=\"T_ed47a_level0_row2\" class=\"row_heading level0 row2\" >2</th>\n",
       "      <td id=\"T_ed47a_row2_col0\" class=\"data row2 col0\" >If you have all the information to make a perfect decision, you missed the opportunity.</td>\n",
       "      <td id=\"T_ed47a_row2_col1\" class=\"data row2 col1\" >Decision Making</td>\n",
       "      <td id=\"T_ed47a_row2_col2\" class=\"data row2 col2\" >Effective decision-making is crucial in both personal and professional contexts. It involves evaluating options, considering potential outcomes, and aligning choices with our values and goals....</td>\n",
       "      <td id=\"T_ed47a_row2_col3\" class=\"data row2 col3\" >Every decision shapes your path. 🛤️ Take a moment to weigh your options, trust your instincts, and align your choices with your values. Make decisions...</td>\n",
       "      <td id=\"T_ed47a_row2_col4\" class=\"data row2 col4\" >✔️ [1.0]</td>\n",
       "    </tr>\n",
       "    <tr>\n",
       "      <th id=\"T_ed47a_level0_row3\" class=\"row_heading level0 row3\" >3</th>\n",
       "      <td id=\"T_ed47a_row3_col0\" class=\"data row3 col0\" >I’m bad at starting new habits. I’m also pretty bad at keeping habits. In the last ten years, the only small habits I’ve been able...</td>\n",
       "      <td id=\"T_ed47a_row3_col1\" class=\"data row3 col1\" >Habit Formation</td>\n",
       "      <td id=\"T_ed47a_row3_col2\" class=\"data row3 col2\" >Habit formation is a crucial aspect of personal development and achieving long-term goals. Understanding the science behind how habits are formed can help us create...</td>\n",
       "      <td id=\"T_ed47a_row3_col3\" class=\"data row3 col3\" >Small changes lead to big results! 🌱 Focus on forming one positive habit at a time. Consistency is the secret ingredient to lasting change. What...</td>\n",
       "      <td id=\"T_ed47a_row3_col4\" class=\"data row3 col4\" >✔️ [1.0]</td>\n",
       "    </tr>\n",
       "    <tr>\n",
       "      <th id=\"T_ed47a_level0_row4\" class=\"row_heading level0 row4\" >4</th>\n",
       "      <td id=\"T_ed47a_row4_col0\" class=\"data row4 col0\" >The reason you are stressed is you have decisions to make and you’re not making them.</td>\n",
       "      <td id=\"T_ed47a_row4_col1\" class=\"data row4 col1\" >Mental Health</td>\n",
       "      <td id=\"T_ed47a_row4_col2\" class=\"data row4 col2\" >Mental health is a crucial aspect of overall well-being that affects how we think, feel, and act. Prioritizing mental health involves recognizing the importance of...</td>\n",
       "      <td id=\"T_ed47a_row4_col3\" class=\"data row4 col3\" >Mental health matters! 🧠💚 Let’s break the stigma and prioritize our well-being. Remember, it’s okay to ask for help and take time for self-care. You...</td>\n",
       "      <td id=\"T_ed47a_row4_col4\" class=\"data row4 col4\" >✔️ [1.0]</td>\n",
       "    </tr>\n",
       "  </tbody>\n",
       "</table>\n"
      ],
      "text/plain": [
       "<pandas.io.formats.style.Styler at 0x13e0be7e0>"
      ]
     },
     "metadata": {},
     "output_type": "display_data"
    },
    {
     "data": {
      "text/html": [
       "\n",
       "                <div style='\n",
       "                    text-align: center;\n",
       "                    font-size: 16px;\n",
       "                    font-weight: bold;\n",
       "                    color: #555;\n",
       "                    margin: 10px 0;'>\n",
       "                    ... 35 more rows not displayed ...\n",
       "                </div>\n",
       "                "
      ],
      "text/plain": [
       "<IPython.core.display.HTML object>"
      ]
     },
     "metadata": {},
     "output_type": "display_data"
    },
    {
     "data": {
      "text/plain": [
       "100.0"
      ]
     },
     "execution_count": 134,
     "metadata": {},
     "output_type": "execute_result"
    }
   ],
   "source": [
    "evaluator(optimized_tweet_writer) "
   ]
  },
  {
   "cell_type": "markdown",
   "metadata": {},
   "source": [
    "## BootstrapFewShot: 100"
   ]
  },
  {
   "cell_type": "code",
   "execution_count": 135,
   "metadata": {},
   "outputs": [
    {
     "name": "stdout",
     "output_type": "stream",
     "text": [
      "Going to sample between 1 and 1 traces per predictor.\n",
      "Will attempt to bootstrap 2 candidate sets.\n"
     ]
    },
    {
     "name": "stderr",
     "output_type": "stream",
     "text": [
      "Average Metric: 17.5 / 20  (87.5): 100%|██████████| 20/20 [00:23<00:00,  1.16s/it] \n"
     ]
    },
    {
     "name": "stdout",
     "output_type": "stream",
     "text": [
      "New best score: 87.5 for seed -3\n",
      "Scores so far: [87.5]\n",
      "Best score so far: 87.5\n"
     ]
    },
    {
     "name": "stderr",
     "output_type": "stream",
     "text": [
      "Average Metric: 19.75 / 20  (98.8): 100%|██████████| 20/20 [00:26<00:00,  1.34s/it]\n"
     ]
    },
    {
     "name": "stdout",
     "output_type": "stream",
     "text": [
      "New best score: 98.75 for seed -2\n",
      "Scores so far: [87.5, 98.75]\n",
      "Best score so far: 98.75\n"
     ]
    },
    {
     "name": "stderr",
     "output_type": "stream",
     "text": [
      " 10%|█         | 2/20 [00:00<00:00, 971.24it/s]\n"
     ]
    },
    {
     "name": "stdout",
     "output_type": "stream",
     "text": [
      "Bootstrapped 1 full traces after 3 examples in round 0.\n"
     ]
    },
    {
     "name": "stderr",
     "output_type": "stream",
     "text": [
      "Average Metric: 31.0 / 19  (163.2):  38%|███▊      | 19/50 [3:24:07<5:33:03, 644.61s/it]\n",
      "Average Metric: 46.0 / 24  (191.7):  48%|████▊     | 24/50 [3:21:03<3:37:48, 502.65s/it]\n",
      "Average Metric: 0.0 / 9  (0.0):  30%|███       | 9/30 [3:11:54<7:27:46, 1279.34s/it]\n",
      "Average Metric: 0.0 / 9  (0.0):  30%|███       | 9/30 [3:02:38<7:06:08, 1217.56s/it]\n",
      "Average Metric: 0.0 / 9  (0.0):  30%|███       | 9/30 [3:00:42<7:01:38, 1204.67s/it]\n",
      "Average Metric: 34 / 12  (283.3):  24%|██▍       | 12/50 [2:58:12<9:24:19, 891.04s/it]\n",
      "Average Metric: 20.0 / 20  (100.0): 100%|██████████| 20/20 [00:20<00:00,  1.03s/it]\n"
     ]
    },
    {
     "name": "stdout",
     "output_type": "stream",
     "text": [
      "New best score: 100.0 for seed -1\n",
      "Scores so far: [87.5, 98.75, 100.0]\n",
      "Best score so far: 100.0\n"
     ]
    },
    {
     "name": "stderr",
     "output_type": "stream",
     "text": [
      "  5%|▌         | 1/20 [00:09<03:05,  9.74s/it]\n"
     ]
    },
    {
     "name": "stdout",
     "output_type": "stream",
     "text": [
      "Bootstrapped 1 full traces after 2 examples in round 0.\n"
     ]
    },
    {
     "name": "stderr",
     "output_type": "stream",
     "text": [
      "Average Metric: 20.0 / 20  (100.0): 100%|██████████| 20/20 [00:19<00:00,  1.01it/s]\n"
     ]
    },
    {
     "name": "stdout",
     "output_type": "stream",
     "text": [
      "Scores so far: [87.5, 98.75, 100.0, 100.0]\n",
      "Best score so far: 100.0\n"
     ]
    },
    {
     "name": "stderr",
     "output_type": "stream",
     "text": [
      "  5%|▌         | 1/20 [00:06<02:09,  6.82s/it]\n"
     ]
    },
    {
     "name": "stdout",
     "output_type": "stream",
     "text": [
      "Bootstrapped 1 full traces after 2 examples in round 0.\n"
     ]
    },
    {
     "name": "stderr",
     "output_type": "stream",
     "text": [
      "Average Metric: 20.0 / 20  (100.0): 100%|██████████| 20/20 [00:19<00:00,  1.02it/s]"
     ]
    },
    {
     "name": "stdout",
     "output_type": "stream",
     "text": [
      "Scores so far: [87.5, 98.75, 100.0, 100.0, 100.0]\n",
      "Best score so far: 100.0\n",
      "5 candidate programs found.\n",
      "[('prog', Predict(StringSignature(topic -> reasoning, tweet\n",
      "    instructions='Given the fields `topic`, produce the fields `tweet`.'\n",
      "    topic = Field(annotation=str required=True json_schema_extra={'__dspy_field_type': 'input', 'prefix': 'Topic:', 'desc': '${topic}'})\n",
      "    reasoning = Field(annotation=str required=True json_schema_extra={'prefix': \"Reasoning: Let's think step by step in order to\", 'desc': '${reasoning}', '__dspy_field_type': 'output'})\n",
      "    tweet = Field(annotation=str required=True json_schema_extra={'__dspy_field_type': 'output', 'prefix': 'Tweet:', 'desc': '${tweet}'})\n",
      ")))]\n"
     ]
    },
    {
     "name": "stderr",
     "output_type": "stream",
     "text": [
      "\n"
     ]
    }
   ],
   "source": [
    "config = dict(max_labeled_demos = 1, max_bootstrapped_demos=1, num_candidate_programs=2)\n",
    "teleprompter = BootstrapFewShotWithRandomSearch(metric = tweet_ensemble_metric, **config)\n",
    "rs_optimized_tweet_writer = teleprompter.compile(TweetWriter(), trainset=trainset[:20])\n",
    "rs_optimized_tweet_writer.save(path=\"fewshotwithrsv2\")"
   ]
  },
  {
   "cell_type": "code",
   "execution_count": 136,
   "metadata": {},
   "outputs": [
    {
     "name": "stderr",
     "output_type": "stream",
     "text": [
      "Average Metric: 38.0 / 40  (95.0): 100%|██████████| 40/40 [01:39<00:00,  2.49s/it]\n"
     ]
    },
    {
     "data": {
      "text/html": [
       "<style type=\"text/css\">\n",
       "#T_9cef4 th {\n",
       "  text-align: left;\n",
       "}\n",
       "#T_9cef4 td {\n",
       "  text-align: left;\n",
       "}\n",
       "#T_9cef4_row0_col0, #T_9cef4_row0_col1, #T_9cef4_row0_col2, #T_9cef4_row0_col3, #T_9cef4_row0_col4, #T_9cef4_row1_col0, #T_9cef4_row1_col1, #T_9cef4_row1_col2, #T_9cef4_row1_col3, #T_9cef4_row1_col4, #T_9cef4_row2_col0, #T_9cef4_row2_col1, #T_9cef4_row2_col2, #T_9cef4_row2_col3, #T_9cef4_row2_col4, #T_9cef4_row3_col0, #T_9cef4_row3_col1, #T_9cef4_row3_col2, #T_9cef4_row3_col3, #T_9cef4_row3_col4, #T_9cef4_row4_col0, #T_9cef4_row4_col1, #T_9cef4_row4_col2, #T_9cef4_row4_col3, #T_9cef4_row4_col4 {\n",
       "  text-align: left;\n",
       "  white-space: pre-wrap;\n",
       "  word-wrap: break-word;\n",
       "  max-width: 400px;\n",
       "}\n",
       "</style>\n",
       "<table id=\"T_9cef4\">\n",
       "  <thead>\n",
       "    <tr>\n",
       "      <th class=\"blank level0\" >&nbsp;</th>\n",
       "      <th id=\"T_9cef4_level0_col0\" class=\"col_heading level0 col0\" >example_tweet</th>\n",
       "      <th id=\"T_9cef4_level0_col1\" class=\"col_heading level0 col1\" >topic</th>\n",
       "      <th id=\"T_9cef4_level0_col2\" class=\"col_heading level0 col2\" >reasoning</th>\n",
       "      <th id=\"T_9cef4_level0_col3\" class=\"col_heading level0 col3\" >pred_tweet</th>\n",
       "      <th id=\"T_9cef4_level0_col4\" class=\"col_heading level0 col4\" >tweet_ensemble_metric</th>\n",
       "    </tr>\n",
       "  </thead>\n",
       "  <tbody>\n",
       "    <tr>\n",
       "      <th id=\"T_9cef4_level0_row0\" class=\"row_heading level0 row0\" >0</th>\n",
       "      <td id=\"T_9cef4_row0_col0\" class=\"data row0 col0\" >Doing a thing increases your ability to learn about it. In order words, do the thing, then read about it. The experience will give you...</td>\n",
       "      <td id=\"T_9cef4_row0_col1\" class=\"data row0 col1\" >Learning and Experience</td>\n",
       "      <td id=\"T_9cef4_row0_col2\" class=\"data row0 col2\" >Learning through experience is one of the most effective ways to gain knowledge and skills. It allows individuals to apply theoretical concepts in real-world situations,...</td>\n",
       "      <td id=\"T_9cef4_row0_col3\" class=\"data row0 col3\" >📚✨ Learning through experience is key to personal and professional growth! By applying knowledge in real-world situations, we deepen our understanding and retention. Let's embrace...</td>\n",
       "      <td id=\"T_9cef4_row0_col4\" class=\"data row0 col4\" >✔️ [1.0]</td>\n",
       "    </tr>\n",
       "    <tr>\n",
       "      <th id=\"T_9cef4_level0_row1\" class=\"row_heading level0 row1\" >1</th>\n",
       "      <td id=\"T_9cef4_row1_col0\" class=\"data row1 col0\" >Anyone else ever accidentally get in the shower with a hat still on? https://t.co/t9IOAGcC1h</td>\n",
       "      <td id=\"T_9cef4_row1_col1\" class=\"data row1 col1\" >Everyday Life/Humor</td>\n",
       "      <td id=\"T_9cef4_row1_col2\" class=\"data row1 col2\" >Everyday life is filled with humorous moments that often go unnoticed. Sharing these light-hearted experiences can bring joy and laughter to others, reminding us not...</td>\n",
       "      <td id=\"T_9cef4_row1_col3\" class=\"data row1 col3\" >Why do we always park in driveways and drive on parkways? 🤔 Just another mystery of everyday life! Let's embrace the humor in our daily...</td>\n",
       "      <td id=\"T_9cef4_row1_col4\" class=\"data row1 col4\" >✔️ [1.0]</td>\n",
       "    </tr>\n",
       "    <tr>\n",
       "      <th id=\"T_9cef4_level0_row2\" class=\"row_heading level0 row2\" >2</th>\n",
       "      <td id=\"T_9cef4_row2_col0\" class=\"data row2 col0\" >If you have all the information to make a perfect decision, you missed the opportunity.</td>\n",
       "      <td id=\"T_9cef4_row2_col1\" class=\"data row2 col1\" >Decision Making</td>\n",
       "      <td id=\"T_9cef4_row2_col2\" class=\"data row2 col2\" >Effective decision making is essential in both personal and professional contexts. It involves analyzing information, weighing options, and considering potential outcomes. Good decision-making skills can...</td>\n",
       "      <td id=\"T_9cef4_row2_col3\" class=\"data row2 col3\" >🧠 Decision making is a vital skill for success! By analyzing information and weighing options, we can make informed choices that lead to better outcomes....</td>\n",
       "      <td id=\"T_9cef4_row2_col4\" class=\"data row2 col4\" >✔️ [1.0]</td>\n",
       "    </tr>\n",
       "    <tr>\n",
       "      <th id=\"T_9cef4_level0_row3\" class=\"row_heading level0 row3\" >3</th>\n",
       "      <td id=\"T_9cef4_row3_col0\" class=\"data row3 col0\" >I’m bad at starting new habits. I’m also pretty bad at keeping habits. In the last ten years, the only small habits I’ve been able...</td>\n",
       "      <td id=\"T_9cef4_row3_col1\" class=\"data row3 col1\" >Habit Formation</td>\n",
       "      <td id=\"T_9cef4_row3_col2\" class=\"data row3 col2\" >Habit formation is a powerful process that can significantly impact our lives. By understanding the cues, routines, and rewards that drive our behaviors, we can...</td>\n",
       "      <td id=\"T_9cef4_row3_col3\" class=\"data row3 col3\" >🌱 Want to change your life? Start with habit formation! By understanding cues, routines, and rewards, you can build positive habits that lead to personal...</td>\n",
       "      <td id=\"T_9cef4_row3_col4\" class=\"data row3 col4\" >✔️ [1.0]</td>\n",
       "    </tr>\n",
       "    <tr>\n",
       "      <th id=\"T_9cef4_level0_row4\" class=\"row_heading level0 row4\" >4</th>\n",
       "      <td id=\"T_9cef4_row4_col0\" class=\"data row4 col0\" >The reason you are stressed is you have decisions to make and you’re not making them.</td>\n",
       "      <td id=\"T_9cef4_row4_col1\" class=\"data row4 col1\" >Mental Health</td>\n",
       "      <td id=\"T_9cef4_row4_col2\" class=\"data row4 col2\" >Mental health is a vital aspect of overall well-being that affects how we think, feel, and act. Promoting mental health awareness and providing access to...</td>\n",
       "      <td id=\"T_9cef4_row4_col3\" class=\"data row4 col3\" >🧠💚 Mental health matters! Let's break the stigma and promote awareness. It's time to prioritize mental well-being and support those who need it. Remember, it's...</td>\n",
       "      <td id=\"T_9cef4_row4_col4\" class=\"data row4 col4\" >✔️ [1.0]</td>\n",
       "    </tr>\n",
       "  </tbody>\n",
       "</table>\n"
      ],
      "text/plain": [
       "<pandas.io.formats.style.Styler at 0x167b86120>"
      ]
     },
     "metadata": {},
     "output_type": "display_data"
    },
    {
     "data": {
      "text/html": [
       "\n",
       "                <div style='\n",
       "                    text-align: center;\n",
       "                    font-size: 16px;\n",
       "                    font-weight: bold;\n",
       "                    color: #555;\n",
       "                    margin: 10px 0;'>\n",
       "                    ... 35 more rows not displayed ...\n",
       "                </div>\n",
       "                "
      ],
      "text/plain": [
       "<IPython.core.display.HTML object>"
      ]
     },
     "metadata": {},
     "output_type": "display_data"
    },
    {
     "data": {
      "text/plain": [
       "95.0"
      ]
     },
     "execution_count": 136,
     "metadata": {},
     "output_type": "execute_result"
    }
   ],
   "source": [
    "evaluator(rs_optimized_tweet_writer) "
   ]
  },
  {
   "cell_type": "markdown",
   "metadata": {},
   "source": [
    "## BootstrapFewShotWithRandomSearch: 95"
   ]
  },
  {
   "cell_type": "code",
   "execution_count": 137,
   "metadata": {},
   "outputs": [
    {
     "name": "stdout",
     "output_type": "stream",
     "text": [
      "\u001b[93m\u001b[1mProjected Language Model (LM) Calls\u001b[0m\n",
      "\n",
      "Please be advised that based on the parameters you have set, the maximum number of LM calls is projected as follows:\n",
      "\n",
      "\n",
      "\u001b[93m- Prompt Model: \u001b[94m\u001b[1m10\u001b[0m\u001b[93m data summarizer calls + \u001b[94m\u001b[1m7\u001b[0m\u001b[93m * \u001b[94m\u001b[1m1\u001b[0m\u001b[93m lm calls in program + (\u001b[94m\u001b[1m2\u001b[0m\u001b[93m) lm calls in program aware proposer = \u001b[94m\u001b[1m19\u001b[0m\u001b[93m prompt model calls\u001b[0m\n",
      "\u001b[93m- Task Model: \u001b[94m\u001b[1m25\u001b[0m\u001b[93m examples in minibatch * \u001b[94m\u001b[1m10\u001b[0m\u001b[93m batches + \u001b[94m\u001b[1m200\u001b[0m\u001b[93m examples in val set * \u001b[94m\u001b[1m1\u001b[0m\u001b[93m full evals = \u001b[94m\u001b[1m300\u001b[0m\u001b[93m task model calls\u001b[0m\n",
      "\n",
      "\u001b[93m\u001b[1mEstimated Cost Calculation:\u001b[0m\n",
      "\n",
      "\u001b[93mTotal Cost = (Number of calls to task model * (Avg Input Token Length per Call * Task Model Price per Input Token + Avg Output Token Length per Call * Task Model Price per Output Token) \n",
      "            + (Number of calls to prompt model * (Avg Input Token Length per Call * Task Prompt Price per Input Token + Avg Output Token Length per Call * Prompt Model Price per Output Token).\u001b[0m\n",
      "\n",
      "For a preliminary estimate of potential costs, we recommend you perform your own calculations based on the task\n",
      "and prompt models you intend to use. If the projected costs exceed your budget or expectations, you may consider:\n",
      "\n",
      "\u001b[93m- Reducing the number of trials (`num_trials`), the size of the valset, or the number of LM calls in your program.\u001b[0m\n",
      "\u001b[93m- Using a cheaper task model to optimize the prompt.\u001b[0m\n",
      "\n",
      "To proceed with the execution of this program, please confirm by typing \u001b[94m'y'\u001b[0m for yes or \u001b[94m'n'\u001b[0m for no.\n",
      "\n",
      "If you would like to bypass this confirmation step in future executions, set the \u001b[93m`requires_permission_to_run`\u001b[0m flag to \u001b[93m`False`\u001b[0m when calling compile.\n",
      "\n",
      "\u001b[93mAwaiting your input...\u001b[0m\n",
      "\n",
      "Beginning MIPROv2 optimization process...\n",
      "\n",
      "==> STEP 1: BOOTSTRAP FEWSHOT EXAMPLES <==\n",
      "These will be used for as few-shot examples candidates for our program and for creating instructions.\n",
      "\n",
      "Bootstrapping N=7 sets of demonstrations...\n",
      "Bootstrapping set 1/7\n",
      "Bootstrapping set 2/7\n",
      "Bootstrapping set 3/7\n"
     ]
    },
    {
     "name": "stderr",
     "output_type": "stream",
     "text": [
      "  6%|▌         | 3/50 [00:19<05:11,  6.63s/it]\n"
     ]
    },
    {
     "name": "stdout",
     "output_type": "stream",
     "text": [
      "Bootstrapped 3 full traces after 4 examples in round 0.\n",
      "Bootstrapping set 4/7\n"
     ]
    },
    {
     "name": "stderr",
     "output_type": "stream",
     "text": [
      "  4%|▍         | 2/50 [00:13<05:28,  6.85s/it]\n"
     ]
    },
    {
     "name": "stdout",
     "output_type": "stream",
     "text": [
      "Bootstrapped 2 full traces after 3 examples in round 0.\n",
      "Bootstrapping set 5/7\n"
     ]
    },
    {
     "name": "stderr",
     "output_type": "stream",
     "text": [
      "  2%|▏         | 1/50 [00:07<05:56,  7.28s/it]\n"
     ]
    },
    {
     "name": "stdout",
     "output_type": "stream",
     "text": [
      "Bootstrapped 1 full traces after 2 examples in round 0.\n",
      "Bootstrapping set 6/7\n"
     ]
    },
    {
     "name": "stderr",
     "output_type": "stream",
     "text": [
      "  2%|▏         | 1/50 [00:05<04:46,  5.84s/it]\n"
     ]
    },
    {
     "name": "stdout",
     "output_type": "stream",
     "text": [
      "Bootstrapped 1 full traces after 2 examples in round 0.\n",
      "Bootstrapping set 7/7\n"
     ]
    },
    {
     "name": "stderr",
     "output_type": "stream",
     "text": [
      "  2%|▏         | 1/50 [00:06<04:55,  6.03s/it]\n"
     ]
    },
    {
     "name": "stdout",
     "output_type": "stream",
     "text": [
      "Bootstrapped 1 full traces after 2 examples in round 0.\n",
      "\n",
      "==> STEP 2: PROPOSE INSTRUCTION CANDIDATES <==\n",
      "In this step, by default we will use the few-shot examples from the previous step, a generated dataset summary, a summary of the program code, and a randomly selected prompting tip to propose instructions.\n",
      "\n",
      "Proposing instructions...\n",
      "\n",
      "Proposed Instructions for Predictor 0:\n",
      "\n",
      "0: Given the fields `topic`, produce the fields `tweet`.\n",
      "\n",
      "1: You are a motivational speaker and personal development coach. Given the field `topic`, produce an inspiring tweet that reflects the essence of the topic while encouraging self-awareness and resilience.\n",
      "\n",
      "2: Using the topic provided, generate a tweet that encapsulates the essence of the topic through a structured reasoning process. Begin by breaking down the topic step by step to highlight key insights and context, and then distill this reasoning into a concise and engaging tweet suitable for social media. Ensure the tweet resonates with themes of personal development, resilience, and self-empowerment.\n",
      "\n",
      "3: Generate a tweet based on the provided topic by outlining your reasoning step-by-step, ensuring the tweet is engaging and offers practical insights related to the topic.\n",
      "\n",
      "4: Using the provided `topic`, generate a coherent and insightful tweet that reflects the reasoning behind the topic. Ensure that the tweet is motivational and encourages self-awareness, personal agency, and community support in relation to the topic discussed.\n",
      "\n",
      "5: Craft a motivational tweet based on the provided topic. Start by thinking deeply about the implications of the topic, then articulate a thoughtful reasoning that leads to an inspiring and concise tweet that resonates with the theme of personal development and community support.\n",
      "\n",
      "6: Generate a tweet based on the provided topic. Include a reasoning process that articulates thoughts step-by-step to support the tweet's content, ensuring that the tweet is engaging and reflective of the topic's essence.\n",
      "\n",
      "\n",
      "\n",
      "Evaluating the default program...\n",
      "\n"
     ]
    },
    {
     "name": "stderr",
     "output_type": "stream",
     "text": [
      "Average Metric: 190.25 / 200  (95.1): 100%|██████████| 200/200 [07:53<00:00,  2.37s/it]\n",
      "/Users/kevinvegda/Desktop/code/tweet-optim-dspy/.venv/lib/python3.12/site-packages/optuna/_experimental.py:30: ExperimentalWarning: Argument ``multivariate`` is an experimental feature. The interface can change in the future.\n",
      "  warnings.warn(\n"
     ]
    },
    {
     "name": "stdout",
     "output_type": "stream",
     "text": [
      "Default program score: 95.12\n",
      "\n",
      "==> STEP 3: FINDING OPTIMAL PROMPT PARAMETERS <==\n",
      "In this step, we will evaluate the program over a series of trials with different combinations of instructions and few-shot examples to find the optimal combination. Bayesian Optimization will be used for this search process.\n",
      "\n",
      "== Minibatch Trial 1 / 10 ==\n"
     ]
    },
    {
     "name": "stderr",
     "output_type": "stream",
     "text": [
      "Average Metric: 25.0 / 25  (100.0): 100%|██████████| 25/25 [01:22<00:00,  3.31s/it]\n"
     ]
    },
    {
     "name": "stdout",
     "output_type": "stream",
     "text": [
      "Score: 100.0 on minibatch of size 25 with parameters ['Predictor 1: Instruction 1', 'Predictor 1: Few-Shot Set 5'].\n",
      "\n",
      "\n",
      "== Minibatch Trial 2 / 10 ==\n"
     ]
    },
    {
     "name": "stderr",
     "output_type": "stream",
     "text": [
      "Average Metric: 25.0 / 25  (100.0): 100%|██████████| 25/25 [01:23<00:00,  3.35s/it]\n"
     ]
    },
    {
     "name": "stdout",
     "output_type": "stream",
     "text": [
      "Score: 100.0 on minibatch of size 25 with parameters ['Predictor 1: Instruction 2', 'Predictor 1: Few-Shot Set 5'].\n",
      "\n",
      "\n",
      "== Minibatch Trial 3 / 10 ==\n"
     ]
    },
    {
     "name": "stderr",
     "output_type": "stream",
     "text": [
      "Average Metric: 19.0 / 25  (76.0): 100%|██████████| 25/25 [01:20<00:00,  3.22s/it]\n"
     ]
    },
    {
     "name": "stdout",
     "output_type": "stream",
     "text": [
      "Score: 76.0 on minibatch of size 25 with parameters ['Predictor 1: Instruction 4', 'Predictor 1: Few-Shot Set 1'].\n",
      "\n",
      "\n",
      "== Minibatch Trial 4 / 10 ==\n"
     ]
    },
    {
     "name": "stderr",
     "output_type": "stream",
     "text": [
      "Average Metric: 23.0 / 25  (92.0): 100%|██████████| 25/25 [01:15<00:00,  3.03s/it] \n"
     ]
    },
    {
     "name": "stdout",
     "output_type": "stream",
     "text": [
      "Score: 92.0 on minibatch of size 25 with parameters ['Predictor 1: Instruction 6', 'Predictor 1: Few-Shot Set 1'].\n",
      "\n",
      "\n",
      "== Minibatch Trial 5 / 10 ==\n"
     ]
    },
    {
     "name": "stderr",
     "output_type": "stream",
     "text": [
      "Average Metric: 24.0 / 25  (96.0): 100%|██████████| 25/25 [01:04<00:00,  2.58s/it] \n"
     ]
    },
    {
     "name": "stdout",
     "output_type": "stream",
     "text": [
      "Score: 96.0 on minibatch of size 25 with parameters ['Predictor 1: Instruction 6', 'Predictor 1: Few-Shot Set 1'].\n",
      "\n",
      "\n",
      "== Minibatch Trial 6 / 10 ==\n"
     ]
    },
    {
     "name": "stderr",
     "output_type": "stream",
     "text": [
      "Average Metric: 25.0 / 25  (100.0): 100%|██████████| 25/25 [01:25<00:00,  3.40s/it]\n"
     ]
    },
    {
     "name": "stdout",
     "output_type": "stream",
     "text": [
      "Score: 100.0 on minibatch of size 25 with parameters ['Predictor 1: Instruction 5', 'Predictor 1: Few-Shot Set 6'].\n",
      "\n",
      "\n",
      "== Minibatch Trial 7 / 10 ==\n"
     ]
    },
    {
     "name": "stderr",
     "output_type": "stream",
     "text": [
      "Average Metric: 25.0 / 25  (100.0): 100%|██████████| 25/25 [01:06<00:00,  2.64s/it]\n"
     ]
    },
    {
     "name": "stdout",
     "output_type": "stream",
     "text": [
      "Score: 100.0 on minibatch of size 25 with parameters ['Predictor 1: Instruction 2', 'Predictor 1: Few-Shot Set 3'].\n",
      "\n",
      "\n",
      "== Minibatch Trial 8 / 10 ==\n"
     ]
    },
    {
     "name": "stderr",
     "output_type": "stream",
     "text": [
      "Average Metric: 23.0 / 25  (92.0): 100%|██████████| 25/25 [01:00<00:00,  2.41s/it]\n"
     ]
    },
    {
     "name": "stdout",
     "output_type": "stream",
     "text": [
      "Score: 92.0 on minibatch of size 25 with parameters ['Predictor 1: Instruction 4', 'Predictor 1: Few-Shot Set 1'].\n",
      "\n",
      "\n",
      "== Minibatch Trial 9 / 10 ==\n"
     ]
    },
    {
     "name": "stderr",
     "output_type": "stream",
     "text": [
      "Average Metric: 24.0 / 25  (96.0): 100%|██████████| 25/25 [01:22<00:00,  3.29s/it] \n"
     ]
    },
    {
     "name": "stdout",
     "output_type": "stream",
     "text": [
      "Score: 96.0 on minibatch of size 25 with parameters ['Predictor 1: Instruction 1', 'Predictor 1: Few-Shot Set 2'].\n",
      "\n",
      "\n",
      "== Minibatch Trial 10 / 10 ==\n"
     ]
    },
    {
     "name": "stderr",
     "output_type": "stream",
     "text": [
      "Average Metric: 25.0 / 25  (100.0): 100%|██████████| 25/25 [01:14<00:00,  2.97s/it]\n"
     ]
    },
    {
     "name": "stdout",
     "output_type": "stream",
     "text": [
      "Score: 100.0 on minibatch of size 25 with parameters ['Predictor 1: Instruction 3', 'Predictor 1: Few-Shot Set 2'].\n",
      "\n",
      "\n",
      "===== Full Eval 1 =====\n",
      "Doing full eval on next top averaging program (Avg Score: 100.0) so far from mini-batch trials...\n"
     ]
    },
    {
     "name": "stderr",
     "output_type": "stream",
     "text": [
      "Average Metric: 197.0 / 200  (98.5): 100%|██████████| 200/200 [06:58<00:00,  2.09s/it]"
     ]
    },
    {
     "name": "stdout",
     "output_type": "stream",
     "text": [
      "\u001b[92mBest full eval score so far!\u001b[0m Score: 98.5\n",
      "=======================\n",
      "\n",
      "\n",
      "[('prog', Predict(StringSignature(topic -> reasoning, tweet\n",
      "    instructions='Given the fields `topic`, produce the fields `tweet`.'\n",
      "    topic = Field(annotation=str required=True json_schema_extra={'__dspy_field_type': 'input', 'prefix': 'Topic:', 'desc': '${topic}'})\n",
      "    reasoning = Field(annotation=str required=True json_schema_extra={'prefix': \"Reasoning: Let's think step by step in order to\", 'desc': '${reasoning}', '__dspy_field_type': 'output'})\n",
      "    tweet = Field(annotation=str required=True json_schema_extra={'__dspy_field_type': 'output', 'prefix': 'Tweet:', 'desc': '${tweet}'})\n",
      ")))]\n"
     ]
    },
    {
     "name": "stderr",
     "output_type": "stream",
     "text": [
      "\n"
     ]
    }
   ],
   "source": [
    "# Initialize optimizer\n",
    "teleprompter = MIPROv2(\n",
    "    metric=tweet_ensemble_metric,\n",
    "    num_candidates=7,\n",
    "    init_temperature=0.5,\n",
    "    verbose=False,\n",
    "    num_threads=2,\n",
    ")\n",
    "\n",
    "mipro_optimized_program = teleprompter.compile(\n",
    "    TweetWriter(),\n",
    "    trainset=trainset,\n",
    "    max_bootstrapped_demos=3,\n",
    "    max_labeled_demos=4,\n",
    "    num_trials=10,\n",
    "    minibatch_size=25,\n",
    "    minibatch_full_eval_steps=10,\n",
    "    minibatch=True, \n",
    ")\n",
    "\n",
    "# Save optimize program for future use\n",
    "mipro_optimized_program.save(\"mipro_optimizedv2\")"
   ]
  },
  {
   "cell_type": "code",
   "execution_count": 138,
   "metadata": {},
   "outputs": [
    {
     "name": "stderr",
     "output_type": "stream",
     "text": [
      "Average Metric: 40.0 / 40  (100.0): 100%|██████████| 40/40 [01:39<00:00,  2.50s/it]\n"
     ]
    },
    {
     "data": {
      "text/html": [
       "<style type=\"text/css\">\n",
       "#T_92588 th {\n",
       "  text-align: left;\n",
       "}\n",
       "#T_92588 td {\n",
       "  text-align: left;\n",
       "}\n",
       "#T_92588_row0_col0, #T_92588_row0_col1, #T_92588_row0_col2, #T_92588_row0_col3, #T_92588_row0_col4, #T_92588_row1_col0, #T_92588_row1_col1, #T_92588_row1_col2, #T_92588_row1_col3, #T_92588_row1_col4, #T_92588_row2_col0, #T_92588_row2_col1, #T_92588_row2_col2, #T_92588_row2_col3, #T_92588_row2_col4, #T_92588_row3_col0, #T_92588_row3_col1, #T_92588_row3_col2, #T_92588_row3_col3, #T_92588_row3_col4, #T_92588_row4_col0, #T_92588_row4_col1, #T_92588_row4_col2, #T_92588_row4_col3, #T_92588_row4_col4 {\n",
       "  text-align: left;\n",
       "  white-space: pre-wrap;\n",
       "  word-wrap: break-word;\n",
       "  max-width: 400px;\n",
       "}\n",
       "</style>\n",
       "<table id=\"T_92588\">\n",
       "  <thead>\n",
       "    <tr>\n",
       "      <th class=\"blank level0\" >&nbsp;</th>\n",
       "      <th id=\"T_92588_level0_col0\" class=\"col_heading level0 col0\" >example_tweet</th>\n",
       "      <th id=\"T_92588_level0_col1\" class=\"col_heading level0 col1\" >topic</th>\n",
       "      <th id=\"T_92588_level0_col2\" class=\"col_heading level0 col2\" >reasoning</th>\n",
       "      <th id=\"T_92588_level0_col3\" class=\"col_heading level0 col3\" >pred_tweet</th>\n",
       "      <th id=\"T_92588_level0_col4\" class=\"col_heading level0 col4\" >tweet_ensemble_metric</th>\n",
       "    </tr>\n",
       "  </thead>\n",
       "  <tbody>\n",
       "    <tr>\n",
       "      <th id=\"T_92588_level0_row0\" class=\"row_heading level0 row0\" >0</th>\n",
       "      <td id=\"T_92588_row0_col0\" class=\"data row0 col0\" >Doing a thing increases your ability to learn about it. In order words, do the thing, then read about it. The experience will give you...</td>\n",
       "      <td id=\"T_92588_row0_col1\" class=\"data row0 col1\" >Learning and Experience</td>\n",
       "      <td id=\"T_92588_row0_col2\" class=\"data row0 col2\" >Learning and experience are intertwined; every lesson learned shapes our journey and equips us for future challenges. Embracing both successes and failures as valuable experiences...</td>\n",
       "      <td id=\"T_92588_row0_col3\" class=\"data row0 col3\" >Every experience, good or bad, is a stepping stone to growth. Embrace the lessons, reflect on your journey, and let each moment shape you into...</td>\n",
       "      <td id=\"T_92588_row0_col4\" class=\"data row0 col4\" >✔️ [1.0]</td>\n",
       "    </tr>\n",
       "    <tr>\n",
       "      <th id=\"T_92588_level0_row1\" class=\"row_heading level0 row1\" >1</th>\n",
       "      <td id=\"T_92588_row1_col0\" class=\"data row1 col0\" >Anyone else ever accidentally get in the shower with a hat still on? https://t.co/t9IOAGcC1h</td>\n",
       "      <td id=\"T_92588_row1_col1\" class=\"data row1 col1\" >Everyday Life/Humor</td>\n",
       "      <td id=\"T_92588_row1_col2\" class=\"data row1 col2\" >Everyday life can often be mundane, but humor is a powerful tool to lighten our daily experiences. Finding joy and laughter in the little things...</td>\n",
       "      <td id=\"T_92588_row1_col3\" class=\"data row1 col3\" >Why do we park in driveways and drive on parkways? 🤔 Life is full of these little mysteries! Embrace the humor in everyday life—it makes...</td>\n",
       "      <td id=\"T_92588_row1_col4\" class=\"data row1 col4\" >✔️ [1.0]</td>\n",
       "    </tr>\n",
       "    <tr>\n",
       "      <th id=\"T_92588_level0_row2\" class=\"row_heading level0 row2\" >2</th>\n",
       "      <td id=\"T_92588_row2_col0\" class=\"data row2 col0\" >If you have all the information to make a perfect decision, you missed the opportunity.</td>\n",
       "      <td id=\"T_92588_row2_col1\" class=\"data row2 col1\" >Decision Making</td>\n",
       "      <td id=\"T_92588_row2_col2\" class=\"data row2 col2\" >Decision making is a critical skill that shapes our lives and futures. It involves weighing options, considering consequences, and trusting our instincts. Emphasizing the importance...</td>\n",
       "      <td id=\"T_92588_row2_col3\" class=\"data row2 col3\" >Every decision you make is a step on your journey. Trust your instincts, reflect on your values, and remember: it’s okay to take your time....</td>\n",
       "      <td id=\"T_92588_row2_col4\" class=\"data row2 col4\" >✔️ [1.0]</td>\n",
       "    </tr>\n",
       "    <tr>\n",
       "      <th id=\"T_92588_level0_row3\" class=\"row_heading level0 row3\" >3</th>\n",
       "      <td id=\"T_92588_row3_col0\" class=\"data row3 col0\" >I’m bad at starting new habits. I’m also pretty bad at keeping habits. In the last ten years, the only small habits I’ve been able...</td>\n",
       "      <td id=\"T_92588_row3_col1\" class=\"data row3 col1\" >Habit Formation</td>\n",
       "      <td id=\"T_92588_row3_col2\" class=\"data row3 col2\" >Habit formation is a powerful process that shapes our daily lives and long-term success. Understanding that habits are built through consistency and small, incremental changes...</td>\n",
       "      <td id=\"T_92588_row3_col3\" class=\"data row3 col3\" >Every great achievement starts with a single habit. 🌱 Focus on small, consistent actions, and watch them transform your life over time. Remember, it’s progress,...</td>\n",
       "      <td id=\"T_92588_row3_col4\" class=\"data row3 col4\" >✔️ [1.0]</td>\n",
       "    </tr>\n",
       "    <tr>\n",
       "      <th id=\"T_92588_level0_row4\" class=\"row_heading level0 row4\" >4</th>\n",
       "      <td id=\"T_92588_row4_col0\" class=\"data row4 col0\" >The reason you are stressed is you have decisions to make and you’re not making them.</td>\n",
       "      <td id=\"T_92588_row4_col1\" class=\"data row4 col1\" >Mental Health</td>\n",
       "      <td id=\"T_92588_row4_col2\" class=\"data row4 col2\" >Mental health is a vital aspect of overall well-being that often gets overlooked. It's important to prioritize self-care, seek help when needed, and foster open...</td>\n",
       "      <td id=\"T_92588_row4_col3\" class=\"data row4 col3\" >Your mental health matters just as much as your physical health. 🌱 Take a moment today to check in with yourself, practice self-care, and reach...</td>\n",
       "      <td id=\"T_92588_row4_col4\" class=\"data row4 col4\" >✔️ [1.0]</td>\n",
       "    </tr>\n",
       "  </tbody>\n",
       "</table>\n"
      ],
      "text/plain": [
       "<pandas.io.formats.style.Styler at 0x13877e7e0>"
      ]
     },
     "metadata": {},
     "output_type": "display_data"
    },
    {
     "data": {
      "text/html": [
       "\n",
       "                <div style='\n",
       "                    text-align: center;\n",
       "                    font-size: 16px;\n",
       "                    font-weight: bold;\n",
       "                    color: #555;\n",
       "                    margin: 10px 0;'>\n",
       "                    ... 35 more rows not displayed ...\n",
       "                </div>\n",
       "                "
      ],
      "text/plain": [
       "<IPython.core.display.HTML object>"
      ]
     },
     "metadata": {},
     "output_type": "display_data"
    },
    {
     "data": {
      "text/plain": [
       "100.0"
      ]
     },
     "execution_count": 138,
     "metadata": {},
     "output_type": "execute_result"
    }
   ],
   "source": [
    "evaluator(mipro_optimized_program)"
   ]
  },
  {
   "cell_type": "markdown",
   "metadata": {},
   "source": [
    "# MIPROv2 score: 100\n",
    "Given that the eval for this was more robust, this might be a more 'useful' 100 than a 100 from BootstrapFewShot. I'd like to explore how to normalize and juxtapose these scores but leave it up for further work in the interest of time.\n",
    "\n",
    "Also during this run, I realised that some of the higher hyperparams in both of my MIPRO runs were completely unneccessary. As such, I'll reduce them for the next experiment."
   ]
  },
  {
   "cell_type": "markdown",
   "metadata": {},
   "source": [
    "# Experiment 3: with RAG"
   ]
  },
  {
   "cell_type": "code",
   "execution_count": 1,
   "metadata": {},
   "outputs": [
    {
     "name": "stderr",
     "output_type": "stream",
     "text": [
      "/Users/kevinvegda/Desktop/code/tweet-optim-dspy/.venv/lib/python3.12/site-packages/tqdm/auto.py:21: TqdmWarning: IProgress not found. Please update jupyter and ipywidgets. See https://ipywidgets.readthedocs.io/en/stable/user_install.html\n",
      "  from .autonotebook import tqdm as notebook_tqdm\n"
     ]
    }
   ],
   "source": [
    "import pickle \n",
    "\n",
    "with open('data/annotated_dataset.pkl', 'rb') as pickle_file:\n",
    "    annotated_dataset = pickle.load(pickle_file)"
   ]
  },
  {
   "cell_type": "code",
   "execution_count": 2,
   "metadata": {},
   "outputs": [],
   "source": [
    "rag_entries = 200\n",
    "#200 entries\n",
    "set_for_rag = annotated_dataset[:rag_entries]\n",
    "#100 entries\n",
    "set_for_training = annotated_dataset[rag_entries:]\n",
    "#75 for training, 25 for val\n",
    "dev_set_n = 75\n",
    "trainset = [x.without('engagement').with_inputs('topic') for x in set_for_training[:dev_set_n]]\n",
    "devset = [x.without('engagement').with_inputs('topic') for x in set_for_training[dev_set_n:]]"
   ]
  },
  {
   "cell_type": "code",
   "execution_count": 3,
   "metadata": {},
   "outputs": [
    {
     "name": "stdout",
     "output_type": "stream",
     "text": [
      "True\n"
     ]
    }
   ],
   "source": [
    "import weaviate\n",
    "from dotenv import load_dotenv\n",
    "import os\n",
    "\n",
    "load_dotenv()\n",
    "  \n",
    "OPENAI_API_KEY = os.getenv(\"OPENAI_API_KEY\")\n",
    "\n",
    "client = weaviate.connect_to_local(host='localhost', port=8080, headers={\n",
    "    'X-Openai-Api-Key': OPENAI_API_KEY\n",
    "})\n",
    "\n",
    "print(client.is_ready())"
   ]
  },
  {
   "cell_type": "code",
   "execution_count": 4,
   "metadata": {},
   "outputs": [],
   "source": [
    "import weaviate.classes.config as wvcc\n",
    "  \n",
    "client.collections.delete_all()\n",
    "collection = client.collections.create(\n",
    "    name = \"DspyTweets\",\n",
    "    vectorizer_config=wvcc.Configure.Vectorizer.text2vec_openai(),\n",
    "    properties=[\n",
    "        wvcc.Property(name = \"content\", data_type=wvcc.DataType.TEXT),\n",
    "    ],\n",
    ")"
   ]
  },
  {
   "cell_type": "code",
   "execution_count": 5,
   "metadata": {},
   "outputs": [],
   "source": [
    "import re\n",
    "\n",
    "def chunk_list(lst, chunk_size):\n",
    "    \"\"\"Break a list into chunks of the specified size.\"\"\"\n",
    "    return [lst[i:i + chunk_size] for i in range(0, len(lst), chunk_size)]\n",
    "\n",
    "def split_into_sentences(text):\n",
    "    \"\"\"Split text into sentences using regular expressions.\"\"\"\n",
    "    sentences = re.split(r'(?<!\\w\\.\\w.)(?<![A-Z][a-z]\\.)(?<=\\.|\\?)\\s', text)\n",
    "    return [sentence.strip() for sentence in sentences if sentence.strip()]\n",
    "\n",
    "def chunk_tweets():\n",
    "    \"\"\"Read index.md files from subfolders, split into sentences, and chunk every 5 sentences.\"\"\"\n",
    "    tweet_chunks = []\n",
    "    for tweet in set_for_rag:\n",
    "        content = tweet.tweet\n",
    "        sentences = split_into_sentences(content)\n",
    "        sentence_chunks = chunk_list(sentences, 5)\n",
    "        sentence_chunks = [' '.join(chuck) for chuck in sentence_chunks]\n",
    "        tweet_chunks.extend(sentence_chunks)\n",
    "    return tweet_chunks\n",
    "\n",
    "tweet_chunks = chunk_tweets()"
   ]
  },
  {
   "cell_type": "code",
   "execution_count": 6,
   "metadata": {},
   "outputs": [
    {
     "data": {
      "text/plain": [
       "205"
      ]
     },
     "execution_count": 6,
     "metadata": {},
     "output_type": "execute_result"
    }
   ],
   "source": [
    "len(tweet_chunks)"
   ]
  },
  {
   "cell_type": "code",
   "execution_count": 7,
   "metadata": {},
   "outputs": [
    {
     "data": {
      "text/plain": [
       "'Stop “friend financing”'"
      ]
     },
     "execution_count": 7,
     "metadata": {},
     "output_type": "execute_result"
    }
   ],
   "source": [
    "tweet_chunks[0]"
   ]
  },
  {
   "cell_type": "code",
   "execution_count": 8,
   "metadata": {},
   "outputs": [],
   "source": [
    "tweets_collection = client.collections.get(\"DspyTweets\")\n",
    "\n",
    "for idx, tweet_chunk in enumerate(tweet_chunks):\n",
    "    upload = tweets_collection.data.insert(\n",
    "        properties={\n",
    "            \"content\": tweet_chunk\n",
    "        }\n",
    "    )"
   ]
  },
  {
   "cell_type": "code",
   "execution_count": 9,
   "metadata": {},
   "outputs": [
    {
     "name": "stdout",
     "output_type": "stream",
     "text": [
      "Document: Entrepreneurship is less about being really good at anything and more about being good enough at everything. \n",
      "\n",
      "Document: Entrepreneurship isn’t about being great at a few things but being good enough at everything. \n",
      "\n",
      "Document: The best entrepreneurs don’t do business to make money. They make money to do business. \n",
      "\n",
      "Document: You can always justify doing a new thing by quantifying what you have to gain. The tough part is quantifying what you’ll lose from the distraction. And that downside is the part most entrepreneurs miscalculate. \n",
      "\n",
      "Document: Many small business owners stay small because they don’t have the patience to let something small become big. \n",
      "\n"
     ]
    }
   ],
   "source": [
    "import dspy\n",
    "from dspy.retrieve.weaviate_rm import WeaviateRM\n",
    "\n",
    "retriever_model = WeaviateRM(\n",
    "    weaviate_collection_name=\"DspyTweets\",\n",
    "    weaviate_client=client,\n",
    ")\n",
    "\n",
    "results = retriever_model(\"entrepreneurship\", k=5)\n",
    "\n",
    "for result in results:\n",
    "    print(\"Document:\", result.long_text, \"\\n\")"
   ]
  },
  {
   "cell_type": "code",
   "execution_count": 10,
   "metadata": {},
   "outputs": [],
   "source": [
    "dspy.configure(rm = retriever_model)"
   ]
  },
  {
   "cell_type": "code",
   "execution_count": 11,
   "metadata": {},
   "outputs": [],
   "source": [
    "# Define the signature for automatic assessments.\n",
    "gpt4o = dspy.LM(model= 'gpt-4o', max_tokens=1000, model_type='chat')\n",
    "retrieve = dspy.Retrieve(k=5)\n",
    "\n",
    "class Assess(dspy.Signature):\n",
    "    \"\"\"Assess the quality of a tweet along the specified dimension.\"\"\"\n",
    "\n",
    "    context = dspy.InputField(desc='ignore if N/A')\n",
    "    assessed_text = dspy.InputField()\n",
    "    assessment_question = dspy.InputField()\n",
    "    assessment_answer = dspy.OutputField(desc=\"Yes or No\")\n",
    "\n",
    "def metric(gold, pred, trace=None):\n",
    "    topic, tweet = gold.topic, pred.tweet\n",
    "    context = retrieve(topic).passages\n",
    "\n",
    "    engaging = \"Does the assessed text make for a self-contained, engaging tweet?\"\n",
    "    faithful = \"Is the assessed text grounded in the context? Say no if it includes significant facts not in the context.\"\n",
    "    concise = \"Does the assessed text make for a concise, cogent tweet?\"\n",
    "    creative = \"Does the assessed text make for a creative tweet?\"\n",
    "    relevant = f\"The this is the tweet: `{tweet}`. It should be relevant to: `{topic}`.\"\n",
    "    \n",
    "    with dspy.context(lm=gpt4o):\n",
    "        faithful = dspy.Predict(Assess)(context=context, assessed_text=tweet, assessment_question=faithful)\n",
    "        relevant =  dspy.Predict(Assess)(context='N/A', assessed_text=tweet, assessment_question=relevant)\n",
    "        engaging = dspy.Predict(Assess)(context='N/A', assessed_text=tweet, assessment_question=engaging)\n",
    "        creative = dspy.Predict(Assess)(context='N/A', assessed_text=tweet, assessment_question=creative)\n",
    "        concise = dspy.Predict(Assess)(context='N/A', assessed_text=tweet, assessment_question=concise)\n",
    "\n",
    "    relevant, engaging, creative, concise, faithful = (m.assessment_answer.split()[0].lower() == 'yes' for m in [relevant, engaging, creative, concise, faithful])\n",
    "    #takes care of length\n",
    "    score = (relevant + engaging + creative + concise + faithful) if (len(tweet) <= 280) else 0\n",
    "\n",
    "    if trace is not None: \n",
    "        return score >= 5\n",
    "    return score / 5.0"
   ]
  },
  {
   "cell_type": "code",
   "execution_count": 12,
   "metadata": {},
   "outputs": [],
   "source": [
    "class GenerateTweet(dspy.Signature):\n",
    "    \"\"\"Generate a tweet based on the context\"\"\"\n",
    "\n",
    "    context = dspy.InputField(desc = \"May contain relevant facts\")\n",
    "    topic = dspy.InputField()\n",
    "    tweet = dspy.OutputField()\n",
    "\n",
    "class TweetRAG(dspy.Module):\n",
    "    def __init__(self, num_passages = 3):\n",
    "        super().__init__()\n",
    "\n",
    "        self.retrieve = dspy.Retrieve(k = num_passages)\n",
    "        self.generate_tweet = dspy.ChainOfThought(GenerateTweet)\n",
    "\n",
    "    def forward(self, topic):\n",
    "        context = self.retrieve(topic).passages\n",
    "        prediction = self.generate_tweet(context = context, topic = topic)\n",
    "        return dspy.Prediction(tweet = prediction.tweet)"
   ]
  },
  {
   "cell_type": "code",
   "execution_count": 13,
   "metadata": {},
   "outputs": [],
   "source": [
    "mini = dspy.LM(model = 'gpt-4o-mini')\n",
    "dspy.configure(lm=mini)"
   ]
  },
  {
   "cell_type": "code",
   "execution_count": 14,
   "metadata": {},
   "outputs": [
    {
     "name": "stderr",
     "output_type": "stream",
     "text": [
      "Average Metric: 22.8 / 25  (91.2): 100%|██████████| 25/25 [01:08<00:00,  2.75s/it]\n"
     ]
    },
    {
     "data": {
      "text/html": [
       "<style type=\"text/css\">\n",
       "#T_288fa th {\n",
       "  text-align: left;\n",
       "}\n",
       "#T_288fa td {\n",
       "  text-align: left;\n",
       "}\n",
       "#T_288fa_row0_col0, #T_288fa_row0_col1, #T_288fa_row0_col2, #T_288fa_row0_col3, #T_288fa_row1_col0, #T_288fa_row1_col1, #T_288fa_row1_col2, #T_288fa_row1_col3, #T_288fa_row2_col0, #T_288fa_row2_col1, #T_288fa_row2_col2, #T_288fa_row2_col3, #T_288fa_row3_col0, #T_288fa_row3_col1, #T_288fa_row3_col2, #T_288fa_row3_col3, #T_288fa_row4_col0, #T_288fa_row4_col1, #T_288fa_row4_col2, #T_288fa_row4_col3 {\n",
       "  text-align: left;\n",
       "  white-space: pre-wrap;\n",
       "  word-wrap: break-word;\n",
       "  max-width: 400px;\n",
       "}\n",
       "</style>\n",
       "<table id=\"T_288fa\">\n",
       "  <thead>\n",
       "    <tr>\n",
       "      <th class=\"blank level0\" >&nbsp;</th>\n",
       "      <th id=\"T_288fa_level0_col0\" class=\"col_heading level0 col0\" >example_tweet</th>\n",
       "      <th id=\"T_288fa_level0_col1\" class=\"col_heading level0 col1\" >topic</th>\n",
       "      <th id=\"T_288fa_level0_col2\" class=\"col_heading level0 col2\" >pred_tweet</th>\n",
       "      <th id=\"T_288fa_level0_col3\" class=\"col_heading level0 col3\" >metric</th>\n",
       "    </tr>\n",
       "  </thead>\n",
       "  <tbody>\n",
       "    <tr>\n",
       "      <th id=\"T_288fa_level0_row0\" class=\"row_heading level0 row0\" >0</th>\n",
       "      <td id=\"T_288fa_row0_col0\" class=\"data row0 col0\" >For those who ask how I eat desert every night and don’t get fat…\n",
       "\n",
       "Answer: I eat less during the day.</td>\n",
       "      <td id=\"T_288fa_row0_col1\" class=\"data row0 col1\" >Diet and Weight Management</td>\n",
       "      <td id=\"T_288fa_row0_col2\" class=\"data row0 col2\" >\"Weight management isn't about winning; it's about the journey. Just like in marriage, the goal is to keep going. Celebrate the small victories in the...</td>\n",
       "      <td id=\"T_288fa_row0_col3\" class=\"data row0 col3\" >✔️ [1.0]</td>\n",
       "    </tr>\n",
       "    <tr>\n",
       "      <th id=\"T_288fa_level0_row1\" class=\"row_heading level0 row1\" >1</th>\n",
       "      <td id=\"T_288fa_row1_col0\" class=\"data row1 col0\" >You can give up tomorrow. \n",
       "Today you fight.</td>\n",
       "      <td id=\"T_288fa_row1_col1\" class=\"data row1 col1\" >Motivation</td>\n",
       "      <td id=\"T_288fa_row1_col2\" class=\"data row1 col2\" >Motivation doesn't always come from passion. Sometimes, it's pain, fear, or even shame that drives us. Remember, every small win counts! Visualize your audience—93 views?...</td>\n",
       "      <td id=\"T_288fa_row1_col3\" class=\"data row1 col3\" ><class 'str'></td>\n",
       "    </tr>\n",
       "    <tr>\n",
       "      <th id=\"T_288fa_level0_row2\" class=\"row_heading level0 row2\" >2</th>\n",
       "      <td id=\"T_288fa_row2_col0\" class=\"data row2 col0\" >There are no recessions. \n",
       "\n",
       "Only buying seasons and selling seasons.\n",
       "\n",
       "Your skills determine which season it is for you.</td>\n",
       "      <td id=\"T_288fa_row2_col1\" class=\"data row2 col1\" >Economic Perspective</td>\n",
       "      <td id=\"T_288fa_row2_col2\" class=\"data row2 col2\" >💡 Everyone is an investor! Whether rich or poor, how we trade our resources defines our returns. Start measuring your investments in time and money...</td>\n",
       "      <td id=\"T_288fa_row2_col3\" class=\"data row2 col3\" >✔️ [1.0]</td>\n",
       "    </tr>\n",
       "    <tr>\n",
       "      <th id=\"T_288fa_level0_row3\" class=\"row_heading level0 row3\" >3</th>\n",
       "      <td id=\"T_288fa_row3_col0\" class=\"data row3 col0\" >A life tip that’s served me well:\n",
       "\n",
       "Save your big decisions for a morning after a good nights sleep.</td>\n",
       "      <td id=\"T_288fa_row3_col1\" class=\"data row3 col1\" >Life Advice</td>\n",
       "      <td id=\"T_288fa_row3_col2\" class=\"data row3 col2\" >Life isn't a race to win; it's a journey to enjoy. Focus on nurturing relationships, health, and passions rather than just reaching a destination. Sometimes,...</td>\n",
       "      <td id=\"T_288fa_row3_col3\" class=\"data row3 col3\" >✔️ [1.0]</td>\n",
       "    </tr>\n",
       "    <tr>\n",
       "      <th id=\"T_288fa_level0_row4\" class=\"row_heading level0 row4\" >4</th>\n",
       "      <td id=\"T_288fa_row4_col0\" class=\"data row4 col0\" >Whenever I get to a low point where I think “why do I even bother?” I just try to remind myself “this is where most...</td>\n",
       "      <td id=\"T_288fa_row4_col1\" class=\"data row4 col1\" >Motivation and Perseverance</td>\n",
       "      <td id=\"T_288fa_row4_col2\" class=\"data row4 col2\" >\"Don't wait for motivation to strike! Start when it’s hard and use your challenges as fuel. Pain, fear, and anger can be powerful motivators. Conquer...</td>\n",
       "      <td id=\"T_288fa_row4_col3\" class=\"data row4 col3\" >✔️ [1.0]</td>\n",
       "    </tr>\n",
       "  </tbody>\n",
       "</table>\n"
      ],
      "text/plain": [
       "<pandas.io.formats.style.Styler at 0x1320c4200>"
      ]
     },
     "metadata": {},
     "output_type": "display_data"
    },
    {
     "data": {
      "text/html": [
       "\n",
       "                <div style='\n",
       "                    text-align: center;\n",
       "                    font-size: 16px;\n",
       "                    font-weight: bold;\n",
       "                    color: #555;\n",
       "                    margin: 10px 0;'>\n",
       "                    ... 20 more rows not displayed ...\n",
       "                </div>\n",
       "                "
      ],
      "text/plain": [
       "<IPython.core.display.HTML object>"
      ]
     },
     "metadata": {},
     "output_type": "display_data"
    },
    {
     "data": {
      "text/plain": [
       "91.2"
      ]
     },
     "execution_count": 14,
     "metadata": {},
     "output_type": "execute_result"
    }
   ],
   "source": [
    "from dspy.evaluate.evaluate import Evaluate\n",
    "uncompiled_tweet_rag = TweetRAG()\n",
    "evaluator = Evaluate(devset=devset, metric=metric, num_threads=2, display_progress=True, display_table=5, provide_traceback=True)\n",
    "evaluator(uncompiled_tweet_rag) "
   ]
  },
  {
   "cell_type": "markdown",
   "metadata": {},
   "source": [
    "## Uncompiled Tweet-RAG: 91.2"
   ]
  },
  {
   "cell_type": "code",
   "execution_count": 15,
   "metadata": {},
   "outputs": [
    {
     "name": "stderr",
     "output_type": "stream",
     "text": [
      "100%|██████████| 10/10 [01:03<00:00,  6.33s/it]"
     ]
    },
    {
     "name": "stdout",
     "output_type": "stream",
     "text": [
      "Bootstrapped 8 full traces after 10 examples in round 0.\n",
      "[('retrieve', <dspy.retrieve.retrieve.Retrieve object at 0x132e64890>), ('generate_tweet', Predict(StringSignature(context, topic -> reasoning, tweet\n",
      "    instructions='Generate a tweet based on the context'\n",
      "    context = Field(annotation=str required=True json_schema_extra={'desc': 'May contain relevant facts', '__dspy_field_type': 'input', 'prefix': 'Context:'})\n",
      "    topic = Field(annotation=str required=True json_schema_extra={'__dspy_field_type': 'input', 'prefix': 'Topic:', 'desc': '${topic}'})\n",
      "    reasoning = Field(annotation=str required=True json_schema_extra={'prefix': \"Reasoning: Let's think step by step in order to\", 'desc': '${reasoning}', '__dspy_field_type': 'output'})\n",
      "    tweet = Field(annotation=str required=True json_schema_extra={'__dspy_field_type': 'output', 'prefix': 'Tweet:', 'desc': '${tweet}'})\n",
      ")))]\n"
     ]
    },
    {
     "name": "stderr",
     "output_type": "stream",
     "text": [
      "\n"
     ]
    }
   ],
   "source": [
    "from dspy.teleprompt import BootstrapFewShot\n",
    "config = dict(max_bootstrapped_demos=15, max_labeled_demos=5)\n",
    "optimizer = BootstrapFewShot(metric = metric, **config)\n",
    "optimized_tweet_writer = optimizer.compile(TweetRAG(), trainset=trainset[:10])\n",
    "optimized_tweet_writer.save(path=\"fewshotv3\")"
   ]
  },
  {
   "cell_type": "code",
   "execution_count": 16,
   "metadata": {},
   "outputs": [
    {
     "name": "stderr",
     "output_type": "stream",
     "text": [
      "Average Metric: 24.8 / 25  (99.2): 100%|██████████| 25/25 [01:21<00:00,  3.24s/it] \n"
     ]
    },
    {
     "data": {
      "text/html": [
       "<style type=\"text/css\">\n",
       "#T_23b54 th {\n",
       "  text-align: left;\n",
       "}\n",
       "#T_23b54 td {\n",
       "  text-align: left;\n",
       "}\n",
       "#T_23b54_row0_col0, #T_23b54_row0_col1, #T_23b54_row0_col2, #T_23b54_row0_col3, #T_23b54_row1_col0, #T_23b54_row1_col1, #T_23b54_row1_col2, #T_23b54_row1_col3, #T_23b54_row2_col0, #T_23b54_row2_col1, #T_23b54_row2_col2, #T_23b54_row2_col3, #T_23b54_row3_col0, #T_23b54_row3_col1, #T_23b54_row3_col2, #T_23b54_row3_col3, #T_23b54_row4_col0, #T_23b54_row4_col1, #T_23b54_row4_col2, #T_23b54_row4_col3 {\n",
       "  text-align: left;\n",
       "  white-space: pre-wrap;\n",
       "  word-wrap: break-word;\n",
       "  max-width: 400px;\n",
       "}\n",
       "</style>\n",
       "<table id=\"T_23b54\">\n",
       "  <thead>\n",
       "    <tr>\n",
       "      <th class=\"blank level0\" >&nbsp;</th>\n",
       "      <th id=\"T_23b54_level0_col0\" class=\"col_heading level0 col0\" >example_tweet</th>\n",
       "      <th id=\"T_23b54_level0_col1\" class=\"col_heading level0 col1\" >topic</th>\n",
       "      <th id=\"T_23b54_level0_col2\" class=\"col_heading level0 col2\" >pred_tweet</th>\n",
       "      <th id=\"T_23b54_level0_col3\" class=\"col_heading level0 col3\" >metric</th>\n",
       "    </tr>\n",
       "  </thead>\n",
       "  <tbody>\n",
       "    <tr>\n",
       "      <th id=\"T_23b54_level0_row0\" class=\"row_heading level0 row0\" >0</th>\n",
       "      <td id=\"T_23b54_row0_col0\" class=\"data row0 col0\" >For those who ask how I eat desert every night and don’t get fat…\n",
       "\n",
       "Answer: I eat less during the day.</td>\n",
       "      <td id=\"T_23b54_row0_col1\" class=\"data row0 col1\" >Diet and Weight Management</td>\n",
       "      <td id=\"T_23b54_row0_col2\" class=\"data row0 col2\" >In diet and weight management, there’s no “winning”—only ongoing commitment. Focus on mastering the middle, where real progress happens. Celebrate the journey, not just the...</td>\n",
       "      <td id=\"T_23b54_row0_col3\" class=\"data row0 col3\" >✔️ [1.0]</td>\n",
       "    </tr>\n",
       "    <tr>\n",
       "      <th id=\"T_23b54_level0_row1\" class=\"row_heading level0 row1\" >1</th>\n",
       "      <td id=\"T_23b54_row1_col0\" class=\"data row1 col0\" >You can give up tomorrow. \n",
       "Today you fight.</td>\n",
       "      <td id=\"T_23b54_row1_col1\" class=\"data row1 col1\" >Motivation</td>\n",
       "      <td id=\"T_23b54_row1_col2\" class=\"data row1 col2\" >Motivation can come from unexpected places—pain, fear, or even shame. Use what you’ve got! And remember, every small win matters. Imagine those views as a...</td>\n",
       "      <td id=\"T_23b54_row1_col3\" class=\"data row1 col3\" >✔️ [1.0]</td>\n",
       "    </tr>\n",
       "    <tr>\n",
       "      <th id=\"T_23b54_level0_row2\" class=\"row_heading level0 row2\" >2</th>\n",
       "      <td id=\"T_23b54_row2_col0\" class=\"data row2 col0\" >There are no recessions. \n",
       "\n",
       "Only buying seasons and selling seasons.\n",
       "\n",
       "Your skills determine which season it is for you.</td>\n",
       "      <td id=\"T_23b54_row2_col1\" class=\"data row2 col1\" >Economic Perspective</td>\n",
       "      <td id=\"T_23b54_row2_col2\" class=\"data row2 col2\" >In the economy of life, we’re all investors trading resources for returns. Recognize your time as your most valuable asset! The rarer your perspective, the...</td>\n",
       "      <td id=\"T_23b54_row2_col3\" class=\"data row2 col3\" >✔️ [1.0]</td>\n",
       "    </tr>\n",
       "    <tr>\n",
       "      <th id=\"T_23b54_level0_row3\" class=\"row_heading level0 row3\" >3</th>\n",
       "      <td id=\"T_23b54_row3_col0\" class=\"data row3 col0\" >A life tip that’s served me well:\n",
       "\n",
       "Save your big decisions for a morning after a good nights sleep.</td>\n",
       "      <td id=\"T_23b54_row3_col1\" class=\"data row3 col1\" >Life Advice</td>\n",
       "      <td id=\"T_23b54_row3_col2\" class=\"data row3 col2\" >Life isn’t about winning; it’s about playing the game. Whether in marriage, health, or business, focus on the journey, not just the destination. Sometimes, the...</td>\n",
       "      <td id=\"T_23b54_row3_col3\" class=\"data row3 col3\" >✔️ [1.0]</td>\n",
       "    </tr>\n",
       "    <tr>\n",
       "      <th id=\"T_23b54_level0_row4\" class=\"row_heading level0 row4\" >4</th>\n",
       "      <td id=\"T_23b54_row4_col0\" class=\"data row4 col0\" >Whenever I get to a low point where I think “why do I even bother?” I just try to remind myself “this is where most...</td>\n",
       "      <td id=\"T_23b54_row4_col1\" class=\"data row4 col1\" >Motivation and Perseverance</td>\n",
       "      <td id=\"T_23b54_row4_col2\" class=\"data row4 col2\" >Don’t wait for the perfect moment to start—begin when it’s hard! 💪 Conquering tiny impulses builds the perseverance needed for massive dreams. Use whatever motivates...</td>\n",
       "      <td id=\"T_23b54_row4_col3\" class=\"data row4 col3\" >✔️ [1.0]</td>\n",
       "    </tr>\n",
       "  </tbody>\n",
       "</table>\n"
      ],
      "text/plain": [
       "<pandas.io.formats.style.Styler at 0x132ff31d0>"
      ]
     },
     "metadata": {},
     "output_type": "display_data"
    },
    {
     "data": {
      "text/html": [
       "\n",
       "                <div style='\n",
       "                    text-align: center;\n",
       "                    font-size: 16px;\n",
       "                    font-weight: bold;\n",
       "                    color: #555;\n",
       "                    margin: 10px 0;'>\n",
       "                    ... 20 more rows not displayed ...\n",
       "                </div>\n",
       "                "
      ],
      "text/plain": [
       "<IPython.core.display.HTML object>"
      ]
     },
     "metadata": {},
     "output_type": "display_data"
    },
    {
     "data": {
      "text/plain": [
       "99.2"
      ]
     },
     "execution_count": 16,
     "metadata": {},
     "output_type": "execute_result"
    }
   ],
   "source": [
    "evaluator(optimized_tweet_writer)"
   ]
  },
  {
   "cell_type": "markdown",
   "metadata": {},
   "source": [
    "## BootstrapFewShot: 99.2"
   ]
  },
  {
   "cell_type": "code",
   "execution_count": 17,
   "metadata": {},
   "outputs": [
    {
     "name": "stdout",
     "output_type": "stream",
     "text": [
      "Going to sample between 1 and 2 traces per predictor.\n",
      "Will attempt to bootstrap 3 candidate sets.\n"
     ]
    },
    {
     "name": "stderr",
     "output_type": "stream",
     "text": [
      "Average Metric: 17.2 / 20  (86.0): 100%|██████████| 20/20 [00:25<00:00,  1.26s/it]              \n"
     ]
    },
    {
     "name": "stdout",
     "output_type": "stream",
     "text": [
      "New best score: 86.0 for seed -3\n",
      "Scores so far: [86.0]\n",
      "Best score so far: 86.0\n"
     ]
    },
    {
     "name": "stderr",
     "output_type": "stream",
     "text": [
      "Average Metric: 18.6 / 20  (93.0): 100%|██████████| 20/20 [00:22<00:00,  1.11s/it]\n"
     ]
    },
    {
     "name": "stdout",
     "output_type": "stream",
     "text": [
      "New best score: 93.0 for seed -2\n",
      "Scores so far: [86.0, 93.0]\n",
      "Best score so far: 93.0\n"
     ]
    },
    {
     "name": "stderr",
     "output_type": "stream",
     "text": [
      " 15%|█▌        | 3/20 [00:01<00:09,  1.88it/s]\n"
     ]
    },
    {
     "name": "stdout",
     "output_type": "stream",
     "text": [
      "Bootstrapped 2 full traces after 4 examples in round 0.\n"
     ]
    },
    {
     "name": "stderr",
     "output_type": "stream",
     "text": [
      "Average Metric: 18.8 / 20  (94.0): 100%|██████████| 20/20 [00:28<00:00,  1.43s/it]\n"
     ]
    },
    {
     "name": "stdout",
     "output_type": "stream",
     "text": [
      "New best score: 94.0 for seed -1\n",
      "Scores so far: [86.0, 93.0, 94.0]\n",
      "Best score so far: 94.0\n"
     ]
    },
    {
     "name": "stderr",
     "output_type": "stream",
     "text": [
      " 10%|█         | 2/20 [00:14<02:08,  7.15s/it]\n"
     ]
    },
    {
     "name": "stdout",
     "output_type": "stream",
     "text": [
      "Bootstrapped 2 full traces after 3 examples in round 0.\n"
     ]
    },
    {
     "name": "stderr",
     "output_type": "stream",
     "text": [
      "Average Metric: 19.8 / 20  (99.0): 100%|██████████| 20/20 [00:26<00:00,  1.32s/it]\n"
     ]
    },
    {
     "name": "stdout",
     "output_type": "stream",
     "text": [
      "New best score: 99.0 for seed 0\n",
      "Scores so far: [86.0, 93.0, 94.0, 99.0]\n",
      "Best score so far: 99.0\n"
     ]
    },
    {
     "name": "stderr",
     "output_type": "stream",
     "text": [
      " 10%|█         | 2/20 [00:13<01:59,  6.64s/it]\n"
     ]
    },
    {
     "name": "stdout",
     "output_type": "stream",
     "text": [
      "Bootstrapped 1 full traces after 3 examples in round 0.\n"
     ]
    },
    {
     "name": "stderr",
     "output_type": "stream",
     "text": [
      "Average Metric: 14.0 / 20  (70.0): 100%|██████████| 20/20 [00:26<00:00,  1.32s/it]\n"
     ]
    },
    {
     "name": "stdout",
     "output_type": "stream",
     "text": [
      "Scores so far: [86.0, 93.0, 94.0, 99.0, 70.0]\n",
      "Best score so far: 99.0\n"
     ]
    },
    {
     "name": "stderr",
     "output_type": "stream",
     "text": [
      "  5%|▌         | 1/20 [00:07<02:19,  7.33s/it]\n"
     ]
    },
    {
     "name": "stdout",
     "output_type": "stream",
     "text": [
      "Bootstrapped 1 full traces after 2 examples in round 0.\n"
     ]
    },
    {
     "name": "stderr",
     "output_type": "stream",
     "text": [
      "Average Metric: 19.8 / 20  (99.0): 100%|██████████| 20/20 [00:24<00:00,  1.25s/it]"
     ]
    },
    {
     "name": "stdout",
     "output_type": "stream",
     "text": [
      "Scores so far: [86.0, 93.0, 94.0, 99.0, 70.0, 99.0]\n",
      "Best score so far: 99.0\n",
      "6 candidate programs found.\n",
      "[('retrieve', <dspy.retrieve.retrieve.Retrieve object at 0x134570380>), ('generate_tweet', Predict(StringSignature(context, topic -> reasoning, tweet\n",
      "    instructions='Generate a tweet based on the context'\n",
      "    context = Field(annotation=str required=True json_schema_extra={'desc': 'May contain relevant facts', '__dspy_field_type': 'input', 'prefix': 'Context:'})\n",
      "    topic = Field(annotation=str required=True json_schema_extra={'__dspy_field_type': 'input', 'prefix': 'Topic:', 'desc': '${topic}'})\n",
      "    reasoning = Field(annotation=str required=True json_schema_extra={'prefix': \"Reasoning: Let's think step by step in order to\", 'desc': '${reasoning}', '__dspy_field_type': 'output'})\n",
      "    tweet = Field(annotation=str required=True json_schema_extra={'__dspy_field_type': 'output', 'prefix': 'Tweet:', 'desc': '${tweet}'})\n",
      ")))]\n"
     ]
    },
    {
     "name": "stderr",
     "output_type": "stream",
     "text": [
      "\n"
     ]
    }
   ],
   "source": [
    "from dspy.teleprompt import BootstrapFewShotWithRandomSearch\n",
    "config = dict(max_labeled_demos = 2, max_bootstrapped_demos=2, num_candidate_programs=3)\n",
    "teleprompter = BootstrapFewShotWithRandomSearch(metric = metric, **config)\n",
    "rs_optimized_tweet_writer = teleprompter.compile(TweetRAG(), trainset=trainset[:20])\n",
    "rs_optimized_tweet_writer.save(path=\"fewshotwithrsv3\")"
   ]
  },
  {
   "cell_type": "code",
   "execution_count": 18,
   "metadata": {},
   "outputs": [
    {
     "name": "stdout",
     "output_type": "stream",
     "text": [
      "\n",
      "\n",
      "\n",
      "\n",
      "\u001b[31mSystem message:\u001b[0m\n",
      "\n",
      "Your input fields are:\n",
      "1. `context` (str): May contain relevant facts\n",
      "2. `topic` (str)\n",
      "\n",
      "Your output fields are:\n",
      "1. `reasoning` (str)\n",
      "2. `tweet` (str)\n",
      "\n",
      "All interactions will be structured in the following way, with the appropriate values filled in.\n",
      "\n",
      "[[ ## context ## ]]\n",
      "{context}\n",
      "\n",
      "[[ ## topic ## ]]\n",
      "{topic}\n",
      "\n",
      "[[ ## reasoning ## ]]\n",
      "{reasoning}\n",
      "\n",
      "[[ ## tweet ## ]]\n",
      "{tweet}\n",
      "\n",
      "[[ ## completed ## ]]\n",
      "\n",
      "In adhering to this structure, your objective is: \n",
      "        Generate a tweet based on the context\n",
      "\n",
      "\n",
      "\u001b[31mUser message:\u001b[0m\n",
      "\n",
      "This is an example of the task, though some input or output fields are not supplied.\n",
      "\n",
      "[[ ## context ## ]]\n",
      "Not supplied for this particular example.\n",
      "\n",
      "[[ ## topic ## ]]\n",
      "Workforce Management\n",
      "\n",
      "Respond with the corresponding output fields, starting with the field `reasoning`, then `tweet`, and then ending with the marker for `completed`.\n",
      "\n",
      "\n",
      "\u001b[31mAssistant message:\u001b[0m\n",
      "\n",
      "[[ ## reasoning ## ]]\n",
      "Not supplied for this particular example.\n",
      "\n",
      "[[ ## tweet ## ]]\n",
      "Raising salaries can attract better people. But no matter how much you raise them, it won’t turn bad people into the right people.\n",
      "\n",
      "[[ ## completed ## ]]\n",
      "\n",
      "\n",
      "\u001b[31mUser message:\u001b[0m\n",
      "\n",
      "[[ ## context ## ]]\n",
      "[1] «The best entrepreneurs don’t do business to make money. They make money to do business.»\n",
      "[2] «You don’t “win” at business. The point is to stay in business and keep the game going.»\n",
      "[3] «««\n",
      "    Advice for people who sell “appointment setting”:\n",
      "    \n",
      "    You see appts as your product when you could make more money seeing your business as the marketing dept for a business 10x your size. Partner with the most valuable business you set appointments for. Then 100x your value.\n",
      "»»»\n",
      "\n",
      "[[ ## topic ## ]]\n",
      "Business Strategy\n",
      "\n",
      "Respond with the corresponding output fields, starting with the field `reasoning`, then `tweet`, and then ending with the marker for `completed`.\n",
      "\n",
      "\n",
      "\u001b[31mAssistant message:\u001b[0m\n",
      "\n",
      "[[ ## reasoning ## ]]\n",
      "The context emphasizes the importance of viewing business not just as a means to make money, but as a way to create lasting partnerships and value. It suggests that successful entrepreneurs focus on sustaining their business and leveraging their strengths to benefit larger entities, which can lead to greater success and profitability. This perspective can be a key element in developing effective business strategies.\n",
      "\n",
      "[[ ## tweet ## ]]\n",
      "Great business strategy isn’t just about profit; it’s about partnerships. See your role as a marketing engine for bigger players, and watch your value multiply! #BusinessStrategy #Entrepreneurship\n",
      "\n",
      "[[ ## completed ## ]]\n",
      "\n",
      "\n",
      "\u001b[31mUser message:\u001b[0m\n",
      "\n",
      "[[ ## context ## ]]\n",
      "[1] «««\n",
      "    You’re not passionate about anything enough to get you ‘motivated’. So? You have other things that motivate you: pain, fear, shame, anger, etc. First rule of entrepreneurship:\n",
      "    Use what you’ve got.\n",
      "»»»\n",
      "[2] «You can tell how much money an entrepreneur makes by looking at how they spend their time. Your calendar is your budget for your most limited resource.»\n",
      "[3] «««\n",
      "    My dad used to repeat this line to me when I was an upset little kid looking for sympathy. He never gave it to me and instead said:\n",
      "    \n",
      "    “It’s better to be envied than pitied.”\n",
      "    \n",
      "    In one line he captured personal responsibility. I always remember that line to this day.\n",
      "»»»\n",
      "\n",
      "[[ ## topic ## ]]\n",
      "Personal Finance/Motivation\n",
      "\n",
      "Respond with the corresponding output fields, starting with the field `reasoning`, then `tweet`, and then ending with the marker for `completed`.\n",
      "\n",
      "\n",
      "\u001b[31mResponse:\u001b[0m\n",
      "\n",
      "\u001b[32m[[ ## reasoning ## ]]\n",
      "The context highlights the importance of using various motivations, including negative emotions, to drive entrepreneurial success. It also emphasizes the value of time management as a reflection of personal finance and responsibility. The advice from the speaker's father underscores the significance of personal accountability and the mindset needed to thrive, which can be crucial for anyone looking to improve their financial situation and motivation.\n",
      "\n",
      "[[ ## tweet ## ]]\n",
      "Motivation can come from unexpected places—pain, fear, or even anger. Use what you’ve got! Remember, how you spend your time reflects your financial priorities. Take responsibility and thrive! #PersonalFinance #Motivation\n",
      "\n",
      "[[ ## completed ## ]]\u001b[0m\n",
      "\n",
      "\n",
      "\n",
      "\n",
      "\n"
     ]
    }
   ],
   "source": [
    "mini.inspect_history(n=1)"
   ]
  },
  {
   "cell_type": "code",
   "execution_count": 19,
   "metadata": {},
   "outputs": [
    {
     "name": "stderr",
     "output_type": "stream",
     "text": [
      "Average Metric: 24.8 / 25  (99.2): 100%|██████████| 25/25 [01:08<00:00,  2.74s/it] \n"
     ]
    },
    {
     "data": {
      "text/html": [
       "<style type=\"text/css\">\n",
       "#T_aefb2 th {\n",
       "  text-align: left;\n",
       "}\n",
       "#T_aefb2 td {\n",
       "  text-align: left;\n",
       "}\n",
       "#T_aefb2_row0_col0, #T_aefb2_row0_col1, #T_aefb2_row0_col2, #T_aefb2_row0_col3, #T_aefb2_row1_col0, #T_aefb2_row1_col1, #T_aefb2_row1_col2, #T_aefb2_row1_col3, #T_aefb2_row2_col0, #T_aefb2_row2_col1, #T_aefb2_row2_col2, #T_aefb2_row2_col3, #T_aefb2_row3_col0, #T_aefb2_row3_col1, #T_aefb2_row3_col2, #T_aefb2_row3_col3, #T_aefb2_row4_col0, #T_aefb2_row4_col1, #T_aefb2_row4_col2, #T_aefb2_row4_col3 {\n",
       "  text-align: left;\n",
       "  white-space: pre-wrap;\n",
       "  word-wrap: break-word;\n",
       "  max-width: 400px;\n",
       "}\n",
       "</style>\n",
       "<table id=\"T_aefb2\">\n",
       "  <thead>\n",
       "    <tr>\n",
       "      <th class=\"blank level0\" >&nbsp;</th>\n",
       "      <th id=\"T_aefb2_level0_col0\" class=\"col_heading level0 col0\" >example_tweet</th>\n",
       "      <th id=\"T_aefb2_level0_col1\" class=\"col_heading level0 col1\" >topic</th>\n",
       "      <th id=\"T_aefb2_level0_col2\" class=\"col_heading level0 col2\" >pred_tweet</th>\n",
       "      <th id=\"T_aefb2_level0_col3\" class=\"col_heading level0 col3\" >metric</th>\n",
       "    </tr>\n",
       "  </thead>\n",
       "  <tbody>\n",
       "    <tr>\n",
       "      <th id=\"T_aefb2_level0_row0\" class=\"row_heading level0 row0\" >0</th>\n",
       "      <td id=\"T_aefb2_row0_col0\" class=\"data row0 col0\" >For those who ask how I eat desert every night and don’t get fat…\n",
       "\n",
       "Answer: I eat less during the day.</td>\n",
       "      <td id=\"T_aefb2_row0_col1\" class=\"data row0 col1\" >Diet and Weight Management</td>\n",
       "      <td id=\"T_aefb2_row0_col2\" class=\"data row0 col2\" >Diet and weight management aren’t about “winning” but about playing the long game. Focus on consistency and self-motivation, especially in the middle of your journey....</td>\n",
       "      <td id=\"T_aefb2_row0_col3\" class=\"data row0 col3\" >✔️ [1.0]</td>\n",
       "    </tr>\n",
       "    <tr>\n",
       "      <th id=\"T_aefb2_level0_row1\" class=\"row_heading level0 row1\" >1</th>\n",
       "      <td id=\"T_aefb2_row1_col0\" class=\"data row1 col0\" >You can give up tomorrow. \n",
       "Today you fight.</td>\n",
       "      <td id=\"T_aefb2_row1_col1\" class=\"data row1 col1\" >Motivation</td>\n",
       "      <td id=\"T_aefb2_row1_col2\" class=\"data row1 col2\" >Motivation doesn't always come from passion; sometimes it’s pain, fear, or anger that drives us. Embrace what you have! Visualize your small wins as a...</td>\n",
       "      <td id=\"T_aefb2_row1_col3\" class=\"data row1 col3\" >✔️ [1.0]</td>\n",
       "    </tr>\n",
       "    <tr>\n",
       "      <th id=\"T_aefb2_level0_row2\" class=\"row_heading level0 row2\" >2</th>\n",
       "      <td id=\"T_aefb2_row2_col0\" class=\"data row2 col0\" >There are no recessions. \n",
       "\n",
       "Only buying seasons and selling seasons.\n",
       "\n",
       "Your skills determine which season it is for you.</td>\n",
       "      <td id=\"T_aefb2_row2_col1\" class=\"data row2 col1\" >Economic Perspective</td>\n",
       "      <td id=\"T_aefb2_row2_col2\" class=\"data row2 col2\" >Everyone is an investor in their own life! How you spend your time reflects your priorities and potential returns. As you rise, remember: the rarer...</td>\n",
       "      <td id=\"T_aefb2_row2_col3\" class=\"data row2 col3\" >✔️ [1.0]</td>\n",
       "    </tr>\n",
       "    <tr>\n",
       "      <th id=\"T_aefb2_level0_row3\" class=\"row_heading level0 row3\" >3</th>\n",
       "      <td id=\"T_aefb2_row3_col0\" class=\"data row3 col0\" >A life tip that’s served me well:\n",
       "\n",
       "Save your big decisions for a morning after a good nights sleep.</td>\n",
       "      <td id=\"T_aefb2_row3_col1\" class=\"data row3 col1\" >Life Advice</td>\n",
       "      <td id=\"T_aefb2_row3_col2\" class=\"data row3 col2\" >Life's best games can't be won, only played. Focus on the journey, not just the destination. Sometimes, giving up the sure thing leads to the...</td>\n",
       "      <td id=\"T_aefb2_row3_col3\" class=\"data row3 col3\" >✔️ [1.0]</td>\n",
       "    </tr>\n",
       "    <tr>\n",
       "      <th id=\"T_aefb2_level0_row4\" class=\"row_heading level0 row4\" >4</th>\n",
       "      <td id=\"T_aefb2_row4_col0\" class=\"data row4 col0\" >Whenever I get to a low point where I think “why do I even bother?” I just try to remind myself “this is where most...</td>\n",
       "      <td id=\"T_aefb2_row4_col1\" class=\"data row4 col1\" >Motivation and Perseverance</td>\n",
       "      <td id=\"T_aefb2_row4_col2\" class=\"data row4 col2\" >Start your journey when it’s hard! Conquering tiny impulses builds the perseverance needed for massive dreams. Use what you’ve got—pain, fear, or anger can be...</td>\n",
       "      <td id=\"T_aefb2_row4_col3\" class=\"data row4 col3\" >✔️ [1.0]</td>\n",
       "    </tr>\n",
       "  </tbody>\n",
       "</table>\n"
      ],
      "text/plain": [
       "<pandas.io.formats.style.Styler at 0x13241deb0>"
      ]
     },
     "metadata": {},
     "output_type": "display_data"
    },
    {
     "data": {
      "text/html": [
       "\n",
       "                <div style='\n",
       "                    text-align: center;\n",
       "                    font-size: 16px;\n",
       "                    font-weight: bold;\n",
       "                    color: #555;\n",
       "                    margin: 10px 0;'>\n",
       "                    ... 20 more rows not displayed ...\n",
       "                </div>\n",
       "                "
      ],
      "text/plain": [
       "<IPython.core.display.HTML object>"
      ]
     },
     "metadata": {},
     "output_type": "display_data"
    },
    {
     "data": {
      "text/plain": [
       "99.2"
      ]
     },
     "execution_count": 19,
     "metadata": {},
     "output_type": "execute_result"
    }
   ],
   "source": [
    "evaluator(rs_optimized_tweet_writer)"
   ]
  },
  {
   "cell_type": "markdown",
   "metadata": {},
   "source": [
    "## BootstrapFewShotWithRandomSearch: 99.2"
   ]
  },
  {
   "cell_type": "code",
   "execution_count": 20,
   "metadata": {},
   "outputs": [
    {
     "name": "stdout",
     "output_type": "stream",
     "text": [
      "\u001b[93m\u001b[1mProjected Language Model (LM) Calls\u001b[0m\n",
      "\n",
      "Please be advised that based on the parameters you have set, the maximum number of LM calls is projected as follows:\n",
      "\n",
      "\n",
      "\u001b[93m- Prompt Model: \u001b[94m\u001b[1m10\u001b[0m\u001b[93m data summarizer calls + \u001b[94m\u001b[1m7\u001b[0m\u001b[93m * \u001b[94m\u001b[1m1\u001b[0m\u001b[93m lm calls in program + (\u001b[94m\u001b[1m2\u001b[0m\u001b[93m) lm calls in program aware proposer = \u001b[94m\u001b[1m19\u001b[0m\u001b[93m prompt model calls\u001b[0m\n",
      "\u001b[93m- Task Model: \u001b[94m\u001b[1m5\u001b[0m\u001b[93m examples in minibatch * \u001b[94m\u001b[1m5\u001b[0m\u001b[93m batches + \u001b[94m\u001b[1m60\u001b[0m\u001b[93m examples in val set * \u001b[94m\u001b[1m2\u001b[0m\u001b[93m full evals = \u001b[94m\u001b[1m55\u001b[0m\u001b[93m task model calls\u001b[0m\n",
      "\n",
      "\u001b[93m\u001b[1mEstimated Cost Calculation:\u001b[0m\n",
      "\n",
      "\u001b[93mTotal Cost = (Number of calls to task model * (Avg Input Token Length per Call * Task Model Price per Input Token + Avg Output Token Length per Call * Task Model Price per Output Token) \n",
      "            + (Number of calls to prompt model * (Avg Input Token Length per Call * Task Prompt Price per Input Token + Avg Output Token Length per Call * Prompt Model Price per Output Token).\u001b[0m\n",
      "\n",
      "For a preliminary estimate of potential costs, we recommend you perform your own calculations based on the task\n",
      "and prompt models you intend to use. If the projected costs exceed your budget or expectations, you may consider:\n",
      "\n",
      "\u001b[93m- Reducing the number of trials (`num_trials`), the size of the valset, or the number of LM calls in your program.\u001b[0m\n",
      "\u001b[93m- Using a cheaper task model to optimize the prompt.\u001b[0m\n",
      "\n",
      "To proceed with the execution of this program, please confirm by typing \u001b[94m'y'\u001b[0m for yes or \u001b[94m'n'\u001b[0m for no.\n",
      "\n",
      "If you would like to bypass this confirmation step in future executions, set the \u001b[93m`requires_permission_to_run`\u001b[0m flag to \u001b[93m`False`\u001b[0m when calling compile.\n",
      "\n",
      "\u001b[93mAwaiting your input...\u001b[0m\n",
      "\n",
      "Beginning MIPROv2 optimization process...\n",
      "\n",
      "==> STEP 1: BOOTSTRAP FEWSHOT EXAMPLES <==\n",
      "These will be used for as few-shot examples candidates for our program and for creating instructions.\n",
      "\n",
      "Bootstrapping N=7 sets of demonstrations...\n",
      "Bootstrapping set 1/7\n",
      "Bootstrapping set 2/7\n",
      "Bootstrapping set 3/7\n"
     ]
    },
    {
     "name": "stderr",
     "output_type": "stream",
     "text": [
      " 27%|██▋       | 4/15 [00:27<01:14,  6.76s/it]\n"
     ]
    },
    {
     "name": "stdout",
     "output_type": "stream",
     "text": [
      "Bootstrapped 3 full traces after 5 examples in round 0.\n",
      "Bootstrapping set 4/7\n"
     ]
    },
    {
     "name": "stderr",
     "output_type": "stream",
     "text": [
      " 20%|██        | 3/15 [00:19<01:18,  6.55s/it]\n"
     ]
    },
    {
     "name": "stdout",
     "output_type": "stream",
     "text": [
      "Bootstrapped 2 full traces after 4 examples in round 0.\n",
      "Bootstrapping set 5/7\n"
     ]
    },
    {
     "name": "stderr",
     "output_type": "stream",
     "text": [
      "  7%|▋         | 1/15 [00:07<01:50,  7.86s/it]\n"
     ]
    },
    {
     "name": "stdout",
     "output_type": "stream",
     "text": [
      "Bootstrapped 1 full traces after 2 examples in round 0.\n",
      "Bootstrapping set 6/7\n"
     ]
    },
    {
     "name": "stderr",
     "output_type": "stream",
     "text": [
      "  7%|▋         | 1/15 [00:06<01:26,  6.14s/it]\n"
     ]
    },
    {
     "name": "stdout",
     "output_type": "stream",
     "text": [
      "Bootstrapped 1 full traces after 2 examples in round 0.\n",
      "Bootstrapping set 7/7\n"
     ]
    },
    {
     "name": "stderr",
     "output_type": "stream",
     "text": [
      "  7%|▋         | 1/15 [00:06<01:24,  6.01s/it]\n"
     ]
    },
    {
     "name": "stdout",
     "output_type": "stream",
     "text": [
      "Bootstrapped 1 full traces after 2 examples in round 0.\n",
      "\n",
      "==> STEP 2: PROPOSE INSTRUCTION CANDIDATES <==\n",
      "In this step, by default we will use the few-shot examples from the previous step, a generated dataset summary, a summary of the program code, and a randomly selected prompting tip to propose instructions.\n",
      "\n",
      "Proposing instructions...\n",
      "\n",
      "Proposed Instructions for Predictor 0:\n",
      "\n",
      "0: Generate a tweet based on the context\n",
      "\n",
      "1: Using the provided context and topic, generate a concise and engaging tweet that captures the essence of the information while encouraging reflection and proactive strategies for personal and professional development.\n",
      "\n",
      "2: In a competitive landscape where every tweet can influence public perception and engagement, generate a compelling tweet that encapsulates the provided context and topic. Ensure that the reasoning clearly articulates the insights drawn from the context, highlighting the significance of the topic in a way that resonates with the audience and encourages interaction.\n",
      "\n",
      "3: Using the provided context and topic, generate a tweet that encapsulates the key ideas while emphasizing themes such as resilience, authenticity, and integrity. Ensure the message is coherent, impactful, and resonates with audiences.\n",
      "\n",
      "4: Craft an engaging tweet that encapsulates the essence of the provided context and topic, emphasizing strategic insights and long-term value creation in business. Use storytelling elements to make the tweet relatable and motivational, encouraging others to reflect on their approach to business strategy.\n",
      "\n",
      "5: Using the provided context and topic, generate an engaging tweet that highlights key insights about authenticity and integrity, incorporating relevant hashtags to enhance visibility and engagement.\n",
      "\n",
      "6: Craft an engaging tweet that encapsulates the essence of the provided context and topic, using the reasoning to highlight unique perspectives and insights. Focus on creating a motivational message that resonates with audiences, and feel free to incorporate creative language or metaphors to enhance its impact.\n",
      "\n",
      "\n",
      "\n",
      "Evaluating the default program...\n",
      "\n"
     ]
    },
    {
     "name": "stderr",
     "output_type": "stream",
     "text": [
      "Average Metric: 55.39999999999999 / 60  (92.3): 100%|██████████| 60/60 [02:55<00:00,  2.92s/it] \n",
      "/Users/kevinvegda/Desktop/code/tweet-optim-dspy/.venv/lib/python3.12/site-packages/optuna/_experimental.py:30: ExperimentalWarning: Argument ``multivariate`` is an experimental feature. The interface can change in the future.\n",
      "  warnings.warn(\n"
     ]
    },
    {
     "name": "stdout",
     "output_type": "stream",
     "text": [
      "Default program score: 92.33\n",
      "\n",
      "==> STEP 3: FINDING OPTIMAL PROMPT PARAMETERS <==\n",
      "In this step, we will evaluate the program over a series of trials with different combinations of instructions and few-shot examples to find the optimal combination. Bayesian Optimization will be used for this search process.\n",
      "\n",
      "== Minibatch Trial 1 / 5 ==\n"
     ]
    },
    {
     "name": "stderr",
     "output_type": "stream",
     "text": [
      "Average Metric: 5.0 / 5  (100.0): 100%|██████████| 5/5 [00:24<00:00,  4.92s/it]\n"
     ]
    },
    {
     "name": "stdout",
     "output_type": "stream",
     "text": [
      "Score: 100.0 on minibatch of size 5 with parameters ['Predictor 1: Instruction 1', 'Predictor 1: Few-Shot Set 5'].\n",
      "\n",
      "\n",
      "== Minibatch Trial 2 / 5 ==\n"
     ]
    },
    {
     "name": "stderr",
     "output_type": "stream",
     "text": [
      "Average Metric: 4.6 / 5  (92.0): 100%|██████████| 5/5 [00:20<00:00,  4.05s/it] \n"
     ]
    },
    {
     "name": "stdout",
     "output_type": "stream",
     "text": [
      "Score: 92.0 on minibatch of size 5 with parameters ['Predictor 1: Instruction 2', 'Predictor 1: Few-Shot Set 5'].\n",
      "\n",
      "\n",
      "===== Full Eval 1 =====\n",
      "Doing full eval on next top averaging program (Avg Score: 100.0) so far from mini-batch trials...\n"
     ]
    },
    {
     "name": "stderr",
     "output_type": "stream",
     "text": [
      "Average Metric: 48.99999999999999 / 60  (81.7): 100%|██████████| 60/60 [03:15<00:00,  3.27s/it] \n"
     ]
    },
    {
     "name": "stdout",
     "output_type": "stream",
     "text": [
      "Full eval score: 81.67\n",
      "Best full eval score so far: 92.33\n",
      "=======================\n",
      "\n",
      "\n",
      "== Minibatch Trial 3 / 5 ==\n"
     ]
    },
    {
     "name": "stderr",
     "output_type": "stream",
     "text": [
      "Average Metric: 5.0 / 5  (100.0): 100%|██████████| 5/5 [00:24<00:00,  4.85s/it]\n"
     ]
    },
    {
     "name": "stdout",
     "output_type": "stream",
     "text": [
      "Score: 100.0 on minibatch of size 5 with parameters ['Predictor 1: Instruction 4', 'Predictor 1: Few-Shot Set 1'].\n",
      "\n",
      "\n",
      "== Minibatch Trial 4 / 5 ==\n"
     ]
    },
    {
     "name": "stderr",
     "output_type": "stream",
     "text": [
      "Average Metric: 4.0 / 5  (80.0): 100%|██████████| 5/5 [00:28<00:00,  5.64s/it]\n"
     ]
    },
    {
     "name": "stdout",
     "output_type": "stream",
     "text": [
      "Score: 80.0 on minibatch of size 5 with parameters ['Predictor 1: Instruction 6', 'Predictor 1: Few-Shot Set 1'].\n",
      "\n",
      "\n",
      "===== Full Eval 2 =====\n",
      "Doing full eval on next top averaging program (Avg Score: 100.0) so far from mini-batch trials...\n"
     ]
    },
    {
     "name": "stderr",
     "output_type": "stream",
     "text": [
      "Average Metric: 41.4 / 60  (69.0): 100%|██████████| 60/60 [02:56<00:00,  2.95s/it]\n"
     ]
    },
    {
     "name": "stdout",
     "output_type": "stream",
     "text": [
      "Full eval score: 69.0\n",
      "Best full eval score so far: 92.33\n",
      "=======================\n",
      "\n",
      "\n",
      "== Minibatch Trial 5 / 5 ==\n"
     ]
    },
    {
     "name": "stderr",
     "output_type": "stream",
     "text": [
      "Average Metric: 3.0 / 5  (60.0): 100%|██████████| 5/5 [00:23<00:00,  4.62s/it]\n"
     ]
    },
    {
     "name": "stdout",
     "output_type": "stream",
     "text": [
      "Score: 60.0 on minibatch of size 5 with parameters ['Predictor 1: Instruction 6', 'Predictor 1: Few-Shot Set 1'].\n",
      "\n",
      "\n",
      "===== Full Eval 3 =====\n",
      "Doing full eval on next top averaging program (Avg Score: 92.0) so far from mini-batch trials...\n"
     ]
    },
    {
     "name": "stderr",
     "output_type": "stream",
     "text": [
      "Average Metric: 49.99999999999999 / 60  (83.3): 100%|██████████| 60/60 [02:59<00:00,  2.98s/it] "
     ]
    },
    {
     "name": "stdout",
     "output_type": "stream",
     "text": [
      "Full eval score: 83.33\n",
      "Best full eval score so far: 92.33\n",
      "=======================\n",
      "\n",
      "\n",
      "[('retrieve', <dspy.retrieve.retrieve.Retrieve object at 0x1351d65d0>), ('generate_tweet', Predict(StringSignature(context, topic -> reasoning, tweet\n",
      "    instructions='Generate a tweet based on the context'\n",
      "    context = Field(annotation=str required=True json_schema_extra={'desc': 'May contain relevant facts', '__dspy_field_type': 'input', 'prefix': 'Context:'})\n",
      "    topic = Field(annotation=str required=True json_schema_extra={'__dspy_field_type': 'input', 'prefix': 'Topic:', 'desc': '${topic}'})\n",
      "    reasoning = Field(annotation=str required=True json_schema_extra={'prefix': \"Reasoning: Let's think step by step in order to\", 'desc': '${reasoning}', '__dspy_field_type': 'output'})\n",
      "    tweet = Field(annotation=str required=True json_schema_extra={'__dspy_field_type': 'output', 'prefix': 'Tweet:', 'desc': '${tweet}'})\n",
      ")))]\n"
     ]
    },
    {
     "name": "stderr",
     "output_type": "stream",
     "text": [
      "\n"
     ]
    }
   ],
   "source": [
    "from dspy.teleprompt import MIPROv2\n",
    "# Initialize optimizer\n",
    "teleprompter = MIPROv2(\n",
    "    metric=metric,\n",
    "    num_candidates=7,\n",
    "    init_temperature=0.5,\n",
    "    verbose=False,\n",
    "    num_threads=2,\n",
    ")\n",
    "\n",
    "mipro_optimized_program = teleprompter.compile(\n",
    "    TweetRAG(),\n",
    "    trainset=trainset,\n",
    "    max_bootstrapped_demos=3,\n",
    "    max_labeled_demos=4,\n",
    "    num_trials=5,\n",
    "    minibatch=True,\n",
    "    minibatch_size=5, \n",
    "    minibatch_full_eval_steps=2\n",
    ")\n",
    "\n",
    "# Save optimize program for future use\n",
    "mipro_optimized_program.save(\"mipro_optimizedv3\")"
   ]
  },
  {
   "cell_type": "code",
   "execution_count": 22,
   "metadata": {},
   "outputs": [
    {
     "name": "stdout",
     "output_type": "stream",
     "text": [
      "\n",
      "\n",
      "\n",
      "\n",
      "\u001b[31mSystem message:\u001b[0m\n",
      "\n",
      "Your input fields are:\n",
      "1. `context` (str): May contain relevant facts\n",
      "2. `topic` (str)\n",
      "\n",
      "Your output fields are:\n",
      "1. `reasoning` (str)\n",
      "2. `tweet` (str)\n",
      "\n",
      "All interactions will be structured in the following way, with the appropriate values filled in.\n",
      "\n",
      "[[ ## context ## ]]\n",
      "{context}\n",
      "\n",
      "[[ ## topic ## ]]\n",
      "{topic}\n",
      "\n",
      "[[ ## reasoning ## ]]\n",
      "{reasoning}\n",
      "\n",
      "[[ ## tweet ## ]]\n",
      "{tweet}\n",
      "\n",
      "[[ ## completed ## ]]\n",
      "\n",
      "In adhering to this structure, your objective is: \n",
      "        In a competitive landscape where every tweet can influence public perception and engagement, generate a compelling tweet that encapsulates the provided context and topic. Ensure that the reasoning clearly articulates the insights drawn from the context, highlighting the significance of the topic in a way that resonates with the audience and encourages interaction.\n",
      "\n",
      "\n",
      "\u001b[31mUser message:\u001b[0m\n",
      "\n",
      "This is an example of the task, though some input or output fields are not supplied.\n",
      "\n",
      "[[ ## context ## ]]\n",
      "Not supplied for this particular example.\n",
      "\n",
      "[[ ## topic ## ]]\n",
      "Success and Wealth\n",
      "\n",
      "Respond with the corresponding output fields, starting with the field `reasoning`, then `tweet`, and then ending with the marker for `completed`.\n",
      "\n",
      "\n",
      "\u001b[31mAssistant message:\u001b[0m\n",
      "\n",
      "[[ ## reasoning ## ]]\n",
      "Not supplied for this particular example.\n",
      "\n",
      "[[ ## tweet ## ]]\n",
      "Most people get rich first, then get weird.\n",
      "\n",
      "And people try and copy their weird shit rather than the grind it took them to get there.\n",
      "\n",
      "Model the rise not the plateau.\n",
      "\n",
      "[[ ## completed ## ]]\n",
      "\n",
      "\n",
      "\u001b[31mUser message:\u001b[0m\n",
      "\n",
      "This is an example of the task, though some input or output fields are not supplied.\n",
      "\n",
      "[[ ## context ## ]]\n",
      "Not supplied for this particular example.\n",
      "\n",
      "[[ ## topic ## ]]\n",
      "Resilience and Public Perception\n",
      "\n",
      "Respond with the corresponding output fields, starting with the field `reasoning`, then `tweet`, and then ending with the marker for `completed`.\n",
      "\n",
      "\n",
      "\u001b[31mAssistant message:\u001b[0m\n",
      "\n",
      "[[ ## reasoning ## ]]\n",
      "Not supplied for this particular example.\n",
      "\n",
      "[[ ## tweet ## ]]\n",
      "Whenever someone publicly criticizes you and you’re worried it’ll end your career…just remember:\n",
      "\n",
      "Kim Kardashian had a sex tape the entire world saw…and now she has her own line at Dolce &amp; Gabana.\n",
      "\n",
      "People have short memories.\n",
      "\n",
      "[[ ## completed ## ]]\n",
      "\n",
      "\n",
      "\u001b[31mUser message:\u001b[0m\n",
      "\n",
      "This is an example of the task, though some input or output fields are not supplied.\n",
      "\n",
      "[[ ## context ## ]]\n",
      "Not supplied for this particular example.\n",
      "\n",
      "[[ ## topic ## ]]\n",
      "Human Behavior and Psychology\n",
      "\n",
      "Respond with the corresponding output fields, starting with the field `reasoning`, then `tweet`, and then ending with the marker for `completed`.\n",
      "\n",
      "\n",
      "\u001b[31mAssistant message:\u001b[0m\n",
      "\n",
      "[[ ## reasoning ## ]]\n",
      "Not supplied for this particular example.\n",
      "\n",
      "[[ ## tweet ## ]]\n",
      "People don’t do hard things because it makes them feel soft.\n",
      "\n",
      "[[ ## completed ## ]]\n",
      "\n",
      "\n",
      "\u001b[31mUser message:\u001b[0m\n",
      "\n",
      "[[ ## context ## ]]\n",
      "[1] «Competitors can now copy your tone and language with AI, but they can never copy your story. Your story = Your competitor advantage»\n",
      "[2] «««\n",
      "    There are two ways to guarantee people stay faithful to you:\n",
      "    1) Find people with no other option\n",
      "    2) Stay their best option\n",
      "»»»\n",
      "[3] «Patience, honesty, leadership, consistency, focus. They aren’t traits, they’re skills. We stop teaching them to children then we’re surprised adults don’t have them. If it can be learned, it is a skill.»\n",
      "\n",
      "[[ ## topic ## ]]\n",
      "Authenticity and Integrity\n",
      "\n",
      "Respond with the corresponding output fields, starting with the field `reasoning`, then `tweet`, and then ending with the marker for `completed`.\n",
      "\n",
      "\n",
      "\u001b[31mAssistant message:\u001b[0m\n",
      "\n",
      "[[ ## reasoning ## ]]\n",
      "The context emphasizes the importance of storytelling as a unique competitive advantage, the need for businesses to remain the best option for their customers, and the idea that traits like patience and honesty can be developed as skills. This highlights that authenticity and integrity are not just inherent qualities but can be cultivated and are essential for long-term success.\n",
      "\n",
      "[[ ## tweet ## ]]\n",
      "In a world where AI can mimic your tone, your story is your true competitive edge. Authenticity and integrity aren't just traits; they're skills we must teach and nurture. Be the best option for your audience, and they'll stay loyal. #Authenticity #Integrity #BusinessWisdom\n",
      "\n",
      "[[ ## completed ## ]]\n",
      "\n",
      "\n",
      "\u001b[31mUser message:\u001b[0m\n",
      "\n",
      "[[ ## context ## ]]\n",
      "[1] «««\n",
      "    Something I continually have to remind myself when I feel like I miss out on something “once in a lifetime”: \n",
      "    \n",
      "    There’s always another…\n",
      "    \n",
      "    …deal\n",
      "    …customer\n",
      "    …vendor\n",
      "    …girl/guy\n",
      "    \n",
      "    Even if one gets away there’s always another around the corner.\n",
      "»»»\n",
      "[2] «Time will ultimately create brands that eat up marketshare because of good reputation. There will always be room for minnows to sell on “1-1 attention”. But they then have the same burdens of scaling delivery while maintaining quality.»\n",
      "[3] «The reason most businesses don’t grow is something big and obvious - it just hurts the founders ego - so they try and solve every problem but the one that matters.»\n",
      "\n",
      "[[ ## topic ## ]]\n",
      "Customer Service Challenges\n",
      "\n",
      "Respond with the corresponding output fields, starting with the field `reasoning`, then `tweet`, and then ending with the marker for `completed`.\n",
      "\n",
      "\n",
      "\u001b[31mResponse:\u001b[0m\n",
      "\n",
      "\u001b[32m[[ ## reasoning ## ]]\n",
      "The context highlights the importance of resilience in business, particularly in customer service. It suggests that opportunities are always available, and businesses must focus on building a strong reputation over time. Additionally, it points out that many founders avoid addressing the core issues that hinder growth, which often includes customer service challenges. This underscores the need for businesses to prioritize quality service and adapt to maintain customer loyalty.\n",
      "\n",
      "[[ ## tweet ## ]]\n",
      "In customer service, remember: if one opportunity slips away, another is just around the corner. Focus on building a strong reputation and addressing the real challenges. Growth comes from solving the right problems, not just the easy ones. #CustomerService #BusinessGrowth\n",
      "\n",
      "[[ ## completed ## ]]\u001b[0m\n",
      "\n",
      "\n",
      "\n",
      "\n",
      "\n"
     ]
    }
   ],
   "source": [
    "mini.inspect_history(n=1)"
   ]
  },
  {
   "cell_type": "code",
   "execution_count": 23,
   "metadata": {},
   "outputs": [
    {
     "name": "stderr",
     "output_type": "stream",
     "text": [
      "Average Metric: 22.8 / 25  (91.2): 100%|██████████| 25/25 [00:12<00:00,  2.04it/s]\n"
     ]
    },
    {
     "data": {
      "text/html": [
       "<style type=\"text/css\">\n",
       "#T_a01a6 th {\n",
       "  text-align: left;\n",
       "}\n",
       "#T_a01a6 td {\n",
       "  text-align: left;\n",
       "}\n",
       "#T_a01a6_row0_col0, #T_a01a6_row0_col1, #T_a01a6_row0_col2, #T_a01a6_row0_col3, #T_a01a6_row1_col0, #T_a01a6_row1_col1, #T_a01a6_row1_col2, #T_a01a6_row1_col3, #T_a01a6_row2_col0, #T_a01a6_row2_col1, #T_a01a6_row2_col2, #T_a01a6_row2_col3, #T_a01a6_row3_col0, #T_a01a6_row3_col1, #T_a01a6_row3_col2, #T_a01a6_row3_col3, #T_a01a6_row4_col0, #T_a01a6_row4_col1, #T_a01a6_row4_col2, #T_a01a6_row4_col3 {\n",
       "  text-align: left;\n",
       "  white-space: pre-wrap;\n",
       "  word-wrap: break-word;\n",
       "  max-width: 400px;\n",
       "}\n",
       "</style>\n",
       "<table id=\"T_a01a6\">\n",
       "  <thead>\n",
       "    <tr>\n",
       "      <th class=\"blank level0\" >&nbsp;</th>\n",
       "      <th id=\"T_a01a6_level0_col0\" class=\"col_heading level0 col0\" >example_tweet</th>\n",
       "      <th id=\"T_a01a6_level0_col1\" class=\"col_heading level0 col1\" >topic</th>\n",
       "      <th id=\"T_a01a6_level0_col2\" class=\"col_heading level0 col2\" >pred_tweet</th>\n",
       "      <th id=\"T_a01a6_level0_col3\" class=\"col_heading level0 col3\" >metric</th>\n",
       "    </tr>\n",
       "  </thead>\n",
       "  <tbody>\n",
       "    <tr>\n",
       "      <th id=\"T_a01a6_level0_row0\" class=\"row_heading level0 row0\" >0</th>\n",
       "      <td id=\"T_a01a6_row0_col0\" class=\"data row0 col0\" >For those who ask how I eat desert every night and don’t get fat…\n",
       "\n",
       "Answer: I eat less during the day.</td>\n",
       "      <td id=\"T_a01a6_row0_col1\" class=\"data row0 col1\" >Diet and Weight Management</td>\n",
       "      <td id=\"T_a01a6_row0_col2\" class=\"data row0 col2\" >\"Weight management isn't about winning; it's about the journey. Just like in marriage, the goal is to keep going. Celebrate the small victories in the...</td>\n",
       "      <td id=\"T_a01a6_row0_col3\" class=\"data row0 col3\" >✔️ [1.0]</td>\n",
       "    </tr>\n",
       "    <tr>\n",
       "      <th id=\"T_a01a6_level0_row1\" class=\"row_heading level0 row1\" >1</th>\n",
       "      <td id=\"T_a01a6_row1_col0\" class=\"data row1 col0\" >You can give up tomorrow. \n",
       "Today you fight.</td>\n",
       "      <td id=\"T_a01a6_row1_col1\" class=\"data row1 col1\" >Motivation</td>\n",
       "      <td id=\"T_a01a6_row1_col2\" class=\"data row1 col2\" >Motivation doesn't always come from passion. Sometimes, it's pain, fear, or even shame that drives us. Remember, every small win counts! Visualize your audience—93 views?...</td>\n",
       "      <td id=\"T_a01a6_row1_col3\" class=\"data row1 col3\" ><class 'str'></td>\n",
       "    </tr>\n",
       "    <tr>\n",
       "      <th id=\"T_a01a6_level0_row2\" class=\"row_heading level0 row2\" >2</th>\n",
       "      <td id=\"T_a01a6_row2_col0\" class=\"data row2 col0\" >There are no recessions. \n",
       "\n",
       "Only buying seasons and selling seasons.\n",
       "\n",
       "Your skills determine which season it is for you.</td>\n",
       "      <td id=\"T_a01a6_row2_col1\" class=\"data row2 col1\" >Economic Perspective</td>\n",
       "      <td id=\"T_a01a6_row2_col2\" class=\"data row2 col2\" >💡 Everyone is an investor! Whether rich or poor, how we trade our resources defines our returns. Start measuring your investments in time and money...</td>\n",
       "      <td id=\"T_a01a6_row2_col3\" class=\"data row2 col3\" >✔️ [1.0]</td>\n",
       "    </tr>\n",
       "    <tr>\n",
       "      <th id=\"T_a01a6_level0_row3\" class=\"row_heading level0 row3\" >3</th>\n",
       "      <td id=\"T_a01a6_row3_col0\" class=\"data row3 col0\" >A life tip that’s served me well:\n",
       "\n",
       "Save your big decisions for a morning after a good nights sleep.</td>\n",
       "      <td id=\"T_a01a6_row3_col1\" class=\"data row3 col1\" >Life Advice</td>\n",
       "      <td id=\"T_a01a6_row3_col2\" class=\"data row3 col2\" >Life isn't a race to win; it's a journey to enjoy. Focus on nurturing relationships, health, and passions rather than just reaching a destination. Sometimes,...</td>\n",
       "      <td id=\"T_a01a6_row3_col3\" class=\"data row3 col3\" >✔️ [1.0]</td>\n",
       "    </tr>\n",
       "    <tr>\n",
       "      <th id=\"T_a01a6_level0_row4\" class=\"row_heading level0 row4\" >4</th>\n",
       "      <td id=\"T_a01a6_row4_col0\" class=\"data row4 col0\" >Whenever I get to a low point where I think “why do I even bother?” I just try to remind myself “this is where most...</td>\n",
       "      <td id=\"T_a01a6_row4_col1\" class=\"data row4 col1\" >Motivation and Perseverance</td>\n",
       "      <td id=\"T_a01a6_row4_col2\" class=\"data row4 col2\" >\"Don't wait for motivation to strike! Start when it’s hard and use your challenges as fuel. Pain, fear, and anger can be powerful motivators. Conquer...</td>\n",
       "      <td id=\"T_a01a6_row4_col3\" class=\"data row4 col3\" >✔️ [1.0]</td>\n",
       "    </tr>\n",
       "  </tbody>\n",
       "</table>\n"
      ],
      "text/plain": [
       "<pandas.io.formats.style.Styler at 0x16b0baab0>"
      ]
     },
     "metadata": {},
     "output_type": "display_data"
    },
    {
     "data": {
      "text/html": [
       "\n",
       "                <div style='\n",
       "                    text-align: center;\n",
       "                    font-size: 16px;\n",
       "                    font-weight: bold;\n",
       "                    color: #555;\n",
       "                    margin: 10px 0;'>\n",
       "                    ... 20 more rows not displayed ...\n",
       "                </div>\n",
       "                "
      ],
      "text/plain": [
       "<IPython.core.display.HTML object>"
      ]
     },
     "metadata": {},
     "output_type": "display_data"
    },
    {
     "data": {
      "text/plain": [
       "91.2"
      ]
     },
     "execution_count": 23,
     "metadata": {},
     "output_type": "execute_result"
    }
   ],
   "source": [
    "evaluator(mipro_optimized_program)"
   ]
  },
  {
   "cell_type": "markdown",
   "metadata": {},
   "source": [
    "## MIPROv2 with RAG: 91.2"
   ]
  },
  {
   "cell_type": "markdown",
   "metadata": {},
   "source": [
    "# Experiment 4: RAG evaluation with RAGAS\n",
    "So far we've only used the custom metrics we defined with the LLM judge, but we could integrate some objective metrics defined by RAGAS into our evaluation/training. Let's try that."
   ]
  },
  {
   "cell_type": "code",
   "execution_count": null,
   "metadata": {},
   "outputs": [],
   "source": []
  },
  {
   "cell_type": "code",
   "execution_count": null,
   "metadata": {},
   "outputs": [],
   "source": []
  }
 ],
 "metadata": {
  "kernelspec": {
   "display_name": "Python 3",
   "language": "python",
   "name": "python3"
  },
  "language_info": {
   "codemirror_mode": {
    "name": "ipython",
    "version": 3
   },
   "file_extension": ".py",
   "mimetype": "text/x-python",
   "name": "python",
   "nbconvert_exporter": "python",
   "pygments_lexer": "ipython3",
   "version": "3.12.5"
  }
 },
 "nbformat": 4,
 "nbformat_minor": 2
}
